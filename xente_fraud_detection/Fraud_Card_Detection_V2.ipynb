{
  "nbformat": 4,
  "nbformat_minor": 0,
  "metadata": {
    "colab": {
      "name": "Fraud Card Detection V2.ipynb",
      "version": "0.3.2",
      "provenance": [],
      "toc_visible": true,
      "machine_shape": "hm"
    },
    "kernelspec": {
      "name": "python3",
      "display_name": "Python 3"
    },
    "accelerator": "GPU"
  },
  "cells": [
    {
      "cell_type": "code",
      "metadata": {
        "id": "x6LeQjKlEJUj",
        "colab_type": "code",
        "colab": {}
      },
      "source": [
        "import pandas as pd\n",
        "import matplotlib.pyplot as plt\n",
        "import seaborn as sns\n",
        "import numpy as np"
      ],
      "execution_count": 0,
      "outputs": []
    },
    {
      "cell_type": "code",
      "metadata": {
        "id": "w4oVZ_pcEUPo",
        "colab_type": "code",
        "colab": {
          "base_uri": "https://localhost:8080/",
          "height": 122
        },
        "outputId": "d4a7b1f7-4311-4fd6-fc3c-a97224228563"
      },
      "source": [
        "from google.colab import drive\n",
        "np.random.seed(42)\n",
        "\n",
        "drive.mount('/content/gdrive')"
      ],
      "execution_count": 2,
      "outputs": [
        {
          "output_type": "stream",
          "text": [
            "Go to this URL in a browser: https://accounts.google.com/o/oauth2/auth?client_id=947318989803-6bn6qk8qdgf4n4g3pfee6491hc0brc4i.apps.googleusercontent.com&redirect_uri=urn%3Aietf%3Awg%3Aoauth%3A2.0%3Aoob&scope=email%20https%3A%2F%2Fwww.googleapis.com%2Fauth%2Fdocs.test%20https%3A%2F%2Fwww.googleapis.com%2Fauth%2Fdrive%20https%3A%2F%2Fwww.googleapis.com%2Fauth%2Fdrive.photos.readonly%20https%3A%2F%2Fwww.googleapis.com%2Fauth%2Fpeopleapi.readonly&response_type=code\n",
            "\n",
            "Enter your authorization code:\n",
            "··········\n",
            "Mounted at /content/gdrive\n"
          ],
          "name": "stdout"
        }
      ]
    },
    {
      "cell_type": "code",
      "metadata": {
        "id": "4_kWy6u0EXIY",
        "colab_type": "code",
        "colab": {}
      },
      "source": [
        "!cp -r \"gdrive/My Drive/Colab Notebooks/Xenete Fraud Detection/\" sample_data/data"
      ],
      "execution_count": 0,
      "outputs": []
    },
    {
      "cell_type": "code",
      "metadata": {
        "id": "BeDR6WggEiDW",
        "colab_type": "code",
        "colab": {}
      },
      "source": [
        "path_to_folder = 'sample_data/data/'"
      ],
      "execution_count": 0,
      "outputs": []
    },
    {
      "cell_type": "code",
      "metadata": {
        "id": "hKwdz0jZEkpR",
        "colab_type": "code",
        "colab": {}
      },
      "source": [
        "data = pd.read_csv(path_to_folder + 'training.csv')\n",
        "test = pd.read_csv(path_to_folder + 'test.csv')"
      ],
      "execution_count": 0,
      "outputs": []
    },
    {
      "cell_type": "code",
      "metadata": {
        "id": "ccSTVdBoFpRX",
        "colab_type": "code",
        "colab": {}
      },
      "source": [
        "test = test.drop(['TransactionId', 'BatchId', 'AccountId', 'SubscriptionId', 'CustomerId', 'PricingStrategy', 'CurrencyCode', 'CountryCode', 'ProductCategory', 'ProductId', 'ProviderId'], axis = 1)\n",
        "data = data.drop(['TransactionId', 'BatchId', 'AccountId', 'SubscriptionId', 'CustomerId', 'PricingStrategy', 'CurrencyCode', 'CountryCode', 'ProductCategory', 'ProductId', 'ProviderId'], axis = 1)"
      ],
      "execution_count": 0,
      "outputs": []
    },
    {
      "cell_type": "code",
      "metadata": {
        "id": "piV9omzTEm0D",
        "colab_type": "code",
        "colab": {
          "base_uri": "https://localhost:8080/",
          "height": 204
        },
        "outputId": "81bcaabe-a94b-4955-f7df-36309d45376f"
      },
      "source": [
        "data.head()"
      ],
      "execution_count": 320,
      "outputs": [
        {
          "output_type": "execute_result",
          "data": {
            "text/html": [
              "<div>\n",
              "<style scoped>\n",
              "    .dataframe tbody tr th:only-of-type {\n",
              "        vertical-align: middle;\n",
              "    }\n",
              "\n",
              "    .dataframe tbody tr th {\n",
              "        vertical-align: top;\n",
              "    }\n",
              "\n",
              "    .dataframe thead th {\n",
              "        text-align: right;\n",
              "    }\n",
              "</style>\n",
              "<table border=\"1\" class=\"dataframe\">\n",
              "  <thead>\n",
              "    <tr style=\"text-align: right;\">\n",
              "      <th></th>\n",
              "      <th>ChannelId</th>\n",
              "      <th>Amount</th>\n",
              "      <th>Value</th>\n",
              "      <th>TransactionStartTime</th>\n",
              "      <th>FraudResult</th>\n",
              "    </tr>\n",
              "  </thead>\n",
              "  <tbody>\n",
              "    <tr>\n",
              "      <th>0</th>\n",
              "      <td>ChannelId_3</td>\n",
              "      <td>1000.0</td>\n",
              "      <td>1000</td>\n",
              "      <td>2018-11-15T02:18:49Z</td>\n",
              "      <td>0</td>\n",
              "    </tr>\n",
              "    <tr>\n",
              "      <th>1</th>\n",
              "      <td>ChannelId_2</td>\n",
              "      <td>-20.0</td>\n",
              "      <td>20</td>\n",
              "      <td>2018-11-15T02:19:08Z</td>\n",
              "      <td>0</td>\n",
              "    </tr>\n",
              "    <tr>\n",
              "      <th>2</th>\n",
              "      <td>ChannelId_3</td>\n",
              "      <td>500.0</td>\n",
              "      <td>500</td>\n",
              "      <td>2018-11-15T02:44:21Z</td>\n",
              "      <td>0</td>\n",
              "    </tr>\n",
              "    <tr>\n",
              "      <th>3</th>\n",
              "      <td>ChannelId_3</td>\n",
              "      <td>20000.0</td>\n",
              "      <td>21800</td>\n",
              "      <td>2018-11-15T03:32:55Z</td>\n",
              "      <td>0</td>\n",
              "    </tr>\n",
              "    <tr>\n",
              "      <th>4</th>\n",
              "      <td>ChannelId_2</td>\n",
              "      <td>-644.0</td>\n",
              "      <td>644</td>\n",
              "      <td>2018-11-15T03:34:21Z</td>\n",
              "      <td>0</td>\n",
              "    </tr>\n",
              "  </tbody>\n",
              "</table>\n",
              "</div>"
            ],
            "text/plain": [
              "     ChannelId   Amount  Value  TransactionStartTime  FraudResult\n",
              "0  ChannelId_3   1000.0   1000  2018-11-15T02:18:49Z            0\n",
              "1  ChannelId_2    -20.0     20  2018-11-15T02:19:08Z            0\n",
              "2  ChannelId_3    500.0    500  2018-11-15T02:44:21Z            0\n",
              "3  ChannelId_3  20000.0  21800  2018-11-15T03:32:55Z            0\n",
              "4  ChannelId_2   -644.0    644  2018-11-15T03:34:21Z            0"
            ]
          },
          "metadata": {
            "tags": []
          },
          "execution_count": 320
        }
      ]
    },
    {
      "cell_type": "code",
      "metadata": {
        "id": "N7hwZ-26Sv7d",
        "colab_type": "code",
        "colab": {
          "base_uri": "https://localhost:8080/",
          "height": 54
        },
        "outputId": "f70f0452-1282-49c2-8dc9-04571854db17"
      },
      "source": [
        "row1 = {'ChannelId':'ChannelId_4'\t, 'Amount':97, \n",
        "           'Value': 22, 'TransactionStartTime':'2018-11-15T02:18:49Z', 'FraudResult' : 0}\n",
        "'''row2 = {'ProviderId':'ProviderId_4', 'ProductId':'ProductId_18', 'ProductCategory': 'airtime', 'ChannelId':'ChannelId_4'\t, 'Amount':97, \n",
        "           'Value': 22, 'TransactionStartTime':'2018-11-15T02:18:49Z', 'PricingStrategy': 2, 'FraudResult' : 0}\n",
        "row3 = {'ProviderId':'ProviderId_4', 'ProductId':'ProductId_25', 'ProductCategory': 'airtime', 'ChannelId':'ChannelId_4'\t, 'Amount':97, \n",
        "           'Value': 22, 'TransactionStartTime':'2018-11-15T02:18:49Z', 'PricingStrategy': 2, 'FraudResult' : 0}\n",
        "row4 = {'ProviderId':'ProviderId_4', 'ProductId':'ProductId_26', 'ProductCategory': 'airtime', 'ChannelId':'ChannelId_4'\t, 'Amount':97, \n",
        "           'Value': 22, 'TransactionStartTime':'2018-11-15T02:18:49Z', 'PricingStrategy': 2, 'FraudResult' : 0}\n",
        "row5 = {'ProviderId':'ProviderId_4', 'ProductId':'ProductId_12', 'ProductCategory': 'airtime', 'ChannelId':'ChannelId_4'\t, 'Amount':97, \n",
        "           'Value': 22, 'TransactionStartTime':'2018-11-15T02:18:49Z', 'PricingStrategy': 2}'''\n",
        "#append row to the dataframe\n",
        "data = data.append(row1, ignore_index=True)\n",
        "'''data = data.append(row2, ignore_index=True)\n",
        "data = data.append(row3, ignore_index=True)\n",
        "data = data.append(row4, ignore_index=True)\n",
        "test = test.append(row5, ignore_index=True)'''"
      ],
      "execution_count": 321,
      "outputs": [
        {
          "output_type": "execute_result",
          "data": {
            "text/plain": [
              "'data = data.append(row2, ignore_index=True)\\ndata = data.append(row3, ignore_index=True)\\ndata = data.append(row4, ignore_index=True)\\ntest = test.append(row5, ignore_index=True)'"
            ]
          },
          "metadata": {
            "tags": []
          },
          "execution_count": 321
        }
      ]
    },
    {
      "cell_type": "code",
      "metadata": {
        "id": "FDBtOgISFN1l",
        "colab_type": "code",
        "colab": {
          "base_uri": "https://localhost:8080/",
          "height": 34
        },
        "outputId": "b85e2df0-f1c9-4f55-a0bf-85eecf708c8e"
      },
      "source": [
        "test.shape , data.shape"
      ],
      "execution_count": 322,
      "outputs": [
        {
          "output_type": "execute_result",
          "data": {
            "text/plain": [
              "((45019, 4), (95663, 5))"
            ]
          },
          "metadata": {
            "tags": []
          },
          "execution_count": 322
        }
      ]
    },
    {
      "cell_type": "code",
      "metadata": {
        "id": "jnf_L9XuF_Hb",
        "colab_type": "code",
        "colab": {}
      },
      "source": [
        "time = data.TransactionStartTime\n",
        "timet = test.TransactionStartTime"
      ],
      "execution_count": 0,
      "outputs": []
    },
    {
      "cell_type": "code",
      "metadata": {
        "id": "Tgy2mtTwHlsF",
        "colab_type": "code",
        "colab": {}
      },
      "source": [
        "time = pd.to_datetime(time)\n",
        "timet = pd.to_datetime(timet)"
      ],
      "execution_count": 0,
      "outputs": []
    },
    {
      "cell_type": "code",
      "metadata": {
        "id": "zjjhNkvwHs9o",
        "colab_type": "code",
        "colab": {
          "base_uri": "https://localhost:8080/",
          "height": 34
        },
        "outputId": "b6ecf102-47ab-40ab-bb63-7b549ed359dd"
      },
      "source": [
        "#data[\"hour\"] = time.dt.hour\n",
        "'''data[\"minute\"] = time.dt.minute\n",
        "data[\"month\"] = time.dt.month\n",
        "data[\"dat\"] = time.dt.day'''\n",
        "\n",
        "#test[\"hour\"] = timet.dt.hour\n",
        "'''test[\"minute\"] = timet.dt.minute\n",
        "test[\"month\"] = timet.dt.month\n",
        "test[\"dat\"] = timet.dt.day'''"
      ],
      "execution_count": 325,
      "outputs": [
        {
          "output_type": "execute_result",
          "data": {
            "text/plain": [
              "'test[\"minute\"] = timet.dt.minute\\ntest[\"month\"] = timet.dt.month\\ntest[\"dat\"] = timet.dt.day'"
            ]
          },
          "metadata": {
            "tags": []
          },
          "execution_count": 325
        }
      ]
    },
    {
      "cell_type": "code",
      "metadata": {
        "id": "v5eXTlYCHuqD",
        "colab_type": "code",
        "colab": {}
      },
      "source": [
        "data = data.drop(['TransactionStartTime'], axis = 1)\n",
        "test = test.drop(['TransactionStartTime'], axis = 1)"
      ],
      "execution_count": 0,
      "outputs": []
    },
    {
      "cell_type": "code",
      "metadata": {
        "id": "Hk95q1V-JPeU",
        "colab_type": "code",
        "colab": {
          "base_uri": "https://localhost:8080/",
          "height": 54
        },
        "outputId": "c65dcfce-7dce-4ef7-d92a-18f8e1e4daf7"
      },
      "source": [
        "'''data['ProviderId'] = data['ProviderId'].str.split(\"_\", n = 2, expand = True)[1].astype(int)\n",
        "data['ProductId'] = data['ProductId'].str.split(\"_\", n = 2, expand = True)[1].astype(int)\n",
        "data['ChannelId'] = data['ChannelId'].str.split(\"_\", n = 2, expand = True)[1].astype(int)\n",
        "data['PricingStrategy'] = 'Pricing_' + data['PricingStrategy'].astype(str)\n",
        "\n",
        "test['ProviderId'] = test['ProviderId'].str.split(\"_\", n = 2, expand = True)[1].astype(int)\n",
        "test['ProductId'] = test['ProductId'].str.split(\"_\", n = 2, expand = True)[1].astype(int)\n",
        "test['ChannelId'] = test['ChannelId'].str.split(\"_\", n = 2, expand = True)[1].astype(int)\n",
        "test['PricingStrategy'] = 'Pricing_' + test['PricingStrategy'].astype(str)'''"
      ],
      "execution_count": 327,
      "outputs": [
        {
          "output_type": "execute_result",
          "data": {
            "text/plain": [
              "'data[\\'ProviderId\\'] = data[\\'ProviderId\\'].str.split(\"_\", n = 2, expand = True)[1].astype(int)\\ndata[\\'ProductId\\'] = data[\\'ProductId\\'].str.split(\"_\", n = 2, expand = True)[1].astype(int)\\ndata[\\'ChannelId\\'] = data[\\'ChannelId\\'].str.split(\"_\", n = 2, expand = True)[1].astype(int)\\ndata[\\'PricingStrategy\\'] = \\'Pricing_\\' + data[\\'PricingStrategy\\'].astype(str)\\n\\ntest[\\'ProviderId\\'] = test[\\'ProviderId\\'].str.split(\"_\", n = 2, expand = True)[1].astype(int)\\ntest[\\'ProductId\\'] = test[\\'ProductId\\'].str.split(\"_\", n = 2, expand = True)[1].astype(int)\\ntest[\\'ChannelId\\'] = test[\\'ChannelId\\'].str.split(\"_\", n = 2, expand = True)[1].astype(int)\\ntest[\\'PricingStrategy\\'] = \\'Pricing_\\' + test[\\'PricingStrategy\\'].astype(str)'"
            ]
          },
          "metadata": {
            "tags": []
          },
          "execution_count": 327
        }
      ]
    },
    {
      "cell_type": "code",
      "metadata": {
        "id": "xSAqncqNJlwU",
        "colab_type": "code",
        "colab": {}
      },
      "source": [
        "data = pd.get_dummies(data, drop_first=True)\n",
        "test = pd.get_dummies(test, drop_first=True)"
      ],
      "execution_count": 0,
      "outputs": []
    },
    {
      "cell_type": "code",
      "metadata": {
        "id": "cSRs_T9ZI9pD",
        "colab_type": "code",
        "colab": {
          "base_uri": "https://localhost:8080/",
          "height": 204
        },
        "outputId": "39d3343d-9843-4165-8d19-16ffce39b05b"
      },
      "source": [
        "test.head()"
      ],
      "execution_count": 329,
      "outputs": [
        {
          "output_type": "execute_result",
          "data": {
            "text/html": [
              "<div>\n",
              "<style scoped>\n",
              "    .dataframe tbody tr th:only-of-type {\n",
              "        vertical-align: middle;\n",
              "    }\n",
              "\n",
              "    .dataframe tbody tr th {\n",
              "        vertical-align: top;\n",
              "    }\n",
              "\n",
              "    .dataframe thead th {\n",
              "        text-align: right;\n",
              "    }\n",
              "</style>\n",
              "<table border=\"1\" class=\"dataframe\">\n",
              "  <thead>\n",
              "    <tr style=\"text-align: right;\">\n",
              "      <th></th>\n",
              "      <th>Amount</th>\n",
              "      <th>Value</th>\n",
              "      <th>ChannelId_ChannelId_2</th>\n",
              "      <th>ChannelId_ChannelId_3</th>\n",
              "      <th>ChannelId_ChannelId_4</th>\n",
              "      <th>ChannelId_ChannelId_5</th>\n",
              "    </tr>\n",
              "  </thead>\n",
              "  <tbody>\n",
              "    <tr>\n",
              "      <th>0</th>\n",
              "      <td>1000.0</td>\n",
              "      <td>1000</td>\n",
              "      <td>0</td>\n",
              "      <td>1</td>\n",
              "      <td>0</td>\n",
              "      <td>0</td>\n",
              "    </tr>\n",
              "    <tr>\n",
              "      <th>1</th>\n",
              "      <td>2000.0</td>\n",
              "      <td>2000</td>\n",
              "      <td>0</td>\n",
              "      <td>1</td>\n",
              "      <td>0</td>\n",
              "      <td>0</td>\n",
              "    </tr>\n",
              "    <tr>\n",
              "      <th>2</th>\n",
              "      <td>-50.0</td>\n",
              "      <td>50</td>\n",
              "      <td>1</td>\n",
              "      <td>0</td>\n",
              "      <td>0</td>\n",
              "      <td>0</td>\n",
              "    </tr>\n",
              "    <tr>\n",
              "      <th>3</th>\n",
              "      <td>3000.0</td>\n",
              "      <td>3000</td>\n",
              "      <td>0</td>\n",
              "      <td>1</td>\n",
              "      <td>0</td>\n",
              "      <td>0</td>\n",
              "    </tr>\n",
              "    <tr>\n",
              "      <th>4</th>\n",
              "      <td>-60.0</td>\n",
              "      <td>60</td>\n",
              "      <td>1</td>\n",
              "      <td>0</td>\n",
              "      <td>0</td>\n",
              "      <td>0</td>\n",
              "    </tr>\n",
              "  </tbody>\n",
              "</table>\n",
              "</div>"
            ],
            "text/plain": [
              "   Amount  Value  ...  ChannelId_ChannelId_4  ChannelId_ChannelId_5\n",
              "0  1000.0   1000  ...                      0                      0\n",
              "1  2000.0   2000  ...                      0                      0\n",
              "2   -50.0     50  ...                      0                      0\n",
              "3  3000.0   3000  ...                      0                      0\n",
              "4   -60.0     60  ...                      0                      0\n",
              "\n",
              "[5 rows x 6 columns]"
            ]
          },
          "metadata": {
            "tags": []
          },
          "execution_count": 329
        }
      ]
    },
    {
      "cell_type": "code",
      "metadata": {
        "id": "aelao6iUVq90",
        "colab_type": "code",
        "colab": {
          "base_uri": "https://localhost:8080/",
          "height": 204
        },
        "outputId": "81512e33-9617-47f2-a1fd-b8f8d74b593f"
      },
      "source": [
        "data.head()"
      ],
      "execution_count": 330,
      "outputs": [
        {
          "output_type": "execute_result",
          "data": {
            "text/html": [
              "<div>\n",
              "<style scoped>\n",
              "    .dataframe tbody tr th:only-of-type {\n",
              "        vertical-align: middle;\n",
              "    }\n",
              "\n",
              "    .dataframe tbody tr th {\n",
              "        vertical-align: top;\n",
              "    }\n",
              "\n",
              "    .dataframe thead th {\n",
              "        text-align: right;\n",
              "    }\n",
              "</style>\n",
              "<table border=\"1\" class=\"dataframe\">\n",
              "  <thead>\n",
              "    <tr style=\"text-align: right;\">\n",
              "      <th></th>\n",
              "      <th>Amount</th>\n",
              "      <th>Value</th>\n",
              "      <th>FraudResult</th>\n",
              "      <th>ChannelId_ChannelId_2</th>\n",
              "      <th>ChannelId_ChannelId_3</th>\n",
              "      <th>ChannelId_ChannelId_4</th>\n",
              "      <th>ChannelId_ChannelId_5</th>\n",
              "    </tr>\n",
              "  </thead>\n",
              "  <tbody>\n",
              "    <tr>\n",
              "      <th>0</th>\n",
              "      <td>1000.0</td>\n",
              "      <td>1000</td>\n",
              "      <td>0</td>\n",
              "      <td>0</td>\n",
              "      <td>1</td>\n",
              "      <td>0</td>\n",
              "      <td>0</td>\n",
              "    </tr>\n",
              "    <tr>\n",
              "      <th>1</th>\n",
              "      <td>-20.0</td>\n",
              "      <td>20</td>\n",
              "      <td>0</td>\n",
              "      <td>1</td>\n",
              "      <td>0</td>\n",
              "      <td>0</td>\n",
              "      <td>0</td>\n",
              "    </tr>\n",
              "    <tr>\n",
              "      <th>2</th>\n",
              "      <td>500.0</td>\n",
              "      <td>500</td>\n",
              "      <td>0</td>\n",
              "      <td>0</td>\n",
              "      <td>1</td>\n",
              "      <td>0</td>\n",
              "      <td>0</td>\n",
              "    </tr>\n",
              "    <tr>\n",
              "      <th>3</th>\n",
              "      <td>20000.0</td>\n",
              "      <td>21800</td>\n",
              "      <td>0</td>\n",
              "      <td>0</td>\n",
              "      <td>1</td>\n",
              "      <td>0</td>\n",
              "      <td>0</td>\n",
              "    </tr>\n",
              "    <tr>\n",
              "      <th>4</th>\n",
              "      <td>-644.0</td>\n",
              "      <td>644</td>\n",
              "      <td>0</td>\n",
              "      <td>1</td>\n",
              "      <td>0</td>\n",
              "      <td>0</td>\n",
              "      <td>0</td>\n",
              "    </tr>\n",
              "  </tbody>\n",
              "</table>\n",
              "</div>"
            ],
            "text/plain": [
              "    Amount  Value  ...  ChannelId_ChannelId_4  ChannelId_ChannelId_5\n",
              "0   1000.0   1000  ...                      0                      0\n",
              "1    -20.0     20  ...                      0                      0\n",
              "2    500.0    500  ...                      0                      0\n",
              "3  20000.0  21800  ...                      0                      0\n",
              "4   -644.0    644  ...                      0                      0\n",
              "\n",
              "[5 rows x 7 columns]"
            ]
          },
          "metadata": {
            "tags": []
          },
          "execution_count": 330
        }
      ]
    },
    {
      "cell_type": "markdown",
      "metadata": {
        "id": "UjvQ05vaKT4U",
        "colab_type": "text"
      },
      "source": [
        "# Model Building"
      ]
    },
    {
      "cell_type": "code",
      "metadata": {
        "id": "nxjEafuOKPaU",
        "colab_type": "code",
        "colab": {}
      },
      "source": [
        "X = data.iloc[:, data.columns != 'FraudResult']\n",
        "y = data.iloc[:, data.columns == 'FraudResult']"
      ],
      "execution_count": 0,
      "outputs": []
    },
    {
      "cell_type": "code",
      "metadata": {
        "id": "pJM_XmLtsd71",
        "colab_type": "code",
        "colab": {
          "base_uri": "https://localhost:8080/",
          "height": 221
        },
        "outputId": "145085c8-fbbd-4572-cf35-bb9dda5eed81"
      },
      "source": [
        "from sklearn.preprocessing import StandardScaler\n",
        "amount =  StandardScaler()\n",
        "hour =  StandardScaler()\n",
        "value =  StandardScaler()\n",
        "X['Amount'] = amount.fit_transform(X['Amount'].values.reshape(-1, 1))\n",
        "X['Value'] = hour.fit_transform(X['Value'].values.reshape(-1, 1))\n",
        "#X['hour'] = value.fit_transform(X['hour'].values.reshape(-1, 1))"
      ],
      "execution_count": 332,
      "outputs": [
        {
          "output_type": "stream",
          "text": [
            "/usr/local/lib/python3.6/dist-packages/ipykernel_launcher.py:5: SettingWithCopyWarning: \n",
            "A value is trying to be set on a copy of a slice from a DataFrame.\n",
            "Try using .loc[row_indexer,col_indexer] = value instead\n",
            "\n",
            "See the caveats in the documentation: http://pandas.pydata.org/pandas-docs/stable/indexing.html#indexing-view-versus-copy\n",
            "  \"\"\"\n",
            "/usr/local/lib/python3.6/dist-packages/ipykernel_launcher.py:6: SettingWithCopyWarning: \n",
            "A value is trying to be set on a copy of a slice from a DataFrame.\n",
            "Try using .loc[row_indexer,col_indexer] = value instead\n",
            "\n",
            "See the caveats in the documentation: http://pandas.pydata.org/pandas-docs/stable/indexing.html#indexing-view-versus-copy\n",
            "  \n"
          ],
          "name": "stderr"
        }
      ]
    },
    {
      "cell_type": "code",
      "metadata": {
        "id": "QRSSPBzztZg9",
        "colab_type": "code",
        "colab": {}
      },
      "source": [
        "test['Amount'] = amount.transform(test['Amount'].values.reshape(-1, 1))\n",
        "test['Value'] = hour.transform(test['Value'].values.reshape(-1, 1))\n",
        "#test['hour'] = value.transform(test['hour'].values.reshape(-1, 1))"
      ],
      "execution_count": 0,
      "outputs": []
    },
    {
      "cell_type": "code",
      "metadata": {
        "id": "ACCBYWJAE7l5",
        "colab_type": "code",
        "colab": {
          "base_uri": "https://localhost:8080/",
          "height": 204
        },
        "outputId": "185a8e27-d1e0-425e-9e9a-c7c07b819695"
      },
      "source": [
        "X.head()"
      ],
      "execution_count": 334,
      "outputs": [
        {
          "output_type": "execute_result",
          "data": {
            "text/html": [
              "<div>\n",
              "<style scoped>\n",
              "    .dataframe tbody tr th:only-of-type {\n",
              "        vertical-align: middle;\n",
              "    }\n",
              "\n",
              "    .dataframe tbody tr th {\n",
              "        vertical-align: top;\n",
              "    }\n",
              "\n",
              "    .dataframe thead th {\n",
              "        text-align: right;\n",
              "    }\n",
              "</style>\n",
              "<table border=\"1\" class=\"dataframe\">\n",
              "  <thead>\n",
              "    <tr style=\"text-align: right;\">\n",
              "      <th></th>\n",
              "      <th>Amount</th>\n",
              "      <th>Value</th>\n",
              "      <th>ChannelId_ChannelId_2</th>\n",
              "      <th>ChannelId_ChannelId_3</th>\n",
              "      <th>ChannelId_ChannelId_4</th>\n",
              "      <th>ChannelId_ChannelId_5</th>\n",
              "    </tr>\n",
              "  </thead>\n",
              "  <tbody>\n",
              "    <tr>\n",
              "      <th>0</th>\n",
              "      <td>-0.046371</td>\n",
              "      <td>-0.072291</td>\n",
              "      <td>0</td>\n",
              "      <td>1</td>\n",
              "      <td>0</td>\n",
              "      <td>0</td>\n",
              "    </tr>\n",
              "    <tr>\n",
              "      <th>1</th>\n",
              "      <td>-0.054643</td>\n",
              "      <td>-0.080250</td>\n",
              "      <td>1</td>\n",
              "      <td>0</td>\n",
              "      <td>0</td>\n",
              "      <td>0</td>\n",
              "    </tr>\n",
              "    <tr>\n",
              "      <th>2</th>\n",
              "      <td>-0.050426</td>\n",
              "      <td>-0.076352</td>\n",
              "      <td>0</td>\n",
              "      <td>1</td>\n",
              "      <td>0</td>\n",
              "      <td>0</td>\n",
              "    </tr>\n",
              "    <tr>\n",
              "      <th>3</th>\n",
              "      <td>0.107718</td>\n",
              "      <td>0.096649</td>\n",
              "      <td>0</td>\n",
              "      <td>1</td>\n",
              "      <td>0</td>\n",
              "      <td>0</td>\n",
              "    </tr>\n",
              "    <tr>\n",
              "      <th>4</th>\n",
              "      <td>-0.059704</td>\n",
              "      <td>-0.075182</td>\n",
              "      <td>1</td>\n",
              "      <td>0</td>\n",
              "      <td>0</td>\n",
              "      <td>0</td>\n",
              "    </tr>\n",
              "  </tbody>\n",
              "</table>\n",
              "</div>"
            ],
            "text/plain": [
              "     Amount     Value  ...  ChannelId_ChannelId_4  ChannelId_ChannelId_5\n",
              "0 -0.046371 -0.072291  ...                      0                      0\n",
              "1 -0.054643 -0.080250  ...                      0                      0\n",
              "2 -0.050426 -0.076352  ...                      0                      0\n",
              "3  0.107718  0.096649  ...                      0                      0\n",
              "4 -0.059704 -0.075182  ...                      0                      0\n",
              "\n",
              "[5 rows x 6 columns]"
            ]
          },
          "metadata": {
            "tags": []
          },
          "execution_count": 334
        }
      ]
    },
    {
      "cell_type": "code",
      "metadata": {
        "id": "cPoV2NboFDnt",
        "colab_type": "code",
        "colab": {
          "base_uri": "https://localhost:8080/",
          "height": 34
        },
        "outputId": "de0a171a-ff9d-48f3-a827-623d14cc077e"
      },
      "source": [
        "'''X = X.drop('hour', axis = 1)\n",
        "test = test.drop('hour', axis = 1)'''"
      ],
      "execution_count": 335,
      "outputs": [
        {
          "output_type": "execute_result",
          "data": {
            "text/plain": [
              "\"X = X.drop('hour', axis = 1)\\ntest = test.drop('hour', axis = 1)\""
            ]
          },
          "metadata": {
            "tags": []
          },
          "execution_count": 335
        }
      ]
    },
    {
      "cell_type": "code",
      "metadata": {
        "id": "IldOdDC3KXFt",
        "colab_type": "code",
        "colab": {}
      },
      "source": [
        "# train test split\n",
        "from sklearn.model_selection import train_test_split\n",
        "x_train, x_test, y_train, y_test = train_test_split(X, y, test_size = 0.3, random_state = 22)"
      ],
      "execution_count": 0,
      "outputs": []
    },
    {
      "cell_type": "code",
      "metadata": {
        "id": "l32dnAS5Kfu6",
        "colab_type": "code",
        "colab": {}
      },
      "source": [
        "# Standerdise the dataset\n",
        "from sklearn.preprocessing import StandardScaler\n",
        "scaler= StandardScaler()\n",
        "x_train = scaler.fit_transform(x_train)\n",
        "x_test = scaler.fit_transform(x_test)\n",
        "test = scaler.fit_transform(test)"
      ],
      "execution_count": 0,
      "outputs": []
    },
    {
      "cell_type": "code",
      "metadata": {
        "id": "HjmojF5uKuas",
        "colab_type": "code",
        "colab": {}
      },
      "source": [
        "# making evaluation\n",
        "from sklearn.metrics import accuracy_score, f1_score, confusion_matrix\n",
        "def evaluate(clf):\n",
        "    y_pred = clf.predict(x_test)\n",
        "    accuracy = accuracy_score(y_test, y_pred)\n",
        "    f1 = f1_score(y_test, y_pred)\n",
        "    cm = confusion_matrix(y_test, y_pred)\n",
        "    print(\"The Scores for {} are: Accuracy of {}, F1 of {} and CM\".format(type(clf).__name__, accuracy, f1))\n",
        "    sns.heatmap(cm, annot = True , fmt='g')"
      ],
      "execution_count": 0,
      "outputs": []
    },
    {
      "cell_type": "code",
      "metadata": {
        "id": "3pn7qTu8Krlm",
        "colab_type": "code",
        "colab": {
          "base_uri": "https://localhost:8080/",
          "height": 156
        },
        "outputId": "581aefd7-11e3-4101-f21b-0a6cc35bff4c"
      },
      "source": [
        "# building first model\n",
        "from sklearn.linear_model import LogisticRegression\n",
        "clf_lr = LogisticRegression(solver = 'lbfgs')\n",
        "clf_lr.fit(x_train, y_train)"
      ],
      "execution_count": 338,
      "outputs": [
        {
          "output_type": "stream",
          "text": [
            "/usr/local/lib/python3.6/dist-packages/sklearn/utils/validation.py:724: DataConversionWarning: A column-vector y was passed when a 1d array was expected. Please change the shape of y to (n_samples, ), for example using ravel().\n",
            "  y = column_or_1d(y, warn=True)\n"
          ],
          "name": "stderr"
        },
        {
          "output_type": "execute_result",
          "data": {
            "text/plain": [
              "LogisticRegression(C=1.0, class_weight=None, dual=False, fit_intercept=True,\n",
              "                   intercept_scaling=1, l1_ratio=None, max_iter=100,\n",
              "                   multi_class='warn', n_jobs=None, penalty='l2',\n",
              "                   random_state=None, solver='lbfgs', tol=0.0001, verbose=0,\n",
              "                   warm_start=False)"
            ]
          },
          "metadata": {
            "tags": []
          },
          "execution_count": 338
        }
      ]
    },
    {
      "cell_type": "code",
      "metadata": {
        "id": "4E6umnLpKw7d",
        "colab_type": "code",
        "colab": {
          "base_uri": "https://localhost:8080/",
          "height": 286
        },
        "outputId": "dcc70198-467b-4387-f903-39c6b7d14040"
      },
      "source": [
        "evaluate(clf_lr)"
      ],
      "execution_count": 339,
      "outputs": [
        {
          "output_type": "stream",
          "text": [
            "The Scores for LogisticRegression are: Accuracy of 0.9980835569183595, F1 of 0.3820224719101123 and CM\n"
          ],
          "name": "stdout"
        },
        {
          "output_type": "display_data",
          "data": {
            "image/png": "[encoded data removed]",
            "text/plain": [
              "<Figure size 432x288 with 2 Axes>"
            ]
          },
          "metadata": {
            "tags": []
          }
        }
      ]
    },
    {
      "cell_type": "code",
      "metadata": {
        "id": "5ukk1o91KzCK",
        "colab_type": "code",
        "colab": {}
      },
      "source": [
        "from sklearn.svm import SVC\n",
        "clf_svm = SVC(class_weight = 'balanced')\n",
        "clf_svm.fit(x_train, y_train)"
      ],
      "execution_count": 0,
      "outputs": []
    },
    {
      "cell_type": "code",
      "metadata": {
        "id": "fMM9xJVl6XFw",
        "colab_type": "code",
        "colab": {
          "base_uri": "https://localhost:8080/",
          "height": 85
        },
        "outputId": "22ce0ee7-0f31-4fd3-b98c-fd971d67bcb6"
      },
      "source": [
        "from sklearn.svm import SVC\n",
        "clf_svm2 = SVC(gamma='auto', kernel = 'rbf')\n",
        "clf_svm2.fit(x_train, y_train.values.ravel())"
      ],
      "execution_count": 349,
      "outputs": [
        {
          "output_type": "execute_result",
          "data": {
            "text/plain": [
              "SVC(C=1.0, cache_size=200, class_weight=None, coef0=0.0,\n",
              "    decision_function_shape='ovr', degree=3, gamma='auto', kernel='rbf',\n",
              "    max_iter=-1, probability=False, random_state=None, shrinking=True,\n",
              "    tol=0.001, verbose=False)"
            ]
          },
          "metadata": {
            "tags": []
          },
          "execution_count": 349
        }
      ]
    },
    {
      "cell_type": "code",
      "metadata": {
        "id": "Va6VUCcjK39X",
        "colab_type": "code",
        "colab": {
          "base_uri": "https://localhost:8080/",
          "height": 286
        },
        "outputId": "32e3caab-1321-4885-a7b5-dc9eac55ce98"
      },
      "source": [
        "evaluate(clf_svm2)"
      ],
      "execution_count": 350,
      "outputs": [
        {
          "output_type": "stream",
          "text": [
            "The Scores for SVC are: Accuracy of 0.9995470225443395, F1 of 0.8761904761904762 and CM\n"
          ],
          "name": "stdout"
        },
        {
          "output_type": "display_data",
          "data": {
            "image/png": "[encoded data removed]",
            "text/plain": [
              "<Figure size 432x288 with 2 Axes>"
            ]
          },
          "metadata": {
            "tags": []
          }
        }
      ]
    },
    {
      "cell_type": "code",
      "metadata": {
        "id": "3eUtvnpjK57s",
        "colab_type": "code",
        "colab": {
          "base_uri": "https://localhost:8080/",
          "height": 122
        },
        "outputId": "bd62ec5f-1520-4ef5-ea42-944c14cdd609"
      },
      "source": [
        "from sklearn.neighbors import KNeighborsClassifier\n",
        "clf_knn = KNeighborsClassifier(8, n_jobs = -1)\n",
        "clf_knn.fit(x_train, y_train)"
      ],
      "execution_count": 378,
      "outputs": [
        {
          "output_type": "stream",
          "text": [
            "/usr/local/lib/python3.6/dist-packages/ipykernel_launcher.py:3: DataConversionWarning: A column-vector y was passed when a 1d array was expected. Please change the shape of y to (n_samples, ), for example using ravel().\n",
            "  This is separate from the ipykernel package so we can avoid doing imports until\n"
          ],
          "name": "stderr"
        },
        {
          "output_type": "execute_result",
          "data": {
            "text/plain": [
              "KNeighborsClassifier(algorithm='auto', leaf_size=30, metric='minkowski',\n",
              "                     metric_params=None, n_jobs=-1, n_neighbors=8, p=2,\n",
              "                     weights='uniform')"
            ]
          },
          "metadata": {
            "tags": []
          },
          "execution_count": 378
        }
      ]
    },
    {
      "cell_type": "code",
      "metadata": {
        "id": "3US4PZA8K84p",
        "colab_type": "code",
        "colab": {
          "base_uri": "https://localhost:8080/",
          "height": 286
        },
        "outputId": "fcee1ec9-17af-4889-9bf5-fefc4a92112e"
      },
      "source": [
        "evaluate(clf_knn)"
      ],
      "execution_count": 379,
      "outputs": [
        {
          "output_type": "stream",
          "text": [
            "The Scores for KNeighborsClassifier are: Accuracy of 0.9996167113836719, F1 of 0.8952380952380952 and CM\n"
          ],
          "name": "stdout"
        },
        {
          "output_type": "display_data",
          "data": {
            "image/png": "[encoded data removed]",
            "text/plain": [
              "<Figure size 432x288 with 2 Axes>"
            ]
          },
          "metadata": {
            "tags": []
          }
        }
      ]
    },
    {
      "cell_type": "code",
      "metadata": {
        "id": "Z5SYOFMiK-0m",
        "colab_type": "code",
        "colab": {
          "base_uri": "https://localhost:8080/",
          "height": 119
        },
        "outputId": "d6fb2075-d62b-4960-862f-b086415f7ad5"
      },
      "source": [
        "from sklearn.tree import DecisionTreeClassifier\n",
        "clf_dt = DecisionTreeClassifier(criterion='entropy')\n",
        "clf_dt.fit(x_train, y_train)"
      ],
      "execution_count": 382,
      "outputs": [
        {
          "output_type": "execute_result",
          "data": {
            "text/plain": [
              "DecisionTreeClassifier(class_weight=None, criterion='entropy', max_depth=None,\n",
              "                       max_features=None, max_leaf_nodes=None,\n",
              "                       min_impurity_decrease=0.0, min_impurity_split=None,\n",
              "                       min_samples_leaf=1, min_samples_split=2,\n",
              "                       min_weight_fraction_leaf=0.0, presort=False,\n",
              "                       random_state=None, splitter='best')"
            ]
          },
          "metadata": {
            "tags": []
          },
          "execution_count": 382
        }
      ]
    },
    {
      "cell_type": "code",
      "metadata": {
        "id": "jzzWg8GqLCLv",
        "colab_type": "code",
        "colab": {
          "base_uri": "https://localhost:8080/",
          "height": 286
        },
        "outputId": "09562dc8-0ecd-48b1-e339-64796ff20533"
      },
      "source": [
        "evaluate(clf_dt)"
      ],
      "execution_count": 383,
      "outputs": [
        {
          "output_type": "stream",
          "text": [
            "The Scores for DecisionTreeClassifier are: Accuracy of 0.9996167113836719, F1 of 0.8952380952380952 and CM\n"
          ],
          "name": "stdout"
        },
        {
          "output_type": "display_data",
          "data": {
            "image/png": "[encoded data removed]",
            "text/plain": [
              "<Figure size 432x288 with 2 Axes>"
            ]
          },
          "metadata": {
            "tags": []
          }
        }
      ]
    },
    {
      "cell_type": "code",
      "metadata": {
        "id": "DSKsPOLpJYpm",
        "colab_type": "code",
        "colab": {}
      },
      "source": [
        "cw = {0 : 0.4 , 1 : 0.7}\n"
      ],
      "execution_count": 0,
      "outputs": []
    },
    {
      "cell_type": "code",
      "metadata": {
        "id": "40GAXBLQLECz",
        "colab_type": "code",
        "colab": {
          "base_uri": "https://localhost:8080/",
          "height": 136
        },
        "outputId": "73aad410-5e4d-4a4a-a5f6-3429cd7948f3"
      },
      "source": [
        "from sklearn.ensemble import RandomForestClassifier\n",
        "clf_rf = RandomForestClassifier(n_estimators = 100)\n",
        "clf_rf.fit(x_train, y_train.values.ravel())"
      ],
      "execution_count": 506,
      "outputs": [
        {
          "output_type": "execute_result",
          "data": {
            "text/plain": [
              "RandomForestClassifier(bootstrap=True, class_weight=None, criterion='gini',\n",
              "                       max_depth=None, max_features='auto', max_leaf_nodes=None,\n",
              "                       min_impurity_decrease=0.0, min_impurity_split=None,\n",
              "                       min_samples_leaf=1, min_samples_split=2,\n",
              "                       min_weight_fraction_leaf=0.0, n_estimators=100,\n",
              "                       n_jobs=None, oob_score=False, random_state=None,\n",
              "                       verbose=0, warm_start=False)"
            ]
          },
          "metadata": {
            "tags": []
          },
          "execution_count": 506
        }
      ]
    },
    {
      "cell_type": "code",
      "metadata": {
        "id": "5IcIj40gLF3T",
        "colab_type": "code",
        "colab": {
          "base_uri": "https://localhost:8080/",
          "height": 286
        },
        "outputId": "261520d1-b2ce-4534-ddd6-802d714e0f51"
      },
      "source": [
        "evaluate(clf_rf)"
      ],
      "execution_count": 507,
      "outputs": [
        {
          "output_type": "stream",
          "text": [
            "The Scores for RandomForestClassifier are: Accuracy of 0.9995818669640057, F1 of 0.8846153846153846 and CM\n"
          ],
          "name": "stdout"
        },
        {
          "output_type": "display_data",
          "data": {
            "image/png": "[encoded data removed]",
            "text/plain": [
              "<Figure size 432x288 with 2 Axes>"
            ]
          },
          "metadata": {
            "tags": []
          }
        }
      ]
    },
    {
      "cell_type": "code",
      "metadata": {
        "id": "4LxuMhAzLHOL",
        "colab_type": "code",
        "colab": {}
      },
      "source": [
        "from keras.models import Sequential\n",
        "from keras.layers import Dense\n",
        "from keras.layers import Dropout"
      ],
      "execution_count": 0,
      "outputs": []
    },
    {
      "cell_type": "code",
      "metadata": {
        "id": "i79Qgi9jLRfz",
        "colab_type": "code",
        "colab": {
          "base_uri": "https://localhost:8080/",
          "height": 544
        },
        "outputId": "645a9ce4-a658-4fdb-8d86-f76188994fd1"
      },
      "source": [
        "model = Sequential([\n",
        "    Dense(units=128, input_dim = x_train.shape[1],activation='relu'),\n",
        "    Dense(units=128,activation='relu'),\n",
        "    Dropout(0.2),\n",
        "    Dense(256,activation='relu'),\n",
        "    Dropout(0.2),\n",
        "    Dense(256,activation='relu'),\n",
        "    Dropout(0.2),\n",
        "    Dense(128,activation='relu'),\n",
        "    Dropout(0.2),\n",
        "    Dense(128,activation='relu'),\n",
        "    Dropout(0.2),\n",
        "    Dense(1,activation='sigmoid'),\n",
        "])\n",
        "model.summary()"
      ],
      "execution_count": 277,
      "outputs": [
        {
          "output_type": "stream",
          "text": [
            "_________________________________________________________________\n",
            "Layer (type)                 Output Shape              Param #   \n",
            "=================================================================\n",
            "dense_29 (Dense)             (None, 128)               1024      \n",
            "_________________________________________________________________\n",
            "dense_30 (Dense)             (None, 128)               16512     \n",
            "_________________________________________________________________\n",
            "dropout_21 (Dropout)         (None, 128)               0         \n",
            "_________________________________________________________________\n",
            "dense_31 (Dense)             (None, 256)               33024     \n",
            "_________________________________________________________________\n",
            "dropout_22 (Dropout)         (None, 256)               0         \n",
            "_________________________________________________________________\n",
            "dense_32 (Dense)             (None, 256)               65792     \n",
            "_________________________________________________________________\n",
            "dropout_23 (Dropout)         (None, 256)               0         \n",
            "_________________________________________________________________\n",
            "dense_33 (Dense)             (None, 128)               32896     \n",
            "_________________________________________________________________\n",
            "dropout_24 (Dropout)         (None, 128)               0         \n",
            "_________________________________________________________________\n",
            "dense_34 (Dense)             (None, 128)               16512     \n",
            "_________________________________________________________________\n",
            "dropout_25 (Dropout)         (None, 128)               0         \n",
            "_________________________________________________________________\n",
            "dense_35 (Dense)             (None, 1)                 129       \n",
            "=================================================================\n",
            "Total params: 165,889\n",
            "Trainable params: 165,889\n",
            "Non-trainable params: 0\n",
            "_________________________________________________________________\n"
          ],
          "name": "stdout"
        }
      ]
    },
    {
      "cell_type": "code",
      "metadata": {
        "id": "IEDXAIe72oUS",
        "colab_type": "code",
        "colab": {
          "base_uri": "https://localhost:8080/",
          "height": 34
        },
        "outputId": "6fa83ec0-9cea-411c-b7bc-ed81c5eefb55"
      },
      "source": [
        "from sklearn.utils import class_weight\n",
        "class_weights = class_weight.compute_class_weight('balanced' ,np.unique(y_train) ,y_train.values.ravel())\n",
        "class_weights"
      ],
      "execution_count": 409,
      "outputs": [
        {
          "output_type": "execute_result",
          "data": {
            "text/plain": [
              "array([  0.50101004, 248.01481481])"
            ]
          },
          "metadata": {
            "tags": []
          },
          "execution_count": 409
        }
      ]
    },
    {
      "cell_type": "code",
      "metadata": {
        "id": "cw4jkA3FLbEP",
        "colab_type": "code",
        "colab": {}
      },
      "source": [
        "model.compile(optimizer='adam',loss='binary_crossentropy',metrics=['accuracy'])\n",
        "model.fit(X,y,batch_size=64,epochs=100)"
      ],
      "execution_count": 0,
      "outputs": []
    },
    {
      "cell_type": "code",
      "metadata": {
        "id": "MGcllGpULiEH",
        "colab_type": "code",
        "colab": {
          "base_uri": "https://localhost:8080/",
          "height": 357
        },
        "outputId": "85022c4c-ca73-4103-f282-fceeb5731941"
      },
      "source": [
        "y_pred = np.round(model.predict(x_test))\n",
        "accuracy = accuracy_score(y_test, y_pred)\n",
        "f1 = f1_score(y_test, y_pred)\n",
        "cm = confusion_matrix(y_test, y_pred)\n",
        "print(\"The Scores for {} are: Accuracy of {}, F1 of {} and CM\".format(\"DNN\", accuracy, f1))\n",
        "sns.heatmap(cm, annot = True , fmt='g')"
      ],
      "execution_count": 60,
      "outputs": [
        {
          "output_type": "stream",
          "text": [
            "The Scores for DNN are: Accuracy of 0.9978396459806962, F1 of 0.0 and CM\n"
          ],
          "name": "stdout"
        },
        {
          "output_type": "stream",
          "text": [
            "/usr/local/lib/python3.6/dist-packages/sklearn/metrics/classification.py:1437: UndefinedMetricWarning: F-score is ill-defined and being set to 0.0 due to no predicted samples.\n",
            "  'precision', 'predicted', average, warn_for)\n"
          ],
          "name": "stderr"
        },
        {
          "output_type": "execute_result",
          "data": {
            "text/plain": [
              "<matplotlib.axes._subplots.AxesSubplot at 0x7f8af04a5e80>"
            ]
          },
          "metadata": {
            "tags": []
          },
          "execution_count": 60
        },
        {
          "output_type": "display_data",
          "data": {
            "image/png": "[encoded data removed]",
            "text/plain": [
              "<Figure size 432x288 with 2 Axes>"
            ]
          },
          "metadata": {
            "tags": []
          }
        }
      ]
    },
    {
      "cell_type": "markdown",
      "metadata": {
        "id": "N3XYK-gjOekS",
        "colab_type": "text"
      },
      "source": [
        "# Submission"
      ]
    },
    {
      "cell_type": "code",
      "metadata": {
        "id": "UIAcR5IsPpXA",
        "colab_type": "code",
        "colab": {}
      },
      "source": [
        "testData = pd.read_csv(path_to_folder+'test.csv')"
      ],
      "execution_count": 0,
      "outputs": []
    },
    {
      "cell_type": "code",
      "metadata": {
        "id": "rnu0Rc4pOmpC",
        "colab_type": "code",
        "colab": {}
      },
      "source": [
        "test.head()"
      ],
      "execution_count": 0,
      "outputs": []
    },
    {
      "cell_type": "code",
      "metadata": {
        "id": "LAHJODKVOf1j",
        "colab_type": "code",
        "colab": {}
      },
      "source": [
        "ids = testData.TransactionId\n",
        "prediction = clf_rf.predict(test)\n",
        "all_data = list(zip(ids, prediction.reshape(1,-1)[0].astype('int32')))"
      ],
      "execution_count": 0,
      "outputs": []
    },
    {
      "cell_type": "code",
      "metadata": {
        "id": "NZU_-27FPwBt",
        "colab_type": "code",
        "colab": {
          "base_uri": "https://localhost:8080/",
          "height": 204
        },
        "outputId": "c03d265b-3f8e-4ae1-b18c-d7d404202871"
      },
      "source": [
        "final_result = pd.DataFrame(all_data, columns=['TransactionId', 'FraudResult'])\n",
        "final_result.to_csv('rf_new_6.csv', index =False)\n",
        "final_result.head()"
      ],
      "execution_count": 511,
      "outputs": [
        {
          "output_type": "execute_result",
          "data": {
            "text/html": [
              "<div>\n",
              "<style scoped>\n",
              "    .dataframe tbody tr th:only-of-type {\n",
              "        vertical-align: middle;\n",
              "    }\n",
              "\n",
              "    .dataframe tbody tr th {\n",
              "        vertical-align: top;\n",
              "    }\n",
              "\n",
              "    .dataframe thead th {\n",
              "        text-align: right;\n",
              "    }\n",
              "</style>\n",
              "<table border=\"1\" class=\"dataframe\">\n",
              "  <thead>\n",
              "    <tr style=\"text-align: right;\">\n",
              "      <th></th>\n",
              "      <th>TransactionId</th>\n",
              "      <th>FraudResult</th>\n",
              "    </tr>\n",
              "  </thead>\n",
              "  <tbody>\n",
              "    <tr>\n",
              "      <th>0</th>\n",
              "      <td>TransactionId_50600</td>\n",
              "      <td>0</td>\n",
              "    </tr>\n",
              "    <tr>\n",
              "      <th>1</th>\n",
              "      <td>TransactionId_95109</td>\n",
              "      <td>0</td>\n",
              "    </tr>\n",
              "    <tr>\n",
              "      <th>2</th>\n",
              "      <td>TransactionId_47357</td>\n",
              "      <td>0</td>\n",
              "    </tr>\n",
              "    <tr>\n",
              "      <th>3</th>\n",
              "      <td>TransactionId_28185</td>\n",
              "      <td>0</td>\n",
              "    </tr>\n",
              "    <tr>\n",
              "      <th>4</th>\n",
              "      <td>TransactionId_22140</td>\n",
              "      <td>0</td>\n",
              "    </tr>\n",
              "  </tbody>\n",
              "</table>\n",
              "</div>"
            ],
            "text/plain": [
              "         TransactionId  FraudResult\n",
              "0  TransactionId_50600            0\n",
              "1  TransactionId_95109            0\n",
              "2  TransactionId_47357            0\n",
              "3  TransactionId_28185            0\n",
              "4  TransactionId_22140            0"
            ]
          },
          "metadata": {
            "tags": []
          },
          "execution_count": 511
        }
      ]
    },
    {
      "cell_type": "code",
      "metadata": {
        "id": "RKR28MsgP0CK",
        "colab_type": "code",
        "colab": {}
      },
      "source": [
        ""
      ],
      "execution_count": 0,
      "outputs": []
    }
  ]
}