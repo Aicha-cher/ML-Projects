{
  "nbformat": 4,
  "nbformat_minor": 0,
  "metadata": {
    "colab": {
      "name": "Fraud Card Detection V2.ipynb",
      "version": "0.3.2",
      "provenance": [],
      "machine_shape": "hm"
    },
    "kernelspec": {
      "name": "python3",
      "display_name": "Python 3"
    },
    "accelerator": "GPU"
  },
  "cells": [
    {
      "cell_type": "code",
      "metadata": {
        "id": "x6LeQjKlEJUj",
        "colab_type": "code",
        "colab": {}
      },
      "source": [
        "import pandas as pd\n",
        "import matplotlib.pyplot as plt\n",
        "import seaborn as sns\n",
        "import numpy as np"
      ],
      "execution_count": 0,
      "outputs": []
    },
    {
      "cell_type": "code",
      "metadata": {
        "id": "w4oVZ_pcEUPo",
        "colab_type": "code",
        "outputId": "24c227bc-e942-4ded-ffbe-83134f0849d9",
        "colab": {
          "base_uri": "https://localhost:8080/",
          "height": 122
        }
      },
      "source": [
        "from google.colab import drive\n",
        "np.random.seed(42)\n",
        "\n",
        "drive.mount('/content/gdrive')"
      ],
      "execution_count": 2,
      "outputs": [
        {
          "output_type": "stream",
          "text": [
            "Go to this URL in a browser: https://accounts.google.com/o/oauth2/auth?client_id=947318989803-6bn6qk8qdgf4n4g3pfee6491hc0brc4i.apps.googleusercontent.com&redirect_uri=urn%3Aietf%3Awg%3Aoauth%3A2.0%3Aoob&scope=email%20https%3A%2F%2Fwww.googleapis.com%2Fauth%2Fdocs.test%20https%3A%2F%2Fwww.googleapis.com%2Fauth%2Fdrive%20https%3A%2F%2Fwww.googleapis.com%2Fauth%2Fdrive.photos.readonly%20https%3A%2F%2Fwww.googleapis.com%2Fauth%2Fpeopleapi.readonly&response_type=code\n",
            "\n",
            "Enter your authorization code:\n",
            "··········\n",
            "Mounted at /content/gdrive\n"
          ],
          "name": "stdout"
        }
      ]
    },
    {
      "cell_type": "code",
      "metadata": {
        "id": "4_kWy6u0EXIY",
        "colab_type": "code",
        "colab": {}
      },
      "source": [
        "!cp -r \"gdrive/My Drive/Colab Notebooks/Xenete Fraud Detection/\" sample_data/data"
      ],
      "execution_count": 0,
      "outputs": []
    },
    {
      "cell_type": "code",
      "metadata": {
        "id": "BeDR6WggEiDW",
        "colab_type": "code",
        "colab": {}
      },
      "source": [
        "path_to_folder = 'sample_data/data/'"
      ],
      "execution_count": 0,
      "outputs": []
    },
    {
      "cell_type": "code",
      "metadata": {
        "id": "hKwdz0jZEkpR",
        "colab_type": "code",
        "colab": {}
      },
      "source": [
        "data = pd.read_csv(path_to_folder + 'training.csv')\n",
        "test = pd.read_csv(path_to_folder + 'test.csv')"
      ],
      "execution_count": 0,
      "outputs": []
    },
    {
      "cell_type": "code",
      "metadata": {
        "id": "ccSTVdBoFpRX",
        "colab_type": "code",
        "colab": {}
      },
      "source": [
        "test = test.drop(['TransactionId','BatchId', 'AccountId', 'SubscriptionId', 'CustomerId' , 'CountryCode' ,'CurrencyCode' , 'ProviderId' , 'ProductId' , 'ProductCategory' , 'ChannelId'  , 'PricingStrategy'], axis = 1)\n",
        "data = data.drop(['TransactionId','BatchId', 'AccountId', 'SubscriptionId', 'CustomerId' , 'CountryCode' ,'CurrencyCode' , 'ProviderId' , 'ProductId' , 'ProductCategory' , 'ChannelId'  , 'PricingStrategy'], axis = 1)"
      ],
      "execution_count": 0,
      "outputs": []
    },
    {
      "cell_type": "code",
      "metadata": {
        "id": "ohFUEc7_TRcE",
        "colab_type": "code",
        "colab": {}
      },
      "source": [
        "testm = pd.read_csv(path_to_folder + 'test.csv')"
      ],
      "execution_count": 0,
      "outputs": []
    },
    {
      "cell_type": "code",
      "metadata": {
        "id": "piV9omzTEm0D",
        "colab_type": "code",
        "outputId": "d0b04cd2-c0cf-41ae-af90-49ab078cdd14",
        "colab": {
          "base_uri": "https://localhost:8080/",
          "height": 204
        }
      },
      "source": [
        "data.head()"
      ],
      "execution_count": 476,
      "outputs": [
        {
          "output_type": "execute_result",
          "data": {
            "text/html": [
              "<div>\n",
              "<style scoped>\n",
              "    .dataframe tbody tr th:only-of-type {\n",
              "        vertical-align: middle;\n",
              "    }\n",
              "\n",
              "    .dataframe tbody tr th {\n",
              "        vertical-align: top;\n",
              "    }\n",
              "\n",
              "    .dataframe thead th {\n",
              "        text-align: right;\n",
              "    }\n",
              "</style>\n",
              "<table border=\"1\" class=\"dataframe\">\n",
              "  <thead>\n",
              "    <tr style=\"text-align: right;\">\n",
              "      <th></th>\n",
              "      <th>Amount</th>\n",
              "      <th>Value</th>\n",
              "      <th>TransactionStartTime</th>\n",
              "      <th>FraudResult</th>\n",
              "    </tr>\n",
              "  </thead>\n",
              "  <tbody>\n",
              "    <tr>\n",
              "      <th>0</th>\n",
              "      <td>1000.0</td>\n",
              "      <td>1000</td>\n",
              "      <td>2018-11-15T02:18:49Z</td>\n",
              "      <td>0</td>\n",
              "    </tr>\n",
              "    <tr>\n",
              "      <th>1</th>\n",
              "      <td>-20.0</td>\n",
              "      <td>20</td>\n",
              "      <td>2018-11-15T02:19:08Z</td>\n",
              "      <td>0</td>\n",
              "    </tr>\n",
              "    <tr>\n",
              "      <th>2</th>\n",
              "      <td>500.0</td>\n",
              "      <td>500</td>\n",
              "      <td>2018-11-15T02:44:21Z</td>\n",
              "      <td>0</td>\n",
              "    </tr>\n",
              "    <tr>\n",
              "      <th>3</th>\n",
              "      <td>20000.0</td>\n",
              "      <td>21800</td>\n",
              "      <td>2018-11-15T03:32:55Z</td>\n",
              "      <td>0</td>\n",
              "    </tr>\n",
              "    <tr>\n",
              "      <th>4</th>\n",
              "      <td>-644.0</td>\n",
              "      <td>644</td>\n",
              "      <td>2018-11-15T03:34:21Z</td>\n",
              "      <td>0</td>\n",
              "    </tr>\n",
              "  </tbody>\n",
              "</table>\n",
              "</div>"
            ],
            "text/plain": [
              "    Amount  Value  TransactionStartTime  FraudResult\n",
              "0   1000.0   1000  2018-11-15T02:18:49Z            0\n",
              "1    -20.0     20  2018-11-15T02:19:08Z            0\n",
              "2    500.0    500  2018-11-15T02:44:21Z            0\n",
              "3  20000.0  21800  2018-11-15T03:32:55Z            0\n",
              "4   -644.0    644  2018-11-15T03:34:21Z            0"
            ]
          },
          "metadata": {
            "tags": []
          },
          "execution_count": 476
        }
      ]
    },
    {
      "cell_type": "code",
      "metadata": {
        "id": "3RcCi4HWoWSR",
        "colab_type": "code",
        "outputId": "be131925-5ef8-4617-c397-f9c897341ab4",
        "colab": {
          "base_uri": "https://localhost:8080/",
          "height": 300
        }
      },
      "source": [
        "sns.distplot(testm.Value.transform(np.log))"
      ],
      "execution_count": 387,
      "outputs": [
        {
          "output_type": "execute_result",
          "data": {
            "text/plain": [
              "<matplotlib.axes._subplots.AxesSubplot at 0x7fc53d089908>"
            ]
          },
          "metadata": {
            "tags": []
          },
          "execution_count": 387
        },
        {
          "output_type": "display_data",
          "data": {
            "image/png": "[encoded data removed]",
            "text/plain": [
              "<Figure size 432x288 with 1 Axes>"
            ]
          },
          "metadata": {
            "tags": []
          }
        }
      ]
    },
    {
      "cell_type": "code",
      "metadata": {
        "id": "rQz9rdEZHyti",
        "colab_type": "code",
        "colab": {}
      },
      "source": [
        "data.Value = data.Value.transform(np.log)\n",
        "test.Value = test.Value.transform(np.log)"
      ],
      "execution_count": 0,
      "outputs": []
    },
    {
      "cell_type": "code",
      "metadata": {
        "id": "N7hwZ-26Sv7d",
        "colab_type": "code",
        "colab": {}
      },
      "source": [
        "row1 = {'ChannelId':'ChannelId_4'\t, 'ProviderId':'ProviderId_4', 'ProductId':'ProductId_17', 'ProductCategory': 'airtime', 'Amount' : 22,\n",
        "           'Value': 22, 'TransactionStartTime':'2018-11-15T02:18:49Z', 'FraudResult' : 0 , 'PricingStrategy': 2}\n",
        "row2 = {'ProviderId':'ProviderId_4', 'ProductId':'ProductId_18', 'ProductCategory': 'airtime', 'ChannelId':'ChannelId_4'\t, 'Amount':97, \n",
        "           'Value': 22, 'TransactionStartTime':'2018-11-15T02:18:49Z', 'PricingStrategy': 2, 'FraudResult' : 0}\n",
        "row3 = {'ProviderId':'ProviderId_4', 'ProductId':'ProductId_25', 'ProductCategory': 'airtime', 'ChannelId':'ChannelId_4'\t, 'Amount':97, \n",
        "           'Value': 22, 'TransactionStartTime':'2018-11-15T02:18:49Z', 'PricingStrategy': 2, 'FraudResult' : 0}\n",
        "row4 = {'ProviderId':'ProviderId_4', 'ProductId':'ProductId_26', 'ProductCategory': 'airtime', 'ChannelId':'ChannelId_4'\t, 'Amount':97, \n",
        "           'Value': 22, 'TransactionStartTime':'2018-11-15T02:18:49Z', 'PricingStrategy': 2, 'FraudResult' : 0}\n",
        "row5 = {'ProviderId':'ProviderId_4', 'ProductId':'ProductId_12', 'ProductCategory': 'airtime', 'ChannelId':'ChannelId_4'\t, 'Amount':97, \n",
        "           'Value': 22, 'TransactionStartTime':'2018-11-15T02:18:49Z', 'PricingStrategy': 2}\n",
        "#append row to the dataframe\n",
        "data = data.append(row1, ignore_index=True)\n",
        "data = data.append(row2, ignore_index=True)\n",
        "data = data.append(row3, ignore_index=True)\n",
        "data = data.append(row4, ignore_index=True)\n",
        "test = test.append(row5, ignore_index=True)"
      ],
      "execution_count": 0,
      "outputs": []
    },
    {
      "cell_type": "code",
      "metadata": {
        "id": "FDBtOgISFN1l",
        "colab_type": "code",
        "outputId": "3af4b42a-4a38-40c1-a577-4e0c87f6f80f",
        "colab": {
          "base_uri": "https://localhost:8080/",
          "height": 34
        }
      },
      "source": [
        "test.shape , data.shape"
      ],
      "execution_count": 218,
      "outputs": [
        {
          "output_type": "execute_result",
          "data": {
            "text/plain": [
              "((45020, 9), (95666, 10))"
            ]
          },
          "metadata": {
            "tags": []
          },
          "execution_count": 218
        }
      ]
    },
    {
      "cell_type": "code",
      "metadata": {
        "id": "jnf_L9XuF_Hb",
        "colab_type": "code",
        "colab": {}
      },
      "source": [
        "time = data.TransactionStartTime\n",
        "timet = test.TransactionStartTime"
      ],
      "execution_count": 0,
      "outputs": []
    },
    {
      "cell_type": "code",
      "metadata": {
        "id": "Tgy2mtTwHlsF",
        "colab_type": "code",
        "colab": {}
      },
      "source": [
        "time = pd.to_datetime(time)\n",
        "timet = pd.to_datetime(timet)"
      ],
      "execution_count": 0,
      "outputs": []
    },
    {
      "cell_type": "code",
      "metadata": {
        "id": "zjjhNkvwHs9o",
        "colab_type": "code",
        "colab": {}
      },
      "source": [
        "data[\"hour\"] = time.dt.hour\n",
        "data[\"minute\"] = time.dt.minute\n",
        "data[\"month\"] = time.dt.month\n",
        "data[\"day\"] = time.dt.day\n",
        "\n",
        "test[\"hour\"] = timet.dt.hour\n",
        "test[\"minute\"] = timet.dt.minute\n",
        "test[\"month\"] = timet.dt.month\n",
        "test[\"day\"] = timet.dt.day"
      ],
      "execution_count": 0,
      "outputs": []
    },
    {
      "cell_type": "code",
      "metadata": {
        "id": "v5eXTlYCHuqD",
        "colab_type": "code",
        "colab": {}
      },
      "source": [
        "data = data.drop(['TransactionStartTime'], axis = 1)\n",
        "test = test.drop(['TransactionStartTime'], axis = 1)\n",
        "#data['PricingStrategy'] = 'Pricing_' + data['PricingStrategy'].astype(str)"
      ],
      "execution_count": 0,
      "outputs": []
    },
    {
      "cell_type": "code",
      "metadata": {
        "id": "Hk95q1V-JPeU",
        "colab_type": "code",
        "outputId": "bc0bc96e-3528-40eb-e439-cc5c07868e38",
        "colab": {
          "base_uri": "https://localhost:8080/",
          "height": 54
        }
      },
      "source": [
        "'''data['ProviderId'] = data['ProviderId'].str.split(\"_\", n = 2, expand = True)[1].astype(int)\n",
        "data['ProductId'] = data['ProductId'].str.split(\"_\", n = 2, expand = True)[1].astype(int)\n",
        "data['ChannelId'] = data['ChannelId'].str.split(\"_\", n = 2, expand = True)[1].astype(int)\n",
        "data['PricingStrategy'] = 'Pricing_' + data['PricingStrategy'].astype(str)\n",
        "\n",
        "test['ProviderId'] = test['ProviderId'].str.split(\"_\", n = 2, expand = True)[1].astype(int)\n",
        "test['ProductId'] = test['ProductId'].str.split(\"_\", n = 2, expand = True)[1].astype(int)\n",
        "test['ChannelId'] = test['ChannelId'].str.split(\"_\", n = 2, expand = True)[1].astype(int)\n",
        "test['PricingStrategy'] = 'Pricing_' + test['PricingStrategy'].astype(str)'''"
      ],
      "execution_count": 0,
      "outputs": [
        {
          "output_type": "execute_result",
          "data": {
            "text/plain": [
              "'data[\\'ProviderId\\'] = data[\\'ProviderId\\'].str.split(\"_\", n = 2, expand = True)[1].astype(int)\\ndata[\\'ProductId\\'] = data[\\'ProductId\\'].str.split(\"_\", n = 2, expand = True)[1].astype(int)\\ndata[\\'ChannelId\\'] = data[\\'ChannelId\\'].str.split(\"_\", n = 2, expand = True)[1].astype(int)\\ndata[\\'PricingStrategy\\'] = \\'Pricing_\\' + data[\\'PricingStrategy\\'].astype(str)\\n\\ntest[\\'ProviderId\\'] = test[\\'ProviderId\\'].str.split(\"_\", n = 2, expand = True)[1].astype(int)\\ntest[\\'ProductId\\'] = test[\\'ProductId\\'].str.split(\"_\", n = 2, expand = True)[1].astype(int)\\ntest[\\'ChannelId\\'] = test[\\'ChannelId\\'].str.split(\"_\", n = 2, expand = True)[1].astype(int)\\ntest[\\'PricingStrategy\\'] = \\'Pricing_\\' + test[\\'PricingStrategy\\'].astype(str)'"
            ]
          },
          "metadata": {
            "tags": []
          },
          "execution_count": 17
        }
      ]
    },
    {
      "cell_type": "code",
      "metadata": {
        "id": "xSAqncqNJlwU",
        "colab_type": "code",
        "colab": {}
      },
      "source": [
        "data = pd.get_dummies(data, drop_first=True)\n",
        "test = pd.get_dummies(test, drop_first=True)"
      ],
      "execution_count": 0,
      "outputs": []
    },
    {
      "cell_type": "code",
      "metadata": {
        "id": "cSRs_T9ZI9pD",
        "colab_type": "code",
        "outputId": "814aafec-b495-476a-b20a-98b5aaecda8e",
        "colab": {
          "base_uri": "https://localhost:8080/",
          "height": 221
        }
      },
      "source": [
        "data.info()"
      ],
      "execution_count": 484,
      "outputs": [
        {
          "output_type": "stream",
          "text": [
            "<class 'pandas.core.frame.DataFrame'>\n",
            "RangeIndex: 95662 entries, 0 to 95661\n",
            "Data columns (total 7 columns):\n",
            "Amount         95662 non-null float64\n",
            "Value          95662 non-null int64\n",
            "FraudResult    95662 non-null int64\n",
            "hour           95662 non-null int64\n",
            "minute         95662 non-null int64\n",
            "month          95662 non-null int64\n",
            "day            95662 non-null int64\n",
            "dtypes: float64(1), int64(6)\n",
            "memory usage: 5.1 MB\n"
          ],
          "name": "stdout"
        }
      ]
    },
    {
      "cell_type": "code",
      "metadata": {
        "id": "ofkTjpL2B1xS",
        "colab_type": "code",
        "colab": {}
      },
      "source": [
        "X = data.drop(['FraudResult'] ,axis = 1)\n",
        "y = data['FraudResult']"
      ],
      "execution_count": 0,
      "outputs": []
    },
    {
      "cell_type": "code",
      "metadata": {
        "id": "aelao6iUVq90",
        "colab_type": "code",
        "outputId": "e9579195-f158-4e56-8e55-6448a5aa71f4",
        "colab": {
          "base_uri": "https://localhost:8080/",
          "height": 204
        }
      },
      "source": [
        "test.head()"
      ],
      "execution_count": 389,
      "outputs": [
        {
          "output_type": "execute_result",
          "data": {
            "text/html": [
              "<div>\n",
              "<style scoped>\n",
              "    .dataframe tbody tr th:only-of-type {\n",
              "        vertical-align: middle;\n",
              "    }\n",
              "\n",
              "    .dataframe tbody tr th {\n",
              "        vertical-align: top;\n",
              "    }\n",
              "\n",
              "    .dataframe thead th {\n",
              "        text-align: right;\n",
              "    }\n",
              "</style>\n",
              "<table border=\"1\" class=\"dataframe\">\n",
              "  <thead>\n",
              "    <tr style=\"text-align: right;\">\n",
              "      <th></th>\n",
              "      <th>Amount</th>\n",
              "      <th>Value</th>\n",
              "    </tr>\n",
              "  </thead>\n",
              "  <tbody>\n",
              "    <tr>\n",
              "      <th>0</th>\n",
              "      <td>1000.0</td>\n",
              "      <td>6.907755</td>\n",
              "    </tr>\n",
              "    <tr>\n",
              "      <th>1</th>\n",
              "      <td>2000.0</td>\n",
              "      <td>7.600902</td>\n",
              "    </tr>\n",
              "    <tr>\n",
              "      <th>2</th>\n",
              "      <td>-50.0</td>\n",
              "      <td>3.912023</td>\n",
              "    </tr>\n",
              "    <tr>\n",
              "      <th>3</th>\n",
              "      <td>3000.0</td>\n",
              "      <td>8.006368</td>\n",
              "    </tr>\n",
              "    <tr>\n",
              "      <th>4</th>\n",
              "      <td>-60.0</td>\n",
              "      <td>4.094345</td>\n",
              "    </tr>\n",
              "  </tbody>\n",
              "</table>\n",
              "</div>"
            ],
            "text/plain": [
              "   Amount     Value\n",
              "0  1000.0  6.907755\n",
              "1  2000.0  7.600902\n",
              "2   -50.0  3.912023\n",
              "3  3000.0  8.006368\n",
              "4   -60.0  4.094345"
            ]
          },
          "metadata": {
            "tags": []
          },
          "execution_count": 389
        }
      ]
    },
    {
      "cell_type": "code",
      "metadata": {
        "id": "Hgj9dzU0OXBr",
        "colab_type": "code",
        "colab": {
          "base_uri": "https://localhost:8080/",
          "height": 34
        },
        "outputId": "72f16da4-e083-4d89-faeb-c989863ae4bc"
      },
      "source": [
        "test.shape , X.shape"
      ],
      "execution_count": 227,
      "outputs": [
        {
          "output_type": "execute_result",
          "data": {
            "text/plain": [
              "((45020, 48), (95666, 48))"
            ]
          },
          "metadata": {
            "tags": []
          },
          "execution_count": 227
        }
      ]
    },
    {
      "cell_type": "code",
      "metadata": {
        "id": "UkGR5VyrOa3l",
        "colab_type": "code",
        "colab": {}
      },
      "source": [
        "Xa = X.drop('Amount' , axis = 1)"
      ],
      "execution_count": 0,
      "outputs": []
    },
    {
      "cell_type": "code",
      "metadata": {
        "id": "_Mf9VoRj_5nk",
        "colab_type": "code",
        "colab": {
          "base_uri": "https://localhost:8080/",
          "height": 119
        },
        "outputId": "07acdc53-5613-4766-ab13-e15f7a64b7be"
      },
      "source": [
        "from sklearn.feature_selection import SelectKBest\n",
        "from sklearn.feature_selection import chi2\n",
        "\n",
        "bestfeatures = SelectKBest(score_func=chi2, k=5)\n",
        "fit = bestfeatures.fit(X, y)\n",
        "dfscores = pd.DataFrame(fit.scores_)\n",
        "dfcolumns = pd.DataFrame(X.columns)\n",
        "#concat two dataframes for better visualization \n",
        "featureScores = pd.concat([dfcolumns,dfscores.astype(int)],axis=1)\n",
        "featureScores.columns = ['Specs','Score']  #naming the dataframe columns\n",
        "print(featureScores.nlargest(5,'Score'))"
      ],
      "execution_count": 495,
      "outputs": [
        {
          "output_type": "stream",
          "text": [
            "    Specs        Score\n",
            "1   Value  47044803271\n",
            "0  Amount           44\n",
            "5     day           36\n",
            "4   month           31\n",
            "2    hour           12\n"
          ],
          "name": "stdout"
        }
      ]
    },
    {
      "cell_type": "code",
      "metadata": {
        "id": "cERW5_rtGZEj",
        "colab_type": "code",
        "colab": {}
      },
      "source": [
        "X_new = X.drop(['ProductId_ProductId_10', 'ProductId_ProductId_3', 'ProductCategory_ticket','ProductCategory_data_bundles', 'ProductCategory_movies' , 'ProductId_ProductId_21' ,'ProviderId_ProviderId_2','ChannelId_ChannelId_4','ProductCategory_other','ProductCategory_tv','ChannelId_ChannelId_5', 'ProductId_ProductId_24', 'ProductId_ProductId_20','ProductId_ProductId_25','ProductId_ProductId_26','ProductId_ProductId_27',\n",
        "               'ProductId_ProductId_2', 'ProductId_ProductId_18','minute','hour' ,'ProductId_ProductId_7', 'ProductId_ProductId_8','ProductId_ProductId_17', 'ProductId_ProductId_23',\n",
        "               'ProductId_ProductId_16','ProductId_ProductId_12','ProductId_ProductId_12','ProductId_ProductId_14','ProductId_ProductId_19', 'ProductId_ProductId_11',\n",
        "               'ProductId_ProductId_4','ProductId_ProductId_22','ProductCategory_utility_bill'] , axis = 1)\n",
        "\n",
        "test = test.drop(['ProductId_ProductId_10', 'ProductId_ProductId_3', 'ProductCategory_ticket','ProductCategory_data_bundles', 'ProductCategory_movies' , 'ProductId_ProductId_21' ,'ProviderId_ProviderId_2','ChannelId_ChannelId_4','ProductCategory_retail','ProductCategory_tv','ChannelId_ChannelId_5', 'ProductId_ProductId_24', 'ProductId_ProductId_20','ProductId_ProductId_25','ProductId_ProductId_26','ProductId_ProductId_27',\n",
        "               'ProductId_ProductId_2', 'ProductId_ProductId_18','minute','hour' ,'ProductId_ProductId_7', 'ProductId_ProductId_8','ProductId_ProductId_17', 'ProductId_ProductId_23',\n",
        "               'ProductId_ProductId_16','ProductId_ProductId_12','ProductId_ProductId_12','ProductId_ProductId_14','ProductId_ProductId_19', 'ProductId_ProductId_11',\n",
        "               'ProductId_ProductId_4','ProductId_ProductId_22','ProductCategory_utility_bill'] , axis = 1)"
      ],
      "execution_count": 0,
      "outputs": []
    },
    {
      "cell_type": "code",
      "metadata": {
        "id": "3_HwqDWoF_BE",
        "colab_type": "code",
        "colab": {
          "base_uri": "https://localhost:8080/",
          "height": 340
        },
        "outputId": "282900f9-24c9-4756-f30f-7a9a2cc995e9"
      },
      "source": [
        "from sklearn.ensemble import ExtraTreesClassifier\n",
        "model = ExtraTreesClassifier()\n",
        "model.fit(X,y)\n",
        "print(model.feature_importances_) #use inbuilt class feature_importances of tree based classifiers\n",
        "#plot graph of feature importances for better visualization\n",
        "feat_importances = pd.Series(model.feature_importances_, index=X.columns)\n",
        "feat_importances.nlargest(5).plot(kind='barh')\n",
        "plt.show()"
      ],
      "execution_count": 496,
      "outputs": [
        {
          "output_type": "stream",
          "text": [
            "/usr/local/lib/python3.6/dist-packages/sklearn/ensemble/forest.py:245: FutureWarning: The default value of n_estimators will change from 10 in version 0.20 to 100 in 0.22.\n",
            "  \"10 in version 0.20 to 100 in 0.22.\", FutureWarning)\n"
          ],
          "name": "stderr"
        },
        {
          "output_type": "stream",
          "text": [
            "[0.00086409 0.78052702 0.05674819 0.073277   0.01379478 0.07478892]\n"
          ],
          "name": "stdout"
        },
        {
          "output_type": "display_data",
          "data": {
            "image/png": "[encoded data removed]",
            "text/plain": [
              "<Figure size 432x288 with 1 Axes>"
            ]
          },
          "metadata": {
            "tags": []
          }
        }
      ]
    },
    {
      "cell_type": "code",
      "metadata": {
        "id": "2zr67TFIU7W8",
        "colab_type": "code",
        "colab": {
          "base_uri": "https://localhost:8080/",
          "height": 323
        },
        "outputId": "76de7d86-a218-44c0-d78c-cc03e6275574"
      },
      "source": [
        "X_new.isnull().sum()"
      ],
      "execution_count": 341,
      "outputs": [
        {
          "output_type": "execute_result",
          "data": {
            "text/plain": [
              "Value                                 0\n",
              "month                                 0\n",
              "day                                   0\n",
              "ProviderId_ProviderId_3               0\n",
              "ProviderId_ProviderId_4               0\n",
              "ProviderId_ProviderId_5               0\n",
              "ProviderId_ProviderId_6               0\n",
              "ProductId_ProductId_13                0\n",
              "ProductId_ProductId_15                0\n",
              "ProductId_ProductId_5                 0\n",
              "ProductId_ProductId_6                 0\n",
              "ProductId_ProductId_9                 0\n",
              "ProductCategory_financial_services    0\n",
              "ProductCategory_transport             0\n",
              "ChannelId_ChannelId_2                 0\n",
              "ChannelId_ChannelId_3                 0\n",
              "Sign                                  0\n",
              "dtype: int64"
            ]
          },
          "metadata": {
            "tags": []
          },
          "execution_count": 341
        }
      ]
    },
    {
      "cell_type": "code",
      "metadata": {
        "id": "FShlbyIqSLVy",
        "colab_type": "code",
        "colab": {}
      },
      "source": [
        "X['Amount'] = pd.Series(np.where(X.Amount.values > 0 , 1 , 0))\n",
        "test['Amount'] = pd.Series(np.where(test.Amount.values > 0 , 1 , 0))"
      ],
      "execution_count": 0,
      "outputs": []
    },
    {
      "cell_type": "code",
      "metadata": {
        "id": "noiLSyADVb_h",
        "colab_type": "code",
        "colab": {}
      },
      "source": [
        "data.head()"
      ],
      "execution_count": 0,
      "outputs": []
    },
    {
      "cell_type": "markdown",
      "metadata": {
        "id": "BjZUKpA1SoKU",
        "colab_type": "text"
      },
      "source": [
        "# Dimentionality Reduction"
      ]
    },
    {
      "cell_type": "code",
      "metadata": {
        "id": "KFAmybtRRJKf",
        "colab_type": "code",
        "colab": {}
      },
      "source": [
        "from sklearn.manifold import TSNE\n",
        "from sklearn.manifold import SpectralEmbedding\n",
        "from sklearn.decomposition import PCA, KernelPCA, FastICA\n",
        "\n",
        "X = data.iloc[:, data.columns != 'FraudResult']\n",
        "y = data.iloc[:, data.columns == 'FraudResult']"
      ],
      "execution_count": 0,
      "outputs": []
    },
    {
      "cell_type": "code",
      "metadata": {
        "id": "8WyDRIbWRKEG",
        "colab_type": "code",
        "outputId": "a2b00706-cddb-4cc6-e852-f901bbb5fa3e",
        "colab": {
          "base_uri": "https://localhost:8080/",
          "height": 625
        }
      },
      "source": [
        "pca_embedding =  PCA(n_components=2) \n",
        "pca_emb_data = pca_embedding.fit_transform(X.values)\n",
        "plt.figure(figsize=(10,10))\n",
        "plt.scatter(pca_emb_data[y.values.ravel() == 1, 0], pca_emb_data[y.values.ravel() == 1, 1], color='red', label='positive samples')\n",
        "plt.scatter(pca_emb_data[y.values.ravel() == 0, 0], pca_emb_data[y.values.ravel() == 0, 1], color='blue', label='negative samples')\n",
        "plt.legend()"
      ],
      "execution_count": 0,
      "outputs": [
        {
          "output_type": "execute_result",
          "data": {
            "text/plain": [
              "<matplotlib.legend.Legend at 0x7fad2b7ed7f0>"
            ]
          },
          "metadata": {
            "tags": []
          },
          "execution_count": 22
        },
        {
          "output_type": "display_data",
          "data": {
            "image/png": "[encoded data removed]",
            "text/plain": [
              "<Figure size 720x720 with 1 Axes>"
            ]
          },
          "metadata": {
            "tags": []
          }
        }
      ]
    },
    {
      "cell_type": "code",
      "metadata": {
        "id": "YkmGUV_BR5YP",
        "colab_type": "code",
        "colab": {}
      },
      "source": [
        "kpca_embedding =  KernelPCA(n_components=2, kernel='rbf')\n",
        "kpca_emb_data = kpca_embedding.fit_transform(X.values)\n",
        "plt.figure(figsize=(10,10))\n",
        "plt.title('Reduced data with kernel PCA (RBF kernel)')\n",
        "plt.scatter(pca_emb_data[y.values.ravel() == 1, 0], pca_emb_data[y.values.ravel() == 1, 1], color='red', label='positive samples')\n",
        "plt.scatter(pca_emb_data[y.values.ravel() == 0, 0], pca_emb_data[y.values.ravel() == 0, 1], color='blue', label='negative samples')\n",
        "plt.legend()"
      ],
      "execution_count": 0,
      "outputs": []
    },
    {
      "cell_type": "code",
      "metadata": {
        "id": "rG7QYd7PSUx7",
        "colab_type": "code",
        "outputId": "e233d12e-9022-498e-b5b0-149e4b2dfb35",
        "colab": {
          "base_uri": "https://localhost:8080/",
          "height": 612
        }
      },
      "source": [
        "ica_embedding =  FastICA(n_components=2) \n",
        "ica_emb_data = ica_embedding.fit_transform(X.values)\n",
        "plt.figure(figsize=(10,10))\n",
        "plt.scatter(ica_emb_data[y.values.ravel() == 1, 0], ica_emb_data[y.values.ravel() == 1, 1], color='red', label='positive samples')\n",
        "plt.scatter(ica_emb_data[y.values.ravel() == 0, 0], ica_emb_data[y.values.ravel() == 0, 1], color='blue', label='negative samples')\n",
        "plt.legend()"
      ],
      "execution_count": 0,
      "outputs": [
        {
          "output_type": "execute_result",
          "data": {
            "text/plain": [
              "<matplotlib.legend.Legend at 0x7fad2b85b550>"
            ]
          },
          "metadata": {
            "tags": []
          },
          "execution_count": 24
        },
        {
          "output_type": "display_data",
          "data": {
            "image/png": "[encoded data removed]",
            "text/plain": [
              "<Figure size 720x720 with 1 Axes>"
            ]
          },
          "metadata": {
            "tags": []
          }
        }
      ]
    },
    {
      "cell_type": "code",
      "metadata": {
        "id": "BA5ZBCtWSymj",
        "colab_type": "code",
        "colab": {}
      },
      "source": [
        "tsne_embedding =  TSNE(n_components=2) \n",
        "tsne_emb_data = tsne_embedding.fit_transform(X.values)\n",
        "plt.figure(figsize=(10,10))\n",
        "plt.title('Reduced data with tSNE')\n",
        "plt.scatter(tsne_emb_data[y.values.ravel() == 1, 0], tsne_emb_data[y.values.ravel() == 1, 1], color='red', label='positive samples')\n",
        "plt.scatter(tsne_emb_data[y.values.ravel() == 0, 0], tsne_emb_data[y.values.ravel() == 0, 1], color='blue', label='negative samples')\n",
        "plt.legend()"
      ],
      "execution_count": 0,
      "outputs": []
    },
    {
      "cell_type": "markdown",
      "metadata": {
        "id": "UjvQ05vaKT4U",
        "colab_type": "text"
      },
      "source": [
        "# Model Building"
      ]
    },
    {
      "cell_type": "code",
      "metadata": {
        "id": "7f_GvyJ6p1gb",
        "colab_type": "code",
        "colab": {
          "base_uri": "https://localhost:8080/",
          "height": 71
        },
        "outputId": "db862bc3-8f87-4e1a-9622-cc3afd89ad85"
      },
      "source": [
        "from imblearn.combine import SMOTETomek\n",
        "\n",
        "rus = SMOTETomek(ratio='auto')"
      ],
      "execution_count": 523,
      "outputs": [
        {
          "output_type": "stream",
          "text": [
            "/usr/local/lib/python3.6/dist-packages/sklearn/externals/six.py:31: DeprecationWarning: The module is deprecated in version 0.21 and will be removed in version 0.23 since we've dropped support for Python 2.7. Please rely on the official version of six (https://pypi.org/project/six/).\n",
            "  \"(https://pypi.org/project/six/).\", DeprecationWarning)\n"
          ],
          "name": "stderr"
        }
      ]
    },
    {
      "cell_type": "code",
      "metadata": {
        "id": "nxjEafuOKPaU",
        "colab_type": "code",
        "colab": {}
      },
      "source": [
        "X = data.iloc[:, data.columns != 'FraudResult']\n",
        "y = data.iloc[:, data.columns == 'FraudResult']"
      ],
      "execution_count": 0,
      "outputs": []
    },
    {
      "cell_type": "code",
      "metadata": {
        "id": "6CF9V45owLQ0",
        "colab_type": "code",
        "outputId": "535f7c31-be9c-41c2-b842-345a3a7be1a9",
        "colab": {
          "base_uri": "https://localhost:8080/",
          "height": 34
        }
      },
      "source": [
        "sum(y['FraudResult'] == 1)"
      ],
      "execution_count": 0,
      "outputs": [
        {
          "output_type": "execute_result",
          "data": {
            "text/plain": [
              "193"
            ]
          },
          "metadata": {
            "tags": []
          },
          "execution_count": 669
        }
      ]
    },
    {
      "cell_type": "code",
      "metadata": {
        "id": "pJM_XmLtsd71",
        "colab_type": "code",
        "colab": {}
      },
      "source": [
        "from sklearn.preprocessing import StandardScaler\n",
        "\n",
        "month =  StandardScaler()\n",
        "day =  StandardScaler()\n",
        "X_new['day'] = day.fit_transform(X_new['day'].values.reshape(-1, 1))\n",
        "X_new['month'] = month.fit_transform(X_new['month'].values.reshape(-1, 1))"
      ],
      "execution_count": 0,
      "outputs": []
    },
    {
      "cell_type": "code",
      "metadata": {
        "id": "QRSSPBzztZg9",
        "colab_type": "code",
        "colab": {}
      },
      "source": [
        "#test['Amount'] = amount.transform(test['Amount'].values.reshape(-1, 1))\n",
        "test['Value'] = hour.transform(test['Value'].values.reshape(-1, 1))\n",
        "#test['hour'] = value.transform(test['hour'].values.reshape(-1, 1))"
      ],
      "execution_count": 0,
      "outputs": []
    },
    {
      "cell_type": "code",
      "metadata": {
        "id": "ACCBYWJAE7l5",
        "colab_type": "code",
        "outputId": "10c03657-923e-4307-c690-8794d1704062",
        "colab": {
          "base_uri": "https://localhost:8080/",
          "height": 204
        }
      },
      "source": [
        "data.head()"
      ],
      "execution_count": 406,
      "outputs": [
        {
          "output_type": "execute_result",
          "data": {
            "text/html": [
              "<div>\n",
              "<style scoped>\n",
              "    .dataframe tbody tr th:only-of-type {\n",
              "        vertical-align: middle;\n",
              "    }\n",
              "\n",
              "    .dataframe tbody tr th {\n",
              "        vertical-align: top;\n",
              "    }\n",
              "\n",
              "    .dataframe thead th {\n",
              "        text-align: right;\n",
              "    }\n",
              "</style>\n",
              "<table border=\"1\" class=\"dataframe\">\n",
              "  <thead>\n",
              "    <tr style=\"text-align: right;\">\n",
              "      <th></th>\n",
              "      <th>Amount</th>\n",
              "      <th>Value</th>\n",
              "      <th>FraudResult</th>\n",
              "    </tr>\n",
              "  </thead>\n",
              "  <tbody>\n",
              "    <tr>\n",
              "      <th>0</th>\n",
              "      <td>1000.0</td>\n",
              "      <td>6.907755</td>\n",
              "      <td>0</td>\n",
              "    </tr>\n",
              "    <tr>\n",
              "      <th>1</th>\n",
              "      <td>-20.0</td>\n",
              "      <td>2.995732</td>\n",
              "      <td>0</td>\n",
              "    </tr>\n",
              "    <tr>\n",
              "      <th>2</th>\n",
              "      <td>500.0</td>\n",
              "      <td>6.214608</td>\n",
              "      <td>0</td>\n",
              "    </tr>\n",
              "    <tr>\n",
              "      <th>3</th>\n",
              "      <td>20000.0</td>\n",
              "      <td>9.989665</td>\n",
              "      <td>0</td>\n",
              "    </tr>\n",
              "    <tr>\n",
              "      <th>4</th>\n",
              "      <td>-644.0</td>\n",
              "      <td>6.467699</td>\n",
              "      <td>0</td>\n",
              "    </tr>\n",
              "  </tbody>\n",
              "</table>\n",
              "</div>"
            ],
            "text/plain": [
              "    Amount     Value  FraudResult\n",
              "0   1000.0  6.907755            0\n",
              "1    -20.0  2.995732            0\n",
              "2    500.0  6.214608            0\n",
              "3  20000.0  9.989665            0\n",
              "4   -644.0  6.467699            0"
            ]
          },
          "metadata": {
            "tags": []
          },
          "execution_count": 406
        }
      ]
    },
    {
      "cell_type": "code",
      "metadata": {
        "id": "cPoV2NboFDnt",
        "colab_type": "code",
        "outputId": "b8bc8422-c2d8-4239-b55d-0afbd89d78b8",
        "colab": {
          "base_uri": "https://localhost:8080/",
          "height": 34
        }
      },
      "source": [
        "'''X = X.drop('hour', axis = 1)\n",
        "test = test.drop('hour', axis = 1)'''"
      ],
      "execution_count": 0,
      "outputs": [
        {
          "output_type": "execute_result",
          "data": {
            "text/plain": [
              "\"X = X.drop('hour', axis = 1)\\ntest = test.drop('hour', axis = 1)\""
            ]
          },
          "metadata": {
            "tags": []
          },
          "execution_count": 673
        }
      ]
    },
    {
      "cell_type": "code",
      "metadata": {
        "id": "4MfPDZ3Ma24A",
        "colab_type": "code",
        "colab": {
          "base_uri": "https://localhost:8080/",
          "height": 307
        },
        "outputId": "1f6637c6-a053-4806-c41e-73d76492ea0c"
      },
      "source": [
        "sns.scatterplot(x ='Amount' , y ='Value' , hue = 'FraudResult' , data = data)"
      ],
      "execution_count": 434,
      "outputs": [
        {
          "output_type": "execute_result",
          "data": {
            "text/plain": [
              "<matplotlib.axes._subplots.AxesSubplot at 0x7fc52a9744a8>"
            ]
          },
          "metadata": {
            "tags": []
          },
          "execution_count": 434
        },
        {
          "output_type": "display_data",
          "data": {
            "image/png": "[encoded data removed]",
            "text/plain": [
              "<Figure size 432x288 with 1 Axes>"
            ]
          },
          "metadata": {
            "tags": []
          }
        }
      ]
    },
    {
      "cell_type": "code",
      "metadata": {
        "id": "IldOdDC3KXFt",
        "colab_type": "code",
        "colab": {}
      },
      "source": [
        "# train test split\n",
        "from sklearn.model_selection import train_test_split\n",
        "x_train, x_test, y_train, y_test = train_test_split(X, y, test_size = 0.3, random_state = 12)"
      ],
      "execution_count": 0,
      "outputs": []
    },
    {
      "cell_type": "code",
      "metadata": {
        "id": "-lTOTkVyqf3c",
        "colab_type": "code",
        "outputId": "3552bb38-f410-4206-f546-7166518b9e18",
        "colab": {
          "base_uri": "https://localhost:8080/",
          "height": 34
        }
      },
      "source": [
        "x_train.shape"
      ],
      "execution_count": 398,
      "outputs": [
        {
          "output_type": "execute_result",
          "data": {
            "text/plain": [
              "(66963, 2)"
            ]
          },
          "metadata": {
            "tags": []
          },
          "execution_count": 398
        }
      ]
    },
    {
      "cell_type": "code",
      "metadata": {
        "id": "l32dnAS5Kfu6",
        "colab_type": "code",
        "colab": {}
      },
      "source": [
        "# Standerdise the dataset\n",
        "from sklearn.preprocessing import StandardScaler\n",
        "scaler= StandardScaler()\n",
        "x_train = scaler.fit_transform(x_train)\n",
        "x_test = scaler.transform(x_test)\n",
        "test = scaler.transform(test)"
      ],
      "execution_count": 0,
      "outputs": []
    },
    {
      "cell_type": "code",
      "metadata": {
        "id": "HjmojF5uKuas",
        "colab_type": "code",
        "colab": {}
      },
      "source": [
        "# making evaluation\n",
        "from sklearn.metrics import accuracy_score, f1_score, confusion_matrix\n",
        "def evaluate(clf):\n",
        "    y_pred = clf.predict(x_test)\n",
        "    accuracy = accuracy_score(y_test, y_pred)\n",
        "    f1 = f1_score(y_test, y_pred)\n",
        "    cm = confusion_matrix(y_test, y_pred)\n",
        "    print(\"The Scores for {} are: Accuracy of {}, F1 of {} and CM\".format(type(clf).__name__, accuracy, f1))\n",
        "    sns.heatmap(cm, annot = True , fmt='g')"
      ],
      "execution_count": 0,
      "outputs": []
    },
    {
      "cell_type": "code",
      "metadata": {
        "id": "3pn7qTu8Krlm",
        "colab_type": "code",
        "outputId": "1db0beff-7b1d-414d-9c63-9d7ee73a6fb5",
        "colab": {
          "base_uri": "https://localhost:8080/",
          "height": 102
        }
      },
      "source": [
        "# building first model\n",
        "from sklearn.linear_model import LogisticRegression\n",
        "clf_lr = LogisticRegression(solver = 'lbfgs' , max_iter = 1000)\n",
        "clf_lr.fit(x_train, y_train)"
      ],
      "execution_count": 498,
      "outputs": [
        {
          "output_type": "execute_result",
          "data": {
            "text/plain": [
              "LogisticRegression(C=1.0, class_weight=None, dual=False, fit_intercept=True,\n",
              "                   intercept_scaling=1, l1_ratio=None, max_iter=1000,\n",
              "                   multi_class='warn', n_jobs=None, penalty='l2',\n",
              "                   random_state=None, solver='lbfgs', tol=0.0001, verbose=0,\n",
              "                   warm_start=False)"
            ]
          },
          "metadata": {
            "tags": []
          },
          "execution_count": 498
        }
      ]
    },
    {
      "cell_type": "code",
      "metadata": {
        "id": "4E6umnLpKw7d",
        "colab_type": "code",
        "outputId": "5eae1a9d-cb34-45c0-9768-6e155048adc9",
        "colab": {
          "base_uri": "https://localhost:8080/",
          "height": 286
        }
      },
      "source": [
        "evaluate(clf_lr)"
      ],
      "execution_count": 499,
      "outputs": [
        {
          "output_type": "stream",
          "text": [
            "The Scores for LogisticRegression are: Accuracy of 0.9981880901773581, F1 of 0.48 and CM\n"
          ],
          "name": "stdout"
        },
        {
          "output_type": "display_data",
          "data": {
            "image/png": "[encoded data removed]",
            "text/plain": [
              "<Figure size 432x288 with 2 Axes>"
            ]
          },
          "metadata": {
            "tags": []
          }
        }
      ]
    },
    {
      "cell_type": "code",
      "metadata": {
        "id": "fMM9xJVl6XFw",
        "colab_type": "code",
        "outputId": "36b4e429-cd81-4c48-a669-94951541a685",
        "colab": {
          "base_uri": "https://localhost:8080/",
          "height": 85
        }
      },
      "source": [
        "from sklearn.svm import SVC\n",
        "clf_svm2 = SVC(gamma='auto', kernel = 'rbf')\n",
        "clf_svm2.fit(x_train, y_train)"
      ],
      "execution_count": 500,
      "outputs": [
        {
          "output_type": "execute_result",
          "data": {
            "text/plain": [
              "SVC(C=1.0, cache_size=200, class_weight=None, coef0=0.0,\n",
              "    decision_function_shape='ovr', degree=3, gamma='auto', kernel='rbf',\n",
              "    max_iter=-1, probability=False, random_state=None, shrinking=True,\n",
              "    tol=0.001, verbose=False)"
            ]
          },
          "metadata": {
            "tags": []
          },
          "execution_count": 500
        }
      ]
    },
    {
      "cell_type": "code",
      "metadata": {
        "id": "Va6VUCcjK39X",
        "colab_type": "code",
        "outputId": "b54141b0-cb39-48aa-af4e-4aebf1f1c160",
        "colab": {
          "base_uri": "https://localhost:8080/",
          "height": 286
        }
      },
      "source": [
        "evaluate(clf_svm2)"
      ],
      "execution_count": 501,
      "outputs": [
        {
          "output_type": "stream",
          "text": [
            "The Scores for SVC are: Accuracy of 0.9980487124986933, F1 of 0.0967741935483871 and CM\n"
          ],
          "name": "stdout"
        },
        {
          "output_type": "display_data",
          "data": {
            "image/png": "[encoded data removed]",
            "text/plain": [
              "<Figure size 432x288 with 2 Axes>"
            ]
          },
          "metadata": {
            "tags": []
          }
        }
      ]
    },
    {
      "cell_type": "code",
      "metadata": {
        "id": "3eUtvnpjK57s",
        "colab_type": "code",
        "outputId": "8a010637-3e6c-473c-fa05-3646cf5a601d",
        "colab": {
          "base_uri": "https://localhost:8080/",
          "height": 68
        }
      },
      "source": [
        "from sklearn.neighbors import KNeighborsClassifier\n",
        "clf_knn = KNeighborsClassifier(8, n_jobs = -1)\n",
        "clf_knn.fit(x_train, y_train)"
      ],
      "execution_count": 502,
      "outputs": [
        {
          "output_type": "execute_result",
          "data": {
            "text/plain": [
              "KNeighborsClassifier(algorithm='auto', leaf_size=30, metric='minkowski',\n",
              "                     metric_params=None, n_jobs=-1, n_neighbors=8, p=2,\n",
              "                     weights='uniform')"
            ]
          },
          "metadata": {
            "tags": []
          },
          "execution_count": 502
        }
      ]
    },
    {
      "cell_type": "code",
      "metadata": {
        "id": "3US4PZA8K84p",
        "colab_type": "code",
        "outputId": "25dc190c-48d9-4e32-fd5c-81fd3c108f3a",
        "colab": {
          "base_uri": "https://localhost:8080/",
          "height": 286
        }
      },
      "source": [
        "evaluate(clf_knn)"
      ],
      "execution_count": 503,
      "outputs": [
        {
          "output_type": "stream",
          "text": [
            "The Scores for KNeighborsClassifier are: Accuracy of 0.9995121781246733, F1 of 0.8727272727272728 and CM\n"
          ],
          "name": "stdout"
        },
        {
          "output_type": "display_data",
          "data": {
            "image/png": "[encoded data removed]",
            "text/plain": [
              "<Figure size 432x288 with 2 Axes>"
            ]
          },
          "metadata": {
            "tags": []
          }
        }
      ]
    },
    {
      "cell_type": "code",
      "metadata": {
        "id": "Z5SYOFMiK-0m",
        "colab_type": "code",
        "outputId": "777c604f-106f-485c-979f-d14dfbc1cc5b",
        "colab": {
          "base_uri": "https://localhost:8080/",
          "height": 119
        }
      },
      "source": [
        "from sklearn.tree import DecisionTreeClassifier\n",
        "clf_dt = DecisionTreeClassifier()\n",
        "clf_dt.fit(x_train, y_train)"
      ],
      "execution_count": 504,
      "outputs": [
        {
          "output_type": "execute_result",
          "data": {
            "text/plain": [
              "DecisionTreeClassifier(class_weight=None, criterion='gini', max_depth=None,\n",
              "                       max_features=None, max_leaf_nodes=None,\n",
              "                       min_impurity_decrease=0.0, min_impurity_split=None,\n",
              "                       min_samples_leaf=1, min_samples_split=2,\n",
              "                       min_weight_fraction_leaf=0.0, presort=False,\n",
              "                       random_state=None, splitter='best')"
            ]
          },
          "metadata": {
            "tags": []
          },
          "execution_count": 504
        }
      ]
    },
    {
      "cell_type": "code",
      "metadata": {
        "id": "jzzWg8GqLCLv",
        "colab_type": "code",
        "outputId": "a59c6285-d5d6-44d2-80b7-8396c84b6ebb",
        "colab": {
          "base_uri": "https://localhost:8080/",
          "height": 286
        }
      },
      "source": [
        "evaluate(clf_dt)"
      ],
      "execution_count": 505,
      "outputs": [
        {
          "output_type": "stream",
          "text": [
            "The Scores for DecisionTreeClassifier are: Accuracy of 0.9996515558033381, F1 of 0.9166666666666666 and CM\n"
          ],
          "name": "stdout"
        },
        {
          "output_type": "display_data",
          "data": {
            "image/png": "[encoded data removed]",
            "text/plain": [
              "<Figure size 432x288 with 2 Axes>"
            ]
          },
          "metadata": {
            "tags": []
          }
        }
      ]
    },
    {
      "cell_type": "code",
      "metadata": {
        "id": "DSKsPOLpJYpm",
        "colab_type": "code",
        "colab": {}
      },
      "source": [
        "cw = {0 : 0.4 , 1 : 0.7}\n"
      ],
      "execution_count": 0,
      "outputs": []
    },
    {
      "cell_type": "code",
      "metadata": {
        "id": "40GAXBLQLECz",
        "colab_type": "code",
        "outputId": "9880dd04-b6cd-440c-95f1-e7e9addb3f51",
        "colab": {
          "base_uri": "https://localhost:8080/",
          "height": 136
        }
      },
      "source": [
        "from sklearn.ensemble import RandomForestClassifier\n",
        "clf_rf = RandomForestClassifier(n_estimators = 100)\n",
        "clf_rf.fit(x_train, y_train)"
      ],
      "execution_count": 506,
      "outputs": [
        {
          "output_type": "execute_result",
          "data": {
            "text/plain": [
              "RandomForestClassifier(bootstrap=True, class_weight=None, criterion='gini',\n",
              "                       max_depth=None, max_features='auto', max_leaf_nodes=None,\n",
              "                       min_impurity_decrease=0.0, min_impurity_split=None,\n",
              "                       min_samples_leaf=1, min_samples_split=2,\n",
              "                       min_weight_fraction_leaf=0.0, n_estimators=100,\n",
              "                       n_jobs=None, oob_score=False, random_state=None,\n",
              "                       verbose=0, warm_start=False)"
            ]
          },
          "metadata": {
            "tags": []
          },
          "execution_count": 506
        }
      ]
    },
    {
      "cell_type": "code",
      "metadata": {
        "id": "5IcIj40gLF3T",
        "colab_type": "code",
        "outputId": "72a25094-a647-4313-d8fa-ca566db232b6",
        "colab": {
          "base_uri": "https://localhost:8080/",
          "height": 286
        }
      },
      "source": [
        "evaluate(clf_rf)"
      ],
      "execution_count": 507,
      "outputs": [
        {
          "output_type": "stream",
          "text": [
            "The Scores for RandomForestClassifier are: Accuracy of 0.9997909334820029, F1 of 0.9482758620689654 and CM\n"
          ],
          "name": "stdout"
        },
        {
          "output_type": "display_data",
          "data": {
            "image/png": "[encoded data removed]",
            "text/plain": [
              "<Figure size 432x288 with 2 Axes>"
            ]
          },
          "metadata": {
            "tags": []
          }
        }
      ]
    },
    {
      "cell_type": "code",
      "metadata": {
        "id": "AkGAxfHvKGbF",
        "colab_type": "code",
        "colab": {
          "base_uri": "https://localhost:8080/",
          "height": 136
        },
        "outputId": "73e5b6af-8330-411e-833d-395b5d544ed9"
      },
      "source": [
        "from xgboost import XGBClassifier\n",
        "clf_xgb = XGBClassifier()\n",
        "clf_xgb.fit(x_train, y_train)"
      ],
      "execution_count": 508,
      "outputs": [
        {
          "output_type": "execute_result",
          "data": {
            "text/plain": [
              "XGBClassifier(base_score=0.5, booster='gbtree', colsample_bylevel=1,\n",
              "              colsample_bynode=1, colsample_bytree=1, gamma=0,\n",
              "              learning_rate=0.1, max_delta_step=0, max_depth=3,\n",
              "              min_child_weight=1, missing=None, n_estimators=100, n_jobs=1,\n",
              "              nthread=None, objective='binary:logistic', random_state=0,\n",
              "              reg_alpha=0, reg_lambda=1, scale_pos_weight=1, seed=None,\n",
              "              silent=None, subsample=1, verbosity=1)"
            ]
          },
          "metadata": {
            "tags": []
          },
          "execution_count": 508
        }
      ]
    },
    {
      "cell_type": "code",
      "metadata": {
        "id": "-D6Cc9kYKK0r",
        "colab_type": "code",
        "colab": {
          "base_uri": "https://localhost:8080/",
          "height": 286
        },
        "outputId": "6b89c880-b57d-4ddf-9ccb-ceec6cafecce"
      },
      "source": [
        "evaluate(clf_xgb)"
      ],
      "execution_count": 509,
      "outputs": [
        {
          "output_type": "stream",
          "text": [
            "The Scores for XGBClassifier are: Accuracy of 0.9996864002230043, F1 of 0.9203539823008849 and CM\n"
          ],
          "name": "stdout"
        },
        {
          "output_type": "display_data",
          "data": {
            "image/png": "[encoded data removed]",
            "text/plain": [
              "<Figure size 432x288 with 2 Axes>"
            ]
          },
          "metadata": {
            "tags": []
          }
        }
      ]
    },
    {
      "cell_type": "code",
      "metadata": {
        "id": "4LxuMhAzLHOL",
        "colab_type": "code",
        "colab": {
          "base_uri": "https://localhost:8080/",
          "height": 34
        },
        "outputId": "a2eb58b9-0417-41de-f3b5-0cc3a645ff33"
      },
      "source": [
        "from keras.models import Sequential\n",
        "from keras.layers import Dense\n",
        "from keras.layers import Dropout"
      ],
      "execution_count": 510,
      "outputs": [
        {
          "output_type": "stream",
          "text": [
            "Using TensorFlow backend.\n"
          ],
          "name": "stderr"
        }
      ]
    },
    {
      "cell_type": "code",
      "metadata": {
        "id": "i79Qgi9jLRfz",
        "colab_type": "code",
        "outputId": "2fcea38b-4628-4539-cbbd-d966d2b2cf45",
        "colab": {
          "base_uri": "https://localhost:8080/",
          "height": 768
        }
      },
      "source": [
        "model = Sequential([\n",
        "    Dense(units=128, input_dim = x_train.shape[1],activation='relu'),\n",
        "    Dense(units=128,activation='relu'),\n",
        "    Dropout(0.2),\n",
        "    Dense(256,activation='relu'),\n",
        "    Dropout(0.2),\n",
        "    Dense(256,activation='relu'),\n",
        "    Dropout(0.2),\n",
        "    Dense(128,activation='relu'),\n",
        "    Dropout(0.2),\n",
        "    Dense(128,activation='relu'),\n",
        "    Dropout(0.2),\n",
        "    Dense(1,activation='sigmoid'),\n",
        "])\n",
        "model.summary()"
      ],
      "execution_count": 511,
      "outputs": [
        {
          "output_type": "stream",
          "text": [
            "WARNING: Logging before flag parsing goes to stderr.\n",
            "W0813 15:05:48.129824 140486145185664 deprecation_wrapper.py:119] From /usr/local/lib/python3.6/dist-packages/keras/backend/tensorflow_backend.py:74: The name tf.get_default_graph is deprecated. Please use tf.compat.v1.get_default_graph instead.\n",
            "\n",
            "W0813 15:05:48.179593 140486145185664 deprecation_wrapper.py:119] From /usr/local/lib/python3.6/dist-packages/keras/backend/tensorflow_backend.py:517: The name tf.placeholder is deprecated. Please use tf.compat.v1.placeholder instead.\n",
            "\n",
            "W0813 15:05:48.190346 140486145185664 deprecation_wrapper.py:119] From /usr/local/lib/python3.6/dist-packages/keras/backend/tensorflow_backend.py:4138: The name tf.random_uniform is deprecated. Please use tf.random.uniform instead.\n",
            "\n",
            "W0813 15:05:48.222317 140486145185664 deprecation_wrapper.py:119] From /usr/local/lib/python3.6/dist-packages/keras/backend/tensorflow_backend.py:133: The name tf.placeholder_with_default is deprecated. Please use tf.compat.v1.placeholder_with_default instead.\n",
            "\n",
            "W0813 15:05:48.231421 140486145185664 deprecation.py:506] From /usr/local/lib/python3.6/dist-packages/keras/backend/tensorflow_backend.py:3445: calling dropout (from tensorflow.python.ops.nn_ops) with keep_prob is deprecated and will be removed in a future version.\n",
            "Instructions for updating:\n",
            "Please use `rate` instead of `keep_prob`. Rate should be set to `rate = 1 - keep_prob`.\n"
          ],
          "name": "stderr"
        },
        {
          "output_type": "stream",
          "text": [
            "_________________________________________________________________\n",
            "Layer (type)                 Output Shape              Param #   \n",
            "=================================================================\n",
            "dense_1 (Dense)              (None, 128)               896       \n",
            "_________________________________________________________________\n",
            "dense_2 (Dense)              (None, 128)               16512     \n",
            "_________________________________________________________________\n",
            "dropout_1 (Dropout)          (None, 128)               0         \n",
            "_________________________________________________________________\n",
            "dense_3 (Dense)              (None, 256)               33024     \n",
            "_________________________________________________________________\n",
            "dropout_2 (Dropout)          (None, 256)               0         \n",
            "_________________________________________________________________\n",
            "dense_4 (Dense)              (None, 256)               65792     \n",
            "_________________________________________________________________\n",
            "dropout_3 (Dropout)          (None, 256)               0         \n",
            "_________________________________________________________________\n",
            "dense_5 (Dense)              (None, 128)               32896     \n",
            "_________________________________________________________________\n",
            "dropout_4 (Dropout)          (None, 128)               0         \n",
            "_________________________________________________________________\n",
            "dense_6 (Dense)              (None, 128)               16512     \n",
            "_________________________________________________________________\n",
            "dropout_5 (Dropout)          (None, 128)               0         \n",
            "_________________________________________________________________\n",
            "dense_7 (Dense)              (None, 1)                 129       \n",
            "=================================================================\n",
            "Total params: 165,761\n",
            "Trainable params: 165,761\n",
            "Non-trainable params: 0\n",
            "_________________________________________________________________\n"
          ],
          "name": "stdout"
        }
      ]
    },
    {
      "cell_type": "code",
      "metadata": {
        "id": "IEDXAIe72oUS",
        "colab_type": "code",
        "outputId": "7652c5f0-6d7d-43f4-84d3-7ba007f3e065",
        "colab": {
          "base_uri": "https://localhost:8080/",
          "height": 34
        }
      },
      "source": [
        "from sklearn.utils import class_weight\n",
        "class_weights = class_weight.compute_class_weight('balanced' ,np.unique(y_train) ,y_train.values.ravel())\n",
        "class_weights"
      ],
      "execution_count": 512,
      "outputs": [
        {
          "output_type": "execute_result",
          "data": {
            "text/plain": [
              "array([  0.50100256, 249.8619403 ])"
            ]
          },
          "metadata": {
            "tags": []
          },
          "execution_count": 512
        }
      ]
    },
    {
      "cell_type": "code",
      "metadata": {
        "id": "cw4jkA3FLbEP",
        "colab_type": "code",
        "colab": {}
      },
      "source": [
        "model.compile(optimizer='adam',loss='binary_crossentropy',metrics=['accuracy'])\n",
        "model.fit(X,y,batch_size=1024,epochs=100)"
      ],
      "execution_count": 0,
      "outputs": []
    },
    {
      "cell_type": "code",
      "metadata": {
        "id": "MGcllGpULiEH",
        "colab_type": "code",
        "outputId": "85022c4c-ca73-4103-f282-fceeb5731941",
        "colab": {
          "base_uri": "https://localhost:8080/",
          "height": 357
        }
      },
      "source": [
        "y_pred = np.round(model.predict(x_test))\n",
        "accuracy = accuracy_score(y_test, y_pred)\n",
        "f1 = f1_score(y_test, y_pred)\n",
        "cm = confusion_matrix(y_test, y_pred)\n",
        "print(\"The Scores for {} are: Accuracy of {}, F1 of {} and CM\".format(\"DNN\", accuracy, f1))\n",
        "sns.heatmap(cm, annot = True , fmt='g')"
      ],
      "execution_count": 0,
      "outputs": [
        {
          "output_type": "stream",
          "text": [
            "The Scores for DNN are: Accuracy of 0.9978396459806962, F1 of 0.0 and CM\n"
          ],
          "name": "stdout"
        },
        {
          "output_type": "stream",
          "text": [
            "/usr/local/lib/python3.6/dist-packages/sklearn/metrics/classification.py:1437: UndefinedMetricWarning: F-score is ill-defined and being set to 0.0 due to no predicted samples.\n",
            "  'precision', 'predicted', average, warn_for)\n"
          ],
          "name": "stderr"
        },
        {
          "output_type": "execute_result",
          "data": {
            "text/plain": [
              "<matplotlib.axes._subplots.AxesSubplot at 0x7f8af04a5e80>"
            ]
          },
          "metadata": {
            "tags": []
          },
          "execution_count": 60
        },
        {
          "output_type": "display_data",
          "data": {
            "image/png": "[encoded data removed]",
            "text/plain": [
              "<Figure size 432x288 with 2 Axes>"
            ]
          },
          "metadata": {
            "tags": []
          }
        }
      ]
    },
    {
      "cell_type": "markdown",
      "metadata": {
        "id": "N3XYK-gjOekS",
        "colab_type": "text"
      },
      "source": [
        "# Submission"
      ]
    },
    {
      "cell_type": "code",
      "metadata": {
        "id": "UIAcR5IsPpXA",
        "colab_type": "code",
        "colab": {}
      },
      "source": [
        "testData = pd.read_csv(path_to_folder+'test.csv')"
      ],
      "execution_count": 0,
      "outputs": []
    },
    {
      "cell_type": "code",
      "metadata": {
        "id": "rnu0Rc4pOmpC",
        "colab_type": "code",
        "colab": {
          "base_uri": "https://localhost:8080/",
          "height": 204
        },
        "outputId": "96e931d3-d91f-4700-99c3-15c1354b4303"
      },
      "source": [
        "test.head()"
      ],
      "execution_count": 516,
      "outputs": [
        {
          "output_type": "execute_result",
          "data": {
            "text/html": [
              "<div>\n",
              "<style scoped>\n",
              "    .dataframe tbody tr th:only-of-type {\n",
              "        vertical-align: middle;\n",
              "    }\n",
              "\n",
              "    .dataframe tbody tr th {\n",
              "        vertical-align: top;\n",
              "    }\n",
              "\n",
              "    .dataframe thead th {\n",
              "        text-align: right;\n",
              "    }\n",
              "</style>\n",
              "<table border=\"1\" class=\"dataframe\">\n",
              "  <thead>\n",
              "    <tr style=\"text-align: right;\">\n",
              "      <th></th>\n",
              "      <th>Amount</th>\n",
              "      <th>Value</th>\n",
              "      <th>hour</th>\n",
              "      <th>minute</th>\n",
              "      <th>month</th>\n",
              "      <th>day</th>\n",
              "    </tr>\n",
              "  </thead>\n",
              "  <tbody>\n",
              "    <tr>\n",
              "      <th>0</th>\n",
              "      <td>1</td>\n",
              "      <td>1000</td>\n",
              "      <td>10</td>\n",
              "      <td>1</td>\n",
              "      <td>2</td>\n",
              "      <td>13</td>\n",
              "    </tr>\n",
              "    <tr>\n",
              "      <th>1</th>\n",
              "      <td>1</td>\n",
              "      <td>2000</td>\n",
              "      <td>10</td>\n",
              "      <td>2</td>\n",
              "      <td>2</td>\n",
              "      <td>13</td>\n",
              "    </tr>\n",
              "    <tr>\n",
              "      <th>2</th>\n",
              "      <td>0</td>\n",
              "      <td>50</td>\n",
              "      <td>10</td>\n",
              "      <td>2</td>\n",
              "      <td>2</td>\n",
              "      <td>13</td>\n",
              "    </tr>\n",
              "    <tr>\n",
              "      <th>3</th>\n",
              "      <td>1</td>\n",
              "      <td>3000</td>\n",
              "      <td>10</td>\n",
              "      <td>2</td>\n",
              "      <td>2</td>\n",
              "      <td>13</td>\n",
              "    </tr>\n",
              "    <tr>\n",
              "      <th>4</th>\n",
              "      <td>0</td>\n",
              "      <td>60</td>\n",
              "      <td>10</td>\n",
              "      <td>2</td>\n",
              "      <td>2</td>\n",
              "      <td>13</td>\n",
              "    </tr>\n",
              "  </tbody>\n",
              "</table>\n",
              "</div>"
            ],
            "text/plain": [
              "   Amount  Value  hour  minute  month  day\n",
              "0       1   1000    10       1      2   13\n",
              "1       1   2000    10       2      2   13\n",
              "2       0     50    10       2      2   13\n",
              "3       1   3000    10       2      2   13\n",
              "4       0     60    10       2      2   13"
            ]
          },
          "metadata": {
            "tags": []
          },
          "execution_count": 516
        }
      ]
    },
    {
      "cell_type": "code",
      "metadata": {
        "id": "LAHJODKVOf1j",
        "colab_type": "code",
        "colab": {}
      },
      "source": [
        "ids = testData.TransactionId\n",
        "prediction = clf_dt.predict(test)\n",
        "all_data = list(zip(ids, prediction.reshape(1,-1)[0].astype('int32')))"
      ],
      "execution_count": 0,
      "outputs": []
    },
    {
      "cell_type": "code",
      "metadata": {
        "id": "o9WFlueRZBQF",
        "colab_type": "code",
        "colab": {}
      },
      "source": [
        "d = pd.DataFrame(test).fillna(0)"
      ],
      "execution_count": 0,
      "outputs": []
    },
    {
      "cell_type": "code",
      "metadata": {
        "id": "NZU_-27FPwBt",
        "colab_type": "code",
        "outputId": "4d108f82-087e-4d5e-f1ea-a58477c106e7",
        "colab": {
          "base_uri": "https://localhost:8080/",
          "height": 204
        }
      },
      "source": [
        "final_result = pd.DataFrame(all_data, columns=['TransactionId', 'FraudResult'])\n",
        "final_result.to_csv('final_dtt.csv', index =False)\n",
        "final_result.head()"
      ],
      "execution_count": 522,
      "outputs": [
        {
          "output_type": "execute_result",
          "data": {
            "text/html": [
              "<div>\n",
              "<style scoped>\n",
              "    .dataframe tbody tr th:only-of-type {\n",
              "        vertical-align: middle;\n",
              "    }\n",
              "\n",
              "    .dataframe tbody tr th {\n",
              "        vertical-align: top;\n",
              "    }\n",
              "\n",
              "    .dataframe thead th {\n",
              "        text-align: right;\n",
              "    }\n",
              "</style>\n",
              "<table border=\"1\" class=\"dataframe\">\n",
              "  <thead>\n",
              "    <tr style=\"text-align: right;\">\n",
              "      <th></th>\n",
              "      <th>TransactionId</th>\n",
              "      <th>FraudResult</th>\n",
              "    </tr>\n",
              "  </thead>\n",
              "  <tbody>\n",
              "    <tr>\n",
              "      <th>0</th>\n",
              "      <td>TransactionId_50600</td>\n",
              "      <td>0</td>\n",
              "    </tr>\n",
              "    <tr>\n",
              "      <th>1</th>\n",
              "      <td>TransactionId_95109</td>\n",
              "      <td>0</td>\n",
              "    </tr>\n",
              "    <tr>\n",
              "      <th>2</th>\n",
              "      <td>TransactionId_47357</td>\n",
              "      <td>0</td>\n",
              "    </tr>\n",
              "    <tr>\n",
              "      <th>3</th>\n",
              "      <td>TransactionId_28185</td>\n",
              "      <td>0</td>\n",
              "    </tr>\n",
              "    <tr>\n",
              "      <th>4</th>\n",
              "      <td>TransactionId_22140</td>\n",
              "      <td>0</td>\n",
              "    </tr>\n",
              "  </tbody>\n",
              "</table>\n",
              "</div>"
            ],
            "text/plain": [
              "         TransactionId  FraudResult\n",
              "0  TransactionId_50600            0\n",
              "1  TransactionId_95109            0\n",
              "2  TransactionId_47357            0\n",
              "3  TransactionId_28185            0\n",
              "4  TransactionId_22140            0"
            ]
          },
          "metadata": {
            "tags": []
          },
          "execution_count": 522
        }
      ]
    },
    {
      "cell_type": "code",
      "metadata": {
        "id": "RKR28MsgP0CK",
        "colab_type": "code",
        "colab": {}
      },
      "source": [
        ""
      ],
      "execution_count": 0,
      "outputs": []
    }
  ]
}