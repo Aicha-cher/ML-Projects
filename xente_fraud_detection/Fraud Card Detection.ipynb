{
 "cells": [
  {
   "cell_type": "code",
   "execution_count": 1,
   "metadata": {},
   "outputs": [],
   "source": [
    "import pandas as pd\n",
    "import matplotlib.pyplot as plt\n",
    "import seaborn as sns\n",
    "import numpy as np"
   ]
  },
  {
   "cell_type": "code",
   "execution_count": 2,
   "metadata": {},
   "outputs": [],
   "source": [
    "data = pd.read_csv('training.csv')"
   ]
  },
  {
   "cell_type": "code",
   "execution_count": 3,
   "metadata": {},
   "outputs": [
    {
     "data": {
      "text/html": [
       "<div>\n",
       "<style scoped>\n",
       "    .dataframe tbody tr th:only-of-type {\n",
       "        vertical-align: middle;\n",
       "    }\n",
       "\n",
       "    .dataframe tbody tr th {\n",
       "        vertical-align: top;\n",
       "    }\n",
       "\n",
       "    .dataframe thead th {\n",
       "        text-align: right;\n",
       "    }\n",
       "</style>\n",
       "<table border=\"1\" class=\"dataframe\">\n",
       "  <thead>\n",
       "    <tr style=\"text-align: right;\">\n",
       "      <th></th>\n",
       "      <th>TransactionId</th>\n",
       "      <th>BatchId</th>\n",
       "      <th>AccountId</th>\n",
       "      <th>SubscriptionId</th>\n",
       "      <th>CustomerId</th>\n",
       "      <th>CurrencyCode</th>\n",
       "      <th>CountryCode</th>\n",
       "      <th>ProviderId</th>\n",
       "      <th>ProductId</th>\n",
       "      <th>ProductCategory</th>\n",
       "      <th>ChannelId</th>\n",
       "      <th>Amount</th>\n",
       "      <th>Value</th>\n",
       "      <th>TransactionStartTime</th>\n",
       "      <th>PricingStrategy</th>\n",
       "      <th>FraudResult</th>\n",
       "    </tr>\n",
       "  </thead>\n",
       "  <tbody>\n",
       "    <tr>\n",
       "      <th>0</th>\n",
       "      <td>TransactionId_76871</td>\n",
       "      <td>BatchId_36123</td>\n",
       "      <td>AccountId_3957</td>\n",
       "      <td>SubscriptionId_887</td>\n",
       "      <td>CustomerId_4406</td>\n",
       "      <td>UGX</td>\n",
       "      <td>256</td>\n",
       "      <td>ProviderId_6</td>\n",
       "      <td>ProductId_10</td>\n",
       "      <td>airtime</td>\n",
       "      <td>ChannelId_3</td>\n",
       "      <td>1000.0</td>\n",
       "      <td>1000</td>\n",
       "      <td>2018-11-15T02:18:49Z</td>\n",
       "      <td>2</td>\n",
       "      <td>0</td>\n",
       "    </tr>\n",
       "    <tr>\n",
       "      <th>1</th>\n",
       "      <td>TransactionId_73770</td>\n",
       "      <td>BatchId_15642</td>\n",
       "      <td>AccountId_4841</td>\n",
       "      <td>SubscriptionId_3829</td>\n",
       "      <td>CustomerId_4406</td>\n",
       "      <td>UGX</td>\n",
       "      <td>256</td>\n",
       "      <td>ProviderId_4</td>\n",
       "      <td>ProductId_6</td>\n",
       "      <td>financial_services</td>\n",
       "      <td>ChannelId_2</td>\n",
       "      <td>-20.0</td>\n",
       "      <td>20</td>\n",
       "      <td>2018-11-15T02:19:08Z</td>\n",
       "      <td>2</td>\n",
       "      <td>0</td>\n",
       "    </tr>\n",
       "    <tr>\n",
       "      <th>2</th>\n",
       "      <td>TransactionId_26203</td>\n",
       "      <td>BatchId_53941</td>\n",
       "      <td>AccountId_4229</td>\n",
       "      <td>SubscriptionId_222</td>\n",
       "      <td>CustomerId_4683</td>\n",
       "      <td>UGX</td>\n",
       "      <td>256</td>\n",
       "      <td>ProviderId_6</td>\n",
       "      <td>ProductId_1</td>\n",
       "      <td>airtime</td>\n",
       "      <td>ChannelId_3</td>\n",
       "      <td>500.0</td>\n",
       "      <td>500</td>\n",
       "      <td>2018-11-15T02:44:21Z</td>\n",
       "      <td>2</td>\n",
       "      <td>0</td>\n",
       "    </tr>\n",
       "    <tr>\n",
       "      <th>3</th>\n",
       "      <td>TransactionId_380</td>\n",
       "      <td>BatchId_102363</td>\n",
       "      <td>AccountId_648</td>\n",
       "      <td>SubscriptionId_2185</td>\n",
       "      <td>CustomerId_988</td>\n",
       "      <td>UGX</td>\n",
       "      <td>256</td>\n",
       "      <td>ProviderId_1</td>\n",
       "      <td>ProductId_21</td>\n",
       "      <td>utility_bill</td>\n",
       "      <td>ChannelId_3</td>\n",
       "      <td>20000.0</td>\n",
       "      <td>21800</td>\n",
       "      <td>2018-11-15T03:32:55Z</td>\n",
       "      <td>2</td>\n",
       "      <td>0</td>\n",
       "    </tr>\n",
       "    <tr>\n",
       "      <th>4</th>\n",
       "      <td>TransactionId_28195</td>\n",
       "      <td>BatchId_38780</td>\n",
       "      <td>AccountId_4841</td>\n",
       "      <td>SubscriptionId_3829</td>\n",
       "      <td>CustomerId_988</td>\n",
       "      <td>UGX</td>\n",
       "      <td>256</td>\n",
       "      <td>ProviderId_4</td>\n",
       "      <td>ProductId_6</td>\n",
       "      <td>financial_services</td>\n",
       "      <td>ChannelId_2</td>\n",
       "      <td>-644.0</td>\n",
       "      <td>644</td>\n",
       "      <td>2018-11-15T03:34:21Z</td>\n",
       "      <td>2</td>\n",
       "      <td>0</td>\n",
       "    </tr>\n",
       "  </tbody>\n",
       "</table>\n",
       "</div>"
      ],
      "text/plain": [
       "         TransactionId         BatchId       AccountId       SubscriptionId  \\\n",
       "0  TransactionId_76871   BatchId_36123  AccountId_3957   SubscriptionId_887   \n",
       "1  TransactionId_73770   BatchId_15642  AccountId_4841  SubscriptionId_3829   \n",
       "2  TransactionId_26203   BatchId_53941  AccountId_4229   SubscriptionId_222   \n",
       "3    TransactionId_380  BatchId_102363   AccountId_648  SubscriptionId_2185   \n",
       "4  TransactionId_28195   BatchId_38780  AccountId_4841  SubscriptionId_3829   \n",
       "\n",
       "        CustomerId CurrencyCode  CountryCode    ProviderId     ProductId  \\\n",
       "0  CustomerId_4406          UGX          256  ProviderId_6  ProductId_10   \n",
       "1  CustomerId_4406          UGX          256  ProviderId_4   ProductId_6   \n",
       "2  CustomerId_4683          UGX          256  ProviderId_6   ProductId_1   \n",
       "3   CustomerId_988          UGX          256  ProviderId_1  ProductId_21   \n",
       "4   CustomerId_988          UGX          256  ProviderId_4   ProductId_6   \n",
       "\n",
       "      ProductCategory    ChannelId   Amount  Value  TransactionStartTime  \\\n",
       "0             airtime  ChannelId_3   1000.0   1000  2018-11-15T02:18:49Z   \n",
       "1  financial_services  ChannelId_2    -20.0     20  2018-11-15T02:19:08Z   \n",
       "2             airtime  ChannelId_3    500.0    500  2018-11-15T02:44:21Z   \n",
       "3        utility_bill  ChannelId_3  20000.0  21800  2018-11-15T03:32:55Z   \n",
       "4  financial_services  ChannelId_2   -644.0    644  2018-11-15T03:34:21Z   \n",
       "\n",
       "   PricingStrategy  FraudResult  \n",
       "0                2            0  \n",
       "1                2            0  \n",
       "2                2            0  \n",
       "3                2            0  \n",
       "4                2            0  "
      ]
     },
     "execution_count": 3,
     "metadata": {},
     "output_type": "execute_result"
    }
   ],
   "source": [
    "data.head()"
   ]
  },
  {
   "cell_type": "code",
   "execution_count": 4,
   "metadata": {},
   "outputs": [
    {
     "data": {
      "text/plain": [
       "(95662, 16)"
      ]
     },
     "execution_count": 4,
     "metadata": {},
     "output_type": "execute_result"
    }
   ],
   "source": [
    "data.shape"
   ]
  },
  {
   "cell_type": "code",
   "execution_count": 5,
   "metadata": {},
   "outputs": [
    {
     "name": "stdout",
     "output_type": "stream",
     "text": [
      "<class 'pandas.core.frame.DataFrame'>\n",
      "RangeIndex: 95662 entries, 0 to 95661\n",
      "Data columns (total 16 columns):\n",
      "TransactionId           95662 non-null object\n",
      "BatchId                 95662 non-null object\n",
      "AccountId               95662 non-null object\n",
      "SubscriptionId          95662 non-null object\n",
      "CustomerId              95662 non-null object\n",
      "CurrencyCode            95662 non-null object\n",
      "CountryCode             95662 non-null int64\n",
      "ProviderId              95662 non-null object\n",
      "ProductId               95662 non-null object\n",
      "ProductCategory         95662 non-null object\n",
      "ChannelId               95662 non-null object\n",
      "Amount                  95662 non-null float64\n",
      "Value                   95662 non-null int64\n",
      "TransactionStartTime    95662 non-null object\n",
      "PricingStrategy         95662 non-null int64\n",
      "FraudResult             95662 non-null int64\n",
      "dtypes: float64(1), int64(4), object(11)\n",
      "memory usage: 11.7+ MB\n"
     ]
    }
   ],
   "source": [
    "data.info()"
   ]
  },
  {
   "cell_type": "code",
   "execution_count": 6,
   "metadata": {},
   "outputs": [
    {
     "data": {
      "text/plain": [
       "TransactionId           0\n",
       "BatchId                 0\n",
       "AccountId               0\n",
       "SubscriptionId          0\n",
       "CustomerId              0\n",
       "CurrencyCode            0\n",
       "CountryCode             0\n",
       "ProviderId              0\n",
       "ProductId               0\n",
       "ProductCategory         0\n",
       "ChannelId               0\n",
       "Amount                  0\n",
       "Value                   0\n",
       "TransactionStartTime    0\n",
       "PricingStrategy         0\n",
       "FraudResult             0\n",
       "dtype: int64"
      ]
     },
     "execution_count": 6,
     "metadata": {},
     "output_type": "execute_result"
    }
   ],
   "source": [
    "data.isnull().sum()"
   ]
  },
  {
   "cell_type": "code",
   "execution_count": 36,
   "metadata": {},
   "outputs": [
    {
     "data": {
      "image/png": "[encoded data removed]",
      "text/plain": [
       "<Figure size 432x288 with 1 Axes>"
      ]
     },
     "metadata": {
      "needs_background": "light"
     },
     "output_type": "display_data"
    }
   ],
   "source": [
    "sns.countplot(x='ChannelId', data=data);"
   ]
  },
  {
   "cell_type": "code",
   "execution_count": 37,
   "metadata": {},
   "outputs": [
    {
     "data": {
      "text/plain": [
       "array(['ChannelId_3', 'ChannelId_2', 'ChannelId_1', 'ChannelId_5'],\n",
       "      dtype=object)"
      ]
     },
     "execution_count": 37,
     "metadata": {},
     "output_type": "execute_result"
    }
   ],
   "source": [
    "# the diffrent value of pay schedule\n",
    "data['ChannelId'].unique()"
   ]
  },
  {
   "cell_type": "code",
   "execution_count": 10,
   "metadata": {},
   "outputs": [],
   "source": [
    "testData = pd.read_csv('test.csv')"
   ]
  },
  {
   "cell_type": "code",
   "execution_count": 12,
   "metadata": {},
   "outputs": [],
   "source": [
    "testData['FraudResult'] = 0"
   ]
  },
  {
   "cell_type": "code",
   "execution_count": 14,
   "metadata": {},
   "outputs": [
    {
     "data": {
      "text/plain": [
       "Index(['TransactionId', 'BatchId', 'AccountId', 'SubscriptionId', 'CustomerId',\n",
       "       'CurrencyCode', 'CountryCode', 'ProviderId', 'ProductId',\n",
       "       'ProductCategory', 'ChannelId', 'Amount', 'Value',\n",
       "       'TransactionStartTime', 'PricingStrategy', 'FraudResult'],\n",
       "      dtype='object')"
      ]
     },
     "execution_count": 14,
     "metadata": {},
     "output_type": "execute_result"
    }
   ],
   "source": [
    "testData.columns"
   ]
  },
  {
   "cell_type": "code",
   "execution_count": 17,
   "metadata": {},
   "outputs": [],
   "source": [
    "result = testData.drop(['BatchId', 'AccountId', 'SubscriptionId', 'CustomerId',\n",
    "       'CurrencyCode', 'CountryCode', 'ProviderId', 'ProductId',\n",
    "       'ProductCategory', 'ChannelId', 'Amount', 'Value',\n",
    "       'TransactionStartTime', 'PricingStrategy'] , axis = 1)"
   ]
  },
  {
   "cell_type": "code",
   "execution_count": 18,
   "metadata": {},
   "outputs": [
    {
     "data": {
      "text/html": [
       "<div>\n",
       "<style scoped>\n",
       "    .dataframe tbody tr th:only-of-type {\n",
       "        vertical-align: middle;\n",
       "    }\n",
       "\n",
       "    .dataframe tbody tr th {\n",
       "        vertical-align: top;\n",
       "    }\n",
       "\n",
       "    .dataframe thead th {\n",
       "        text-align: right;\n",
       "    }\n",
       "</style>\n",
       "<table border=\"1\" class=\"dataframe\">\n",
       "  <thead>\n",
       "    <tr style=\"text-align: right;\">\n",
       "      <th></th>\n",
       "      <th>TransactionId</th>\n",
       "      <th>FraudResult</th>\n",
       "    </tr>\n",
       "  </thead>\n",
       "  <tbody>\n",
       "    <tr>\n",
       "      <th>0</th>\n",
       "      <td>TransactionId_50600</td>\n",
       "      <td>0</td>\n",
       "    </tr>\n",
       "    <tr>\n",
       "      <th>1</th>\n",
       "      <td>TransactionId_95109</td>\n",
       "      <td>0</td>\n",
       "    </tr>\n",
       "    <tr>\n",
       "      <th>2</th>\n",
       "      <td>TransactionId_47357</td>\n",
       "      <td>0</td>\n",
       "    </tr>\n",
       "    <tr>\n",
       "      <th>3</th>\n",
       "      <td>TransactionId_28185</td>\n",
       "      <td>0</td>\n",
       "    </tr>\n",
       "    <tr>\n",
       "      <th>4</th>\n",
       "      <td>TransactionId_22140</td>\n",
       "      <td>0</td>\n",
       "    </tr>\n",
       "  </tbody>\n",
       "</table>\n",
       "</div>"
      ],
      "text/plain": [
       "         TransactionId  FraudResult\n",
       "0  TransactionId_50600            0\n",
       "1  TransactionId_95109            0\n",
       "2  TransactionId_47357            0\n",
       "3  TransactionId_28185            0\n",
       "4  TransactionId_22140            0"
      ]
     },
     "execution_count": 18,
     "metadata": {},
     "output_type": "execute_result"
    }
   ],
   "source": [
    "result.head()"
   ]
  },
  {
   "cell_type": "code",
   "execution_count": 19,
   "metadata": {},
   "outputs": [],
   "source": [
    "result.to_csv('first_submition.csv', index = False)"
   ]
  },
  {
   "cell_type": "markdown",
   "metadata": {},
   "source": [
    "### Visualizing Test data"
   ]
  },
  {
   "cell_type": "code",
   "execution_count": 53,
   "metadata": {},
   "outputs": [],
   "source": [
    "def print_unique(column):\n",
    "    print(\"----------{}----------\".format(column))\n",
    "    print(testData[column].unique())\n",
    "    print(data[column].unique())\n",
    "    print(\"data => {} , test => {}\".format(len(data[column].unique()), len(testData[column].unique())))"
   ]
  },
  {
   "cell_type": "code",
   "execution_count": 54,
   "metadata": {},
   "outputs": [
    {
     "name": "stdout",
     "output_type": "stream",
     "text": [
      "----------ProductId----------\n",
      "['ProductId_3' 'ProductId_15' 'ProductId_6' 'ProductId_10' 'ProductId_14'\n",
      " 'ProductId_1' 'ProductId_7' 'ProductId_4' 'ProductId_21' 'ProductId_8'\n",
      " 'ProductId_11' 'ProductId_19' 'ProductId_13' 'ProductId_24'\n",
      " 'ProductId_22' 'ProductId_20' 'ProductId_27' 'ProductId_2' 'ProductId_9'\n",
      " 'ProductId_26' 'ProductId_5' 'ProductId_25' 'ProductId_18' 'ProductId_17'\n",
      " 'ProductId_16' 'ProductId_23']\n",
      "['ProductId_10' 'ProductId_6' 'ProductId_1' 'ProductId_21' 'ProductId_3'\n",
      " 'ProductId_15' 'ProductId_11' 'ProductId_19' 'ProductId_4' 'ProductId_5'\n",
      " 'ProductId_20' 'ProductId_9' 'ProductId_24' 'ProductId_14' 'ProductId_2'\n",
      " 'ProductId_13' 'ProductId_22' 'ProductId_8' 'ProductId_7' 'ProductId_27'\n",
      " 'ProductId_12' 'ProductId_16' 'ProductId_23']\n",
      "data => 23 , test => 26\n"
     ]
    }
   ],
   "source": [
    "# the diffrent value of pay schedule\n",
    "print_unique('ProductId')"
   ]
  },
  {
   "cell_type": "code",
   "execution_count": 56,
   "metadata": {
    "collapsed": true
   },
   "outputs": [
    {
     "name": "stdout",
     "output_type": "stream",
     "text": [
      "----------TransactionId----------\n",
      "['TransactionId_50600' 'TransactionId_95109' 'TransactionId_47357' ...\n",
      " 'TransactionId_102920' 'TransactionId_128439' 'TransactionId_45927']\n",
      "['TransactionId_76871' 'TransactionId_73770' 'TransactionId_26203' ...\n",
      " 'TransactionId_82501' 'TransactionId_136354' 'TransactionId_35670']\n",
      "data => 95662 , test => 45019\n",
      "----------BatchId----------\n",
      "['BatchId_35028' 'BatchId_45139' 'BatchId_74887' ... 'BatchId_112209'\n",
      " 'BatchId_58734' 'BatchId_98308']\n",
      "['BatchId_36123' 'BatchId_15642' 'BatchId_53941' ... 'BatchId_118602'\n",
      " 'BatchId_70924' 'BatchId_29317']\n",
      "data => 94809 , test => 44684\n",
      "----------AccountId----------\n",
      "['AccountId_2441' 'AccountId_3439' 'AccountId_4841' ... 'AccountId_4297'\n",
      " 'AccountId_804' 'AccountId_3408']\n",
      "['AccountId_3957' 'AccountId_4841' 'AccountId_4229' ... 'AccountId_557'\n",
      " 'AccountId_2476' 'AccountId_1685']\n",
      "data => 3633 , test => 2471\n",
      "----------SubscriptionId----------\n",
      "['SubscriptionId_4426' 'SubscriptionId_2643' 'SubscriptionId_3829' ...\n",
      " 'SubscriptionId_697' 'SubscriptionId_4483' 'SubscriptionId_3631']\n",
      "['SubscriptionId_887' 'SubscriptionId_3829' 'SubscriptionId_222' ...\n",
      " 'SubscriptionId_4806' 'SubscriptionId_3567' 'SubscriptionId_84']\n",
      "data => 3627 , test => 2470\n",
      "----------CustomerId----------\n",
      "['CustomerId_2857' 'CustomerId_3874' 'CustomerId_3105' ...\n",
      " 'CustomerId_1491' 'CustomerId_1148' 'CustomerId_3842']\n",
      "['CustomerId_4406' 'CustomerId_4683' 'CustomerId_988' ... 'CustomerId_893'\n",
      " 'CustomerId_2892' 'CustomerId_2067']\n",
      "data => 3742 , test => 5018\n",
      "----------CurrencyCode----------\n",
      "['UGX']\n",
      "['UGX']\n",
      "data => 1 , test => 1\n",
      "----------CountryCode----------\n",
      "[256]\n",
      "[256]\n",
      "data => 1 , test => 1\n",
      "----------ProviderId----------\n",
      "['ProviderId_5' 'ProviderId_4' 'ProviderId_6' 'ProviderId_3'\n",
      " 'ProviderId_1' 'ProviderId_2']\n",
      "['ProviderId_6' 'ProviderId_4' 'ProviderId_1' 'ProviderId_5'\n",
      " 'ProviderId_3' 'ProviderId_2']\n",
      "data => 6 , test => 6\n",
      "----------ProductId----------\n",
      "['ProductId_3' 'ProductId_15' 'ProductId_6' 'ProductId_10' 'ProductId_14'\n",
      " 'ProductId_1' 'ProductId_7' 'ProductId_4' 'ProductId_21' 'ProductId_8'\n",
      " 'ProductId_11' 'ProductId_19' 'ProductId_13' 'ProductId_24'\n",
      " 'ProductId_22' 'ProductId_20' 'ProductId_27' 'ProductId_2' 'ProductId_9'\n",
      " 'ProductId_26' 'ProductId_5' 'ProductId_25' 'ProductId_18' 'ProductId_17'\n",
      " 'ProductId_16' 'ProductId_23']\n",
      "['ProductId_10' 'ProductId_6' 'ProductId_1' 'ProductId_21' 'ProductId_3'\n",
      " 'ProductId_15' 'ProductId_11' 'ProductId_19' 'ProductId_4' 'ProductId_5'\n",
      " 'ProductId_20' 'ProductId_9' 'ProductId_24' 'ProductId_14' 'ProductId_2'\n",
      " 'ProductId_13' 'ProductId_22' 'ProductId_8' 'ProductId_7' 'ProductId_27'\n",
      " 'ProductId_12' 'ProductId_16' 'ProductId_23']\n",
      "data => 23 , test => 26\n",
      "----------ProductCategory----------\n",
      "['airtime' 'financial_services' 'tv' 'utility_bill' 'data_bundles'\n",
      " 'movies' 'ticket' 'retail' 'transport']\n",
      "['airtime' 'financial_services' 'utility_bill' 'data_bundles' 'tv'\n",
      " 'transport' 'ticket' 'movies' 'other']\n",
      "data => 9 , test => 9\n",
      "----------ChannelId----------\n",
      "['ChannelId_3' 'ChannelId_2' 'ChannelId_5' 'ChannelId_1' 'ChannelId_4']\n",
      "['ChannelId_3' 'ChannelId_2' 'ChannelId_1' 'ChannelId_5']\n",
      "data => 4 , test => 5\n",
      "----------Amount----------\n",
      "[ 1.000000e+03  2.000000e+03 -5.000000e+01  3.000000e+03 -6.000000e+01\n",
      "  1.161000e+03 -1.000000e+03 -1.000000e+02  2.500000e+03  5.000000e+02\n",
      " -2.000000e+01  3.300000e+04 -4.620000e+02  5.000000e+03 -5.000000e+02\n",
      " -2.500000e+02 -4.750000e+01  3.000000e+02 -1.500000e+01  1.000000e+04\n",
      "  1.200000e+03  1.500000e+04 -6.440000e+02 -2.500000e+01 -4.000000e+01\n",
      "  1.100000e+04  3.500000e+03 -1.750000e+02  1.200000e+04  2.100000e+03\n",
      " -1.050000e+02  1.800000e+03 -4.960000e+02  7.000000e+03 -2.000000e+03\n",
      " -1.500000e+02 -2.000000e+02  9.000000e+02 -1.800000e+01  1.100000e+03\n",
      " -5.500000e+01  1.500000e+03 -3.000000e+01  1.250000e+02  9.000000e+04\n",
      "  1.300000e+03 -1.540000e+02  7.500000e+02 -1.000000e+01 -3.750000e+01\n",
      "  3.000000e+04 -6.000000e+02 -2.200000e+02  1.270000e+05 -1.667000e+03\n",
      "  4.000000e+02  2.000000e+05 -1.000000e+04  7.000000e+02 -1.400000e+01\n",
      " -3.500000e+02  6.000000e+03 -3.000000e+02  4.700000e+03  4.740000e+03\n",
      " -9.400000e+01  4.400000e+03  4.200000e+03  1.594000e+03  2.030000e+03\n",
      "  5.000000e+01  8.000000e+02  2.000000e+04 -2.400000e+02  2.300000e+03\n",
      "  2.200000e+03  2.140000e+03  8.500000e+03 -4.250000e+02  5.000000e+04\n",
      "  1.600000e+04 -5.000000e+03  8.000000e+05  5.000000e+05 -2.240000e+02\n",
      "  1.320000e+03  4.800000e+04 -1.500000e+03  3.450000e+05 -7.500000e+01\n",
      "  1.085000e+04  3.400000e+04 -3.000000e+03 -9.000000e+01  9.000000e+03\n",
      "  1.150000e+05 -1.610000e+03  5.300000e+05 -1.250000e+02  6.400000e+02\n",
      "  2.600000e+04  1.700000e+03 -8.500000e+01 -6.500000e+01  6.000000e+02\n",
      "  1.120000e+04  4.000000e+04 -2.200000e+01  4.000000e+03 -8.000000e+01\n",
      "  4.318700e+04 -6.220000e+02 -6.000000e+00  7.700000e+02 -3.850000e+01\n",
      "  3.200000e+04  5.800000e+03 -1.505000e+02  1.050000e+04 -7.000000e+01\n",
      "  1.060000e+04  1.090000e+04 -1.999600e+02  1.000000e+05  2.800000e+04\n",
      " -1.005000e+03  1.113500e+04 -4.500000e+02  2.050000e+04  9.800000e+03\n",
      "  9.600000e+03  6.400000e+03 -1.600000e+01  2.200000e+04  3.650000e+04\n",
      "  5.500000e+03 -2.500000e+03  3.750000e+02  1.075000e+03  1.080000e+03\n",
      "  2.350000e+03  2.400000e+04  3.500000e+05  1.800000e+04  1.250000e+04\n",
      " -5.200000e+02 -3.600000e+02  7.500000e+03 -7.500000e+02  1.010000e+04\n",
      "  1.400000e+04 -1.141000e+02  2.240000e+04  3.600000e+03  1.880000e+04\n",
      "  5.700000e+03  5.600000e+03 -7.000000e+02  5.200000e+03 -1.800000e+02\n",
      "  1.570000e+04  1.520000e+04  1.020000e+04  2.500000e+02  3.500000e+04\n",
      " -5.500000e+02  1.501000e+04  2.200000e+05  1.312000e+04  2.600000e+03\n",
      "  1.600000e+03  8.500000e+02  1.080000e+04  9.230000e+03  1.700000e+04\n",
      "  3.700000e+03  7.200000e+03  7.000000e+04 -8.000000e+02  3.200000e+03\n",
      "  4.850000e+05  6.600000e+03  4.000000e+05  6.200000e+03  5.800000e+04\n",
      "  9.500000e+03  2.370000e+03  8.400000e+03  3.700000e+04  3.000000e+05\n",
      "  2.900000e+05 -2.250000e+02  6.000000e+04 -4.400000e+02 -1.200000e+02\n",
      "  2.500000e+04  9.700000e+02  5.900000e+03  9.500000e+04  9.300000e+04\n",
      "  1.070000e+04  9.750000e+03  9.000000e+06  4.950000e+04  1.750000e+03\n",
      " -8.750000e+01  5.300000e+03  1.040000e+04  1.575000e+04 -8.600000e+01\n",
      "  5.500000e+02  4.600000e+03  4.500000e+03  1.910000e+04  1.040000e+03\n",
      "  8.000000e+04  1.000200e+04 -1.320000e+02 -7.600000e+00  1.300000e+04\n",
      "  9.660000e+02 -3.920000e+02  9.800000e+04 -2.500000e+00  6.850000e+02\n",
      " -1.240000e+01  8.000000e+03  2.700000e+03 -1.350000e+02  1.055200e+04\n",
      "  3.260000e+04  1.006000e+04  6.500000e+03  5.640000e+03 -2.750000e+02\n",
      "  1.002500e+04  8.870000e+02  5.750000e+02  2.080000e+03  1.115000e+03\n",
      "  8.960000e+02  2.316000e+03  6.220000e+02 -4.500000e+01 -1.250000e+03\n",
      "  5.280000e+03 -3.200000e+01 -4.000000e+02  1.001500e+04  3.600000e+04\n",
      " -2.030000e+02 -6.550000e+01 -2.000000e+04  5.038000e+03 -1.760000e+02\n",
      " -1.400000e+02  7.800000e+04  7.790000e+04  7.200000e+04 -1.629000e+03\n",
      " -8.000000e+03  5.400000e+03  3.225000e+03  8.900000e+04 -4.450000e+03\n",
      "  4.300000e+03  3.800000e+04  2.110000e+03 -2.400000e+01  1.022500e+04\n",
      "  1.150000e+04 -2.300000e+02 -2.600000e+01  1.089000e+05  1.370000e+04\n",
      "  1.900000e+03  2.800000e+03  1.000000e+02  2.900000e+04  4.200000e+04\n",
      "  4.150000e+04 -3.420000e+05  3.420000e+05 -2.350000e+02  9.300000e+03\n",
      "  1.030000e+04 -2.060000e+02  1.200000e+06  2.000000e+06  1.000000e+06\n",
      "  4.555000e+03 -2.100000e+02 -1.600000e+02  7.650000e+03  7.690000e+03\n",
      " -1.530000e+02 -3.600000e+01 -4.500000e+03 -5.460000e+01  1.800000e+05\n",
      "  6.500000e+02 -3.250000e+01 -2.600000e+02  1.100000e+05 -9.500000e+01\n",
      "  1.735800e+04 -1.272000e+02  1.450000e+04  1.440000e+04 -1.900000e+02\n",
      "  5.400000e+02 -2.700000e+01 -4.575000e+01  2.090000e+03  5.100000e+03\n",
      "  1.583000e+03  1.522000e+04  6.800000e+02 -3.000000e+04 -9.000000e+04\n",
      " -6.000000e+04 -4.500000e+04  1.760000e+03  1.280000e+04 -1.540000e+03\n",
      "  8.200000e+02 -9.700000e+02  6.050000e+02  1.265000e+03 -1.300000e+04\n",
      "  2.000000e+02 -1.602000e+01  1.350000e+03  1.670000e+04  2.485000e+05\n",
      "  1.110000e+03  2.190000e+03  1.090000e+03  7.420000e+02 -3.500000e+01\n",
      "  2.700000e+05 -4.000000e+03 -5.400000e+03  8.350000e+02  3.900000e+03\n",
      "  6.900000e+03  2.500000e+05  4.100000e+03 -8.400000e+02 -6.804000e+01\n",
      "  2.900000e+03 -7.080000e+00  3.071000e+04  5.425000e+03  2.170000e+03\n",
      "  3.285000e+03  1.400000e+03  4.250000e+03  7.110000e+02  5.450000e+02\n",
      "  3.270000e+03  5.475000e+03 -2.300000e+01 -1.850000e+01  1.610000e+05\n",
      "  3.100000e+03 -1.550000e+02 -4.700000e+01 -5.000000e+04  8.800000e+03\n",
      "  4.900000e+03  1.550000e+04 -6.600000e+01  1.250000e+05  8.750000e+03\n",
      " -2.490000e+01  6.600000e+02  3.100000e+04  1.515000e+03 -3.030000e+01\n",
      " -1.800000e+03  2.400000e+03  5.700000e+02  1.900000e+04 -1.200000e+03\n",
      "  3.800000e+03  3.180000e+03  1.245000e+03  9.400000e+04  9.350000e+04\n",
      "  6.500000e+04  1.498000e+04 -1.334000e+02 -1.000000e+05 -2.000000e+05\n",
      "  1.355000e+03  2.120000e+03  2.390000e+02  5.010000e+03  5.200000e+04\n",
      " -2.600000e+03  2.153000e+03  5.900000e+04  1.588000e+04  1.120000e+05\n",
      "  3.750000e+05  6.700000e+04  4.800000e+03 -4.100000e+01 -1.850000e+02\n",
      " -7.000000e+00 -2.150000e+02  6.800000e+04  6.700000e+01  6.400000e+04\n",
      " -3.617400e+02  6.300000e+04 -4.050000e+01  8.720000e+02  2.556000e+03\n",
      " -3.970000e+01  9.500000e+02  1.950000e+04  3.705000e+03  6.275000e+03\n",
      "  6.350000e+03  1.467000e+03 -5.230000e+01 -3.500000e+03  4.500000e+04\n",
      "  3.640000e+03  9.900000e+02  1.085000e+03  5.300000e+02  1.070000e+03\n",
      "  1.060000e+03  2.300000e+05  1.250000e+03 -9.000000e+02  8.900000e+03\n",
      "  1.572920e+05  3.480000e+03  1.125000e+03  2.310000e+03  3.465000e+03\n",
      " -7.000000e+03  4.600000e+05  4.300000e+04 -2.300000e+04  3.120000e+03\n",
      " -1.800000e+00  2.100000e+04 -1.050000e+03 -1.300000e+02  5.375000e+03\n",
      "  2.220000e+03  1.598000e+03  1.065000e+03  1.528000e+04  8.200000e+03\n",
      "  4.100000e+04 -6.300000e+03 -1.200000e+04 -1.100000e+02 -7.335000e+01\n",
      " -5.112000e+01 -4.440000e+01 -3.400000e+01  3.135000e+03  5.500000e+04\n",
      "  4.800000e+01  4.480000e+03  2.250000e+02  1.368000e+03  1.175000e+03\n",
      "  1.120000e+03  1.155000e+03  7.020000e+02  2.950000e+05  3.250000e+02\n",
      "  4.400000e+04 -8.800000e+02  2.450000e+04  1.860000e+04  7.595000e+03\n",
      "  1.580000e+04  1.140000e+04  1.640000e+04  1.660000e+04  1.240000e+04\n",
      " -2.800000e+01  3.000000e+06  6.450000e+02 -3.225000e+01  1.350000e+04\n",
      " -2.700000e+02  9.440000e+02 -4.720000e+01  6.340000e+02  1.135000e+03\n",
      "  1.050000e+03  3.345000e+03  7.460000e+02  1.360000e+03  2.250000e+03\n",
      " -1.300000e+03  1.540000e+04  1.920000e+05 -2.240000e+01  1.720000e+05\n",
      " -1.280000e+02  5.006000e+03  5.995000e+03  5.008000e+03  5.166000e+03\n",
      "  1.150000e+03  9.120000e+02  1.003300e+04  1.007000e+04 -6.000000e+03\n",
      "  2.121000e+03 -1.060500e+02  1.012000e+04  2.210000e+03  7.100000e+04\n",
      "  2.759000e+03  3.400000e+03 -6.800000e+01  6.900000e+04  4.900000e+04\n",
      "  3.950000e+03  1.017600e+04  1.072620e+05  8.930000e+02 -1.786000e+01\n",
      "  2.850000e+03  5.032000e+03  1.500000e+05  7.400000e+03  1.850000e+04\n",
      "  2.608000e+03  1.650000e+04  1.940000e+04  5.150000e+03  2.700000e+04\n",
      "  2.508000e+03  1.974000e+03 -3.948000e+01  1.300000e+05  1.005000e+04\n",
      "  9.500000e+06  1.400000e+05  3.250000e+04  4.860600e+04  9.020000e+03\n",
      " -1.804000e+02  1.627000e+04 -3.254000e+02  3.550000e+04  4.291000e+04\n",
      "  8.820000e+03  5.550000e+04  4.271000e+03  4.521000e+03  2.550000e+04\n",
      "  3.020000e+04  1.025000e+04  7.025000e+03 -3.512500e+02  1.000100e+04\n",
      "  5.525000e+03  1.750000e+05  5.329000e+03 -1.065800e+02  6.110000e+03\n",
      " -1.222000e+02  9.678000e+03  4.255000e+03  7.900000e+03  6.270000e+03\n",
      "  1.500000e+06  1.710000e+03  5.930000e+02  1.008000e+03 -5.040000e+01\n",
      "  7.160000e+02 -1.432000e+01  6.647000e+03 -6.600000e+03  5.160000e+02\n",
      " -1.032000e+01  1.310000e+03  1.650000e+03  7.770000e+02  5.724500e+04\n",
      "  2.950000e+04 -5.000000e+00  1.200000e+05 -2.400000e+03 -6.250000e+01\n",
      " -6.500000e+02  2.942000e+04  2.890000e+04  2.807000e+04  3.504500e+04\n",
      " -1.752250e+03 -1.400000e+04  3.360000e+03  1.001000e+03 -1.920000e+05\n",
      "  5.200000e+02  4.050000e+04  1.620000e+04  1.613000e+04  3.300000e+05\n",
      "  3.400000e+05  8.600000e+04  8.500000e+04  6.071000e+03 -1.214200e+02\n",
      "  7.500000e+04  2.740000e+03  1.613300e+04  1.560000e+04  2.040000e+04\n",
      "  1.840000e+04  2.344000e+03 -1.200000e+01 -9.200000e+01  5.300000e+04\n",
      " -1.600000e+03  1.950000e+05  4.600000e+04  3.900000e+05  2.390000e+04\n",
      " -2.800000e+02  2.020000e+04  1.140000e+03 -2.280000e+01 -4.800000e+01\n",
      "  8.600000e+02 -1.720000e+01  9.400000e+03  3.550000e+05  2.346000e+03\n",
      "  9.050000e+03  1.671000e+03  2.692000e+03  6.920000e+02 -1.384000e+01\n",
      "  1.190000e+04  5.800000e+05  5.430000e+02  5.330000e+02  1.500000e+02\n",
      "  8.950000e+03  5.000000e+06  3.285000e+05 -4.599000e+03  9.950000e+02\n",
      "  1.215000e+03  3.675000e+03  4.500000e+05  1.960000e+05  4.800000e+05\n",
      "  3.100000e+05  1.340000e+03  1.055000e+04 -7.600000e+01  9.200000e+03\n",
      "  4.850000e+04 -2.425000e+03  1.025000e+03 -2.050000e+01  5.150000e+02\n",
      " -1.450000e+02  1.110000e+05  2.950000e+03  7.300000e+04  1.480000e+04\n",
      "  1.950000e+03 -1.100000e+04  3.300000e+03  1.320000e+05  6.240000e+03\n",
      "  1.450000e+03  4.014000e+03  1.152000e+03 -2.304000e+01 -1.500000e+04\n",
      "  2.100000e+05 -4.200000e+03  1.787500e+04  5.950000e+03  7.170000e+03\n",
      "  7.584200e+04  5.858300e+04  6.232800e+04  2.320000e+04  1.925000e+03\n",
      " -9.625000e+01  1.195000e+03 -2.390000e+01 -1.680000e+02  1.171000e+03\n",
      " -5.855000e+01  1.785000e+03 -8.925000e+01  7.100000e+03  6.140000e+03\n",
      " -1.228000e+02  8.437000e+03 -1.687400e+02  5.020000e+03  1.004000e+04\n",
      "  2.507000e+03  4.180000e+03  5.250000e+03  5.450000e+03  4.650000e+03\n",
      "  1.400000e+02  3.255000e+03  2.560000e+04  5.880000e+02  5.830000e+02\n",
      "  1.045000e+03  5.550000e+02  1.055000e+03  6.600000e+04  1.820000e+04\n",
      "  1.007400e+04  9.700000e+04  9.650000e+04  9.600000e+04  5.600000e+04\n",
      "  1.249000e+03  1.043500e+04  4.748000e+03  7.100000e+02  3.125000e+05\n",
      "  3.120000e+05 -1.040000e+02  5.304000e+03  7.050000e+03  1.050000e+05\n",
      "  1.130000e+04  5.140000e+03  3.020000e+05  6.741000e+04  5.225000e+03\n",
      "  1.180000e+05  1.140000e+05  6.393300e+04  2.250000e+04  5.270000e+03\n",
      " -1.480000e+02  3.633000e+03  5.570000e+02  1.420000e+04  2.850000e+04\n",
      "  1.018000e+04 -1.100000e+03  2.150000e+04  1.033500e+04  5.260000e+03\n",
      " -2.630000e+02  1.220000e+03 -4.000000e+04  9.600000e+02 -1.920000e+01\n",
      "  1.170000e+03  5.850000e+02  6.150000e+03  2.500000e+01  2.590000e+04\n",
      "  2.710000e+04  8.710000e+02  8.835000e+03  2.220000e+05  5.875000e+03\n",
      "  7.320000e+02  1.637000e+03 -3.274000e+01 -3.800000e+01  1.990000e+04\n",
      " -5.700000e+01  6.100000e+02 -3.050000e+01  7.070000e+02 -4.200000e+01\n",
      "  4.054000e+03  9.000000e+05 -5.500000e+03 -3.250000e+02  1.605000e+03\n",
      " -5.375000e+01  3.918000e+03  9.860000e+02 -4.930000e+01  3.850000e+04\n",
      "  3.950000e+04  5.400000e+04  5.650000e+03  5.325000e+03 -1.550000e+03\n",
      "  1.470000e+04 -7.500000e+04 -3.500000e+04 -5.400000e+01  1.077000e+03\n",
      "  1.056500e+04  2.650000e+04 -3.710000e+02  2.300000e+04  1.690000e+03\n",
      " -3.380000e+01  5.980000e+02  5.675000e+03  2.520000e+03  6.325000e+03\n",
      "  2.530000e+03 -2.500000e+06 -4.000000e+05 -1.200000e+06  2.950000e+02\n",
      " -1.475000e+01  1.290000e+03  1.209600e+04  7.870000e+02  3.880000e+04\n",
      "  3.500000e+02  1.490000e+04  1.485000e+04  1.760000e+05  4.000000e+01\n",
      "  1.430000e+05  7.010000e+02 -1.402000e+01  2.300000e+02 -1.100000e+05\n",
      " -5.500000e+04 -2.500000e+04 -7.000000e+04 -1.250000e+04 -8.500000e+04\n",
      " -1.600000e+05 -1.500000e+05  3.540000e+03  2.160000e+03 -1.800000e+04\n",
      "  3.200000e+05  9.450000e+03  1.460890e+05  4.680000e+03  3.700000e+05\n",
      "  2.390000e+03 -1.900000e+01  3.900000e+04  7.050000e+02 -1.410000e+01\n",
      " -3.400000e+02  3.450000e+04 -1.725000e+03 -5.275000e+01 -1.250000e+01\n",
      "  1.255000e+03  8.940000e+02 -4.470000e+01  7.570000e+02  2.060000e+04\n",
      "  8.334000e+03 -1.666800e+02  5.022000e+03  5.050000e+03  5.420000e+03\n",
      "  4.026200e+04  1.568000e+03  5.230000e+03  5.012000e+03  5.129000e+03\n",
      "  2.330000e+02 -2.525000e+02  1.254400e+04  3.352000e+03  3.330000e+03\n",
      "  5.062000e+03 -2.531000e+02  1.700000e+05 -2.040000e+02  6.780000e+02\n",
      " -1.356000e+01  2.780000e+03  5.080000e+03  5.218000e+03  7.300000e+02\n",
      "  3.195000e+03  2.130000e+03  1.110000e+04  5.665000e+03 -3.300000e+04\n",
      "  7.450000e+03  7.418000e+03  7.318000e+03 -1.700000e+01  5.389000e+03\n",
      "  4.352000e+03  4.945000e+03  4.920000e+03  1.082000e+03 -5.410000e+01\n",
      " -9.500000e+03  3.519000e+03  2.570000e+04  2.760000e+04 -2.900000e+01\n",
      "  1.174000e+03 -2.348000e+01 -2.450000e+02  4.680000e+04  5.996000e+03\n",
      "  1.165000e+04  6.790000e+02  3.050000e+04 -8.500000e+02  8.300000e+03\n",
      "  1.380000e+04  2.800000e+05  1.550000e+03  2.090000e+04  1.065000e+04\n",
      "  2.755000e+04  7.550000e+02  2.585000e+04  1.075000e+04  7.779500e+04\n",
      "  1.832400e+05  1.520000e+05  1.094000e+03  9.975000e+03  3.490000e+04\n",
      "  7.130000e+03  7.000000e+01  1.600000e+05  1.327200e+04  4.850000e+03\n",
      " -2.425000e+02  4.880000e+04  2.990000e+05  1.180000e+03 -2.360000e+01\n",
      " -5.250000e+01  9.900000e+03  2.750000e+05  1.600000e+02  1.220000e+04\n",
      "  6.080000e+02  5.950000e+02  1.210000e+04  3.150000e+04  3.155300e+04\n",
      "  3.990000e+03  1.503000e+03  5.550000e+03 -6.310600e+02  6.125800e+04\n",
      "  2.485200e+04  1.237600e+04  2.387100e+04  2.190000e+04  2.207000e+03\n",
      "  1.859000e+03 -3.718000e+01  7.871273e+06 -1.085000e+02  1.740000e+05\n",
      " -3.140000e+02 -4.200000e+02  7.700000e+03  3.800000e+02 -1.150000e+02\n",
      "  3.399400e+04  4.960000e+04  7.250000e+02  6.148500e+05  1.005000e+03\n",
      " -2.010000e+01  1.105000e+03  1.035000e+03  1.045000e+04 -1.400000e+03\n",
      "  5.100000e+02  1.780000e+03  1.021000e+03 -2.042000e+01  1.460000e+04\n",
      "  7.780000e+02  4.844000e+03  6.695000e+03]\n",
      "[ 1.00e+03 -2.00e+01  5.00e+02 ... -4.70e+01  2.35e+05  5.89e+03]\n",
      "data => 1676 , test => 998\n",
      "----------Value----------\n",
      "[   1000    2000      50    3000      60    1161     100    2500     500\n",
      "      20   33990     462    5000     250      48     300      15   10000\n",
      "    1200   15000   11200     644      25      40   11000    3500     175\n",
      "   12000    2100     105    2454     496    7000     150     200     900\n",
      "      18    1100      55    1500      30     125   90000    1300   11330\n",
      "     154     750      10      38   30000     600     220  134610    1667\n",
      "     400  200000     700      14     350    6000    4700    4740      94\n",
      "    4400    4200    1594    2030     800   20000     240    2300    2200\n",
      "    2140    8500     425   50000   16000  800000  500000     224    1320\n",
      "   16650   48000    2145  345000      75   10850   34000    1800      90\n",
      "   10170  118450    1610  530000     640    9000   26000    1700      85\n",
      "      65   40000      22    4000      80   43187     622       6   24000\n",
      "     770      39   32000    5800     151   10500      70   10600   10900\n",
      "  100000   30840    1005   11135     450   20500    9800    9600   10994\n",
      "   32900    6400      16    5750   22000   36500    5500   53500   21800\n",
      "     375    1075    1080    2350    2660  350000   19740   12500     520\n",
      "     360    7500   10100   14000     115   22400    3600   18800    5700\n",
      "    5600    5200     180   15700   15200   10200   43200   35000     550\n",
      "   15010  220000   13120    2600    1600     850   10800    9230   17000\n",
      "    3700    7200   70000    3200  485000    6600  400000    6200   58000\n",
      "    9500    2370    8400   37000  300000    1630  290000     225   60000\n",
      "     440     120   25000     970    5900   95000   93000    9655   10700\n",
      "   10943 9000000   49500    1750      88    5300   10400   15750      86\n",
      "    4600    4500   19100    4720    1040    8110    7080   80000   10002\n",
      "     132       8   13000     966    3690   28000     392   98000       3\n",
      "     685      13    8000    2700   12324     135   10552   32600   10060\n",
      "    7595    5640    6500     275   10025     887     575    2080    1115\n",
      "     896    2316      45    1250    5280      32   10015   39080     203\n",
      "      66    5038     176     140   28840   78000   77900   77460    1629\n",
      "    5400    9140    3225   89000    4450    4300   38000    2110      24\n",
      "   10225   12530   11500     230      26  115967   13700    1900    2800\n",
      "   29000   42000   41500  342000     235    9300   13560   10300     206\n",
      " 1200000 2000000 1000000    4555     210   33000     160    7650    7690\n",
      "     153      36  180000     650      33     260  110000      95   17358\n",
      "     128   14500   14400     190     540      27      46    2090    5100\n",
      "    1583   15220     680   45000    1760   14384  115000    1540     820\n",
      "     605   12800    1265      17    1350   16700  248500    1110    2190\n",
      "    1090     742      35  270000     835    3900    6900  250000    4823\n",
      "     840      69    2900   30710    5425    2170    3285    1400    4978\n",
      "   19200     711     545    3270    5475      23      19  161000    3100\n",
      "     155      47    9964    4900   15500  125000    9913     660   33930\n",
      "    1515      31   16480    2400     570   19000    3800    3180    1245\n",
      "  100120   94000   93500   65000   14980     134   99090    1355    2120\n",
      "     239    5010   52000    2153   59000   15880  112000    4100  375000\n",
      "   67000    4800      41   27750     185   70250       7     215   68000\n",
      "      67   72310   69220   18000     362   68190     872    2556     950\n",
      "   19500    3705    6275    6350    1467      53   48350    3640     990\n",
      "    1085     530    1070    1060  230000   10067  157292    3480    1125\n",
      "    2310    3465  460000   43000   23000    3120       2   21000    1050\n",
      "     130    5375    2220    1598    1065   15280    9346   41000    6300\n",
      "    4205    2969     110      74      52      34    3135   55000    4480\n",
      "    1368    1175    1120    1155     702  295000     325   44000     880\n",
      "   24500   18600   15800   11400   16400   16600   12400      28 3000000\n",
      "     645   13500     270   24660     944     634    1135    3345     746\n",
      "    2001    2918   76800   15400  192000  172000    5006    5995    5008\n",
      "    5166    1150     912   16135   10033   10070    2121     107   10120\n",
      "    2210   15620   71000    2759    3400      68   74370   73340   49000\n",
      "    3950   10176  114280  106300     893    2850    5032  150000    7400\n",
      "   41140   14590   14075   18500    3287   18195   21182    5150   20770\n",
      "   27000    2508   65100    1974  137700   10050    8800   12015 9500000\n",
      "  140000   12360   32500   48606    9020     181   16270     326   35500\n",
      "   46198    9985  148000   60465    4521   25500   30200   10250    7025\n",
      "     352   10001    5525  175000    5235    5329    6110     123    9678\n",
      "    4255    7900    6270 1500000    1710     593    1008      51     716\n",
      "    6647    1424     516      11    1310    1650     777   57245   29500\n",
      "       5  120000      63    2980   29420   28900   28070   35045    1753\n",
      "    3360    1001   40500   16200   16130    4926   19400  330000  340000\n",
      "   86000   85000    6071     122   75000    2740   16133   15600   20400\n",
      "   18400    2344      12      92   53000  195000   46000  390000   23900\n",
      "     280   20200    1140     860    9400  355000    2346   10222    1671\n",
      "    2692     692   11900  580000   40110     543     533    8950 5000000\n",
      "  328500    4599     995    1215    3675  450000  196000  480000  310000\n",
      "    1981   10550      76    9200   48500    2425    1025      21     515\n",
      "     145  111000    2950   78490   14800    1950    3300   36000  132000\n",
      "    6240    1450    4014    1152  210000   17875    5950    7170   75842\n",
      "   58583   62328   23200    1925      97    1195     168    1171      59\n",
      "    1785    7100    6140    8437     169    5020   10040    2507    4180\n",
      "    5250    5450    4650    3255   25600     588     583    1045     555\n",
      "    1055   31000   31870   66000   18200   10074   97000   96500   96000\n",
      "   56000    1249   10435    4748     710  312500  312000     104    5304\n",
      "    7050  105000   11300    5140  302000   67410    5225  118000  114000\n",
      "   63933   22500    5270     148    3633     557   14200   51955   31355\n",
      "   29810   10180   11502   28780   21500   21285   10335   34960    5260\n",
      "     263    1220     960    1170     585   15105    6150   25900   29913\n",
      "     871  222000    5875   16500     732    4250    1637   19900      57\n",
      "     610     707      42    3175    4054  900000    1605      54    3918\n",
      "     986   38500   42685   54000    5650    8900    5325   72000    1550\n",
      "   14700    1077   10565   26500     371   25175   25690    1690     598\n",
      "    5675    2520    6325    2530 2500000     295    1290   12096     787\n",
      "   38800   14900   14850  176000  143000     701   61800  160000    3540\n",
      "    2160  320000    9450  146089    4680  370000    2390   39000     705\n",
      "     340   34500    1725    1255     894     757   20600    8334     167\n",
      "    5022    5050    5420   40262    1568    5230    5012    5129     233\n",
      "     253   12544    3352    3330    5062     254  170000   58920     204\n",
      "     678    2780    5080    5218     730    3195    2130   11100    5665\n",
      "   12118    7450    7418    7318    5389    4352    4945    4920    1082\n",
      "    3519   25700   27600      29    1174     245   50204    5996   11650\n",
      "     679   30500   10685    8300   13800  280000   20900   10650   19946\n",
      "   30377     755   28626   10750   77795  183240  152000    5029    1094\n",
      "    8625    9975   34900    7130   13272    4850     243   48800  299000\n",
      "    2250    1180    9900  275000   12200     608     595   13663   31500\n",
      "   31553    3990    1503    5550     632   61258   24852   12376   23871\n",
      "   21900    2207    1859 7871273     109  174000     314     420    7700\n",
      "     380   33994   49600     725  645296    1105    1035   75400   10450\n",
      "     510    1780    1021   18710   14600     778    4844    6695]\n"
     ]
    },
    {
     "name": "stdout",
     "output_type": "stream",
     "text": [
      "[  1000     20    500 ...     47 235000   5890]\n",
      "data => 1517 , test => 944\n",
      "----------TransactionStartTime----------\n",
      "['2019-02-13T10:01:40Z' '2019-02-13T10:02:12Z' '2019-02-13T10:02:30Z' ...\n",
      " '2019-03-14T23:59:17Z' '2019-03-14T23:59:39Z' '2019-03-14T23:59:51Z']\n",
      "['2018-11-15T02:18:49Z' '2018-11-15T02:19:08Z' '2018-11-15T02:44:21Z' ...\n",
      " '2019-02-13T09:54:35Z' '2019-02-13T10:01:10Z' '2019-02-13T10:01:28Z']\n",
      "data => 94556 , test => 44018\n",
      "----------PricingStrategy----------\n",
      "[4 2 1 0]\n",
      "[2 4 1 0]\n",
      "data => 4 , test => 4\n",
      "----------FraudResult----------\n",
      "[0]\n",
      "[0 1]\n",
      "data => 2 , test => 1\n"
     ]
    }
   ],
   "source": [
    "for i in testData.columns:\n",
    "    print_unique(i)"
   ]
  },
  {
   "cell_type": "code",
   "execution_count": 84,
   "metadata": {},
   "outputs": [
    {
     "data": {
      "text/plain": [
       "<matplotlib.axes._subplots.AxesSubplot at 0x1a3004bf470>"
      ]
     },
     "execution_count": 84,
     "metadata": {},
     "output_type": "execute_result"
    },
    {
     "data": {
      "image/png": "[encoded data removed]",
      "text/plain": [
       "<Figure size 1440x720 with 1 Axes>"
      ]
     },
     "metadata": {
      "needs_background": "light"
     },
     "output_type": "display_data"
    }
   ],
   "source": [
    "data.corrwith(data.FraudResult).plot.bar(figsize = (20,10), grid = True, title = 'Correlation with E-Signed')"
   ]
  },
  {
   "cell_type": "code",
   "execution_count": 81,
   "metadata": {},
   "outputs": [
    {
     "data": {
      "text/plain": [
       "0    95469\n",
       "1      193\n",
       "Name: FraudResult, dtype: int64"
      ]
     },
     "execution_count": 81,
     "metadata": {},
     "output_type": "execute_result"
    }
   ],
   "source": [
    "data.FraudResult.value_counts()"
   ]
  },
  {
   "cell_type": "markdown",
   "metadata": {},
   "source": [
    "## Preparing the data"
   ]
  },
  {
   "cell_type": "code",
   "execution_count": 68,
   "metadata": {},
   "outputs": [],
   "source": [
    "data_c = data.copy()"
   ]
  },
  {
   "cell_type": "code",
   "execution_count": 69,
   "metadata": {},
   "outputs": [],
   "source": [
    "data_c = data_c.drop(['TransactionId', 'BatchId', 'AccountId', 'SubscriptionId', 'CustomerId',\n",
    "       'CurrencyCode', 'CountryCode', 'TransactionStartTime'], axis = 1)"
   ]
  },
  {
   "cell_type": "code",
   "execution_count": 70,
   "metadata": {},
   "outputs": [
    {
     "data": {
      "text/html": [
       "<div>\n",
       "<style scoped>\n",
       "    .dataframe tbody tr th:only-of-type {\n",
       "        vertical-align: middle;\n",
       "    }\n",
       "\n",
       "    .dataframe tbody tr th {\n",
       "        vertical-align: top;\n",
       "    }\n",
       "\n",
       "    .dataframe thead th {\n",
       "        text-align: right;\n",
       "    }\n",
       "</style>\n",
       "<table border=\"1\" class=\"dataframe\">\n",
       "  <thead>\n",
       "    <tr style=\"text-align: right;\">\n",
       "      <th></th>\n",
       "      <th>ProviderId</th>\n",
       "      <th>ProductId</th>\n",
       "      <th>ProductCategory</th>\n",
       "      <th>ChannelId</th>\n",
       "      <th>Amount</th>\n",
       "      <th>Value</th>\n",
       "      <th>PricingStrategy</th>\n",
       "      <th>FraudResult</th>\n",
       "    </tr>\n",
       "  </thead>\n",
       "  <tbody>\n",
       "    <tr>\n",
       "      <th>0</th>\n",
       "      <td>ProviderId_6</td>\n",
       "      <td>ProductId_10</td>\n",
       "      <td>airtime</td>\n",
       "      <td>ChannelId_3</td>\n",
       "      <td>1000.0</td>\n",
       "      <td>1000</td>\n",
       "      <td>2</td>\n",
       "      <td>0</td>\n",
       "    </tr>\n",
       "    <tr>\n",
       "      <th>1</th>\n",
       "      <td>ProviderId_4</td>\n",
       "      <td>ProductId_6</td>\n",
       "      <td>financial_services</td>\n",
       "      <td>ChannelId_2</td>\n",
       "      <td>-20.0</td>\n",
       "      <td>20</td>\n",
       "      <td>2</td>\n",
       "      <td>0</td>\n",
       "    </tr>\n",
       "    <tr>\n",
       "      <th>2</th>\n",
       "      <td>ProviderId_6</td>\n",
       "      <td>ProductId_1</td>\n",
       "      <td>airtime</td>\n",
       "      <td>ChannelId_3</td>\n",
       "      <td>500.0</td>\n",
       "      <td>500</td>\n",
       "      <td>2</td>\n",
       "      <td>0</td>\n",
       "    </tr>\n",
       "    <tr>\n",
       "      <th>3</th>\n",
       "      <td>ProviderId_1</td>\n",
       "      <td>ProductId_21</td>\n",
       "      <td>utility_bill</td>\n",
       "      <td>ChannelId_3</td>\n",
       "      <td>20000.0</td>\n",
       "      <td>21800</td>\n",
       "      <td>2</td>\n",
       "      <td>0</td>\n",
       "    </tr>\n",
       "    <tr>\n",
       "      <th>4</th>\n",
       "      <td>ProviderId_4</td>\n",
       "      <td>ProductId_6</td>\n",
       "      <td>financial_services</td>\n",
       "      <td>ChannelId_2</td>\n",
       "      <td>-644.0</td>\n",
       "      <td>644</td>\n",
       "      <td>2</td>\n",
       "      <td>0</td>\n",
       "    </tr>\n",
       "  </tbody>\n",
       "</table>\n",
       "</div>"
      ],
      "text/plain": [
       "     ProviderId     ProductId     ProductCategory    ChannelId   Amount  \\\n",
       "0  ProviderId_6  ProductId_10             airtime  ChannelId_3   1000.0   \n",
       "1  ProviderId_4   ProductId_6  financial_services  ChannelId_2    -20.0   \n",
       "2  ProviderId_6   ProductId_1             airtime  ChannelId_3    500.0   \n",
       "3  ProviderId_1  ProductId_21        utility_bill  ChannelId_3  20000.0   \n",
       "4  ProviderId_4   ProductId_6  financial_services  ChannelId_2   -644.0   \n",
       "\n",
       "   Value  PricingStrategy  FraudResult  \n",
       "0   1000                2            0  \n",
       "1     20                2            0  \n",
       "2    500                2            0  \n",
       "3  21800                2            0  \n",
       "4    644                2            0  "
      ]
     },
     "execution_count": 70,
     "metadata": {},
     "output_type": "execute_result"
    }
   ],
   "source": [
    "data_c.head()"
   ]
  },
  {
   "cell_type": "code",
   "execution_count": 71,
   "metadata": {},
   "outputs": [],
   "source": [
    "data_c.to_csv('first_iter.csv', index = False)"
   ]
  },
  {
   "cell_type": "code",
   "execution_count": 92,
   "metadata": {},
   "outputs": [],
   "source": [
    "X = data_c.iloc[:, data_c.columns != 'FraudResult']\n",
    "y = data_c.iloc[:, data_c.columns == 'FraudResult']"
   ]
  },
  {
   "cell_type": "code",
   "execution_count": 83,
   "metadata": {},
   "outputs": [],
   "source": [
    "X = pd.get_dummies(X)"
   ]
  },
  {
   "cell_type": "code",
   "execution_count": 93,
   "metadata": {},
   "outputs": [],
   "source": [
    "X = X.drop(['ProviderId', 'ProductId', 'ProductCategory', 'ChannelId','PricingStrategy'], axis = 1)"
   ]
  },
  {
   "cell_type": "code",
   "execution_count": 95,
   "metadata": {},
   "outputs": [],
   "source": [
    "# train test split\n",
    "from sklearn.model_selection import train_test_split\n",
    "x_train, x_test, y_train, y_test = train_test_split(X, y, test_size = 0.3, random_state = 22)"
   ]
  },
  {
   "cell_type": "code",
   "execution_count": 96,
   "metadata": {},
   "outputs": [
    {
     "name": "stderr",
     "output_type": "stream",
     "text": [
      "C:\\Users\\mxcsy\\Anaconda3\\lib\\site-packages\\sklearn\\preprocessing\\data.py:625: DataConversionWarning: Data with input dtype int64, float64 were all converted to float64 by StandardScaler.\n",
      "  return self.partial_fit(X, y)\n",
      "C:\\Users\\mxcsy\\Anaconda3\\lib\\site-packages\\sklearn\\base.py:462: DataConversionWarning: Data with input dtype int64, float64 were all converted to float64 by StandardScaler.\n",
      "  return self.fit(X, **fit_params).transform(X)\n",
      "C:\\Users\\mxcsy\\Anaconda3\\lib\\site-packages\\sklearn\\preprocessing\\data.py:625: DataConversionWarning: Data with input dtype int64, float64 were all converted to float64 by StandardScaler.\n",
      "  return self.partial_fit(X, y)\n",
      "C:\\Users\\mxcsy\\Anaconda3\\lib\\site-packages\\sklearn\\base.py:462: DataConversionWarning: Data with input dtype int64, float64 were all converted to float64 by StandardScaler.\n",
      "  return self.fit(X, **fit_params).transform(X)\n"
     ]
    }
   ],
   "source": [
    "# Standerdise the dataset\n",
    "from sklearn.preprocessing import StandardScaler\n",
    "scaler= StandardScaler()\n",
    "x_train = scaler.fit_transform(x_train)\n",
    "x_test = scaler.fit_transform(x_test)"
   ]
  },
  {
   "cell_type": "code",
   "execution_count": 109,
   "metadata": {},
   "outputs": [
    {
     "name": "stderr",
     "output_type": "stream",
     "text": [
      "C:\\Users\\mxcsy\\Anaconda3\\lib\\site-packages\\sklearn\\utils\\validation.py:761: DataConversionWarning: A column-vector y was passed when a 1d array was expected. Please change the shape of y to (n_samples, ), for example using ravel().\n",
      "  y = column_or_1d(y, warn=True)\n"
     ]
    },
    {
     "data": {
      "text/plain": [
       "LogisticRegression(C=1.0, class_weight=None, dual=False, fit_intercept=True,\n",
       "          intercept_scaling=1, max_iter=100, multi_class='warn',\n",
       "          n_jobs=None, penalty='l2', random_state=None, solver='lbfgs',\n",
       "          tol=0.0001, verbose=0, warm_start=False)"
      ]
     },
     "execution_count": 109,
     "metadata": {},
     "output_type": "execute_result"
    }
   ],
   "source": [
    "# building first model\n",
    "from sklearn.linear_model import LogisticRegression\n",
    "clf_lr = LogisticRegression(solver = 'lbfgs')\n",
    "clf_lr.fit(x_train, y_train)"
   ]
  },
  {
   "cell_type": "code",
   "execution_count": 110,
   "metadata": {},
   "outputs": [],
   "source": [
    "# making evaluation\n",
    "from sklearn.metrics import accuracy_score, f1_score, confusion_matrix\n",
    "def evaluate(clf):\n",
    "    y_pred = clf.predict(x_test)\n",
    "    accuracy = accuracy_score(y_test, y_pred)\n",
    "    f1 = f1_score(y_test, y_pred)\n",
    "    cm = confusion_matrix(y_test, y_pred)\n",
    "    print(\"The Scores for {} are: Accuracy of {}, F1 of {} and CM\".format(type(clf).__name__, accuracy, f1))\n",
    "    sns.heatmap(cm, annot = True , fmt='g')"
   ]
  },
  {
   "cell_type": "code",
   "execution_count": 111,
   "metadata": {},
   "outputs": [
    {
     "name": "stdout",
     "output_type": "stream",
     "text": [
      "The Scores for LogisticRegression are: Accuracy of 0.9980835569183595, F1 of 0.4086021505376344 and CM\n"
     ]
    },
    {
     "data": {
      "image/png": "[encoded data removed]",
      "text/plain": [
       "<Figure size 432x288 with 2 Axes>"
      ]
     },
     "metadata": {
      "needs_background": "light"
     },
     "output_type": "display_data"
    }
   ],
   "source": [
    "evaluate(clf_lr)"
   ]
  },
  {
   "cell_type": "code",
   "execution_count": 112,
   "metadata": {},
   "outputs": [
    {
     "name": "stderr",
     "output_type": "stream",
     "text": [
      "C:\\Users\\mxcsy\\Anaconda3\\lib\\site-packages\\ipykernel_launcher.py:3: DataConversionWarning: A column-vector y was passed when a 1d array was expected. Please change the shape of y to (n_samples, ), for example using ravel().\n",
      "  This is separate from the ipykernel package so we can avoid doing imports until\n"
     ]
    },
    {
     "data": {
      "text/plain": [
       "KNeighborsClassifier(algorithm='auto', leaf_size=30, metric='minkowski',\n",
       "           metric_params=None, n_jobs=None, n_neighbors=100, p=2,\n",
       "           weights='uniform')"
      ]
     },
     "execution_count": 112,
     "metadata": {},
     "output_type": "execute_result"
    }
   ],
   "source": [
    "from sklearn.neighbors import KNeighborsClassifier\n",
    "clf_knn = KNeighborsClassifier(100)\n",
    "clf_knn.fit(x_train, y_train)"
   ]
  },
  {
   "cell_type": "code",
   "execution_count": 113,
   "metadata": {},
   "outputs": [
    {
     "name": "stdout",
     "output_type": "stream",
     "text": [
      "The Scores for KNeighborsClassifier are: Accuracy of 0.99926826718701, F1 of 0.8346456692913387 and CM\n"
     ]
    },
    {
     "data": {
      "image/png": "[encoded data removed]",
      "text/plain": [
       "<Figure size 432x288 with 2 Axes>"
      ]
     },
     "metadata": {
      "needs_background": "light"
     },
     "output_type": "display_data"
    }
   ],
   "source": [
    "evaluate(clf_knn)"
   ]
  },
  {
   "cell_type": "code",
   "execution_count": 114,
   "metadata": {},
   "outputs": [
    {
     "data": {
      "text/plain": [
       "DecisionTreeClassifier(class_weight=None, criterion='gini', max_depth=None,\n",
       "            max_features=None, max_leaf_nodes=None,\n",
       "            min_impurity_decrease=0.0, min_impurity_split=None,\n",
       "            min_samples_leaf=1, min_samples_split=2,\n",
       "            min_weight_fraction_leaf=0.0, presort=False, random_state=None,\n",
       "            splitter='best')"
      ]
     },
     "execution_count": 114,
     "metadata": {},
     "output_type": "execute_result"
    }
   ],
   "source": [
    "from sklearn.tree import DecisionTreeClassifier\n",
    "clf_dt = DecisionTreeClassifier()\n",
    "clf_dt.fit(x_train, y_train)"
   ]
  },
  {
   "cell_type": "code",
   "execution_count": 115,
   "metadata": {},
   "outputs": [
    {
     "name": "stdout",
     "output_type": "stream",
     "text": [
      "The Scores for DecisionTreeClassifier are: Accuracy of 0.9994773337050071, F1 of 0.8648648648648648 and CM\n"
     ]
    },
    {
     "data": {
      "image/png": "[encoded data removed]",
      "text/plain": [
       "<Figure size 432x288 with 2 Axes>"
      ]
     },
     "metadata": {
      "needs_background": "light"
     },
     "output_type": "display_data"
    }
   ],
   "source": [
    "evaluate(clf_dt)"
   ]
  },
  {
   "cell_type": "code",
   "execution_count": 116,
   "metadata": {},
   "outputs": [
    {
     "name": "stderr",
     "output_type": "stream",
     "text": [
      "C:\\Users\\mxcsy\\Anaconda3\\lib\\site-packages\\sklearn\\ensemble\\forest.py:246: FutureWarning: The default value of n_estimators will change from 10 in version 0.20 to 100 in 0.22.\n",
      "  \"10 in version 0.20 to 100 in 0.22.\", FutureWarning)\n",
      "C:\\Users\\mxcsy\\Anaconda3\\lib\\site-packages\\ipykernel_launcher.py:3: DataConversionWarning: A column-vector y was passed when a 1d array was expected. Please change the shape of y to (n_samples,), for example using ravel().\n",
      "  This is separate from the ipykernel package so we can avoid doing imports until\n"
     ]
    },
    {
     "data": {
      "text/plain": [
       "RandomForestClassifier(bootstrap=True, class_weight=None, criterion='gini',\n",
       "            max_depth=None, max_features='auto', max_leaf_nodes=None,\n",
       "            min_impurity_decrease=0.0, min_impurity_split=None,\n",
       "            min_samples_leaf=1, min_samples_split=2,\n",
       "            min_weight_fraction_leaf=0.0, n_estimators=10, n_jobs=None,\n",
       "            oob_score=False, random_state=None, verbose=0,\n",
       "            warm_start=False)"
      ]
     },
     "execution_count": 116,
     "metadata": {},
     "output_type": "execute_result"
    }
   ],
   "source": [
    "from sklearn.ensemble import RandomForestClassifier\n",
    "clf_rf = RandomForestClassifier()\n",
    "clf_rf.fit(x_train, y_train)"
   ]
  },
  {
   "cell_type": "code",
   "execution_count": 117,
   "metadata": {},
   "outputs": [
    {
     "name": "stdout",
     "output_type": "stream",
     "text": [
      "The Scores for RandomForestClassifier are: Accuracy of 0.9994773337050071, F1 of 0.8648648648648648 and CM\n"
     ]
    },
    {
     "data": {
      "image/png": "[encoded data removed]",
      "text/plain": [
       "<Figure size 432x288 with 2 Axes>"
      ]
     },
     "metadata": {
      "needs_background": "light"
     },
     "output_type": "display_data"
    }
   ],
   "source": [
    "evaluate(clf_rf)"
   ]
  },
  {
   "cell_type": "markdown",
   "metadata": {},
   "source": [
    "# Predict the result"
   ]
  },
  {
   "cell_type": "code",
   "execution_count": 121,
   "metadata": {},
   "outputs": [],
   "source": [
    "subData = testData.drop(['FraudResult','TransactionId', 'BatchId', 'AccountId', 'SubscriptionId', 'CustomerId',\n",
    "       'CurrencyCode', 'CountryCode', 'TransactionStartTime','ProviderId', 'ProductId', 'ProductCategory', 'ChannelId','PricingStrategy'], axis = 1)"
   ]
  },
  {
   "cell_type": "code",
   "execution_count": 122,
   "metadata": {},
   "outputs": [
    {
     "name": "stderr",
     "output_type": "stream",
     "text": [
      "C:\\Users\\mxcsy\\Anaconda3\\lib\\site-packages\\ipykernel_launcher.py:1: DataConversionWarning: Data with input dtype int64, float64 were all converted to float64 by StandardScaler.\n",
      "  \"\"\"Entry point for launching an IPython kernel.\n"
     ]
    }
   ],
   "source": [
    "subData = scaler.transform(subData)"
   ]
  },
  {
   "cell_type": "code",
   "execution_count": 123,
   "metadata": {},
   "outputs": [
    {
     "data": {
      "text/plain": [
       "array([[-0.0451048 , -0.07264214],\n",
       "       [-0.03670801, -0.06423185],\n",
       "       [-0.05392143, -0.0806319 ],\n",
       "       ...,\n",
       "       [ 0.0304663 ,  0.0030504 ],\n",
       "       [-0.09548554, -0.03900101],\n",
       "       [-0.02411283, -0.05161643]])"
      ]
     },
     "execution_count": 123,
     "metadata": {},
     "output_type": "execute_result"
    }
   ],
   "source": [
    "subData"
   ]
  },
  {
   "cell_type": "code",
   "execution_count": 133,
   "metadata": {},
   "outputs": [],
   "source": [
    "ids = testData.TransactionId"
   ]
  },
  {
   "cell_type": "code",
   "execution_count": 124,
   "metadata": {},
   "outputs": [],
   "source": [
    "predictionknn = clf_knn.predict(subData)"
   ]
  },
  {
   "cell_type": "code",
   "execution_count": 125,
   "metadata": {},
   "outputs": [],
   "source": [
    "predictiondt = clf_dt.predict(subData)"
   ]
  },
  {
   "cell_type": "code",
   "execution_count": 126,
   "metadata": {},
   "outputs": [],
   "source": [
    "predictionrf = clf_rf.predict(subData)"
   ]
  },
  {
   "cell_type": "code",
   "execution_count": 138,
   "metadata": {},
   "outputs": [],
   "source": [
    "def get_submission(data, clf, name):\n",
    "    prediction = clf.predict(data)\n",
    "    all_data = list(zip(ids, prediction))\n",
    "    final_result = pd.DataFrame(all_data, columns=['TransactionId', 'FraudResult'])\n",
    "    final_result.to_csv(name, index =False)\n",
    "    final_result.head()\n",
    "    return final_result"
   ]
  },
  {
   "cell_type": "code",
   "execution_count": 143,
   "metadata": {},
   "outputs": [],
   "source": [
    "r = get_submission(subData, clf_dt, 'dt.csv')"
   ]
  },
  {
   "cell_type": "code",
   "execution_count": 144,
   "metadata": {},
   "outputs": [
    {
     "data": {
      "text/plain": [
       "0    44954\n",
       "1       65\n",
       "Name: FraudResult, dtype: int64"
      ]
     },
     "execution_count": 144,
     "metadata": {},
     "output_type": "execute_result"
    }
   ],
   "source": [
    "r.FraudResult.value_counts()"
   ]
  },
  {
   "cell_type": "code",
   "execution_count": null,
   "metadata": {},
   "outputs": [],
   "source": []
  }
 ],
 "metadata": {
  "kernelspec": {
   "display_name": "Python 3",
   "language": "python",
   "name": "python3"
  },
  "language_info": {
   "codemirror_mode": {
    "name": "ipython",
    "version": 3
   },
   "file_extension": ".py",
   "mimetype": "text/x-python",
   "name": "python",
   "nbconvert_exporter": "python",
   "pygments_lexer": "ipython3",
   "version": "3.7.1"
  }
 },
 "nbformat": 4,
 "nbformat_minor": 2
}
