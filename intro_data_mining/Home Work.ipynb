{
 "cells": [
  {
   "cell_type": "markdown",
   "metadata": {},
   "source": [
    "# Data mining Practical Work\n",
    "## Home work\n",
    "## Project: Creating Car Segments"
   ]
  },
  {
   "cell_type": "markdown",
   "metadata": {},
   "source": [
    "Welcome to the home work of the Advanced database and Data Mining Module! In this notebook, some template code has already been provided for you, and it will be your job to implement the additional functionality necessary to successfully complete this home work. Sections that begin with **'Implementation'** in the header indicate that the following block of code will require additional functionality which you must provide. Instructions will be provided for each section and the specifics of the implementation are marked in the code block with a `'TODO'` statement. Please be sure to read the instructions carefully!\n",
    "\n",
    ">**Note:** Code and Markdown cells can be executed using the **Shift + Enter** keyboard shortcut. In addition, Markdown cells can be edited by typically double-clicking the cell to enter edit mode."
   ]
  },
  {
   "cell_type": "code",
   "execution_count": 45,
   "metadata": {},
   "outputs": [],
   "source": [
    "# Importing the required libraries\n",
    "import pandas as pd\n",
    "import numpy as np\n",
    "import matplotlib.pyplot as plt\n",
    "import seaborn as sns"
   ]
  },
  {
   "cell_type": "code",
   "execution_count": 54,
   "metadata": {},
   "outputs": [],
   "source": [
    "# Importing the dataset named 'car.csv'\n",
    "dataset = pd.read_csv('cars_data.csv')"
   ]
  },
  {
   "cell_type": "code",
   "execution_count": 55,
   "metadata": {},
   "outputs": [
    {
     "data": {
      "text/html": [
       "<div>\n",
       "<style scoped>\n",
       "    .dataframe tbody tr th:only-of-type {\n",
       "        vertical-align: middle;\n",
       "    }\n",
       "\n",
       "    .dataframe tbody tr th {\n",
       "        vertical-align: top;\n",
       "    }\n",
       "\n",
       "    .dataframe thead th {\n",
       "        text-align: right;\n",
       "    }\n",
       "</style>\n",
       "<table border=\"1\" class=\"dataframe\">\n",
       "  <thead>\n",
       "    <tr style=\"text-align: right;\">\n",
       "      <th></th>\n",
       "      <th>mpg</th>\n",
       "      <th>cylinders</th>\n",
       "      <th>cubicinches</th>\n",
       "      <th>hp</th>\n",
       "      <th>weightlbs</th>\n",
       "      <th>time-to-60</th>\n",
       "      <th>year</th>\n",
       "    </tr>\n",
       "  </thead>\n",
       "  <tbody>\n",
       "    <tr>\n",
       "      <th>0</th>\n",
       "      <td>14.0</td>\n",
       "      <td>8</td>\n",
       "      <td>350</td>\n",
       "      <td>165</td>\n",
       "      <td>4209</td>\n",
       "      <td>12</td>\n",
       "      <td>1972</td>\n",
       "    </tr>\n",
       "    <tr>\n",
       "      <th>1</th>\n",
       "      <td>31.9</td>\n",
       "      <td>4</td>\n",
       "      <td>89</td>\n",
       "      <td>71</td>\n",
       "      <td>1925</td>\n",
       "      <td>14</td>\n",
       "      <td>1980</td>\n",
       "    </tr>\n",
       "    <tr>\n",
       "      <th>2</th>\n",
       "      <td>17.0</td>\n",
       "      <td>8</td>\n",
       "      <td>302</td>\n",
       "      <td>140</td>\n",
       "      <td>3449</td>\n",
       "      <td>11</td>\n",
       "      <td>1971</td>\n",
       "    </tr>\n",
       "    <tr>\n",
       "      <th>3</th>\n",
       "      <td>15.0</td>\n",
       "      <td>8</td>\n",
       "      <td>400</td>\n",
       "      <td>150</td>\n",
       "      <td>3761</td>\n",
       "      <td>10</td>\n",
       "      <td>1971</td>\n",
       "    </tr>\n",
       "    <tr>\n",
       "      <th>4</th>\n",
       "      <td>30.5</td>\n",
       "      <td>4</td>\n",
       "      <td>98</td>\n",
       "      <td>63</td>\n",
       "      <td>2051</td>\n",
       "      <td>17</td>\n",
       "      <td>1978</td>\n",
       "    </tr>\n",
       "    <tr>\n",
       "      <th>5</th>\n",
       "      <td>23.0</td>\n",
       "      <td>8</td>\n",
       "      <td>350</td>\n",
       "      <td>125</td>\n",
       "      <td>3900</td>\n",
       "      <td>17</td>\n",
       "      <td>1980</td>\n",
       "    </tr>\n",
       "    <tr>\n",
       "      <th>6</th>\n",
       "      <td>13.0</td>\n",
       "      <td>8</td>\n",
       "      <td>351</td>\n",
       "      <td>158</td>\n",
       "      <td>4363</td>\n",
       "      <td>13</td>\n",
       "      <td>1974</td>\n",
       "    </tr>\n",
       "  </tbody>\n",
       "</table>\n",
       "</div>"
      ],
      "text/plain": [
       "    mpg  cylinders  cubicinches   hp  weightlbs  time-to-60  year\n",
       "0  14.0          8          350  165       4209          12  1972\n",
       "1  31.9          4           89   71       1925          14  1980\n",
       "2  17.0          8          302  140       3449          11  1971\n",
       "3  15.0          8          400  150       3761          10  1971\n",
       "4  30.5          4           98   63       2051          17  1978\n",
       "5  23.0          8          350  125       3900          17  1980\n",
       "6  13.0          8          351  158       4363          13  1974"
      ]
     },
     "execution_count": 55,
     "metadata": {},
     "output_type": "execute_result"
    }
   ],
   "source": [
    "# TODO show the first 7 rows\n",
    "dataset.head(7)"
   ]
  },
  {
   "cell_type": "code",
   "execution_count": 56,
   "metadata": {},
   "outputs": [
    {
     "data": {
      "text/html": [
       "<div>\n",
       "<style scoped>\n",
       "    .dataframe tbody tr th:only-of-type {\n",
       "        vertical-align: middle;\n",
       "    }\n",
       "\n",
       "    .dataframe tbody tr th {\n",
       "        vertical-align: top;\n",
       "    }\n",
       "\n",
       "    .dataframe thead th {\n",
       "        text-align: right;\n",
       "    }\n",
       "</style>\n",
       "<table border=\"1\" class=\"dataframe\">\n",
       "  <thead>\n",
       "    <tr style=\"text-align: right;\">\n",
       "      <th></th>\n",
       "      <th>mpg</th>\n",
       "      <th>cylinders</th>\n",
       "      <th>cubicinches</th>\n",
       "      <th>hp</th>\n",
       "      <th>weightlbs</th>\n",
       "      <th>time-to-60</th>\n",
       "      <th>year</th>\n",
       "    </tr>\n",
       "  </thead>\n",
       "  <tbody>\n",
       "    <tr>\n",
       "      <th>count</th>\n",
       "      <td>256.000000</td>\n",
       "      <td>256.000000</td>\n",
       "      <td>256.000000</td>\n",
       "      <td>256.000000</td>\n",
       "      <td>256.000000</td>\n",
       "      <td>256.000000</td>\n",
       "      <td>256.000000</td>\n",
       "    </tr>\n",
       "    <tr>\n",
       "      <th>mean</th>\n",
       "      <td>23.187109</td>\n",
       "      <td>5.589844</td>\n",
       "      <td>201.351562</td>\n",
       "      <td>106.800781</td>\n",
       "      <td>3006.445312</td>\n",
       "      <td>15.496094</td>\n",
       "      <td>1976.828125</td>\n",
       "    </tr>\n",
       "    <tr>\n",
       "      <th>std</th>\n",
       "      <td>7.870573</td>\n",
       "      <td>1.746631</td>\n",
       "      <td>109.572151</td>\n",
       "      <td>40.686792</td>\n",
       "      <td>855.572147</td>\n",
       "      <td>2.905030</td>\n",
       "      <td>3.635575</td>\n",
       "    </tr>\n",
       "    <tr>\n",
       "      <th>min</th>\n",
       "      <td>10.000000</td>\n",
       "      <td>3.000000</td>\n",
       "      <td>70.000000</td>\n",
       "      <td>46.000000</td>\n",
       "      <td>1613.000000</td>\n",
       "      <td>8.000000</td>\n",
       "      <td>1971.000000</td>\n",
       "    </tr>\n",
       "    <tr>\n",
       "      <th>25%</th>\n",
       "      <td>16.800000</td>\n",
       "      <td>4.000000</td>\n",
       "      <td>100.250000</td>\n",
       "      <td>75.000000</td>\n",
       "      <td>2245.750000</td>\n",
       "      <td>14.000000</td>\n",
       "      <td>1974.000000</td>\n",
       "    </tr>\n",
       "    <tr>\n",
       "      <th>50%</th>\n",
       "      <td>22.000000</td>\n",
       "      <td>5.000000</td>\n",
       "      <td>156.000000</td>\n",
       "      <td>95.000000</td>\n",
       "      <td>2832.500000</td>\n",
       "      <td>16.000000</td>\n",
       "      <td>1977.000000</td>\n",
       "    </tr>\n",
       "    <tr>\n",
       "      <th>75%</th>\n",
       "      <td>28.850000</td>\n",
       "      <td>8.000000</td>\n",
       "      <td>304.000000</td>\n",
       "      <td>139.000000</td>\n",
       "      <td>3666.000000</td>\n",
       "      <td>17.000000</td>\n",
       "      <td>1980.000000</td>\n",
       "    </tr>\n",
       "    <tr>\n",
       "      <th>max</th>\n",
       "      <td>46.600000</td>\n",
       "      <td>8.000000</td>\n",
       "      <td>455.000000</td>\n",
       "      <td>230.000000</td>\n",
       "      <td>4997.000000</td>\n",
       "      <td>25.000000</td>\n",
       "      <td>1983.000000</td>\n",
       "    </tr>\n",
       "  </tbody>\n",
       "</table>\n",
       "</div>"
      ],
      "text/plain": [
       "              mpg   cylinders  cubicinches          hp    weightlbs  \\\n",
       "count  256.000000  256.000000   256.000000  256.000000   256.000000   \n",
       "mean    23.187109    5.589844   201.351562  106.800781  3006.445312   \n",
       "std      7.870573    1.746631   109.572151   40.686792   855.572147   \n",
       "min     10.000000    3.000000    70.000000   46.000000  1613.000000   \n",
       "25%     16.800000    4.000000   100.250000   75.000000  2245.750000   \n",
       "50%     22.000000    5.000000   156.000000   95.000000  2832.500000   \n",
       "75%     28.850000    8.000000   304.000000  139.000000  3666.000000   \n",
       "max     46.600000    8.000000   455.000000  230.000000  4997.000000   \n",
       "\n",
       "       time-to-60         year  \n",
       "count  256.000000   256.000000  \n",
       "mean    15.496094  1976.828125  \n",
       "std      2.905030     3.635575  \n",
       "min      8.000000  1971.000000  \n",
       "25%     14.000000  1974.000000  \n",
       "50%     16.000000  1977.000000  \n",
       "75%     17.000000  1980.000000  \n",
       "max     25.000000  1983.000000  "
      ]
     },
     "execution_count": 56,
     "metadata": {},
     "output_type": "execute_result"
    }
   ],
   "source": [
    "# show information about the dataset\n",
    "dataset.describe()"
   ]
  },
  {
   "cell_type": "code",
   "execution_count": 58,
   "metadata": {},
   "outputs": [
    {
     "data": {
      "text/plain": [
       "<matplotlib.axes._subplots.AxesSubplot at 0x2b1fad99588>"
      ]
     },
     "execution_count": 58,
     "metadata": {},
     "output_type": "execute_result"
    },
    {
     "data": {
      "image/png": "[encoded data removed]",
      "text/plain": [
       "<Figure size 432x288 with 2 Axes>"
      ]
     },
     "metadata": {
      "needs_background": "light"
     },
     "output_type": "display_data"
    }
   ],
   "source": [
    "\n",
    "correlations = data.corr()\n",
    "sns.heatmap(correlations)"
   ]
  },
  {
   "cell_type": "markdown",
   "metadata": {},
   "source": [
    "## Clustering\n",
    "\n",
    "In this section, you will choose to use K-Means clustering algorithm or any other clustering algorithm to identify the various car segments hidden in the data. You will use the __WCSS__ (Within Cluster Sum of Squares) which measures the squared average distance of all the points within a cluster to the cluster centroid, so with WCSS we can choose the best number of clusters to use in K-means. when you fit your KMeans to the data, you can retrieve this score using a built-in variable called `'inertia_'`."
   ]
  },
  {
   "cell_type": "code",
   "execution_count": 36,
   "metadata": {},
   "outputs": [
    {
     "data": {
      "image/png": "[encoded data removed]",
      "text/plain": [
       "<Figure size 432x288 with 1 Axes>"
      ]
     },
     "metadata": {
      "needs_background": "light"
     },
     "output_type": "display_data"
    }
   ],
   "source": [
    "# import kmeans\n",
    "from sklearn.cluster import KMeans\n",
    "\n",
    "# WCSS score for each number of cluster\n",
    "wcss = []\n",
    "\n",
    "for i in range(1,11):\n",
    "    # TODO : create and calculate WCSS for number of clusters in range [1, 11]\n",
    "    \n",
    "plt.plot(range(1,11), wcss)\n",
    "plt.xlabel('Number of clusters')\n",
    "plt.ylabel('WCSS')\n",
    "plt.show()"
   ]
  },
  {
   "cell_type": "code",
   "execution_count": 44,
   "metadata": {},
   "outputs": [
    {
     "data": {
      "image/png": "[encoded data removed]",
      "text/plain": [
       "<Figure size 432x288 with 1 Axes>"
      ]
     },
     "metadata": {
      "needs_background": "light"
     },
     "output_type": "display_data"
    }
   ],
   "source": [
    "# Visualising the clusters\n",
    "plt.scatter(new[y_kmeans == 0, 0], new[y_kmeans == 0,1],s=100,c='red',label='Clutser 1')\n",
    "plt.scatter(new[y_kmeans == 1, 0], new[y_kmeans == 1,1],s=100,c='blue',label='Japan')\n",
    "plt.scatter(new[y_kmeans == 2, 0], new[y_kmeans == 2,1],s=100,c='green',label='Europe')\n",
    "plt.title('Clusters of car brands')\n",
    "plt.legend()\n",
    "plt.show()"
   ]
  },
  {
   "cell_type": "code",
   "execution_count": 63,
   "metadata": {},
   "outputs": [
    {
     "name": "stderr",
     "output_type": "stream",
     "text": [
      "C:\\Users\\mxcsy\\Anaconda3\\lib\\site-packages\\sklearn\\utils\\validation.py:724: DataConversionWarning: A column-vector y was passed when a 1d array was expected. Please change the shape of y to (n_samples, ), for example using ravel().\n",
      "  y = column_or_1d(y, warn=True)\n"
     ]
    },
    {
     "data": {
      "text/plain": [
       "0.5739032708797394"
      ]
     },
     "execution_count": 63,
     "metadata": {},
     "output_type": "execute_result"
    }
   ],
   "source": [
    "from sklearn.metrics import silhouette_score\n",
    "silhouette_score(data, y_kmeans.reshape(-1, 1))"
   ]
  },
  {
   "cell_type": "code",
   "execution_count": 40,
   "metadata": {},
   "outputs": [],
   "source": [
    "from sklearn.decomposition import PCA\n",
    "pca = PCA(2)"
   ]
  },
  {
   "cell_type": "code",
   "execution_count": 41,
   "metadata": {},
   "outputs": [],
   "source": [
    "new = pca.fit_transform(data)"
   ]
  },
  {
   "cell_type": "code",
   "execution_count": 43,
   "metadata": {},
   "outputs": [
    {
     "data": {
      "text/plain": [
       "<matplotlib.collections.PathCollection at 0x2b1f9c1e710>"
      ]
     },
     "execution_count": 43,
     "metadata": {},
     "output_type": "execute_result"
    },
    {
     "data": {
      "image/png": "[encoded data removed]",
      "text/plain": [
       "<Figure size 432x288 with 1 Axes>"
      ]
     },
     "metadata": {
      "needs_background": "light"
     },
     "output_type": "display_data"
    }
   ],
   "source": [
    "plt.scatter(new[:,0], new[:,1])"
   ]
  },
  {
   "cell_type": "code",
   "execution_count": 42,
   "metadata": {},
   "outputs": [
    {
     "data": {
      "text/plain": [
       "array([[ 1.21310875e+03,  7.68785086e+00],\n",
       "       [-1.08772833e+03,  1.85762866e+01],\n",
       "       [ 4.52395902e+02,  4.99680869e+01],\n",
       "       [ 7.73960381e+02,  1.05991202e+02],\n",
       "       [-9.61977954e+02,  8.61713360e+00],\n",
       "       [ 9.04834616e+02,  3.30325854e+01],\n",
       "       [ 1.36572635e+03, -1.30005706e+01],\n",
       "       [ 1.32800213e+03,  9.53281450e+01],\n",
       "       [ 5.15992526e+02, -9.27205276e+01],\n",
       "       [-9.64135946e+02, -2.61167426e-01],\n",
       "       [-7.68074941e+02, -4.28478625e+00],\n",
       "       [-8.25598423e+02, -4.79900908e+00],\n",
       "       [ 1.13891838e+03, -3.69952516e+01],\n",
       "       [ 6.73055355e+02,  8.08995904e+01],\n",
       "       [ 1.36246928e+03, -1.48228142e+01],\n",
       "       [-9.94206339e+02,  8.17339969e-01],\n",
       "       [ 4.37173626e+02,  5.70490810e+01],\n",
       "       [-7.33633992e+02,  4.78403268e+00],\n",
       "       [-5.83747492e+02, -2.14247862e+01],\n",
       "       [-9.95116891e+02,  1.84747657e+00],\n",
       "       [-4.12603794e+02, -2.32504764e+01],\n",
       "       [ 4.28734343e+00, -1.03549779e+01],\n",
       "       [ 1.05849025e+03,  2.03740128e+01],\n",
       "       [-1.04557394e+03,  9.32852322e+00],\n",
       "       [-1.21720754e+03,  3.09206626e+01],\n",
       "       [-1.24089472e+03,  1.88860498e+01],\n",
       "       [ 1.65698021e+03, -5.31879294e+01],\n",
       "       [ 5.67680835e+02, -3.49095210e+01],\n",
       "       [-6.35506309e+02, -3.22228181e+01],\n",
       "       [-8.82662569e+02,  6.12013082e+00],\n",
       "       [ 2.74944863e+02,  9.49795591e+00],\n",
       "       [-5.06517991e+02, -1.65502801e+01],\n",
       "       [-1.02740543e+03,  1.72860918e+01],\n",
       "       [ 4.08964231e+02, -2.25413784e+01],\n",
       "       [-1.17704590e+03,  2.94353983e+01],\n",
       "       [-2.98413176e+02, -7.67781241e+01],\n",
       "       [ 9.60104346e+02,  3.15176233e+01],\n",
       "       [ 2.59468480e+02, -9.19306409e+00],\n",
       "       [ 1.63199772e+03, -9.93499242e+01],\n",
       "       [ 6.39430290e+02, -3.33708417e+01],\n",
       "       [ 5.15425671e+02, -1.76996959e+01],\n",
       "       [ 1.13886059e+02,  2.66317223e+02],\n",
       "       [-3.79558388e+02, -4.06200227e+01],\n",
       "       [ 7.58296290e+02,  2.96340079e+01],\n",
       "       [-6.16846131e+02, -4.30379811e+00],\n",
       "       [-1.07159100e+03,  2.65184033e+01],\n",
       "       [ 5.22177227e+01, -1.41391909e+01],\n",
       "       [ 1.47140621e+03,  1.77276303e+01],\n",
       "       [ 1.73439160e+02, -9.15986580e+01],\n",
       "       [ 6.16475283e+02,  7.21125227e+01],\n",
       "       [-8.53147056e+02,  1.61931334e+01],\n",
       "       [ 1.38334346e+03, -9.11238718e+00],\n",
       "       [ 1.29012539e+03,  6.67677950e+01],\n",
       "       [-8.11320923e+01, -3.24703245e+01],\n",
       "       [-9.37372101e+02,  1.20073329e+01],\n",
       "       [-1.07572024e+03,  1.78212710e+01],\n",
       "       [ 8.29778372e+02,  6.89371114e+01],\n",
       "       [-5.75641853e+01,  3.44132205e+01],\n",
       "       [-6.34053996e+02, -1.29086875e+01],\n",
       "       [-9.86721385e+01, -1.12096028e+01],\n",
       "       [-9.04911055e+02, -9.82306815e+00],\n",
       "       [ 1.23647694e+03, -3.07913891e+01],\n",
       "       [ 5.19883587e+02, -2.23049756e+01],\n",
       "       [-1.06295940e+03,  1.49385425e+01],\n",
       "       [-1.04797891e+03,  1.40043951e+01],\n",
       "       [-1.18596453e+03,  3.88075617e+01],\n",
       "       [ 8.80529789e+02,  8.33113477e-02],\n",
       "       [ 9.39442075e+01, -1.88524780e+01],\n",
       "       [-3.74942044e+02, -4.42129236e+01],\n",
       "       [-7.25762608e+02, -1.25470312e+01],\n",
       "       [-4.67959447e+02, -2.25417524e+01],\n",
       "       [-7.94475643e+02, -5.91895674e+00],\n",
       "       [ 1.46598171e+01,  4.82710773e+01],\n",
       "       [ 8.08789432e+01,  1.34086171e+01],\n",
       "       [-4.96005420e+02, -5.31001801e+00],\n",
       "       [-7.48528311e+02, -9.31849155e+00],\n",
       "       [-6.63688310e+02, -1.57883631e+01],\n",
       "       [ 1.33511580e+03,  4.78621513e+01],\n",
       "       [ 1.96094764e+03, -8.42614119e-01],\n",
       "       [ 4.29115888e+02,  5.70840465e+01],\n",
       "       [-3.20683001e+02, -4.55313830e+01],\n",
       "       [-7.91405380e+02,  1.02166749e+01],\n",
       "       [-1.39937545e+03,  4.11267706e+01],\n",
       "       [-2.31238938e+02,  2.40356578e+01],\n",
       "       [ 4.56871560e+02, -4.24061313e+01],\n",
       "       [-8.88995313e+02, -4.11219865e+00],\n",
       "       [-2.95021033e+02, -4.96930596e+01],\n",
       "       [-1.03874254e+03,  7.48721123e+00],\n",
       "       [-7.11045310e+02,  8.11096461e+00],\n",
       "       [ 1.10538303e+03,  2.45069358e+01],\n",
       "       [ 3.25539498e+02,  3.19985663e+00],\n",
       "       [-7.58905262e+02, -1.17421352e+01],\n",
       "       [ 8.97110940e+02, -8.41518567e+01],\n",
       "       [ 1.50143773e+03, -2.39035000e+01],\n",
       "       [ 1.36546940e+02,  2.31847740e+01],\n",
       "       [ 8.32045926e+02,  1.51939152e+01],\n",
       "       [ 7.73965435e+02, -5.35728613e+01],\n",
       "       [ 2.00020070e+03, -4.91416969e+01],\n",
       "       [ 1.91060904e+03, -3.22531589e+01],\n",
       "       [-8.86829777e+02,  4.91100603e+00],\n",
       "       [-8.13065538e+02, -1.24677088e+00],\n",
       "       [-7.48009751e+02, -5.03178367e+00],\n",
       "       [-3.75437118e+02, -8.17886455e+00],\n",
       "       [-6.81897545e+02, -3.98918422e+01],\n",
       "       [-9.48728130e+02,  1.89331998e+00],\n",
       "       [-3.41987038e+02, -3.06025595e+01],\n",
       "       [ 5.07135432e+02,  4.44898934e+01],\n",
       "       [-7.34798960e+02, -1.26344530e+01],\n",
       "       [-8.21278993e+01, -6.42402206e+01],\n",
       "       [ 1.33754969e+03, -1.26100441e+01],\n",
       "       [-1.21720801e+03,  3.09117223e+01],\n",
       "       [-8.84237476e+02, -6.04355242e+00],\n",
       "       [ 7.74748799e+02, -7.92489081e+01],\n",
       "       [-2.71083976e+02, -1.99186032e+01],\n",
       "       [ 3.59586217e+01,  2.48241062e+01],\n",
       "       [-9.67881312e+02,  9.86708274e+00],\n",
       "       [ 1.35476635e+03,  7.58632313e+01],\n",
       "       [-8.10969788e+02, -9.16496263e-01],\n",
       "       [-1.05132973e+03,  3.32854472e+00],\n",
       "       [ 1.67458380e+03, -1.53942617e+00],\n",
       "       [-2.64830152e+02, -1.04285864e+01],\n",
       "       [-1.17747172e+03,  3.40822137e+01],\n",
       "       [-4.46666189e+02, -1.33725302e+01],\n",
       "       [ 1.65597993e+03, -3.72015996e+01],\n",
       "       [-7.83075987e+02, -3.37825741e+00],\n",
       "       [-4.32051963e+02, -3.35637186e+01],\n",
       "       [-1.21090788e+03,  4.10216402e+01],\n",
       "       [-7.14413246e+02, -1.84922732e+01],\n",
       "       [-3.32543351e+02, -1.16806425e+01],\n",
       "       [ 1.96413944e+03,  3.23645867e+01],\n",
       "       [ 6.74272663e+02,  2.70064866e+01],\n",
       "       [ 1.44144869e+03, -2.78962660e+01],\n",
       "       [ 1.18983349e+03, -2.49449416e+01],\n",
       "       [-1.05772723e+03,  1.64495296e+01],\n",
       "       [ 1.74184686e+02,  8.14693822e+01],\n",
       "       [-7.08282543e+01, -7.04000402e+01],\n",
       "       [-3.76620737e+01, -7.92104673e+01],\n",
       "       [-3.07070161e+02,  1.44266458e+01],\n",
       "       [-8.42540517e+02, -3.39858298e+00],\n",
       "       [-3.46052186e+02, -1.47131513e+01],\n",
       "       [-1.25284939e+03,  2.80519162e+01],\n",
       "       [ 6.02369391e+02, -7.62902635e+00],\n",
       "       [-5.94608479e+01, -7.61439001e+01],\n",
       "       [ 3.53703004e+02, -2.12156353e+01],\n",
       "       [-2.75990860e+02, -1.88925526e+01],\n",
       "       [ 7.01185157e+02,  7.24026387e+01],\n",
       "       [ 2.10267840e+02,  8.00236542e+01],\n",
       "       [-4.71778255e+02, -2.86047260e+01],\n",
       "       [-4.51408043e+02, -1.10491467e+01],\n",
       "       [ 1.44229148e+03,  9.83971523e+01],\n",
       "       [ 1.54752801e+02,  1.54515646e+01],\n",
       "       [-5.50218804e+02, -2.72391372e+01],\n",
       "       [ 2.98248042e+02,  2.68919095e+00],\n",
       "       [-8.91667486e+02, -1.76650223e+01],\n",
       "       [-8.78432071e+02, -3.15088402e-01],\n",
       "       [-3.66103638e+02,  7.35464360e+01],\n",
       "       [ 3.96938729e+02, -7.80638378e+01],\n",
       "       [-1.00919408e+01, -5.24647843e+01],\n",
       "       [ 1.08028015e+03, -1.44779809e+01],\n",
       "       [-2.62214146e+01, -2.86372850e+01],\n",
       "       [-1.02508912e+02,  5.97626369e+00],\n",
       "       [-7.61019232e+02, -2.06304929e+01],\n",
       "       [ 3.62820938e+02,  1.10638210e+01],\n",
       "       [ 4.31919618e+02, -3.24021686e+01],\n",
       "       [-4.24117592e+02,  5.37017834e+00],\n",
       "       [-2.02587834e+02, -1.24237897e+01],\n",
       "       [-8.87793484e+02,  5.68936572e+00],\n",
       "       [-7.23453332e+02, -1.01403202e+01],\n",
       "       [-1.83520274e+02, -4.50596495e+01],\n",
       "       [-4.39575421e+02, -3.70047297e+01],\n",
       "       [-7.84503071e+02,  1.68763185e+01],\n",
       "       [-8.25023526e+02, -8.45337149e+00],\n",
       "       [ 1.39404581e+03,  3.56730798e+01],\n",
       "       [ 6.74294075e+02,  2.70422997e+01],\n",
       "       [ 5.72360710e+02,  3.41395846e+01],\n",
       "       [-9.67737153e+02,  1.08881018e+01],\n",
       "       [-8.68706922e+02, -2.99903905e+00],\n",
       "       [ 1.21267618e+03, -4.35097544e+01],\n",
       "       [ 4.41794767e+02,  6.97894334e+01],\n",
       "       [-6.18054618e+02, -1.35961666e+01],\n",
       "       [ 6.20151523e+01, -1.62944110e+01],\n",
       "       [ 4.54702766e+02, -1.16166846e+01],\n",
       "       [ 9.41834169e+02,  6.46765389e+00],\n",
       "       [ 1.13336731e+03,  1.47427123e+01],\n",
       "       [ 1.74765587e+03,  4.21582777e+01],\n",
       "       [-3.89390167e+02,  1.04395454e+00],\n",
       "       [-3.40480218e+02, -1.06265277e+01],\n",
       "       [ 1.43137145e+03,  3.58394708e+01],\n",
       "       [ 1.08628534e+03,  1.70834487e+01],\n",
       "       [ 1.07774576e+03, -1.06672888e+01],\n",
       "       [-8.69266099e+02,  9.01556267e-01],\n",
       "       [-5.21189545e+02, -5.00491386e+00],\n",
       "       [-1.02912028e+03,  4.12465321e+00],\n",
       "       [-1.07571904e+03,  1.78462851e+01],\n",
       "       [-1.06841585e+03,  1.19130493e+01],\n",
       "       [-7.65856290e+02,  5.15965433e+00],\n",
       "       [-3.72779919e+02, -1.91237747e+01],\n",
       "       [ 4.16527793e+02, -2.57025393e+00],\n",
       "       [ 6.21171117e+02, -5.82404509e+01],\n",
       "       [-6.09333485e+02,  7.17706197e+00],\n",
       "       [ 8.62706742e+02,  9.83439176e+01],\n",
       "       [-9.04987457e+02, -1.06767925e+01],\n",
       "       [ 1.94748943e+01,  3.78648714e+01],\n",
       "       [ 1.09646750e+03, -3.00184662e+01],\n",
       "       [-1.09195871e+02, -1.50419156e+01],\n",
       "       [-1.96877997e+02, -3.10088545e+01],\n",
       "       [ 4.41016741e+02, -8.35757360e+00],\n",
       "       [-1.25816020e+03,  2.60464712e+01],\n",
       "       [-9.41118677e+02, -9.76949265e+00],\n",
       "       [ 2.27295860e+02, -8.38779277e+00],\n",
       "       [-3.98461712e+02, -3.06188512e+01],\n",
       "       [-1.03889185e+03,  6.30519604e+00],\n",
       "       [ 1.21863748e+03,  3.52616758e+00],\n",
       "       [-4.11251126e+02,  2.76217458e+01],\n",
       "       [ 1.29129383e+03, -5.96100828e+01],\n",
       "       [ 1.91345949e+02,  2.59443453e+01],\n",
       "       [-2.18949436e+02, -4.62270502e+01],\n",
       "       [ 1.45473670e+03, -5.83720047e+01],\n",
       "       [ 8.03754545e+02, -1.28961347e+02],\n",
       "       [ 1.04059380e+03, -2.55123665e+01],\n",
       "       [-1.01146761e+03, -8.98313903e-02],\n",
       "       [ 1.61915061e+03, -1.77484144e+01],\n",
       "       [-1.36385247e+03,  3.49387929e+01],\n",
       "       [-4.17153510e+02,  4.45072174e+01],\n",
       "       [-2.22889007e+02, -3.73184638e+01],\n",
       "       [ 5.76330075e+02,  1.21313366e+02],\n",
       "       [-3.89250813e+02, -3.77452174e+01],\n",
       "       [-4.19615527e+02, -1.49042617e+01],\n",
       "       [ 1.49539437e+03, -6.36132148e+01],\n",
       "       [ 1.33791328e+02, -8.64052148e+01],\n",
       "       [-8.84291599e+02, -6.43258669e+00],\n",
       "       [ 1.09659828e+03, -1.29910546e+01],\n",
       "       [-4.21478777e+01, -3.08054848e+00],\n",
       "       [-1.13803311e+03,  1.95232425e+01],\n",
       "       [-7.90464506e+02,  1.77150869e+01],\n",
       "       [ 1.05951212e+03,  2.04689033e+01],\n",
       "       [ 1.16416620e+02,  7.35274630e+00],\n",
       "       [ 1.23053614e+03,  5.78402896e+01],\n",
       "       [-3.43441931e+02, -5.00473552e+01],\n",
       "       [ 1.37153228e+03,  1.04790929e+02],\n",
       "       [ 4.05106549e+02,  7.44152800e+01],\n",
       "       [ 7.37997233e+02,  2.87828897e+01],\n",
       "       [-9.29922937e+02, -8.49041322e+00],\n",
       "       [-8.58407578e+02, -1.39680818e+00],\n",
       "       [-4.86481233e+02, -9.45567190e+00],\n",
       "       [-8.93252038e+02,  2.13991113e+00],\n",
       "       [-3.53094256e+02, -3.07594882e+01],\n",
       "       [-6.72546281e+01, -8.15627928e+01],\n",
       "       [ 9.93044164e+02,  2.89122651e+01],\n",
       "       [-2.82449662e+02,  9.70164024e+00],\n",
       "       [-6.40373707e+02, -6.92024944e+00],\n",
       "       [ 8.40231828e+02,  1.71663541e-01],\n",
       "       [-1.21198535e+03,  3.24640933e+01],\n",
       "       [-1.66243033e+02,  5.17918279e+01],\n",
       "       [ 2.82724278e+02, -8.55137723e+00],\n",
       "       [ 3.49511793e+02,  1.60430241e+00]])"
      ]
     },
     "execution_count": 42,
     "metadata": {},
     "output_type": "execute_result"
    }
   ],
   "source": [
    "new"
   ]
  },
  {
   "cell_type": "code",
   "execution_count": null,
   "metadata": {},
   "outputs": [],
   "source": []
  }
 ],
 "metadata": {
  "kernelspec": {
   "display_name": "Python 3",
   "language": "python",
   "name": "python3"
  },
  "language_info": {
   "codemirror_mode": {
    "name": "ipython",
    "version": 3
   },
   "file_extension": ".py",
   "mimetype": "text/x-python",
   "name": "python",
   "nbconvert_exporter": "python",
   "pygments_lexer": "ipython3",
   "version": "3.7.1"
  }
 },
 "nbformat": 4,
 "nbformat_minor": 2
}
