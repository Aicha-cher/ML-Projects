{
 "cells": [
  {
   "cell_type": "code",
   "execution_count": 2,
   "metadata": {},
   "outputs": [],
   "source": [
    "import pandas as pd\n",
    "import scipy as sci\n",
    "import numpy as np\n",
    "import matplotlib.pyplot as plt\n",
    "import seaborn as sns\n",
    "import statsmodels as stm"
   ]
  },
  {
   "cell_type": "code",
   "execution_count": 5,
   "metadata": {},
   "outputs": [],
   "source": [
    "data = pd.read_csv('yearly-water-usage.csv')"
   ]
  },
  {
   "cell_type": "code",
   "execution_count": 8,
   "metadata": {},
   "outputs": [
    {
     "name": "stdout",
     "output_type": "stream",
     "text": [
      "Dataset 69, Validation 10\n"
     ]
    }
   ],
   "source": [
    "split_point = len(data) - 10\n",
    "dataset, validation = data[0:split_point], data[split_point:]\n",
    "print('Dataset %d, Validation %d' % (len(dataset), len(validation)))\n",
    "dataset.to_csv('dataset_water.csv')\n",
    "validation.to_csv('validation_water.csv')"
   ]
  },
  {
   "cell_type": "code",
   "execution_count": 9,
   "metadata": {},
   "outputs": [],
   "source": [
    "from sklearn.metrics import mean_squared_error\n",
    "\n",
    "def evaluate(test, predictions):\n",
    "    mse = mean_squared_error(test, predictions)\n",
    "    rmse = np.sqrt(mse)\n",
    "    print('RMSE: %.3f' % rmse)"
   ]
  },
  {
   "cell_type": "code",
   "execution_count": 16,
   "metadata": {},
   "outputs": [],
   "source": [
    "X = data.Water.values\n",
    "X = X.astype('float32')\n",
    "train_size = int(len(X) * 0.50)\n",
    "train, test = X[0:train_size], X[train_size:]"
   ]
  },
  {
   "cell_type": "code",
   "execution_count": 17,
   "metadata": {},
   "outputs": [],
   "source": [
    "history = [x for x in train]\n",
    "predictions = list()"
   ]
  },
  {
   "cell_type": "code",
   "execution_count": 18,
   "metadata": {},
   "outputs": [
    {
     "name": "stdout",
     "output_type": "stream",
     "text": [
      ">Predicted=492.000, Expected=503\n",
      ">Predicted=503.000, Expected=503\n",
      ">Predicted=503.000, Expected=450\n",
      ">Predicted=450.000, Expected=432\n",
      ">Predicted=432.000, Expected=432\n",
      ">Predicted=432.000, Expected=458\n",
      ">Predicted=458.000, Expected=462\n",
      ">Predicted=462.000, Expected=503\n",
      ">Predicted=503.000, Expected=488\n",
      ">Predicted=488.000, Expected=466\n",
      ">Predicted=466.000, Expected=492\n",
      ">Predicted=492.000, Expected=503\n",
      ">Predicted=503.000, Expected=515\n",
      ">Predicted=515.000, Expected=500\n",
      ">Predicted=500.000, Expected=522\n",
      ">Predicted=522.000, Expected=575\n",
      ">Predicted=575.000, Expected=583\n",
      ">Predicted=583.000, Expected=587\n",
      ">Predicted=587.000, Expected=628\n",
      ">Predicted=628.000, Expected=640\n",
      ">Predicted=640.000, Expected=609\n",
      ">Predicted=609.000, Expected=606\n",
      ">Predicted=606.000, Expected=632\n",
      ">Predicted=632.000, Expected=617\n",
      ">Predicted=617.000, Expected=613\n",
      ">Predicted=613.000, Expected=598\n",
      ">Predicted=598.000, Expected=575\n",
      ">Predicted=575.000, Expected=564\n",
      ">Predicted=564.000, Expected=549\n",
      ">Predicted=549.000, Expected=538\n",
      ">Predicted=538.000, Expected=568\n",
      ">Predicted=568.000, Expected=575\n",
      ">Predicted=575.000, Expected=579\n",
      ">Predicted=579.000, Expected=587\n",
      ">Predicted=587.000, Expected=602\n",
      ">Predicted=602.000, Expected=594\n",
      ">Predicted=594.000, Expected=587\n",
      ">Predicted=587.000, Expected=587\n",
      ">Predicted=587.000, Expected=625\n",
      ">Predicted=625.000, Expected=613\n"
     ]
    }
   ],
   "source": [
    "for i in range(len(test)):\n",
    "    yhat = history[-1]\n",
    "    predictions.append(yhat)\n",
    "    # observation\n",
    "    obs = test[i]\n",
    "    history.append(obs)\n",
    "    print('>Predicted=%.3f, Expected=%3.f' % (yhat, obs))"
   ]
  },
  {
   "cell_type": "code",
   "execution_count": 19,
   "metadata": {},
   "outputs": [
    {
     "name": "stdout",
     "output_type": "stream",
     "text": [
      "RMSE: 21.658\n"
     ]
    }
   ],
   "source": [
    "evaluate(test, predictions)"
   ]
  },
  {
   "cell_type": "code",
   "execution_count": 20,
   "metadata": {},
   "outputs": [
    {
     "data": {
      "text/plain": [
       "<matplotlib.axes._subplots.AxesSubplot at 0x2efab274080>"
      ]
     },
     "execution_count": 20,
     "metadata": {},
     "output_type": "execute_result"
    },
    {
     "data": {
      "image/png": "[encoded data removed]",
      "text/plain": [
       "<Figure size 432x288 with 1 Axes>"
      ]
     },
     "metadata": {
      "needs_background": "light"
     },
     "output_type": "display_data"
    }
   ],
   "source": [
    "data.Water.plot()"
   ]
  },
  {
   "cell_type": "code",
   "execution_count": 30,
   "metadata": {},
   "outputs": [
    {
     "name": "stderr",
     "output_type": "stream",
     "text": [
      "C:\\Users\\mxcsy\\Anaconda3\\lib\\site-packages\\scipy\\signal\\signaltools.py:1341: FutureWarning: Using a non-tuple sequence for multidimensional indexing is deprecated; use `arr[tuple(seq)]` instead of `arr[seq]`. In the future this will be interpreted as an array index, `arr[np.array(seq)]`, which will result either in an error or a different result.\n",
      "  out_full[ind] += zi\n",
      "C:\\Users\\mxcsy\\Anaconda3\\lib\\site-packages\\scipy\\signal\\signaltools.py:1344: FutureWarning: Using a non-tuple sequence for multidimensional indexing is deprecated; use `arr[tuple(seq)]` instead of `arr[seq]`. In the future this will be interpreted as an array index, `arr[np.array(seq)]`, which will result either in an error or a different result.\n",
      "  out = out_full[ind]\n",
      "C:\\Users\\mxcsy\\Anaconda3\\lib\\site-packages\\scipy\\signal\\signaltools.py:1350: FutureWarning: Using a non-tuple sequence for multidimensional indexing is deprecated; use `arr[tuple(seq)]` instead of `arr[seq]`. In the future this will be interpreted as an array index, `arr[np.array(seq)]`, which will result either in an error or a different result.\n",
      "  zf = out_full[ind]\n"
     ]
    },
    {
     "name": "stdout",
     "output_type": "stream",
     "text": [
      ">Predicted=506.539, Expected=503\n",
      ">Predicted=509.686, Expected=503\n",
      ">Predicted=507.453, Expected=515\n",
      ">Predicted=519.821, Expected=522\n",
      ">Predicted=525.780, Expected=492\n",
      ">Predicted=494.875, Expected=503\n",
      ">Predicted=509.868, Expected=503\n",
      ">Predicted=505.933, Expected=450\n",
      ">Predicted=452.049, Expected=432\n",
      ">Predicted=438.515, Expected=432\n",
      ">Predicted=435.451, Expected=458\n",
      ">Predicted=461.069, Expected=462\n",
      ">Predicted=462.051, Expected=503\n",
      ">Predicted=507.090, Expected=488\n",
      ">Predicted=487.307, Expected=466\n",
      ">Predicted=469.348, Expected=492\n",
      ">Predicted=497.501, Expected=503\n",
      ">Predicted=503.665, Expected=515\n",
      ">Predicted=517.442, Expected=500\n",
      ">Predicted=501.526, Expected=522\n",
      ">Predicted=527.024, Expected=575\n",
      ">Predicted=578.166, Expected=583\n",
      ">Predicted=581.937, Expected=587\n",
      ">Predicted=590.672, Expected=628\n",
      ">Predicted=633.763, Expected=640\n",
      ">Predicted=641.388, Expected=609\n",
      ">Predicted=611.403, Expected=606\n",
      ">Predicted=614.049, Expected=632\n",
      ">Predicted=638.005, Expected=617\n",
      ">Predicted=618.047, Expected=613\n",
      ">Predicted=619.229, Expected=598\n",
      ">Predicted=602.199, Expected=575\n",
      ">Predicted=579.662, Expected=564\n",
      ">Predicted=569.584, Expected=549\n",
      ">Predicted=552.628, Expected=538\n"
     ]
    }
   ],
   "source": [
    "from statsmodels.tsa.arima_model import ARIMA\n",
    "series = pd.read_csv('dataset_water.csv')\n",
    "# prepare data\n",
    "X = series.Water.values\n",
    "X = X.astype('float32')\n",
    "train_size = int(len(X) * 0.50)\n",
    "train, test = X[0:train_size], X[train_size:]\n",
    "# walk-forward validation\n",
    "history = [x for x in train]\n",
    "predictions = list()\n",
    "\n",
    "for i in range(len(test)):\n",
    "    model = ARIMA(history, order=(2,1,0))\n",
    "    model_fit = model.fit(disp=0)\n",
    "    yhat = model_fit.forecast()[0]\n",
    "    predictions.append(yhat)\n",
    "    # observation\n",
    "    obs = test[i]\n",
    "    history.append(obs)\n",
    "    print('>Predicted=%.3f, Expected=%3.f' % (yhat, obs))"
   ]
  },
  {
   "cell_type": "code",
   "execution_count": 31,
   "metadata": {},
   "outputs": [
    {
     "name": "stdout",
     "output_type": "stream",
     "text": [
      "RMSE: 22.084\n"
     ]
    }
   ],
   "source": [
    "evaluate(test, predictions)"
   ]
  },
  {
   "cell_type": "code",
   "execution_count": null,
   "metadata": {},
   "outputs": [],
   "source": []
  }
 ],
 "metadata": {
  "kernelspec": {
   "display_name": "Python 3",
   "language": "python",
   "name": "python3"
  },
  "language_info": {
   "codemirror_mode": {
    "name": "ipython",
    "version": 3
   },
   "file_extension": ".py",
   "mimetype": "text/x-python",
   "name": "python",
   "nbconvert_exporter": "python",
   "pygments_lexer": "ipython3",
   "version": "3.7.1"
  }
 },
 "nbformat": 4,
 "nbformat_minor": 2
}
