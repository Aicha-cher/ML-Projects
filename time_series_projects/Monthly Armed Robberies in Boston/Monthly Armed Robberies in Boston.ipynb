{
 "cells": [
  {
   "cell_type": "code",
   "execution_count": 1,
   "metadata": {},
   "outputs": [
    {
     "name": "stdout",
     "output_type": "stream",
     "text": [
      "scipy: 1.1.0\n",
      "numpy: 1.15.4\n",
      "matplotlib: 3.0.2\n",
      "pandas: 0.23.4\n",
      "sklearn: 0.21.3\n",
      "statsmodels: 0.9.0\n"
     ]
    }
   ],
   "source": [
    "# scipy\n",
    "import scipy\n",
    "print('scipy: {}'.format(scipy.__version__))\n",
    "# numpy\n",
    "import numpy\n",
    "print('numpy: {}'.format(numpy.__version__))\n",
    "# matplotlib\n",
    "import matplotlib\n",
    "print('matplotlib: {}'.format(matplotlib.__version__))\n",
    "# pandas\n",
    "import pandas\n",
    "print('pandas: {}'.format(pandas.__version__))\n",
    "# scikit-learn\n",
    "import sklearn\n",
    "print('sklearn: {}'.format(sklearn.__version__))\n",
    "# statsmodels\n",
    "import statsmodels\n",
    "print('statsmodels: {}'.format(statsmodels.__version__))"
   ]
  },
  {
   "cell_type": "code",
   "execution_count": 19,
   "metadata": {},
   "outputs": [],
   "source": [
    "import matplotlib.pyplot as plt"
   ]
  },
  {
   "cell_type": "code",
   "execution_count": 8,
   "metadata": {},
   "outputs": [],
   "source": [
    "data = pandas.read_csv('robberies.csv', header=0)"
   ]
  },
  {
   "cell_type": "code",
   "execution_count": 9,
   "metadata": {},
   "outputs": [
    {
     "data": {
      "text/html": [
       "<div>\n",
       "<style scoped>\n",
       "    .dataframe tbody tr th:only-of-type {\n",
       "        vertical-align: middle;\n",
       "    }\n",
       "\n",
       "    .dataframe tbody tr th {\n",
       "        vertical-align: top;\n",
       "    }\n",
       "\n",
       "    .dataframe thead th {\n",
       "        text-align: right;\n",
       "    }\n",
       "</style>\n",
       "<table border=\"1\" class=\"dataframe\">\n",
       "  <thead>\n",
       "    <tr style=\"text-align: right;\">\n",
       "      <th></th>\n",
       "      <th>Month</th>\n",
       "      <th>Robberies</th>\n",
       "    </tr>\n",
       "  </thead>\n",
       "  <tbody>\n",
       "    <tr>\n",
       "      <th>0</th>\n",
       "      <td>1966-01</td>\n",
       "      <td>41</td>\n",
       "    </tr>\n",
       "    <tr>\n",
       "      <th>1</th>\n",
       "      <td>1966-02</td>\n",
       "      <td>39</td>\n",
       "    </tr>\n",
       "    <tr>\n",
       "      <th>2</th>\n",
       "      <td>1966-03</td>\n",
       "      <td>50</td>\n",
       "    </tr>\n",
       "    <tr>\n",
       "      <th>3</th>\n",
       "      <td>1966-04</td>\n",
       "      <td>40</td>\n",
       "    </tr>\n",
       "    <tr>\n",
       "      <th>4</th>\n",
       "      <td>1966-05</td>\n",
       "      <td>43</td>\n",
       "    </tr>\n",
       "  </tbody>\n",
       "</table>\n",
       "</div>"
      ],
      "text/plain": [
       "     Month  Robberies\n",
       "0  1966-01         41\n",
       "1  1966-02         39\n",
       "2  1966-03         50\n",
       "3  1966-04         40\n",
       "4  1966-05         43"
      ]
     },
     "execution_count": 9,
     "metadata": {},
     "output_type": "execute_result"
    }
   ],
   "source": [
    "data.head()"
   ]
  },
  {
   "cell_type": "code",
   "execution_count": 2,
   "metadata": {},
   "outputs": [
    {
     "name": "stderr",
     "output_type": "stream",
     "text": [
      "C:\\Users\\mxcsy\\Anaconda3\\lib\\site-packages\\pandas\\core\\series.py:3727: FutureWarning: from_csv is deprecated. Please use read_csv(...) instead. Note that some of the default arguments are different, so please refer to the documentation for from_csv when changing your function calls\n",
      "  infer_datetime_format=infer_datetime_format)\n"
     ]
    }
   ],
   "source": [
    "series = Series.from_csv('robberies.csv', header=0) \n",
    "split_point = len(series) - 12 \n",
    "dataset, validation = series[0:split_point], series[split_point:]"
   ]
  },
  {
   "cell_type": "code",
   "execution_count": 6,
   "metadata": {},
   "outputs": [
    {
     "data": {
      "text/plain": [
       "Month\n",
       "1966-01-01    41\n",
       "1966-02-01    39\n",
       "1966-03-01    50\n",
       "1966-04-01    40\n",
       "1966-05-01    43\n",
       "Name: Robberies, dtype: int64"
      ]
     },
     "execution_count": 6,
     "metadata": {},
     "output_type": "execute_result"
    }
   ],
   "source": [
    "series.head()"
   ]
  },
  {
   "cell_type": "code",
   "execution_count": 4,
   "metadata": {},
   "outputs": [
    {
     "name": "stdout",
     "output_type": "stream",
     "text": [
      "Dataset 106, Validation 12\n"
     ]
    }
   ],
   "source": [
    "print('Dataset %d, Validation %d' % (len(dataset), len(validation)))\n",
    "dataset.to_csv('dataset.csv')\n",
    "validation.to_csv('validation.csv')"
   ]
  },
  {
   "cell_type": "code",
   "execution_count": 5,
   "metadata": {},
   "outputs": [],
   "source": [
    "from sklearn.metrics import mean_squared_error\n",
    "from math import sqrt\n",
    "\n",
    "def evaluate(test, predictions):\n",
    "    mse = mean_squared_error(test, predictions)\n",
    "    rmse = sqrt(mse)\n",
    "    print('RMSE: %.3f' % rmse)"
   ]
  },
  {
   "cell_type": "markdown",
   "metadata": {},
   "source": [
    "## Baseline Model"
   ]
  },
  {
   "cell_type": "code",
   "execution_count": 10,
   "metadata": {},
   "outputs": [],
   "source": [
    "# prepare data\n",
    "X = series.values\n",
    "X = X.astype('float32')\n",
    "train_size = int(len(X) * 0.50)\n",
    "train, test = X[0:train_size], X[train_size:]"
   ]
  },
  {
   "cell_type": "code",
   "execution_count": 14,
   "metadata": {},
   "outputs": [],
   "source": [
    "history = [x for x in train]\n",
    "predictions = list()"
   ]
  },
  {
   "cell_type": "code",
   "execution_count": 15,
   "metadata": {
    "collapsed": true
   },
   "outputs": [
    {
     "name": "stdout",
     "output_type": "stream",
     "text": [
      ">Predicted=174.000, Expected=178\n",
      ">Predicted=178.000, Expected=136\n",
      ">Predicted=136.000, Expected=161\n",
      ">Predicted=161.000, Expected=171\n",
      ">Predicted=171.000, Expected=149\n",
      ">Predicted=149.000, Expected=184\n",
      ">Predicted=184.000, Expected=155\n",
      ">Predicted=155.000, Expected=276\n",
      ">Predicted=276.000, Expected=224\n",
      ">Predicted=224.000, Expected=213\n",
      ">Predicted=213.000, Expected=279\n",
      ">Predicted=279.000, Expected=268\n",
      ">Predicted=268.000, Expected=287\n",
      ">Predicted=287.000, Expected=238\n",
      ">Predicted=238.000, Expected=213\n",
      ">Predicted=213.000, Expected=257\n",
      ">Predicted=257.000, Expected=293\n",
      ">Predicted=293.000, Expected=212\n",
      ">Predicted=212.000, Expected=246\n",
      ">Predicted=246.000, Expected=353\n",
      ">Predicted=353.000, Expected=339\n",
      ">Predicted=339.000, Expected=308\n",
      ">Predicted=308.000, Expected=247\n",
      ">Predicted=247.000, Expected=257\n",
      ">Predicted=257.000, Expected=322\n",
      ">Predicted=322.000, Expected=298\n",
      ">Predicted=298.000, Expected=273\n",
      ">Predicted=273.000, Expected=312\n",
      ">Predicted=312.000, Expected=249\n",
      ">Predicted=249.000, Expected=286\n",
      ">Predicted=286.000, Expected=279\n",
      ">Predicted=279.000, Expected=309\n",
      ">Predicted=309.000, Expected=401\n",
      ">Predicted=401.000, Expected=309\n",
      ">Predicted=309.000, Expected=328\n",
      ">Predicted=328.000, Expected=353\n",
      ">Predicted=353.000, Expected=354\n",
      ">Predicted=354.000, Expected=327\n",
      ">Predicted=327.000, Expected=324\n",
      ">Predicted=324.000, Expected=285\n",
      ">Predicted=285.000, Expected=243\n",
      ">Predicted=243.000, Expected=241\n",
      ">Predicted=241.000, Expected=287\n",
      ">Predicted=287.000, Expected=355\n",
      ">Predicted=355.000, Expected=460\n",
      ">Predicted=460.000, Expected=364\n",
      ">Predicted=364.000, Expected=487\n",
      ">Predicted=487.000, Expected=452\n",
      ">Predicted=452.000, Expected=391\n",
      ">Predicted=391.000, Expected=500\n",
      ">Predicted=500.000, Expected=451\n",
      ">Predicted=451.000, Expected=375\n",
      ">Predicted=375.000, Expected=372\n",
      ">Predicted=372.000, Expected=302\n",
      ">Predicted=302.000, Expected=316\n",
      ">Predicted=316.000, Expected=398\n",
      ">Predicted=398.000, Expected=394\n",
      ">Predicted=394.000, Expected=431\n",
      ">Predicted=431.000, Expected=431\n"
     ]
    }
   ],
   "source": [
    "for i in range(len(test)):\n",
    "    yhat = history[-1]\n",
    "    predictions.append(yhat)\n",
    "    # observation\n",
    "    obs = test[i]\n",
    "    history.append(obs)\n",
    "    print('>Predicted=%.3f, Expected=%3.f' % (yhat, obs))"
   ]
  },
  {
   "cell_type": "code",
   "execution_count": 16,
   "metadata": {},
   "outputs": [
    {
     "name": "stdout",
     "output_type": "stream",
     "text": [
      "RMSE: 54.191\n"
     ]
    }
   ],
   "source": [
    "evaluate(test, predictions)"
   ]
  },
  {
   "cell_type": "markdown",
   "metadata": {},
   "source": [
    "## Data Summary"
   ]
  },
  {
   "cell_type": "code",
   "execution_count": 17,
   "metadata": {},
   "outputs": [
    {
     "name": "stderr",
     "output_type": "stream",
     "text": [
      "C:\\Users\\mxcsy\\Anaconda3\\lib\\site-packages\\pandas\\core\\series.py:3727: FutureWarning: from_csv is deprecated. Please use read_csv(...) instead. Note that some of the default arguments are different, so please refer to the documentation for from_csv when changing your function calls\n",
      "  infer_datetime_format=infer_datetime_format)\n"
     ]
    },
    {
     "name": "stdout",
     "output_type": "stream",
     "text": [
      "count    106.000000\n",
      "mean     173.103774\n",
      "std      112.231133\n",
      "min       29.000000\n",
      "25%       74.750000\n",
      "50%      144.500000\n",
      "75%      271.750000\n",
      "max      487.000000\n",
      "dtype: float64\n"
     ]
    }
   ],
   "source": [
    "series = pandas.Series.from_csv('dataset.csv')\n",
    "print(series.describe())"
   ]
  },
  {
   "cell_type": "code",
   "execution_count": 20,
   "metadata": {},
   "outputs": [
    {
     "data": {
      "image/png": "[encoded data removed]",
      "text/plain": [
       "<Figure size 432x288 with 1 Axes>"
      ]
     },
     "metadata": {
      "needs_background": "light"
     },
     "output_type": "display_data"
    }
   ],
   "source": [
    "series.plot()\n",
    "plt.show()"
   ]
  },
  {
   "cell_type": "code",
   "execution_count": 21,
   "metadata": {},
   "outputs": [
    {
     "data": {
      "image/png": "[encoded data removed]",
      "text/plain": [
       "<Figure size 432x288 with 2 Axes>"
      ]
     },
     "metadata": {
      "needs_background": "light"
     },
     "output_type": "display_data"
    }
   ],
   "source": [
    "plt.figure(1)\n",
    "plt.subplot(211)\n",
    "series.hist()\n",
    "plt.subplot(212)\n",
    "series.plot(kind='kde')\n",
    "plt.show()"
   ]
  },
  {
   "cell_type": "code",
   "execution_count": 22,
   "metadata": {},
   "outputs": [
    {
     "name": "stdout",
     "output_type": "stream",
     "text": [
      "ADF Statistic: -3.980946\n",
      "p-value: 0.001514\n",
      "Critical Values:\n",
      "\t1%: -3.503\n",
      "\t5%: -2.893\n",
      "\t10%: -2.584\n"
     ]
    }
   ],
   "source": [
    "from statsmodels.tsa.stattools import adfuller\n",
    "\n",
    "# create a differe\n",
    "def difference(dataset):\n",
    "    diff = list()\n",
    "    for i in range(1, len(dataset)):\n",
    "        value = dataset[i] - dataset[i - 1]\n",
    "        diff.append(value)\n",
    "    return Series(diff)\n",
    "\n",
    "X = series.values\n",
    "# difference data\n",
    "stationary = difference(X)\n",
    "stationary.index = series.index[1:]\n",
    "# check if stationary\n",
    "result = adfuller(stationary)\n",
    "print('ADF Statistic: %f' % result[0])\n",
    "print('p-value: %f' % result[1])\n",
    "print('Critical Values:')\n",
    "for key, value in result[4].items():\n",
    "    print('\\t%s: %.3f' % (key, value))\n",
    "# save\n",
    "stationary.to_csv('stationary.csv')"
   ]
  },
  {
   "cell_type": "markdown",
   "metadata": {},
   "source": [
    "## ARIMA model"
   ]
  },
  {
   "cell_type": "code",
   "execution_count": 27,
   "metadata": {},
   "outputs": [
    {
     "name": "stderr",
     "output_type": "stream",
     "text": [
      "C:\\Users\\mxcsy\\Anaconda3\\lib\\site-packages\\pandas\\core\\series.py:3727: FutureWarning: from_csv is deprecated. Please use read_csv(...) instead. Note that some of the default arguments are different, so please refer to the documentation for from_csv when changing your function calls\n",
      "  infer_datetime_format=infer_datetime_format)\n",
      "C:\\Users\\mxcsy\\Anaconda3\\lib\\site-packages\\scipy\\signal\\signaltools.py:1344: FutureWarning: Using a non-tuple sequence for multidimensional indexing is deprecated; use `arr[tuple(seq)]` instead of `arr[seq]`. In the future this will be interpreted as an array index, `arr[np.array(seq)]`, which will result either in an error or a different result.\n",
      "  out = out_full[ind]\n"
     ]
    },
    {
     "name": "stdout",
     "output_type": "stream",
     "text": [
      ">Predicted=102.710, Expected=125\n",
      ">Predicted=118.868, Expected=155\n",
      ">Predicted=141.099, Expected=190\n",
      ">Predicted=176.593, Expected=236\n",
      ">Predicted=233.418, Expected=189\n",
      ">Predicted=186.905, Expected=174\n",
      ">Predicted=184.846, Expected=178\n",
      ">Predicted=183.763, Expected=136\n",
      ">Predicted=146.180, Expected=161\n",
      ">Predicted=171.279, Expected=171\n",
      ">Predicted=170.196, Expected=149\n",
      ">Predicted=154.425, Expected=184\n",
      ">Predicted=185.707, Expected=155\n",
      ">Predicted=157.284, Expected=276\n",
      ">Predicted=245.280, Expected=224\n",
      ">Predicted=222.242, Expected=213\n",
      ">Predicted=219.698, Expected=279\n",
      ">Predicted=261.506, Expected=268\n",
      ">Predicted=264.287, Expected=287\n",
      ">Predicted=282.759, Expected=238\n",
      ">Predicted=255.843, Expected=213\n",
      ">Predicted=235.189, Expected=257\n",
      ">Predicted=257.622, Expected=293\n",
      ">Predicted=280.345, Expected=212\n",
      ">Predicted=235.564, Expected=246\n",
      ">Predicted=255.342, Expected=353\n",
      ">Predicted=318.613, Expected=339\n",
      ">Predicted=310.335, Expected=308\n",
      ">Predicted=306.789, Expected=247\n",
      ">Predicted=270.213, Expected=257\n",
      ">Predicted=283.318, Expected=322\n",
      ">Predicted=316.063, Expected=298\n",
      ">Predicted=294.466, Expected=273\n",
      ">Predicted=289.635, Expected=312\n",
      ">Predicted=314.759, Expected=249\n",
      ">Predicted=268.675, Expected=286\n",
      ">Predicted=303.095, Expected=279\n",
      ">Predicted=286.441, Expected=309\n",
      ">Predicted=309.455, Expected=401\n",
      ">Predicted=363.141, Expected=309\n",
      ">Predicted=304.979, Expected=328\n",
      ">Predicted=336.240, Expected=353\n",
      ">Predicted=342.814, Expected=354\n",
      ">Predicted=347.675, Expected=327\n",
      ">Predicted=335.842, Expected=324\n",
      ">Predicted=338.449, Expected=285\n",
      ">Predicted=314.714, Expected=243\n",
      ">Predicted=290.336, Expected=241\n",
      ">Predicted=280.614, Expected=287\n",
      ">Predicted=302.079, Expected=355\n",
      ">Predicted=340.210, Expected=460\n",
      ">Predicted=405.172, Expected=364\n",
      ">Predicted=333.755, Expected=487\n"
     ]
    }
   ],
   "source": [
    "from statsmodels.tsa.arima_model import ARIMA\n",
    "series = Series.from_csv('dataset.csv')\n",
    "# prepare data\n",
    "X = series.values\n",
    "X = X.astype('float32')\n",
    "train_size = int(len(X) * 0.50)\n",
    "train, test = X[0:train_size], X[train_size:]\n",
    "# walk-forward validation\n",
    "history = [x for x in train]\n",
    "predictions = list()\n",
    "\n",
    "for i in range(len(test)):\n",
    "    model = ARIMA(history, order=(0,1,2))\n",
    "    model_fit = model.fit(disp=0)\n",
    "    yhat = model_fit.forecast()[0]\n",
    "    predictions.append(yhat)\n",
    "    # observation\n",
    "    obs = test[i]\n",
    "    history.append(obs)\n",
    "    print('>Predicted=%.3f, Expected=%3.f' % (yhat, obs))"
   ]
  },
  {
   "cell_type": "code",
   "execution_count": 28,
   "metadata": {},
   "outputs": [
    {
     "name": "stdout",
     "output_type": "stream",
     "text": [
      "RMSE: 49.821\n"
     ]
    }
   ],
   "source": [
    "evaluate(test, predictions)"
   ]
  }
 ],
 "metadata": {
  "kernelspec": {
   "display_name": "Python 3",
   "language": "python",
   "name": "python3"
  },
  "language_info": {
   "codemirror_mode": {
    "name": "ipython",
    "version": 3
   },
   "file_extension": ".py",
   "mimetype": "text/x-python",
   "name": "python",
   "nbconvert_exporter": "python",
   "pygments_lexer": "ipython3",
   "version": "3.7.1"
  }
 },
 "nbformat": 4,
 "nbformat_minor": 2
}
