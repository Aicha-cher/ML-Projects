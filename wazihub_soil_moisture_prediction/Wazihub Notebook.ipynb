{
 "cells": [
  {
   "cell_type": "code",
   "execution_count": 1,
   "metadata": {},
   "outputs": [],
   "source": [
    "import pandas as pd\n",
    "import matplotlib.pyplot as plt\n",
    "import seaborn as sns\n",
    "import numpy as np"
   ]
  },
  {
   "cell_type": "code",
   "execution_count": 2,
   "metadata": {},
   "outputs": [],
   "source": [
    "data = pd.read_csv('Train.csv')"
   ]
  },
  {
   "cell_type": "markdown",
   "metadata": {},
   "source": [
    "## Explore the data "
   ]
  },
  {
   "cell_type": "code",
   "execution_count": 3,
   "metadata": {},
   "outputs": [
    {
     "data": {
      "text/html": [
       "<div>\n",
       "<style scoped>\n",
       "    .dataframe tbody tr th:only-of-type {\n",
       "        vertical-align: middle;\n",
       "    }\n",
       "\n",
       "    .dataframe tbody tr th {\n",
       "        vertical-align: top;\n",
       "    }\n",
       "\n",
       "    .dataframe thead th {\n",
       "        text-align: right;\n",
       "    }\n",
       "</style>\n",
       "<table border=\"1\" class=\"dataframe\">\n",
       "  <thead>\n",
       "    <tr style=\"text-align: right;\">\n",
       "      <th></th>\n",
       "      <th>timestamp</th>\n",
       "      <th>Soil humidity 1</th>\n",
       "      <th>Irrigation field 1</th>\n",
       "      <th>Soil humidity 2</th>\n",
       "      <th>Irrigation field 2</th>\n",
       "      <th>Soil humidity 3</th>\n",
       "      <th>Irrigation field 3</th>\n",
       "      <th>Soil humidity 4</th>\n",
       "      <th>Irrigation field 4</th>\n",
       "      <th>Air temperature (C)</th>\n",
       "      <th>Air humidity (%)</th>\n",
       "      <th>Pressure (KPa)</th>\n",
       "      <th>Wind speed (Km/h)</th>\n",
       "      <th>Wind gust (Km/h)</th>\n",
       "      <th>Wind direction (Deg)</th>\n",
       "    </tr>\n",
       "  </thead>\n",
       "  <tbody>\n",
       "    <tr>\n",
       "      <th>0</th>\n",
       "      <td>2019-02-23 00:00:00</td>\n",
       "      <td>67.92</td>\n",
       "      <td>0.0</td>\n",
       "      <td>55.72</td>\n",
       "      <td>0.0</td>\n",
       "      <td>-1.56</td>\n",
       "      <td>1.0</td>\n",
       "      <td>26.57</td>\n",
       "      <td>1.0</td>\n",
       "      <td>19.52</td>\n",
       "      <td>55.04</td>\n",
       "      <td>101.50</td>\n",
       "      <td>2.13</td>\n",
       "      <td>6.30</td>\n",
       "      <td>225.00</td>\n",
       "    </tr>\n",
       "    <tr>\n",
       "      <th>1</th>\n",
       "      <td>2019-02-23 00:05:00</td>\n",
       "      <td>67.89</td>\n",
       "      <td>0.0</td>\n",
       "      <td>55.74</td>\n",
       "      <td>0.0</td>\n",
       "      <td>-1.51</td>\n",
       "      <td>1.0</td>\n",
       "      <td>26.58</td>\n",
       "      <td>1.0</td>\n",
       "      <td>19.49</td>\n",
       "      <td>55.17</td>\n",
       "      <td>101.50</td>\n",
       "      <td>2.01</td>\n",
       "      <td>10.46</td>\n",
       "      <td>123.75</td>\n",
       "    </tr>\n",
       "    <tr>\n",
       "      <th>2</th>\n",
       "      <td>2019-02-23 00:10:00</td>\n",
       "      <td>67.86</td>\n",
       "      <td>0.0</td>\n",
       "      <td>55.77</td>\n",
       "      <td>0.0</td>\n",
       "      <td>-1.47</td>\n",
       "      <td>1.0</td>\n",
       "      <td>26.59</td>\n",
       "      <td>1.0</td>\n",
       "      <td>19.47</td>\n",
       "      <td>55.30</td>\n",
       "      <td>101.51</td>\n",
       "      <td>1.90</td>\n",
       "      <td>14.63</td>\n",
       "      <td>22.50</td>\n",
       "    </tr>\n",
       "    <tr>\n",
       "      <th>3</th>\n",
       "      <td>2019-02-23 00:15:00</td>\n",
       "      <td>67.84</td>\n",
       "      <td>0.0</td>\n",
       "      <td>55.79</td>\n",
       "      <td>0.0</td>\n",
       "      <td>-1.42</td>\n",
       "      <td>1.0</td>\n",
       "      <td>26.61</td>\n",
       "      <td>1.0</td>\n",
       "      <td>19.54</td>\n",
       "      <td>54.20</td>\n",
       "      <td>101.51</td>\n",
       "      <td>2.28</td>\n",
       "      <td>16.08</td>\n",
       "      <td>123.75</td>\n",
       "    </tr>\n",
       "    <tr>\n",
       "      <th>4</th>\n",
       "      <td>2019-02-23 00:20:00</td>\n",
       "      <td>67.81</td>\n",
       "      <td>0.0</td>\n",
       "      <td>55.82</td>\n",
       "      <td>0.0</td>\n",
       "      <td>-1.38</td>\n",
       "      <td>1.0</td>\n",
       "      <td>26.62</td>\n",
       "      <td>1.0</td>\n",
       "      <td>19.61</td>\n",
       "      <td>53.09</td>\n",
       "      <td>101.51</td>\n",
       "      <td>2.66</td>\n",
       "      <td>17.52</td>\n",
       "      <td>225.00</td>\n",
       "    </tr>\n",
       "  </tbody>\n",
       "</table>\n",
       "</div>"
      ],
      "text/plain": [
       "             timestamp  Soil humidity 1  Irrigation field 1  Soil humidity 2  \\\n",
       "0  2019-02-23 00:00:00            67.92                 0.0            55.72   \n",
       "1  2019-02-23 00:05:00            67.89                 0.0            55.74   \n",
       "2  2019-02-23 00:10:00            67.86                 0.0            55.77   \n",
       "3  2019-02-23 00:15:00            67.84                 0.0            55.79   \n",
       "4  2019-02-23 00:20:00            67.81                 0.0            55.82   \n",
       "\n",
       "   Irrigation field 2  Soil humidity 3  Irrigation field 3  Soil humidity 4  \\\n",
       "0                 0.0            -1.56                 1.0            26.57   \n",
       "1                 0.0            -1.51                 1.0            26.58   \n",
       "2                 0.0            -1.47                 1.0            26.59   \n",
       "3                 0.0            -1.42                 1.0            26.61   \n",
       "4                 0.0            -1.38                 1.0            26.62   \n",
       "\n",
       "   Irrigation field 4  Air temperature (C)  Air humidity (%)  Pressure (KPa)  \\\n",
       "0                 1.0                19.52             55.04          101.50   \n",
       "1                 1.0                19.49             55.17          101.50   \n",
       "2                 1.0                19.47             55.30          101.51   \n",
       "3                 1.0                19.54             54.20          101.51   \n",
       "4                 1.0                19.61             53.09          101.51   \n",
       "\n",
       "   Wind speed (Km/h)  Wind gust (Km/h)  Wind direction (Deg)  \n",
       "0               2.13              6.30                225.00  \n",
       "1               2.01             10.46                123.75  \n",
       "2               1.90             14.63                 22.50  \n",
       "3               2.28             16.08                123.75  \n",
       "4               2.66             17.52                225.00  "
      ]
     },
     "execution_count": 3,
     "metadata": {},
     "output_type": "execute_result"
    }
   ],
   "source": [
    "data.head()"
   ]
  },
  {
   "cell_type": "code",
   "execution_count": 4,
   "metadata": {},
   "outputs": [
    {
     "data": {
      "text/plain": [
       "(28049, 15)"
      ]
     },
     "execution_count": 4,
     "metadata": {},
     "output_type": "execute_result"
    }
   ],
   "source": [
    "data.shape"
   ]
  },
  {
   "cell_type": "code",
   "execution_count": 5,
   "metadata": {},
   "outputs": [
    {
     "data": {
      "text/html": [
       "<div>\n",
       "<style scoped>\n",
       "    .dataframe tbody tr th:only-of-type {\n",
       "        vertical-align: middle;\n",
       "    }\n",
       "\n",
       "    .dataframe tbody tr th {\n",
       "        vertical-align: top;\n",
       "    }\n",
       "\n",
       "    .dataframe thead th {\n",
       "        text-align: right;\n",
       "    }\n",
       "</style>\n",
       "<table border=\"1\" class=\"dataframe\">\n",
       "  <thead>\n",
       "    <tr style=\"text-align: right;\">\n",
       "      <th></th>\n",
       "      <th>Soil humidity 1</th>\n",
       "      <th>Irrigation field 1</th>\n",
       "      <th>Soil humidity 2</th>\n",
       "      <th>Irrigation field 2</th>\n",
       "      <th>Soil humidity 3</th>\n",
       "      <th>Irrigation field 3</th>\n",
       "      <th>Soil humidity 4</th>\n",
       "      <th>Irrigation field 4</th>\n",
       "      <th>Air temperature (C)</th>\n",
       "      <th>Air humidity (%)</th>\n",
       "      <th>Pressure (KPa)</th>\n",
       "      <th>Wind speed (Km/h)</th>\n",
       "      <th>Wind gust (Km/h)</th>\n",
       "      <th>Wind direction (Deg)</th>\n",
       "    </tr>\n",
       "  </thead>\n",
       "  <tbody>\n",
       "    <tr>\n",
       "      <th>count</th>\n",
       "      <td>8917.000000</td>\n",
       "      <td>10066.000000</td>\n",
       "      <td>26304.000000</td>\n",
       "      <td>28029.000000</td>\n",
       "      <td>16086.000000</td>\n",
       "      <td>17236.000000</td>\n",
       "      <td>26306.000000</td>\n",
       "      <td>28029.000000</td>\n",
       "      <td>23995.000000</td>\n",
       "      <td>23995.000000</td>\n",
       "      <td>23995.000000</td>\n",
       "      <td>23995.000000</td>\n",
       "      <td>23995.000000</td>\n",
       "      <td>23995.000000</td>\n",
       "    </tr>\n",
       "    <tr>\n",
       "      <th>mean</th>\n",
       "      <td>63.025653</td>\n",
       "      <td>0.177727</td>\n",
       "      <td>18.767424</td>\n",
       "      <td>0.095615</td>\n",
       "      <td>25.046062</td>\n",
       "      <td>0.245243</td>\n",
       "      <td>17.512501</td>\n",
       "      <td>0.211531</td>\n",
       "      <td>24.263780</td>\n",
       "      <td>58.521052</td>\n",
       "      <td>101.131418</td>\n",
       "      <td>9.896898</td>\n",
       "      <td>41.744905</td>\n",
       "      <td>93.983796</td>\n",
       "    </tr>\n",
       "    <tr>\n",
       "      <th>std</th>\n",
       "      <td>9.801099</td>\n",
       "      <td>0.382302</td>\n",
       "      <td>22.903736</td>\n",
       "      <td>0.294068</td>\n",
       "      <td>19.998016</td>\n",
       "      <td>0.430243</td>\n",
       "      <td>14.247310</td>\n",
       "      <td>0.408401</td>\n",
       "      <td>6.756751</td>\n",
       "      <td>30.073448</td>\n",
       "      <td>0.218448</td>\n",
       "      <td>4.325666</td>\n",
       "      <td>24.168987</td>\n",
       "      <td>100.502500</td>\n",
       "    </tr>\n",
       "    <tr>\n",
       "      <th>min</th>\n",
       "      <td>36.000000</td>\n",
       "      <td>0.000000</td>\n",
       "      <td>-45.000000</td>\n",
       "      <td>0.000000</td>\n",
       "      <td>-38.000000</td>\n",
       "      <td>0.000000</td>\n",
       "      <td>-30.000000</td>\n",
       "      <td>0.000000</td>\n",
       "      <td>11.220000</td>\n",
       "      <td>0.590000</td>\n",
       "      <td>100.500000</td>\n",
       "      <td>0.000000</td>\n",
       "      <td>0.000000</td>\n",
       "      <td>0.000000</td>\n",
       "    </tr>\n",
       "    <tr>\n",
       "      <th>25%</th>\n",
       "      <td>58.210000</td>\n",
       "      <td>0.000000</td>\n",
       "      <td>3.850000</td>\n",
       "      <td>0.000000</td>\n",
       "      <td>10.220000</td>\n",
       "      <td>0.000000</td>\n",
       "      <td>8.000000</td>\n",
       "      <td>0.000000</td>\n",
       "      <td>18.580000</td>\n",
       "      <td>33.980000</td>\n",
       "      <td>100.980000</td>\n",
       "      <td>6.830000</td>\n",
       "      <td>21.820000</td>\n",
       "      <td>22.500000</td>\n",
       "    </tr>\n",
       "    <tr>\n",
       "      <th>50%</th>\n",
       "      <td>63.000000</td>\n",
       "      <td>0.000000</td>\n",
       "      <td>23.000000</td>\n",
       "      <td>0.000000</td>\n",
       "      <td>26.610000</td>\n",
       "      <td>0.000000</td>\n",
       "      <td>19.600000</td>\n",
       "      <td>0.000000</td>\n",
       "      <td>22.150000</td>\n",
       "      <td>61.310000</td>\n",
       "      <td>101.120000</td>\n",
       "      <td>9.530000</td>\n",
       "      <td>37.240000</td>\n",
       "      <td>22.500000</td>\n",
       "    </tr>\n",
       "    <tr>\n",
       "      <th>75%</th>\n",
       "      <td>68.000000</td>\n",
       "      <td>0.000000</td>\n",
       "      <td>35.310000</td>\n",
       "      <td>0.000000</td>\n",
       "      <td>41.360000</td>\n",
       "      <td>0.000000</td>\n",
       "      <td>29.050000</td>\n",
       "      <td>0.000000</td>\n",
       "      <td>29.590000</td>\n",
       "      <td>86.360000</td>\n",
       "      <td>101.260000</td>\n",
       "      <td>12.460000</td>\n",
       "      <td>59.275000</td>\n",
       "      <td>180.000000</td>\n",
       "    </tr>\n",
       "    <tr>\n",
       "      <th>max</th>\n",
       "      <td>88.000000</td>\n",
       "      <td>1.000000</td>\n",
       "      <td>59.000000</td>\n",
       "      <td>1.000000</td>\n",
       "      <td>68.000000</td>\n",
       "      <td>1.000000</td>\n",
       "      <td>47.000000</td>\n",
       "      <td>1.000000</td>\n",
       "      <td>45.560000</td>\n",
       "      <td>96.000000</td>\n",
       "      <td>101.860000</td>\n",
       "      <td>31.360000</td>\n",
       "      <td>133.330000</td>\n",
       "      <td>337.500000</td>\n",
       "    </tr>\n",
       "  </tbody>\n",
       "</table>\n",
       "</div>"
      ],
      "text/plain": [
       "       Soil humidity 1  Irrigation field 1  Soil humidity 2  \\\n",
       "count      8917.000000        10066.000000     26304.000000   \n",
       "mean         63.025653            0.177727        18.767424   \n",
       "std           9.801099            0.382302        22.903736   \n",
       "min          36.000000            0.000000       -45.000000   \n",
       "25%          58.210000            0.000000         3.850000   \n",
       "50%          63.000000            0.000000        23.000000   \n",
       "75%          68.000000            0.000000        35.310000   \n",
       "max          88.000000            1.000000        59.000000   \n",
       "\n",
       "       Irrigation field 2  Soil humidity 3  Irrigation field 3  \\\n",
       "count        28029.000000     16086.000000        17236.000000   \n",
       "mean             0.095615        25.046062            0.245243   \n",
       "std              0.294068        19.998016            0.430243   \n",
       "min              0.000000       -38.000000            0.000000   \n",
       "25%              0.000000        10.220000            0.000000   \n",
       "50%              0.000000        26.610000            0.000000   \n",
       "75%              0.000000        41.360000            0.000000   \n",
       "max              1.000000        68.000000            1.000000   \n",
       "\n",
       "       Soil humidity 4  Irrigation field 4  Air temperature (C)  \\\n",
       "count     26306.000000        28029.000000         23995.000000   \n",
       "mean         17.512501            0.211531            24.263780   \n",
       "std          14.247310            0.408401             6.756751   \n",
       "min         -30.000000            0.000000            11.220000   \n",
       "25%           8.000000            0.000000            18.580000   \n",
       "50%          19.600000            0.000000            22.150000   \n",
       "75%          29.050000            0.000000            29.590000   \n",
       "max          47.000000            1.000000            45.560000   \n",
       "\n",
       "       Air humidity (%)  Pressure (KPa)  Wind speed (Km/h)  Wind gust (Km/h)  \\\n",
       "count      23995.000000    23995.000000       23995.000000      23995.000000   \n",
       "mean          58.521052      101.131418           9.896898         41.744905   \n",
       "std           30.073448        0.218448           4.325666         24.168987   \n",
       "min            0.590000      100.500000           0.000000          0.000000   \n",
       "25%           33.980000      100.980000           6.830000         21.820000   \n",
       "50%           61.310000      101.120000           9.530000         37.240000   \n",
       "75%           86.360000      101.260000          12.460000         59.275000   \n",
       "max           96.000000      101.860000          31.360000        133.330000   \n",
       "\n",
       "       Wind direction (Deg)  \n",
       "count          23995.000000  \n",
       "mean              93.983796  \n",
       "std              100.502500  \n",
       "min                0.000000  \n",
       "25%               22.500000  \n",
       "50%               22.500000  \n",
       "75%              180.000000  \n",
       "max              337.500000  "
      ]
     },
     "execution_count": 5,
     "metadata": {},
     "output_type": "execute_result"
    }
   ],
   "source": [
    "data.describe()"
   ]
  },
  {
   "cell_type": "code",
   "execution_count": 6,
   "metadata": {},
   "outputs": [
    {
     "name": "stdout",
     "output_type": "stream",
     "text": [
      "<class 'pandas.core.frame.DataFrame'>\n",
      "RangeIndex: 28049 entries, 0 to 28048\n",
      "Data columns (total 15 columns):\n",
      "timestamp               28049 non-null object\n",
      "Soil humidity 1         8917 non-null float64\n",
      "Irrigation field 1      10066 non-null float64\n",
      "Soil humidity 2         26304 non-null float64\n",
      "Irrigation field 2      28029 non-null float64\n",
      "Soil humidity 3         16086 non-null float64\n",
      "Irrigation field 3      17236 non-null float64\n",
      "Soil humidity 4         26306 non-null float64\n",
      "Irrigation field 4      28029 non-null float64\n",
      "Air temperature (C)     23995 non-null float64\n",
      "Air humidity (%)        23995 non-null float64\n",
      "Pressure (KPa)          23995 non-null float64\n",
      "Wind speed (Km/h)       23995 non-null float64\n",
      "Wind gust (Km/h)        23995 non-null float64\n",
      "Wind direction (Deg)    23995 non-null float64\n",
      "dtypes: float64(14), object(1)\n",
      "memory usage: 3.2+ MB\n"
     ]
    }
   ],
   "source": [
    "data.info()"
   ]
  },
  {
   "cell_type": "code",
   "execution_count": 7,
   "metadata": {},
   "outputs": [
    {
     "data": {
      "text/plain": [
       "timestamp                   0\n",
       "Soil humidity 1         19132\n",
       "Irrigation field 1      17983\n",
       "Soil humidity 2          1745\n",
       "Irrigation field 2         20\n",
       "Soil humidity 3         11963\n",
       "Irrigation field 3      10813\n",
       "Soil humidity 4          1743\n",
       "Irrigation field 4         20\n",
       "Air temperature (C)      4054\n",
       "Air humidity (%)         4054\n",
       "Pressure (KPa)           4054\n",
       "Wind speed (Km/h)        4054\n",
       "Wind gust (Km/h)         4054\n",
       "Wind direction (Deg)     4054\n",
       "dtype: int64"
      ]
     },
     "execution_count": 7,
     "metadata": {},
     "output_type": "execute_result"
    }
   ],
   "source": [
    "data.isnull().sum()"
   ]
  },
  {
   "cell_type": "code",
   "execution_count": 8,
   "metadata": {},
   "outputs": [
    {
     "data": {
      "text/plain": [
       "Index(['timestamp', 'Soil humidity 1', 'Irrigation field 1', 'Soil humidity 2',\n",
       "       'Irrigation field 2', 'Soil humidity 3', 'Irrigation field 3',\n",
       "       'Soil humidity 4', 'Irrigation field 4', 'Air temperature (C)',\n",
       "       'Air humidity (%)', 'Pressure (KPa)', 'Wind speed (Km/h)',\n",
       "       'Wind gust (Km/h)', 'Wind direction (Deg)'],\n",
       "      dtype='object')"
      ]
     },
     "execution_count": 8,
     "metadata": {},
     "output_type": "execute_result"
    }
   ],
   "source": [
    "data.columns"
   ]
  },
  {
   "cell_type": "code",
   "execution_count": 9,
   "metadata": {},
   "outputs": [],
   "source": [
    "data = data.drop(['Irrigation field 1', 'Irrigation field 2', 'Irrigation field 3', 'Irrigation field 4', 'Air temperature (C)',\n",
    "       'Air humidity (%)', 'Pressure (KPa)', 'Wind speed (Km/h)',\n",
    "       'Wind gust (Km/h)', 'Wind direction (Deg)'], axis = 1)"
   ]
  },
  {
   "cell_type": "code",
   "execution_count": 10,
   "metadata": {},
   "outputs": [
    {
     "data": {
      "text/html": [
       "<div>\n",
       "<style scoped>\n",
       "    .dataframe tbody tr th:only-of-type {\n",
       "        vertical-align: middle;\n",
       "    }\n",
       "\n",
       "    .dataframe tbody tr th {\n",
       "        vertical-align: top;\n",
       "    }\n",
       "\n",
       "    .dataframe thead th {\n",
       "        text-align: right;\n",
       "    }\n",
       "</style>\n",
       "<table border=\"1\" class=\"dataframe\">\n",
       "  <thead>\n",
       "    <tr style=\"text-align: right;\">\n",
       "      <th></th>\n",
       "      <th>timestamp</th>\n",
       "      <th>Soil humidity 1</th>\n",
       "      <th>Soil humidity 2</th>\n",
       "      <th>Soil humidity 3</th>\n",
       "      <th>Soil humidity 4</th>\n",
       "    </tr>\n",
       "  </thead>\n",
       "  <tbody>\n",
       "    <tr>\n",
       "      <th>0</th>\n",
       "      <td>2019-02-23 00:00:00</td>\n",
       "      <td>67.92</td>\n",
       "      <td>55.72</td>\n",
       "      <td>-1.56</td>\n",
       "      <td>26.57</td>\n",
       "    </tr>\n",
       "    <tr>\n",
       "      <th>1</th>\n",
       "      <td>2019-02-23 00:05:00</td>\n",
       "      <td>67.89</td>\n",
       "      <td>55.74</td>\n",
       "      <td>-1.51</td>\n",
       "      <td>26.58</td>\n",
       "    </tr>\n",
       "    <tr>\n",
       "      <th>2</th>\n",
       "      <td>2019-02-23 00:10:00</td>\n",
       "      <td>67.86</td>\n",
       "      <td>55.77</td>\n",
       "      <td>-1.47</td>\n",
       "      <td>26.59</td>\n",
       "    </tr>\n",
       "    <tr>\n",
       "      <th>3</th>\n",
       "      <td>2019-02-23 00:15:00</td>\n",
       "      <td>67.84</td>\n",
       "      <td>55.79</td>\n",
       "      <td>-1.42</td>\n",
       "      <td>26.61</td>\n",
       "    </tr>\n",
       "    <tr>\n",
       "      <th>4</th>\n",
       "      <td>2019-02-23 00:20:00</td>\n",
       "      <td>67.81</td>\n",
       "      <td>55.82</td>\n",
       "      <td>-1.38</td>\n",
       "      <td>26.62</td>\n",
       "    </tr>\n",
       "  </tbody>\n",
       "</table>\n",
       "</div>"
      ],
      "text/plain": [
       "             timestamp  Soil humidity 1  Soil humidity 2  Soil humidity 3  \\\n",
       "0  2019-02-23 00:00:00            67.92            55.72            -1.56   \n",
       "1  2019-02-23 00:05:00            67.89            55.74            -1.51   \n",
       "2  2019-02-23 00:10:00            67.86            55.77            -1.47   \n",
       "3  2019-02-23 00:15:00            67.84            55.79            -1.42   \n",
       "4  2019-02-23 00:20:00            67.81            55.82            -1.38   \n",
       "\n",
       "   Soil humidity 4  \n",
       "0            26.57  \n",
       "1            26.58  \n",
       "2            26.59  \n",
       "3            26.61  \n",
       "4            26.62  "
      ]
     },
     "execution_count": 10,
     "metadata": {},
     "output_type": "execute_result"
    }
   ],
   "source": [
    "data.head()"
   ]
  },
  {
   "cell_type": "code",
   "execution_count": 11,
   "metadata": {},
   "outputs": [],
   "source": [
    "solid1 = data.drop(['Soil humidity 2', 'Soil humidity 3', 'Soil humidity 4'], axis = 1)\n",
    "solid2 = data.drop(['Soil humidity 1', 'Soil humidity 3', 'Soil humidity 4'], axis = 1)\n",
    "solid3 = data.drop(['Soil humidity 2', 'Soil humidity 1', 'Soil humidity 4'], axis = 1)\n",
    "solid4 = data.drop(['Soil humidity 2', 'Soil humidity 3', 'Soil humidity 1'], axis = 1)"
   ]
  },
  {
   "cell_type": "code",
   "execution_count": 12,
   "metadata": {},
   "outputs": [
    {
     "data": {
      "text/plain": [
       "((28049, 2), (28049, 2), (28049, 2), (28049, 2))"
      ]
     },
     "execution_count": 12,
     "metadata": {},
     "output_type": "execute_result"
    }
   ],
   "source": [
    "solid1.shape, solid2.shape, solid3.shape ,solid4.shape"
   ]
  },
  {
   "cell_type": "code",
   "execution_count": 13,
   "metadata": {},
   "outputs": [],
   "source": [
    "time = \"2019-02-23 00:00:00\""
   ]
  },
  {
   "cell_type": "code",
   "execution_count": 14,
   "metadata": {},
   "outputs": [
    {
     "data": {
      "text/plain": [
       "'2019'"
      ]
     },
     "execution_count": 14,
     "metadata": {},
     "output_type": "execute_result"
    }
   ],
   "source": [
    "time.split(\" \")[0].split(\"-\")[0]"
   ]
  },
  {
   "cell_type": "code",
   "execution_count": 15,
   "metadata": {},
   "outputs": [],
   "source": [
    "def extract_timestamp(solid, field):\n",
    "    solid.dropna(inplace=True)\n",
    "    solid[\"year\"] = solid.timestamp.str.split(\" \", n = 1, expand = True)[0].str.split(\"-\", n = 2, expand = True)[0].astype(int)\n",
    "    solid[\"month\"] = solid.timestamp.str.split(\" \", n = 1, expand = True)[0].str.split(\"-\", n = 2, expand = True)[1].astype(int)\n",
    "    solid[\"day\"] = solid.timestamp.str.split(\" \", n = 1, expand = True)[0].str.split(\"-\", n = 2, expand = True)[2].astype(int)\n",
    "    solid[\"hour\"] = solid.timestamp.str.split(\" \", n = 1, expand = True)[1].str.split(\":\", n = 2, expand = True)[0].astype(int)\n",
    "    solid[\"minute\"] = solid.timestamp.str.split(\" \", n = 1, expand = True)[1].str.split(\":\", n = 2, expand = True)[1].astype(int)\n",
    "    solid[\"second\"] = solid.timestamp.str.split(\" \", n = 1, expand = True)[1].str.split(\":\", n = 2, expand = True)[2].astype(int)\n",
    "    solid.insert(1, 'field ',np.zeros((solid.shape[0], 1), dtype = int) + field)\n",
    "    solid = solid.drop(['timestamp'], axis = 1)\n",
    "    solid.rename(columns={ solid.columns[1]: \"target\" }, inplace = True)\n",
    "    return solid"
   ]
  },
  {
   "cell_type": "code",
   "execution_count": 16,
   "metadata": {},
   "outputs": [],
   "source": [
    "solid1 = extract_timestamp(solid1, 1)\n",
    "solid2 = extract_timestamp(solid2, 2)\n",
    "solid3 = extract_timestamp(solid3, 3)\n",
    "solid4 = extract_timestamp(solid4, 4)"
   ]
  },
  {
   "cell_type": "code",
   "execution_count": 17,
   "metadata": {},
   "outputs": [
    {
     "data": {
      "text/html": [
       "<div>\n",
       "<style scoped>\n",
       "    .dataframe tbody tr th:only-of-type {\n",
       "        vertical-align: middle;\n",
       "    }\n",
       "\n",
       "    .dataframe tbody tr th {\n",
       "        vertical-align: top;\n",
       "    }\n",
       "\n",
       "    .dataframe thead th {\n",
       "        text-align: right;\n",
       "    }\n",
       "</style>\n",
       "<table border=\"1\" class=\"dataframe\">\n",
       "  <thead>\n",
       "    <tr style=\"text-align: right;\">\n",
       "      <th></th>\n",
       "      <th>field</th>\n",
       "      <th>target</th>\n",
       "      <th>year</th>\n",
       "      <th>month</th>\n",
       "      <th>day</th>\n",
       "      <th>hour</th>\n",
       "      <th>minute</th>\n",
       "      <th>second</th>\n",
       "    </tr>\n",
       "  </thead>\n",
       "  <tbody>\n",
       "    <tr>\n",
       "      <th>0</th>\n",
       "      <td>1</td>\n",
       "      <td>67.92</td>\n",
       "      <td>2019</td>\n",
       "      <td>2</td>\n",
       "      <td>23</td>\n",
       "      <td>0</td>\n",
       "      <td>0</td>\n",
       "      <td>0</td>\n",
       "    </tr>\n",
       "    <tr>\n",
       "      <th>1</th>\n",
       "      <td>1</td>\n",
       "      <td>67.89</td>\n",
       "      <td>2019</td>\n",
       "      <td>2</td>\n",
       "      <td>23</td>\n",
       "      <td>0</td>\n",
       "      <td>5</td>\n",
       "      <td>0</td>\n",
       "    </tr>\n",
       "    <tr>\n",
       "      <th>2</th>\n",
       "      <td>1</td>\n",
       "      <td>67.86</td>\n",
       "      <td>2019</td>\n",
       "      <td>2</td>\n",
       "      <td>23</td>\n",
       "      <td>0</td>\n",
       "      <td>10</td>\n",
       "      <td>0</td>\n",
       "    </tr>\n",
       "    <tr>\n",
       "      <th>3</th>\n",
       "      <td>1</td>\n",
       "      <td>67.84</td>\n",
       "      <td>2019</td>\n",
       "      <td>2</td>\n",
       "      <td>23</td>\n",
       "      <td>0</td>\n",
       "      <td>15</td>\n",
       "      <td>0</td>\n",
       "    </tr>\n",
       "    <tr>\n",
       "      <th>4</th>\n",
       "      <td>1</td>\n",
       "      <td>67.81</td>\n",
       "      <td>2019</td>\n",
       "      <td>2</td>\n",
       "      <td>23</td>\n",
       "      <td>0</td>\n",
       "      <td>20</td>\n",
       "      <td>0</td>\n",
       "    </tr>\n",
       "  </tbody>\n",
       "</table>\n",
       "</div>"
      ],
      "text/plain": [
       "   field   target  year  month  day  hour  minute  second\n",
       "0       1   67.92  2019      2   23     0       0       0\n",
       "1       1   67.89  2019      2   23     0       5       0\n",
       "2       1   67.86  2019      2   23     0      10       0\n",
       "3       1   67.84  2019      2   23     0      15       0\n",
       "4       1   67.81  2019      2   23     0      20       0"
      ]
     },
     "execution_count": 17,
     "metadata": {},
     "output_type": "execute_result"
    }
   ],
   "source": [
    "solid1.head()"
   ]
  },
  {
   "cell_type": "code",
   "execution_count": 18,
   "metadata": {},
   "outputs": [],
   "source": [
    "allData = pd.concat([solid1, solid2, solid3, solid4]) \n"
   ]
  },
  {
   "cell_type": "code",
   "execution_count": 19,
   "metadata": {},
   "outputs": [
    {
     "data": {
      "text/html": [
       "<div>\n",
       "<style scoped>\n",
       "    .dataframe tbody tr th:only-of-type {\n",
       "        vertical-align: middle;\n",
       "    }\n",
       "\n",
       "    .dataframe tbody tr th {\n",
       "        vertical-align: top;\n",
       "    }\n",
       "\n",
       "    .dataframe thead th {\n",
       "        text-align: right;\n",
       "    }\n",
       "</style>\n",
       "<table border=\"1\" class=\"dataframe\">\n",
       "  <thead>\n",
       "    <tr style=\"text-align: right;\">\n",
       "      <th></th>\n",
       "      <th>field</th>\n",
       "      <th>target</th>\n",
       "      <th>year</th>\n",
       "      <th>month</th>\n",
       "      <th>day</th>\n",
       "      <th>hour</th>\n",
       "      <th>minute</th>\n",
       "      <th>second</th>\n",
       "    </tr>\n",
       "  </thead>\n",
       "  <tbody>\n",
       "    <tr>\n",
       "      <th>0</th>\n",
       "      <td>1</td>\n",
       "      <td>67.92</td>\n",
       "      <td>2019</td>\n",
       "      <td>2</td>\n",
       "      <td>23</td>\n",
       "      <td>0</td>\n",
       "      <td>0</td>\n",
       "      <td>0</td>\n",
       "    </tr>\n",
       "    <tr>\n",
       "      <th>1</th>\n",
       "      <td>1</td>\n",
       "      <td>67.89</td>\n",
       "      <td>2019</td>\n",
       "      <td>2</td>\n",
       "      <td>23</td>\n",
       "      <td>0</td>\n",
       "      <td>5</td>\n",
       "      <td>0</td>\n",
       "    </tr>\n",
       "    <tr>\n",
       "      <th>2</th>\n",
       "      <td>1</td>\n",
       "      <td>67.86</td>\n",
       "      <td>2019</td>\n",
       "      <td>2</td>\n",
       "      <td>23</td>\n",
       "      <td>0</td>\n",
       "      <td>10</td>\n",
       "      <td>0</td>\n",
       "    </tr>\n",
       "    <tr>\n",
       "      <th>3</th>\n",
       "      <td>1</td>\n",
       "      <td>67.84</td>\n",
       "      <td>2019</td>\n",
       "      <td>2</td>\n",
       "      <td>23</td>\n",
       "      <td>0</td>\n",
       "      <td>15</td>\n",
       "      <td>0</td>\n",
       "    </tr>\n",
       "    <tr>\n",
       "      <th>4</th>\n",
       "      <td>1</td>\n",
       "      <td>67.81</td>\n",
       "      <td>2019</td>\n",
       "      <td>2</td>\n",
       "      <td>23</td>\n",
       "      <td>0</td>\n",
       "      <td>20</td>\n",
       "      <td>0</td>\n",
       "    </tr>\n",
       "  </tbody>\n",
       "</table>\n",
       "</div>"
      ],
      "text/plain": [
       "   field   target  year  month  day  hour  minute  second\n",
       "0       1   67.92  2019      2   23     0       0       0\n",
       "1       1   67.89  2019      2   23     0       5       0\n",
       "2       1   67.86  2019      2   23     0      10       0\n",
       "3       1   67.84  2019      2   23     0      15       0\n",
       "4       1   67.81  2019      2   23     0      20       0"
      ]
     },
     "execution_count": 19,
     "metadata": {},
     "output_type": "execute_result"
    }
   ],
   "source": [
    "allData.head()"
   ]
  },
  {
   "cell_type": "code",
   "execution_count": 20,
   "metadata": {},
   "outputs": [],
   "source": [
    "def print_unique(column):\n",
    "    print(\"----------{}----------\".format(column))\n",
    "    print(allData[column].unique())"
   ]
  },
  {
   "cell_type": "code",
   "execution_count": 21,
   "metadata": {},
   "outputs": [
    {
     "name": "stdout",
     "output_type": "stream",
     "text": [
      "----------field ----------\n",
      "[1 2 3 4]\n",
      "----------target----------\n",
      "[67.92 67.89 67.86 ...  8.04 -4.34 -4.91]\n",
      "----------year----------\n",
      "[2019]\n",
      "----------month----------\n",
      "[2 3 4 5]\n",
      "----------day----------\n",
      "[23 24 25 26 27 28  1  2  3  4  5  6  7  8  9 10 11 12 13 14 15 16 17 18\n",
      " 19 20 21 22 29 30 31]\n",
      "----------hour----------\n",
      "[ 0  1  2  3  4  5  6  7  8  9 10 11 12 13 14 15 16 17 18 19 20 21 22 23]\n",
      "----------minute----------\n",
      "[ 0  5 10 15 20 25 30 35 40 45 50 55]\n",
      "----------second----------\n",
      "[0]\n"
     ]
    }
   ],
   "source": [
    "for i in allData.columns:\n",
    "    print_unique(i)"
   ]
  },
  {
   "cell_type": "code",
   "execution_count": 22,
   "metadata": {},
   "outputs": [],
   "source": [
    "allData = allData.drop(['year', 'second'], axis = 1)"
   ]
  },
  {
   "cell_type": "code",
   "execution_count": 23,
   "metadata": {},
   "outputs": [],
   "source": [
    "X = allData.drop(['target'], axis = 1)"
   ]
  },
  {
   "cell_type": "code",
   "execution_count": 24,
   "metadata": {},
   "outputs": [],
   "source": [
    "y = allData.target"
   ]
  },
  {
   "cell_type": "code",
   "execution_count": 62,
   "metadata": {},
   "outputs": [
    {
     "data": {
      "text/plain": [
       "0        67.92\n",
       "1        67.89\n",
       "2        67.86\n",
       "3        67.84\n",
       "4        67.81\n",
       "5        67.78\n",
       "6        67.76\n",
       "7        67.73\n",
       "8        67.70\n",
       "9        67.68\n",
       "10       67.65\n",
       "11       67.62\n",
       "12       67.59\n",
       "13       67.57\n",
       "14       67.54\n",
       "15       67.51\n",
       "16       67.49\n",
       "17       67.46\n",
       "18       67.43\n",
       "19       67.41\n",
       "20       67.38\n",
       "21       67.35\n",
       "22       67.32\n",
       "23       67.30\n",
       "24       67.27\n",
       "25       67.24\n",
       "26       67.22\n",
       "27       67.19\n",
       "28       67.16\n",
       "29       67.14\n",
       "         ...  \n",
       "26276    -2.00\n",
       "26277    -2.00\n",
       "26278    -2.00\n",
       "26279    -2.00\n",
       "26280    -2.00\n",
       "26281    -2.00\n",
       "26282    -2.00\n",
       "26283    -2.00\n",
       "26284    -2.00\n",
       "26285    -2.00\n",
       "26286    -2.00\n",
       "26287    -2.00\n",
       "26288    -1.36\n",
       "26289    -0.72\n",
       "26290    -0.08\n",
       "26291     0.56\n",
       "26292     1.21\n",
       "26293     1.85\n",
       "26294     2.49\n",
       "26295     3.13\n",
       "26296     3.77\n",
       "26297     4.41\n",
       "26298     5.05\n",
       "26299     5.69\n",
       "26300     6.33\n",
       "26366    33.00\n",
       "26999    23.00\n",
       "27197    23.00\n",
       "27554    17.00\n",
       "27791    16.00\n",
       "Name: target, Length: 77613, dtype: float64"
      ]
     },
     "execution_count": 62,
     "metadata": {},
     "output_type": "execute_result"
    }
   ],
   "source": [
    "y"
   ]
  },
  {
   "cell_type": "markdown",
   "metadata": {},
   "source": [
    "## Building the Model"
   ]
  },
  {
   "cell_type": "code",
   "execution_count": 25,
   "metadata": {},
   "outputs": [
    {
     "data": {
      "text/html": [
       "<div>\n",
       "<style scoped>\n",
       "    .dataframe tbody tr th:only-of-type {\n",
       "        vertical-align: middle;\n",
       "    }\n",
       "\n",
       "    .dataframe tbody tr th {\n",
       "        vertical-align: top;\n",
       "    }\n",
       "\n",
       "    .dataframe thead th {\n",
       "        text-align: right;\n",
       "    }\n",
       "</style>\n",
       "<table border=\"1\" class=\"dataframe\">\n",
       "  <thead>\n",
       "    <tr style=\"text-align: right;\">\n",
       "      <th></th>\n",
       "      <th>field</th>\n",
       "      <th>month</th>\n",
       "      <th>day</th>\n",
       "      <th>hour</th>\n",
       "      <th>minute</th>\n",
       "    </tr>\n",
       "  </thead>\n",
       "  <tbody>\n",
       "    <tr>\n",
       "      <th>0</th>\n",
       "      <td>1</td>\n",
       "      <td>2</td>\n",
       "      <td>23</td>\n",
       "      <td>0</td>\n",
       "      <td>0</td>\n",
       "    </tr>\n",
       "    <tr>\n",
       "      <th>1</th>\n",
       "      <td>1</td>\n",
       "      <td>2</td>\n",
       "      <td>23</td>\n",
       "      <td>0</td>\n",
       "      <td>5</td>\n",
       "    </tr>\n",
       "    <tr>\n",
       "      <th>2</th>\n",
       "      <td>1</td>\n",
       "      <td>2</td>\n",
       "      <td>23</td>\n",
       "      <td>0</td>\n",
       "      <td>10</td>\n",
       "    </tr>\n",
       "    <tr>\n",
       "      <th>3</th>\n",
       "      <td>1</td>\n",
       "      <td>2</td>\n",
       "      <td>23</td>\n",
       "      <td>0</td>\n",
       "      <td>15</td>\n",
       "    </tr>\n",
       "    <tr>\n",
       "      <th>4</th>\n",
       "      <td>1</td>\n",
       "      <td>2</td>\n",
       "      <td>23</td>\n",
       "      <td>0</td>\n",
       "      <td>20</td>\n",
       "    </tr>\n",
       "  </tbody>\n",
       "</table>\n",
       "</div>"
      ],
      "text/plain": [
       "   field   month  day  hour  minute\n",
       "0       1      2   23     0       0\n",
       "1       1      2   23     0       5\n",
       "2       1      2   23     0      10\n",
       "3       1      2   23     0      15\n",
       "4       1      2   23     0      20"
      ]
     },
     "execution_count": 25,
     "metadata": {},
     "output_type": "execute_result"
    }
   ],
   "source": [
    "X.head()"
   ]
  },
  {
   "cell_type": "code",
   "execution_count": 48,
   "metadata": {},
   "outputs": [],
   "source": [
    "# train test split\n",
    "from sklearn.model_selection import train_test_split\n",
    "x_train, x_test, y_train, y_test = train_test_split(X, y, test_size = 0.3, random_state = 22)"
   ]
  },
  {
   "cell_type": "code",
   "execution_count": 40,
   "metadata": {},
   "outputs": [],
   "source": [
    "# Standerdise the dataset\n",
    "from sklearn.preprocessing import StandardScaler\n",
    "scaler= StandardScaler()\n",
    "x_train = scaler.fit_transform(x_train)\n",
    "x_test = scaler.fit_transform(x_test)"
   ]
  },
  {
   "cell_type": "code",
   "execution_count": null,
   "metadata": {},
   "outputs": [],
   "source": [
    "from sklearn.neighbors import KNeighborsRegressor"
   ]
  },
  {
   "cell_type": "code",
   "execution_count": 27,
   "metadata": {},
   "outputs": [
    {
     "data": {
      "text/plain": [
       "LinearRegression(copy_X=True, fit_intercept=True, n_jobs=None, normalize=False)"
      ]
     },
     "execution_count": 27,
     "metadata": {},
     "output_type": "execute_result"
    }
   ],
   "source": [
    "# building first model\n",
    "from sklearn.linear_model import LinearRegression\n",
    "clf_lr = LinearRegression()\n",
    "clf_lr.fit(x_train, y_train)"
   ]
  },
  {
   "cell_type": "code",
   "execution_count": 56,
   "metadata": {},
   "outputs": [
    {
     "data": {
      "text/plain": [
       "KNeighborsRegressor(algorithm='auto', leaf_size=30, metric='minkowski',\n",
       "                    metric_params=None, n_jobs=None, n_neighbors=5, p=2,\n",
       "                    weights='uniform')"
      ]
     },
     "execution_count": 56,
     "metadata": {},
     "output_type": "execute_result"
    }
   ],
   "source": [
    "from sklearn.neighbors import KNeighborsRegressor\n",
    "regressor = KNeighborsRegressor()\n",
    "regressor.fit(x_train,y_train)"
   ]
  },
  {
   "cell_type": "code",
   "execution_count": 57,
   "metadata": {},
   "outputs": [],
   "source": [
    "y_pred = regressor.predict(x_test)"
   ]
  },
  {
   "cell_type": "code",
   "execution_count": 58,
   "metadata": {},
   "outputs": [
    {
     "name": "stdout",
     "output_type": "stream",
     "text": [
      "13.88351582547969\n"
     ]
    }
   ],
   "source": [
    "MSE = np.mean((y_test-y_pred)**2)\n",
    "RMSE = np.sqrt(MSE)\n",
    "print(RMSE)"
   ]
  },
  {
   "cell_type": "markdown",
   "metadata": {},
   "source": [
    "## Test "
   ]
  },
  {
   "cell_type": "code",
   "execution_count": 33,
   "metadata": {},
   "outputs": [],
   "source": [
    "testData = pd.read_csv('SampleSubmission.csv')"
   ]
  },
  {
   "cell_type": "code",
   "execution_count": 34,
   "metadata": {},
   "outputs": [],
   "source": [
    "ids = testData.ID"
   ]
  },
  {
   "cell_type": "code",
   "execution_count": 35,
   "metadata": {},
   "outputs": [],
   "source": [
    "testData[\"field\"] = ids.str.split(\"x\", n = 2, expand = True)[1].str.split(\" \", n = 3, expand = True)[3].astype(int)\n",
    "testData[\"month\"] = ids.str.split(\"x\", n = 1, expand = True)[0].str.split(\" \", n = 2, expand = True)[0].str.split(\"-\", n = 2, expand = True)[1].astype(int)\n",
    "testData[\"day\"] = ids.str.split(\"x\", n = 1, expand = True)[0].str.split(\" \", n = 2, expand = True)[0].str.split(\"-\", n = 2, expand = True)[2].astype(int)\n",
    "testData[\"hour\"] = ids.str.split(\"x\", n = 1, expand = True)[0].str.split(\" \", n = 2, expand = True)[1].str.split(\":\", n = 2, expand = True)[0].astype(int)\n",
    "testData[\"minute\"] = ids.str.split(\"x\", n = 2, expand = True)[0].str.split(\" \", n = 2, expand = True)[1].str.split(\":\", n = 2, expand = True)[1].astype(int)"
   ]
  },
  {
   "cell_type": "code",
   "execution_count": 36,
   "metadata": {},
   "outputs": [],
   "source": [
    "tData = testData.iloc[:,2:]\n",
    "testData = testData.drop(['field', 'month', 'day', 'hour', 'minute'], axis = 1)"
   ]
  },
  {
   "cell_type": "code",
   "execution_count": 228,
   "metadata": {},
   "outputs": [],
   "source": [
    "tData = scaler.transform(tData)"
   ]
  },
  {
   "cell_type": "code",
   "execution_count": 229,
   "metadata": {},
   "outputs": [
    {
     "data": {
      "text/plain": [
       "array([[-1.69845854, -0.63858729,  1.10984019,  1.51866856,  1.31183433],\n",
       "       [-1.69845854, -0.63858729,  1.10984019,  1.51866856,  1.60202919],\n",
       "       [-1.69845854, -0.63858729,  1.10984019,  1.6627309 , -1.5901143 ],\n",
       "       ...,\n",
       "       [ 1.17545081,  1.61461265,  1.80641777, -0.64226661,  0.44124974],\n",
       "       [ 1.17545081,  1.61461265,  1.80641777, -0.64226661,  0.7314446 ],\n",
       "       [ 1.17545081,  1.61461265,  1.80641777, -0.64226661,  1.02163946]])"
      ]
     },
     "execution_count": 229,
     "metadata": {},
     "output_type": "execute_result"
    }
   ],
   "source": [
    "tData"
   ]
  },
  {
   "cell_type": "code",
   "execution_count": 59,
   "metadata": {},
   "outputs": [],
   "source": [
    "y_sub = regressor.predict(tData)"
   ]
  },
  {
   "cell_type": "code",
   "execution_count": 60,
   "metadata": {},
   "outputs": [],
   "source": [
    "testData.Values = y_sub"
   ]
  },
  {
   "cell_type": "code",
   "execution_count": 61,
   "metadata": {},
   "outputs": [],
   "source": [
    "testData.to_csv('four.csv', index = False)"
   ]
  },
  {
   "cell_type": "code",
   "execution_count": null,
   "metadata": {},
   "outputs": [],
   "source": []
  }
 ],
 "metadata": {
  "kernelspec": {
   "display_name": "Python 3",
   "language": "python",
   "name": "python3"
  },
  "language_info": {
   "codemirror_mode": {
    "name": "ipython",
    "version": 3
   },
   "file_extension": ".py",
   "mimetype": "text/x-python",
   "name": "python",
   "nbconvert_exporter": "python",
   "pygments_lexer": "ipython3",
   "version": "3.7.1"
  }
 },
 "nbformat": 4,
 "nbformat_minor": 2
}
