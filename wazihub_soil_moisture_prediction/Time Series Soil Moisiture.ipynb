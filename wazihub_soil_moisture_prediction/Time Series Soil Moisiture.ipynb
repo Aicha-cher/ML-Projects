{
 "cells": [
  {
   "cell_type": "code",
   "execution_count": 1,
   "metadata": {},
   "outputs": [],
   "source": [
    "import pandas as pd\n",
    "import matplotlib.pyplot as plt\n",
    "import seaborn as sns\n",
    "import numpy as np"
   ]
  },
  {
   "cell_type": "code",
   "execution_count": 10,
   "metadata": {},
   "outputs": [],
   "source": [
    "data = pd.read_csv('Train.csv')"
   ]
  },
  {
   "cell_type": "code",
   "execution_count": 11,
   "metadata": {},
   "outputs": [
    {
     "data": {
      "text/html": [
       "<div>\n",
       "<style scoped>\n",
       "    .dataframe tbody tr th:only-of-type {\n",
       "        vertical-align: middle;\n",
       "    }\n",
       "\n",
       "    .dataframe tbody tr th {\n",
       "        vertical-align: top;\n",
       "    }\n",
       "\n",
       "    .dataframe thead th {\n",
       "        text-align: right;\n",
       "    }\n",
       "</style>\n",
       "<table border=\"1\" class=\"dataframe\">\n",
       "  <thead>\n",
       "    <tr style=\"text-align: right;\">\n",
       "      <th></th>\n",
       "      <th>timestamp</th>\n",
       "      <th>Soil humidity 1</th>\n",
       "      <th>Irrigation field 1</th>\n",
       "      <th>Soil humidity 2</th>\n",
       "      <th>Irrigation field 2</th>\n",
       "      <th>Soil humidity 3</th>\n",
       "      <th>Irrigation field 3</th>\n",
       "      <th>Soil humidity 4</th>\n",
       "      <th>Irrigation field 4</th>\n",
       "      <th>Air temperature (C)</th>\n",
       "      <th>Air humidity (%)</th>\n",
       "      <th>Pressure (KPa)</th>\n",
       "      <th>Wind speed (Km/h)</th>\n",
       "      <th>Wind gust (Km/h)</th>\n",
       "      <th>Wind direction (Deg)</th>\n",
       "    </tr>\n",
       "  </thead>\n",
       "  <tbody>\n",
       "    <tr>\n",
       "      <th>0</th>\n",
       "      <td>2019-02-23 00:00:00</td>\n",
       "      <td>67.92</td>\n",
       "      <td>0.0</td>\n",
       "      <td>55.72</td>\n",
       "      <td>0.0</td>\n",
       "      <td>-1.56</td>\n",
       "      <td>1.0</td>\n",
       "      <td>26.57</td>\n",
       "      <td>1.0</td>\n",
       "      <td>19.52</td>\n",
       "      <td>55.04</td>\n",
       "      <td>101.50</td>\n",
       "      <td>2.13</td>\n",
       "      <td>6.30</td>\n",
       "      <td>225.00</td>\n",
       "    </tr>\n",
       "    <tr>\n",
       "      <th>1</th>\n",
       "      <td>2019-02-23 00:05:00</td>\n",
       "      <td>67.89</td>\n",
       "      <td>0.0</td>\n",
       "      <td>55.74</td>\n",
       "      <td>0.0</td>\n",
       "      <td>-1.51</td>\n",
       "      <td>1.0</td>\n",
       "      <td>26.58</td>\n",
       "      <td>1.0</td>\n",
       "      <td>19.49</td>\n",
       "      <td>55.17</td>\n",
       "      <td>101.50</td>\n",
       "      <td>2.01</td>\n",
       "      <td>10.46</td>\n",
       "      <td>123.75</td>\n",
       "    </tr>\n",
       "    <tr>\n",
       "      <th>2</th>\n",
       "      <td>2019-02-23 00:10:00</td>\n",
       "      <td>67.86</td>\n",
       "      <td>0.0</td>\n",
       "      <td>55.77</td>\n",
       "      <td>0.0</td>\n",
       "      <td>-1.47</td>\n",
       "      <td>1.0</td>\n",
       "      <td>26.59</td>\n",
       "      <td>1.0</td>\n",
       "      <td>19.47</td>\n",
       "      <td>55.30</td>\n",
       "      <td>101.51</td>\n",
       "      <td>1.90</td>\n",
       "      <td>14.63</td>\n",
       "      <td>22.50</td>\n",
       "    </tr>\n",
       "    <tr>\n",
       "      <th>3</th>\n",
       "      <td>2019-02-23 00:15:00</td>\n",
       "      <td>67.84</td>\n",
       "      <td>0.0</td>\n",
       "      <td>55.79</td>\n",
       "      <td>0.0</td>\n",
       "      <td>-1.42</td>\n",
       "      <td>1.0</td>\n",
       "      <td>26.61</td>\n",
       "      <td>1.0</td>\n",
       "      <td>19.54</td>\n",
       "      <td>54.20</td>\n",
       "      <td>101.51</td>\n",
       "      <td>2.28</td>\n",
       "      <td>16.08</td>\n",
       "      <td>123.75</td>\n",
       "    </tr>\n",
       "    <tr>\n",
       "      <th>4</th>\n",
       "      <td>2019-02-23 00:20:00</td>\n",
       "      <td>67.81</td>\n",
       "      <td>0.0</td>\n",
       "      <td>55.82</td>\n",
       "      <td>0.0</td>\n",
       "      <td>-1.38</td>\n",
       "      <td>1.0</td>\n",
       "      <td>26.62</td>\n",
       "      <td>1.0</td>\n",
       "      <td>19.61</td>\n",
       "      <td>53.09</td>\n",
       "      <td>101.51</td>\n",
       "      <td>2.66</td>\n",
       "      <td>17.52</td>\n",
       "      <td>225.00</td>\n",
       "    </tr>\n",
       "  </tbody>\n",
       "</table>\n",
       "</div>"
      ],
      "text/plain": [
       "             timestamp  Soil humidity 1  Irrigation field 1  Soil humidity 2  \\\n",
       "0  2019-02-23 00:00:00            67.92                 0.0            55.72   \n",
       "1  2019-02-23 00:05:00            67.89                 0.0            55.74   \n",
       "2  2019-02-23 00:10:00            67.86                 0.0            55.77   \n",
       "3  2019-02-23 00:15:00            67.84                 0.0            55.79   \n",
       "4  2019-02-23 00:20:00            67.81                 0.0            55.82   \n",
       "\n",
       "   Irrigation field 2  Soil humidity 3  Irrigation field 3  Soil humidity 4  \\\n",
       "0                 0.0            -1.56                 1.0            26.57   \n",
       "1                 0.0            -1.51                 1.0            26.58   \n",
       "2                 0.0            -1.47                 1.0            26.59   \n",
       "3                 0.0            -1.42                 1.0            26.61   \n",
       "4                 0.0            -1.38                 1.0            26.62   \n",
       "\n",
       "   Irrigation field 4  Air temperature (C)  Air humidity (%)  Pressure (KPa)  \\\n",
       "0                 1.0                19.52             55.04          101.50   \n",
       "1                 1.0                19.49             55.17          101.50   \n",
       "2                 1.0                19.47             55.30          101.51   \n",
       "3                 1.0                19.54             54.20          101.51   \n",
       "4                 1.0                19.61             53.09          101.51   \n",
       "\n",
       "   Wind speed (Km/h)  Wind gust (Km/h)  Wind direction (Deg)  \n",
       "0               2.13              6.30                225.00  \n",
       "1               2.01             10.46                123.75  \n",
       "2               1.90             14.63                 22.50  \n",
       "3               2.28             16.08                123.75  \n",
       "4               2.66             17.52                225.00  "
      ]
     },
     "execution_count": 11,
     "metadata": {},
     "output_type": "execute_result"
    }
   ],
   "source": [
    "data.head()"
   ]
  },
  {
   "cell_type": "code",
   "execution_count": 13,
   "metadata": {},
   "outputs": [],
   "source": [
    "data = data.drop([ 'Air temperature (C)','Irrigation field 2', 'Irrigation field 3', 'Irrigation field 1', 'Irrigation field 4'\n",
    "       ,'Air humidity (%)', 'Pressure (KPa)', 'Wind speed (Km/h)',\n",
    "       'Wind gust (Km/h)', 'Wind direction (Deg)'], axis = 1)"
   ]
  },
  {
   "cell_type": "code",
   "execution_count": 128,
   "metadata": {},
   "outputs": [],
   "source": [
    "solid1 = data.drop(['Soil humidity 2', 'Soil humidity 3', 'Soil humidity 4'], axis = 1)\n",
    "solid2 = data.drop([ 'Soil humidity 1', 'Soil humidity 3', 'Soil humidity 4'], axis = 1)\n",
    "solid3 = data.drop(['Soil humidity 2', 'Soil humidity 1', 'Soil humidity 4'], axis = 1)\n",
    "solid4 = data.drop(['Soil humidity 2', 'Soil humidity 3', 'Soil humidity 1'], axis = 1)"
   ]
  },
  {
   "cell_type": "code",
   "execution_count": 129,
   "metadata": {},
   "outputs": [
    {
     "data": {
      "text/html": [
       "<div>\n",
       "<style scoped>\n",
       "    .dataframe tbody tr th:only-of-type {\n",
       "        vertical-align: middle;\n",
       "    }\n",
       "\n",
       "    .dataframe tbody tr th {\n",
       "        vertical-align: top;\n",
       "    }\n",
       "\n",
       "    .dataframe thead th {\n",
       "        text-align: right;\n",
       "    }\n",
       "</style>\n",
       "<table border=\"1\" class=\"dataframe\">\n",
       "  <thead>\n",
       "    <tr style=\"text-align: right;\">\n",
       "      <th></th>\n",
       "      <th>timestamp</th>\n",
       "      <th>Soil humidity 1</th>\n",
       "    </tr>\n",
       "  </thead>\n",
       "  <tbody>\n",
       "    <tr>\n",
       "      <th>0</th>\n",
       "      <td>2019-02-23 00:00:00</td>\n",
       "      <td>67.92</td>\n",
       "    </tr>\n",
       "    <tr>\n",
       "      <th>1</th>\n",
       "      <td>2019-02-23 00:05:00</td>\n",
       "      <td>67.89</td>\n",
       "    </tr>\n",
       "    <tr>\n",
       "      <th>2</th>\n",
       "      <td>2019-02-23 00:10:00</td>\n",
       "      <td>67.86</td>\n",
       "    </tr>\n",
       "    <tr>\n",
       "      <th>3</th>\n",
       "      <td>2019-02-23 00:15:00</td>\n",
       "      <td>67.84</td>\n",
       "    </tr>\n",
       "    <tr>\n",
       "      <th>4</th>\n",
       "      <td>2019-02-23 00:20:00</td>\n",
       "      <td>67.81</td>\n",
       "    </tr>\n",
       "  </tbody>\n",
       "</table>\n",
       "</div>"
      ],
      "text/plain": [
       "             timestamp  Soil humidity 1\n",
       "0  2019-02-23 00:00:00            67.92\n",
       "1  2019-02-23 00:05:00            67.89\n",
       "2  2019-02-23 00:10:00            67.86\n",
       "3  2019-02-23 00:15:00            67.84\n",
       "4  2019-02-23 00:20:00            67.81"
      ]
     },
     "execution_count": 129,
     "metadata": {},
     "output_type": "execute_result"
    }
   ],
   "source": [
    "solid1.head()"
   ]
  },
  {
   "cell_type": "code",
   "execution_count": 130,
   "metadata": {},
   "outputs": [],
   "source": [
    "solid1['timestamp'] = pd.to_datetime(solid1['timestamp'])\n",
    "solid2['timestamp'] = pd.to_datetime(solid2['timestamp'])\n",
    "solid3['timestamp'] = pd.to_datetime(solid3['timestamp'])\n",
    "solid4['timestamp'] = pd.to_datetime(solid4['timestamp'])"
   ]
  },
  {
   "cell_type": "code",
   "execution_count": 40,
   "metadata": {},
   "outputs": [],
   "source": [
    "solid1.set_index('timestamp', inplace = True)"
   ]
  },
  {
   "cell_type": "code",
   "execution_count": 141,
   "metadata": {},
   "outputs": [],
   "source": [
    "start_date_1 = '2019-03-25 22:50:00'\n",
    "end_date_1 = '2019-03-29 22:50:00'\n",
    "start_date_2 = '2019-05-25 07:45:00'\n",
    "end_date_2 = '2019-05-31 09:15:00'\n",
    "start_date_3 = '2019-04-19 20:15:00'\n",
    "end_date_3 = '2019-04-23 20:15:00'\n",
    "start_date_4 = '2019-05-25 07:45:00'\n",
    "end_date_4 = '2019-05-31 07:45:00'\n",
    "endend = '2019-05-31 09:20:00'"
   ]
  },
  {
   "cell_type": "code",
   "execution_count": 142,
   "metadata": {},
   "outputs": [],
   "source": [
    "mask1 = (solid1['timestamp'] >= start_date_1) & (solid1['timestamp'] <= end_date_1)\n",
    "mask2 = (solid2['timestamp'] >= start_date_2) & (solid2['timestamp'] <= end_date_2)\n",
    "mask3 = (solid3['timestamp'] >=start_date_3) & (solid3['timestamp'] <= end_date_3)\n",
    "mask4 = (solid4['timestamp'] >= start_date_4) & (solid4['timestamp'] <= end_date_4)"
   ]
  },
  {
   "cell_type": "code",
   "execution_count": 143,
   "metadata": {},
   "outputs": [],
   "source": [
    "test_1 = solid1.loc[mask1]\n",
    "test_2 = solid2.loc[mask2]\n",
    "test_3 = solid3.loc[mask3]\n",
    "test_4 = solid4.loc[mask4]"
   ]
  },
  {
   "cell_type": "code",
   "execution_count": 150,
   "metadata": {},
   "outputs": [
    {
     "data": {
      "text/html": [
       "<div>\n",
       "<style scoped>\n",
       "    .dataframe tbody tr th:only-of-type {\n",
       "        vertical-align: middle;\n",
       "    }\n",
       "\n",
       "    .dataframe tbody tr th {\n",
       "        vertical-align: top;\n",
       "    }\n",
       "\n",
       "    .dataframe thead th {\n",
       "        text-align: right;\n",
       "    }\n",
       "</style>\n",
       "<table border=\"1\" class=\"dataframe\">\n",
       "  <thead>\n",
       "    <tr style=\"text-align: right;\">\n",
       "      <th></th>\n",
       "      <th>timestamp</th>\n",
       "      <th>Soil humidity 1</th>\n",
       "    </tr>\n",
       "  </thead>\n",
       "  <tbody>\n",
       "    <tr>\n",
       "      <th>8914</th>\n",
       "      <td>2019-03-25 22:50:00</td>\n",
       "      <td>NaN</td>\n",
       "    </tr>\n",
       "    <tr>\n",
       "      <th>8915</th>\n",
       "      <td>2019-03-25 22:55:00</td>\n",
       "      <td>NaN</td>\n",
       "    </tr>\n",
       "    <tr>\n",
       "      <th>8916</th>\n",
       "      <td>2019-03-25 23:00:00</td>\n",
       "      <td>NaN</td>\n",
       "    </tr>\n",
       "    <tr>\n",
       "      <th>8917</th>\n",
       "      <td>2019-03-25 23:05:00</td>\n",
       "      <td>NaN</td>\n",
       "    </tr>\n",
       "    <tr>\n",
       "      <th>8918</th>\n",
       "      <td>2019-03-25 23:10:00</td>\n",
       "      <td>NaN</td>\n",
       "    </tr>\n",
       "  </tbody>\n",
       "</table>\n",
       "</div>"
      ],
      "text/plain": [
       "               timestamp  Soil humidity 1\n",
       "8914 2019-03-25 22:50:00              NaN\n",
       "8915 2019-03-25 22:55:00              NaN\n",
       "8916 2019-03-25 23:00:00              NaN\n",
       "8917 2019-03-25 23:05:00              NaN\n",
       "8918 2019-03-25 23:10:00              NaN"
      ]
     },
     "execution_count": 150,
     "metadata": {},
     "output_type": "execute_result"
    }
   ],
   "source": [
    "test_1.head()"
   ]
  },
  {
   "cell_type": "code",
   "execution_count": 156,
   "metadata": {},
   "outputs": [],
   "source": [
    "'''train_1 = solid1.drop(solid1.loc[mask1].index)\n",
    "train_2 = solid2.drop(solid2.loc[mask2].index)\n",
    "train_3 = solid3.drop(solid3.loc[mask3].index)\n",
    "train_4 = solid4.drop(solid4.loc[mask4].index)'''\n",
    "\n",
    "train_1 = solid1.dropna()\n",
    "train_2 = solid2.dropna()\n",
    "train_3 = solid3.dropna()\n",
    "train_4 = solid4.dropna()"
   ]
  },
  {
   "cell_type": "code",
   "execution_count": 163,
   "metadata": {},
   "outputs": [],
   "source": [
    "all_Data = pd.concat([train_1['Soil humidity 1'] , train_2['Soil humidity 2'], train_3['Soil humidity 3'], train_4['Soil humidity 4']])"
   ]
  },
  {
   "cell_type": "code",
   "execution_count": 165,
   "metadata": {},
   "outputs": [
    {
     "data": {
      "text/plain": [
       "<matplotlib.axes._subplots.AxesSubplot at 0x20c5e982748>"
      ]
     },
     "execution_count": 165,
     "metadata": {},
     "output_type": "execute_result"
    },
    {
     "data": {
      "image/png": "[encoded data removed]",
      "text/plain": [
       "<Figure size 432x288 with 1 Axes>"
      ]
     },
     "metadata": {
      "needs_background": "light"
     },
     "output_type": "display_data"
    }
   ],
   "source": [
    "all_Data.plot()"
   ]
  },
  {
   "cell_type": "code",
   "execution_count": 72,
   "metadata": {},
   "outputs": [
    {
     "data": {
      "text/plain": [
       "<matplotlib.axes._subplots.AxesSubplot at 0x20c5c3d59e8>"
      ]
     },
     "execution_count": 72,
     "metadata": {},
     "output_type": "execute_result"
    },
    {
     "data": {
      "image/png": "[encoded data removed]",
      "text/plain": [
       "<Figure size 432x288 with 1 Axes>"
      ]
     },
     "metadata": {
      "needs_background": "light"
     },
     "output_type": "display_data"
    }
   ],
   "source": [
    "trainone['Soil humidity 1'].plot()"
   ]
  },
  {
   "cell_type": "code",
   "execution_count": 73,
   "metadata": {},
   "outputs": [
    {
     "data": {
      "text/plain": [
       "(8914, 2)"
      ]
     },
     "execution_count": 73,
     "metadata": {},
     "output_type": "execute_result"
    }
   ],
   "source": [
    "trainone.shape"
   ]
  },
  {
   "cell_type": "code",
   "execution_count": 88,
   "metadata": {},
   "outputs": [],
   "source": [
    "X = trainone['Soil humidity 1'].astype(float).values"
   ]
  },
  {
   "cell_type": "code",
   "execution_count": 81,
   "metadata": {},
   "outputs": [],
   "source": [
    "train, test = X[:8800] , X[8800:]"
   ]
  },
  {
   "cell_type": "code",
   "execution_count": 102,
   "metadata": {},
   "outputs": [
    {
     "data": {
      "text/plain": [
       "39.15"
      ]
     },
     "execution_count": 102,
     "metadata": {},
     "output_type": "execute_result"
    }
   ],
   "source": [
    "test[0]"
   ]
  },
  {
   "cell_type": "code",
   "execution_count": 82,
   "metadata": {},
   "outputs": [],
   "source": [
    "from sklearn.metrics import mean_squared_error\n",
    "\n",
    "def evaluate(test, predictions):\n",
    "    mse = mean_squared_error(test, predictions)\n",
    "    rmse = np.sqrt(mse)\n",
    "    print('RMSE: %.3f' % rmse)"
   ]
  },
  {
   "cell_type": "code",
   "execution_count": 106,
   "metadata": {},
   "outputs": [],
   "source": [
    "history = [x for x in train]\n",
    "predictions = list()"
   ]
  },
  {
   "cell_type": "code",
   "execution_count": 107,
   "metadata": {},
   "outputs": [
    {
     "name": "stdout",
     "output_type": "stream",
     "text": [
      ">Predicted=39.150, Expected=39.150\n",
      ">Predicted=39.150, Expected=39.160\n",
      ">Predicted=39.150, Expected=39.160\n",
      ">Predicted=39.150, Expected=39.170\n",
      ">Predicted=39.150, Expected=39.170\n",
      ">Predicted=39.150, Expected=39.180\n",
      ">Predicted=39.150, Expected=39.180\n",
      ">Predicted=39.150, Expected=39.190\n",
      ">Predicted=39.150, Expected=39.190\n",
      ">Predicted=39.150, Expected=39.190\n",
      ">Predicted=39.150, Expected=39.200\n",
      ">Predicted=39.150, Expected=39.200\n",
      ">Predicted=39.150, Expected=39.210\n",
      ">Predicted=39.150, Expected=39.210\n",
      ">Predicted=39.150, Expected=39.220\n",
      ">Predicted=39.150, Expected=39.220\n",
      ">Predicted=39.150, Expected=39.230\n",
      ">Predicted=39.150, Expected=39.230\n",
      ">Predicted=39.150, Expected=39.240\n",
      ">Predicted=39.150, Expected=39.240\n",
      ">Predicted=39.150, Expected=39.250\n",
      ">Predicted=39.150, Expected=39.250\n",
      ">Predicted=39.150, Expected=39.250\n",
      ">Predicted=39.150, Expected=39.260\n",
      ">Predicted=39.150, Expected=39.260\n",
      ">Predicted=39.150, Expected=39.270\n",
      ">Predicted=39.150, Expected=39.270\n",
      ">Predicted=39.150, Expected=39.280\n",
      ">Predicted=39.150, Expected=39.280\n",
      ">Predicted=39.150, Expected=39.290\n",
      ">Predicted=39.150, Expected=39.290\n",
      ">Predicted=39.150, Expected=39.300\n",
      ">Predicted=39.150, Expected=39.300\n",
      ">Predicted=39.150, Expected=39.310\n",
      ">Predicted=39.150, Expected=39.310\n",
      ">Predicted=39.150, Expected=39.310\n",
      ">Predicted=39.150, Expected=39.320\n",
      ">Predicted=39.150, Expected=39.320\n",
      ">Predicted=39.150, Expected=39.330\n",
      ">Predicted=39.150, Expected=39.330\n",
      ">Predicted=39.150, Expected=39.340\n",
      ">Predicted=39.150, Expected=39.340\n",
      ">Predicted=39.150, Expected=39.350\n",
      ">Predicted=39.150, Expected=39.350\n",
      ">Predicted=39.150, Expected=39.360\n",
      ">Predicted=39.150, Expected=39.360\n",
      ">Predicted=39.150, Expected=39.370\n",
      ">Predicted=39.150, Expected=39.370\n",
      ">Predicted=39.150, Expected=39.380\n",
      ">Predicted=39.150, Expected=39.380\n",
      ">Predicted=39.150, Expected=39.380\n",
      ">Predicted=39.150, Expected=39.390\n",
      ">Predicted=39.150, Expected=39.390\n",
      ">Predicted=39.150, Expected=39.400\n",
      ">Predicted=39.150, Expected=39.400\n",
      ">Predicted=39.150, Expected=39.410\n",
      ">Predicted=39.150, Expected=39.410\n",
      ">Predicted=39.150, Expected=39.420\n",
      ">Predicted=39.150, Expected=39.420\n",
      ">Predicted=39.150, Expected=39.430\n",
      ">Predicted=39.150, Expected=39.430\n",
      ">Predicted=39.150, Expected=39.440\n",
      ">Predicted=39.150, Expected=39.440\n",
      ">Predicted=39.150, Expected=39.440\n",
      ">Predicted=39.150, Expected=39.450\n",
      ">Predicted=39.150, Expected=39.450\n",
      ">Predicted=39.150, Expected=39.460\n",
      ">Predicted=39.150, Expected=39.460\n",
      ">Predicted=39.150, Expected=39.470\n",
      ">Predicted=39.150, Expected=39.470\n",
      ">Predicted=39.150, Expected=39.480\n",
      ">Predicted=39.150, Expected=39.480\n",
      ">Predicted=39.150, Expected=39.490\n",
      ">Predicted=39.150, Expected=39.490\n",
      ">Predicted=39.150, Expected=39.500\n",
      ">Predicted=39.150, Expected=39.500\n",
      ">Predicted=39.150, Expected=39.500\n",
      ">Predicted=39.150, Expected=39.510\n",
      ">Predicted=39.150, Expected=39.510\n",
      ">Predicted=39.150, Expected=39.520\n",
      ">Predicted=39.150, Expected=39.520\n",
      ">Predicted=39.150, Expected=39.530\n",
      ">Predicted=39.150, Expected=39.530\n",
      ">Predicted=39.150, Expected=39.540\n",
      ">Predicted=39.150, Expected=39.540\n",
      ">Predicted=39.150, Expected=39.550\n",
      ">Predicted=39.150, Expected=39.550\n",
      ">Predicted=39.150, Expected=39.560\n",
      ">Predicted=39.150, Expected=39.560\n",
      ">Predicted=39.150, Expected=39.560\n",
      ">Predicted=39.150, Expected=39.570\n",
      ">Predicted=39.150, Expected=39.570\n",
      ">Predicted=39.150, Expected=39.580\n",
      ">Predicted=39.150, Expected=39.580\n",
      ">Predicted=39.150, Expected=39.590\n",
      ">Predicted=39.150, Expected=39.590\n",
      ">Predicted=39.150, Expected=39.600\n",
      ">Predicted=39.150, Expected=39.600\n",
      ">Predicted=39.150, Expected=39.610\n",
      ">Predicted=39.150, Expected=39.610\n",
      ">Predicted=39.150, Expected=39.620\n",
      ">Predicted=39.150, Expected=39.620\n",
      ">Predicted=39.150, Expected=39.620\n",
      ">Predicted=39.150, Expected=39.630\n",
      ">Predicted=39.150, Expected=39.630\n",
      ">Predicted=39.150, Expected=39.640\n",
      ">Predicted=39.150, Expected=39.640\n",
      ">Predicted=39.150, Expected=39.650\n",
      ">Predicted=39.150, Expected=39.650\n",
      ">Predicted=39.150, Expected=39.660\n",
      ">Predicted=39.150, Expected=39.660\n",
      ">Predicted=39.150, Expected=39.670\n",
      ">Predicted=39.150, Expected=39.670\n",
      ">Predicted=39.150, Expected=39.680\n"
     ]
    }
   ],
   "source": [
    "for i in range(len(test)):\n",
    "    yhat = history[-1]\n",
    "    predictions.append(yhat)\n",
    "    # observation\n",
    "    obs = test[i]\n",
    "    history.append(yhat)\n",
    "    print('>Predicted=%.3f, Expected=%3.3f' % (yhat, obs))"
   ]
  },
  {
   "cell_type": "code",
   "execution_count": 108,
   "metadata": {},
   "outputs": [
    {
     "name": "stdout",
     "output_type": "stream",
     "text": [
      "RMSE: 0.305\n"
     ]
    }
   ],
   "source": [
    "evaluate(test, predictions)"
   ]
  },
  {
   "cell_type": "code",
   "execution_count": 125,
   "metadata": {},
   "outputs": [
    {
     "name": "stdout",
     "output_type": "stream",
     "text": [
      ">Predicted=39.159, Expected=39.150\n",
      ">Predicted=39.168, Expected=39.160\n"
     ]
    }
   ],
   "source": [
    "from statsmodels.tsa.arima_model import ARIMA\n",
    "\n",
    "history = [x for x in train]\n",
    "predictions = list()\n",
    "\n",
    "for i in range(2):\n",
    "    model = ARIMA(history, order=(1,1,1))\n",
    "    model_fit = model.fit(disp=0)\n",
    "    yhat = model_fit.forecast()[0]\n",
    "    predictions.append(yhat)\n",
    "    # observation\n",
    "    obs = test[i]\n",
    "    history.append(yhat)\n",
    "    print('>Predicted=%.3f, Expected=%3.3f' % (yhat, obs))"
   ]
  },
  {
   "cell_type": "code",
   "execution_count": 110,
   "metadata": {},
   "outputs": [
    {
     "name": "stdout",
     "output_type": "stream",
     "text": [
      "RMSE: 0.510\n"
     ]
    }
   ],
   "source": [
    "evaluate(test, predictions)"
   ]
  },
  {
   "cell_type": "code",
   "execution_count": 112,
   "metadata": {},
   "outputs": [],
   "source": [
    "from statsmodels.tsa.holtwinters import ExponentialSmoothing"
   ]
  },
  {
   "cell_type": "code",
   "execution_count": 118,
   "metadata": {},
   "outputs": [
    {
     "name": "stdout",
     "output_type": "stream",
     "text": [
      ">Predicted=39.159, Expected=39.150\n",
      ">Predicted=39.168, Expected=39.160\n",
      ">Predicted=39.178, Expected=39.160\n",
      ">Predicted=39.187, Expected=39.170\n",
      ">Predicted=39.196, Expected=39.170\n",
      ">Predicted=39.206, Expected=39.180\n",
      ">Predicted=39.215, Expected=39.180\n",
      ">Predicted=39.224, Expected=39.190\n",
      ">Predicted=39.234, Expected=39.190\n",
      ">Predicted=39.243, Expected=39.190\n",
      ">Predicted=39.252, Expected=39.200\n",
      ">Predicted=39.261, Expected=39.200\n",
      ">Predicted=39.271, Expected=39.210\n",
      ">Predicted=39.280, Expected=39.210\n",
      ">Predicted=39.289, Expected=39.220\n",
      ">Predicted=39.299, Expected=39.220\n",
      ">Predicted=39.308, Expected=39.230\n",
      ">Predicted=39.317, Expected=39.230\n",
      ">Predicted=39.326, Expected=39.240\n",
      ">Predicted=39.336, Expected=39.240\n",
      ">Predicted=39.345, Expected=39.250\n",
      ">Predicted=39.354, Expected=39.250\n",
      ">Predicted=39.364, Expected=39.250\n",
      ">Predicted=39.373, Expected=39.260\n",
      ">Predicted=39.382, Expected=39.260\n",
      ">Predicted=39.392, Expected=39.270\n",
      ">Predicted=39.401, Expected=39.270\n",
      ">Predicted=39.410, Expected=39.280\n",
      ">Predicted=39.419, Expected=39.280\n",
      ">Predicted=39.429, Expected=39.290\n",
      ">Predicted=39.438, Expected=39.290\n",
      ">Predicted=39.447, Expected=39.300\n",
      ">Predicted=39.457, Expected=39.300\n",
      ">Predicted=39.466, Expected=39.310\n",
      ">Predicted=39.475, Expected=39.310\n",
      ">Predicted=39.484, Expected=39.310\n",
      ">Predicted=39.494, Expected=39.320\n",
      ">Predicted=39.503, Expected=39.320\n",
      ">Predicted=39.512, Expected=39.330\n",
      ">Predicted=39.522, Expected=39.330\n",
      ">Predicted=39.531, Expected=39.340\n",
      ">Predicted=39.540, Expected=39.340\n",
      ">Predicted=39.550, Expected=39.350\n",
      ">Predicted=39.559, Expected=39.350\n",
      ">Predicted=39.568, Expected=39.360\n",
      ">Predicted=39.577, Expected=39.360\n",
      ">Predicted=39.587, Expected=39.370\n",
      ">Predicted=39.596, Expected=39.370\n",
      ">Predicted=39.605, Expected=39.380\n",
      ">Predicted=39.615, Expected=39.380\n",
      ">Predicted=39.624, Expected=39.380\n",
      ">Predicted=39.633, Expected=39.390\n",
      ">Predicted=39.642, Expected=39.390\n",
      ">Predicted=39.652, Expected=39.400\n",
      ">Predicted=39.661, Expected=39.400\n",
      ">Predicted=39.670, Expected=39.410\n",
      ">Predicted=39.680, Expected=39.410\n",
      ">Predicted=39.689, Expected=39.420\n",
      ">Predicted=39.698, Expected=39.420\n",
      ">Predicted=39.707, Expected=39.430\n",
      ">Predicted=39.717, Expected=39.430\n",
      ">Predicted=39.726, Expected=39.440\n",
      ">Predicted=39.735, Expected=39.440\n",
      ">Predicted=39.745, Expected=39.440\n",
      ">Predicted=39.754, Expected=39.450\n",
      ">Predicted=39.763, Expected=39.450\n",
      ">Predicted=39.773, Expected=39.460\n",
      ">Predicted=39.782, Expected=39.460\n",
      ">Predicted=39.791, Expected=39.470\n",
      ">Predicted=39.800, Expected=39.470\n",
      ">Predicted=39.810, Expected=39.480\n",
      ">Predicted=39.819, Expected=39.480\n",
      ">Predicted=39.828, Expected=39.490\n",
      ">Predicted=39.838, Expected=39.490\n",
      ">Predicted=39.847, Expected=39.500\n",
      ">Predicted=39.856, Expected=39.500\n",
      ">Predicted=39.865, Expected=39.500\n",
      ">Predicted=39.875, Expected=39.510\n",
      ">Predicted=39.884, Expected=39.510\n",
      ">Predicted=39.893, Expected=39.520\n",
      ">Predicted=39.903, Expected=39.520\n",
      ">Predicted=39.912, Expected=39.530\n",
      ">Predicted=39.921, Expected=39.530\n",
      ">Predicted=39.931, Expected=39.540\n",
      ">Predicted=39.940, Expected=39.540\n",
      ">Predicted=39.949, Expected=39.550\n",
      ">Predicted=39.958, Expected=39.550\n",
      ">Predicted=39.968, Expected=39.560\n",
      ">Predicted=39.977, Expected=39.560\n",
      ">Predicted=39.986, Expected=39.560\n",
      ">Predicted=39.996, Expected=39.570\n",
      ">Predicted=40.005, Expected=39.570\n",
      ">Predicted=40.014, Expected=39.580\n",
      ">Predicted=40.023, Expected=39.580\n",
      ">Predicted=40.033, Expected=39.590\n"
     ]
    },
    {
     "ename": "KeyboardInterrupt",
     "evalue": "",
     "output_type": "error",
     "traceback": [
      "\u001b[1;31m---------------------------------------------------------------------------\u001b[0m",
      "\u001b[1;31mKeyboardInterrupt\u001b[0m                         Traceback (most recent call last)",
      "\u001b[1;32m<ipython-input-118-19d15116e3ee>\u001b[0m in \u001b[0;36m<module>\u001b[1;34m\u001b[0m\n\u001b[0;32m      4\u001b[0m \u001b[1;32mfor\u001b[0m \u001b[0mi\u001b[0m \u001b[1;32min\u001b[0m \u001b[0mrange\u001b[0m\u001b[1;33m(\u001b[0m\u001b[0mlen\u001b[0m\u001b[1;33m(\u001b[0m\u001b[0mtest\u001b[0m\u001b[1;33m)\u001b[0m\u001b[1;33m)\u001b[0m\u001b[1;33m:\u001b[0m\u001b[1;33m\u001b[0m\u001b[1;33m\u001b[0m\u001b[0m\n\u001b[0;32m      5\u001b[0m     \u001b[0mmodel\u001b[0m \u001b[1;33m=\u001b[0m \u001b[0mExponentialSmoothing\u001b[0m\u001b[1;33m(\u001b[0m\u001b[0mhistory\u001b[0m \u001b[1;33m,\u001b[0m \u001b[0mtrend\u001b[0m \u001b[1;33m=\u001b[0m \u001b[1;34m'additive'\u001b[0m\u001b[1;33m)\u001b[0m\u001b[1;33m\u001b[0m\u001b[1;33m\u001b[0m\u001b[0m\n\u001b[1;32m----> 6\u001b[1;33m     \u001b[0mmodel_fit\u001b[0m \u001b[1;33m=\u001b[0m \u001b[0mmodel\u001b[0m\u001b[1;33m.\u001b[0m\u001b[0mfit\u001b[0m\u001b[1;33m(\u001b[0m\u001b[1;33m)\u001b[0m\u001b[1;33m\u001b[0m\u001b[1;33m\u001b[0m\u001b[0m\n\u001b[0m\u001b[0;32m      7\u001b[0m     \u001b[0myhat\u001b[0m \u001b[1;33m=\u001b[0m \u001b[0mmodel_fit\u001b[0m\u001b[1;33m.\u001b[0m\u001b[0mforecast\u001b[0m\u001b[1;33m(\u001b[0m\u001b[1;33m)\u001b[0m\u001b[1;33m[\u001b[0m\u001b[1;36m0\u001b[0m\u001b[1;33m]\u001b[0m\u001b[1;33m\u001b[0m\u001b[1;33m\u001b[0m\u001b[0m\n\u001b[0;32m      8\u001b[0m     \u001b[0mpredictions\u001b[0m\u001b[1;33m.\u001b[0m\u001b[0mappend\u001b[0m\u001b[1;33m(\u001b[0m\u001b[0myhat\u001b[0m\u001b[1;33m)\u001b[0m\u001b[1;33m\u001b[0m\u001b[1;33m\u001b[0m\u001b[0m\n",
      "\u001b[1;32m~\\Anaconda3\\lib\\site-packages\\statsmodels\\tsa\\holtwinters.py\u001b[0m in \u001b[0;36mfit\u001b[1;34m(self, smoothing_level, smoothing_slope, smoothing_seasonal, damping_slope, optimized, use_boxcox, remove_bias, use_basinhopping)\u001b[0m\n\u001b[0;32m    569\u001b[0m                                (0.0, None), (0.0, None), (0.0, 1.0)] + [(None, None), ] * m)\n\u001b[0;32m    570\u001b[0m             res = brute(func, bounds[txi], (txi, p, y, l, b, s, m, self.nobs, max_seen),\n\u001b[1;32m--> 571\u001b[1;33m                         Ns=20, full_output=True, finish=None)\n\u001b[0m\u001b[0;32m    572\u001b[0m             \u001b[1;33m(\u001b[0m\u001b[0mp\u001b[0m\u001b[1;33m[\u001b[0m\u001b[0mtxi\u001b[0m\u001b[1;33m]\u001b[0m\u001b[1;33m,\u001b[0m \u001b[0mmax_seen\u001b[0m\u001b[1;33m,\u001b[0m \u001b[0mgrid\u001b[0m\u001b[1;33m,\u001b[0m \u001b[0mJout\u001b[0m\u001b[1;33m)\u001b[0m \u001b[1;33m=\u001b[0m \u001b[0mres\u001b[0m\u001b[1;33m\u001b[0m\u001b[1;33m\u001b[0m\u001b[0m\n\u001b[0;32m    573\u001b[0m             \u001b[1;33m[\u001b[0m\u001b[0malpha\u001b[0m\u001b[1;33m,\u001b[0m \u001b[0mbeta\u001b[0m\u001b[1;33m,\u001b[0m \u001b[0mgamma\u001b[0m\u001b[1;33m,\u001b[0m \u001b[0ml0\u001b[0m\u001b[1;33m,\u001b[0m \u001b[0mb0\u001b[0m\u001b[1;33m,\u001b[0m \u001b[0mphi\u001b[0m\u001b[1;33m]\u001b[0m \u001b[1;33m=\u001b[0m \u001b[0mp\u001b[0m\u001b[1;33m[\u001b[0m\u001b[1;33m:\u001b[0m\u001b[1;36m6\u001b[0m\u001b[1;33m]\u001b[0m\u001b[1;33m\u001b[0m\u001b[1;33m\u001b[0m\u001b[0m\n",
      "\u001b[1;32m~\\Anaconda3\\lib\\site-packages\\scipy\\optimize\\optimize.py\u001b[0m in \u001b[0;36mbrute\u001b[1;34m(func, ranges, args, Ns, full_output, finish, disp)\u001b[0m\n\u001b[0;32m   2829\u001b[0m     \u001b[1;32mif\u001b[0m \u001b[1;33m(\u001b[0m\u001b[0mN\u001b[0m \u001b[1;33m==\u001b[0m \u001b[1;36m1\u001b[0m\u001b[1;33m)\u001b[0m\u001b[1;33m:\u001b[0m\u001b[1;33m\u001b[0m\u001b[1;33m\u001b[0m\u001b[0m\n\u001b[0;32m   2830\u001b[0m         \u001b[0mgrid\u001b[0m \u001b[1;33m=\u001b[0m \u001b[1;33m(\u001b[0m\u001b[0mgrid\u001b[0m\u001b[1;33m,\u001b[0m\u001b[1;33m)\u001b[0m\u001b[1;33m\u001b[0m\u001b[1;33m\u001b[0m\u001b[0m\n\u001b[1;32m-> 2831\u001b[1;33m     \u001b[0mJout\u001b[0m \u001b[1;33m=\u001b[0m \u001b[0mvecfunc\u001b[0m\u001b[1;33m(\u001b[0m\u001b[1;33m*\u001b[0m\u001b[0mgrid\u001b[0m\u001b[1;33m)\u001b[0m\u001b[1;33m\u001b[0m\u001b[1;33m\u001b[0m\u001b[0m\n\u001b[0m\u001b[0;32m   2832\u001b[0m     \u001b[0mNshape\u001b[0m \u001b[1;33m=\u001b[0m \u001b[0mshape\u001b[0m\u001b[1;33m(\u001b[0m\u001b[0mJout\u001b[0m\u001b[1;33m)\u001b[0m\u001b[1;33m\u001b[0m\u001b[1;33m\u001b[0m\u001b[0m\n\u001b[0;32m   2833\u001b[0m     \u001b[0mindx\u001b[0m \u001b[1;33m=\u001b[0m \u001b[0margmin\u001b[0m\u001b[1;33m(\u001b[0m\u001b[0mJout\u001b[0m\u001b[1;33m.\u001b[0m\u001b[0mravel\u001b[0m\u001b[1;33m(\u001b[0m\u001b[1;33m)\u001b[0m\u001b[1;33m,\u001b[0m \u001b[0maxis\u001b[0m\u001b[1;33m=\u001b[0m\u001b[1;33m-\u001b[0m\u001b[1;36m1\u001b[0m\u001b[1;33m)\u001b[0m\u001b[1;33m\u001b[0m\u001b[1;33m\u001b[0m\u001b[0m\n",
      "\u001b[1;32m~\\Anaconda3\\lib\\site-packages\\numpy\\lib\\function_base.py\u001b[0m in \u001b[0;36m__call__\u001b[1;34m(self, *args, **kwargs)\u001b[0m\n\u001b[0;32m   1970\u001b[0m             \u001b[0mvargs\u001b[0m\u001b[1;33m.\u001b[0m\u001b[0mextend\u001b[0m\u001b[1;33m(\u001b[0m\u001b[1;33m[\u001b[0m\u001b[0mkwargs\u001b[0m\u001b[1;33m[\u001b[0m\u001b[0m_n\u001b[0m\u001b[1;33m]\u001b[0m \u001b[1;32mfor\u001b[0m \u001b[0m_n\u001b[0m \u001b[1;32min\u001b[0m \u001b[0mnames\u001b[0m\u001b[1;33m]\u001b[0m\u001b[1;33m)\u001b[0m\u001b[1;33m\u001b[0m\u001b[1;33m\u001b[0m\u001b[0m\n\u001b[0;32m   1971\u001b[0m \u001b[1;33m\u001b[0m\u001b[0m\n\u001b[1;32m-> 1972\u001b[1;33m         \u001b[1;32mreturn\u001b[0m \u001b[0mself\u001b[0m\u001b[1;33m.\u001b[0m\u001b[0m_vectorize_call\u001b[0m\u001b[1;33m(\u001b[0m\u001b[0mfunc\u001b[0m\u001b[1;33m=\u001b[0m\u001b[0mfunc\u001b[0m\u001b[1;33m,\u001b[0m \u001b[0margs\u001b[0m\u001b[1;33m=\u001b[0m\u001b[0mvargs\u001b[0m\u001b[1;33m)\u001b[0m\u001b[1;33m\u001b[0m\u001b[1;33m\u001b[0m\u001b[0m\n\u001b[0m\u001b[0;32m   1973\u001b[0m \u001b[1;33m\u001b[0m\u001b[0m\n\u001b[0;32m   1974\u001b[0m     \u001b[1;32mdef\u001b[0m \u001b[0m_get_ufunc_and_otypes\u001b[0m\u001b[1;33m(\u001b[0m\u001b[0mself\u001b[0m\u001b[1;33m,\u001b[0m \u001b[0mfunc\u001b[0m\u001b[1;33m,\u001b[0m \u001b[0margs\u001b[0m\u001b[1;33m)\u001b[0m\u001b[1;33m:\u001b[0m\u001b[1;33m\u001b[0m\u001b[1;33m\u001b[0m\u001b[0m\n",
      "\u001b[1;32m~\\Anaconda3\\lib\\site-packages\\numpy\\lib\\function_base.py\u001b[0m in \u001b[0;36m_vectorize_call\u001b[1;34m(self, func, args)\u001b[0m\n\u001b[0;32m   2046\u001b[0m                       for a in args]\n\u001b[0;32m   2047\u001b[0m \u001b[1;33m\u001b[0m\u001b[0m\n\u001b[1;32m-> 2048\u001b[1;33m             \u001b[0moutputs\u001b[0m \u001b[1;33m=\u001b[0m \u001b[0mufunc\u001b[0m\u001b[1;33m(\u001b[0m\u001b[1;33m*\u001b[0m\u001b[0minputs\u001b[0m\u001b[1;33m)\u001b[0m\u001b[1;33m\u001b[0m\u001b[1;33m\u001b[0m\u001b[0m\n\u001b[0m\u001b[0;32m   2049\u001b[0m \u001b[1;33m\u001b[0m\u001b[0m\n\u001b[0;32m   2050\u001b[0m             \u001b[1;32mif\u001b[0m \u001b[0mufunc\u001b[0m\u001b[1;33m.\u001b[0m\u001b[0mnout\u001b[0m \u001b[1;33m==\u001b[0m \u001b[1;36m1\u001b[0m\u001b[1;33m:\u001b[0m\u001b[1;33m\u001b[0m\u001b[1;33m\u001b[0m\u001b[0m\n",
      "\u001b[1;32m~\\Anaconda3\\lib\\site-packages\\scipy\\optimize\\optimize.py\u001b[0m in \u001b[0;36m_scalarfunc\u001b[1;34m(*params)\u001b[0m\n\u001b[0;32m   2823\u001b[0m     \u001b[1;32mdef\u001b[0m \u001b[0m_scalarfunc\u001b[0m\u001b[1;33m(\u001b[0m\u001b[1;33m*\u001b[0m\u001b[0mparams\u001b[0m\u001b[1;33m)\u001b[0m\u001b[1;33m:\u001b[0m\u001b[1;33m\u001b[0m\u001b[1;33m\u001b[0m\u001b[0m\n\u001b[0;32m   2824\u001b[0m         \u001b[0mparams\u001b[0m \u001b[1;33m=\u001b[0m \u001b[0masarray\u001b[0m\u001b[1;33m(\u001b[0m\u001b[0mparams\u001b[0m\u001b[1;33m)\u001b[0m\u001b[1;33m.\u001b[0m\u001b[0mflatten\u001b[0m\u001b[1;33m(\u001b[0m\u001b[1;33m)\u001b[0m\u001b[1;33m\u001b[0m\u001b[1;33m\u001b[0m\u001b[0m\n\u001b[1;32m-> 2825\u001b[1;33m         \u001b[1;32mreturn\u001b[0m \u001b[0mfunc\u001b[0m\u001b[1;33m(\u001b[0m\u001b[0mparams\u001b[0m\u001b[1;33m,\u001b[0m \u001b[1;33m*\u001b[0m\u001b[0margs\u001b[0m\u001b[1;33m)\u001b[0m\u001b[1;33m\u001b[0m\u001b[1;33m\u001b[0m\u001b[0m\n\u001b[0m\u001b[0;32m   2826\u001b[0m \u001b[1;33m\u001b[0m\u001b[0m\n\u001b[0;32m   2827\u001b[0m     \u001b[0mvecfunc\u001b[0m \u001b[1;33m=\u001b[0m \u001b[0mvectorize\u001b[0m\u001b[1;33m(\u001b[0m\u001b[0m_scalarfunc\u001b[0m\u001b[1;33m)\u001b[0m\u001b[1;33m\u001b[0m\u001b[1;33m\u001b[0m\u001b[0m\n",
      "\u001b[1;32m~\\Anaconda3\\lib\\site-packages\\statsmodels\\tsa\\holtwinters.py\u001b[0m in \u001b[0;36m_holt_add_dam\u001b[1;34m(x, xi, p, y, l, b, s, m, n, max_seen)\u001b[0m\n\u001b[0;32m     85\u001b[0m     \u001b[1;32mfor\u001b[0m \u001b[0mi\u001b[0m \u001b[1;32min\u001b[0m \u001b[0mrange\u001b[0m\u001b[1;33m(\u001b[0m\u001b[1;36m1\u001b[0m\u001b[1;33m,\u001b[0m \u001b[0mn\u001b[0m\u001b[1;33m)\u001b[0m\u001b[1;33m:\u001b[0m\u001b[1;33m\u001b[0m\u001b[1;33m\u001b[0m\u001b[0m\n\u001b[0;32m     86\u001b[0m         \u001b[0ml\u001b[0m\u001b[1;33m[\u001b[0m\u001b[0mi\u001b[0m\u001b[1;33m]\u001b[0m \u001b[1;33m=\u001b[0m \u001b[1;33m(\u001b[0m\u001b[0my_alpha\u001b[0m\u001b[1;33m[\u001b[0m\u001b[0mi\u001b[0m \u001b[1;33m-\u001b[0m \u001b[1;36m1\u001b[0m\u001b[1;33m]\u001b[0m\u001b[1;33m)\u001b[0m \u001b[1;33m+\u001b[0m \u001b[1;33m(\u001b[0m\u001b[0malphac\u001b[0m \u001b[1;33m*\u001b[0m \u001b[1;33m(\u001b[0m\u001b[0ml\u001b[0m\u001b[1;33m[\u001b[0m\u001b[0mi\u001b[0m \u001b[1;33m-\u001b[0m \u001b[1;36m1\u001b[0m\u001b[1;33m]\u001b[0m \u001b[1;33m+\u001b[0m \u001b[0mphi\u001b[0m \u001b[1;33m*\u001b[0m \u001b[0mb\u001b[0m\u001b[1;33m[\u001b[0m\u001b[0mi\u001b[0m \u001b[1;33m-\u001b[0m \u001b[1;36m1\u001b[0m\u001b[1;33m]\u001b[0m\u001b[1;33m)\u001b[0m\u001b[1;33m)\u001b[0m\u001b[1;33m\u001b[0m\u001b[1;33m\u001b[0m\u001b[0m\n\u001b[1;32m---> 87\u001b[1;33m         \u001b[0mb\u001b[0m\u001b[1;33m[\u001b[0m\u001b[0mi\u001b[0m\u001b[1;33m]\u001b[0m \u001b[1;33m=\u001b[0m \u001b[1;33m(\u001b[0m\u001b[0mbeta\u001b[0m \u001b[1;33m*\u001b[0m \u001b[1;33m(\u001b[0m\u001b[0ml\u001b[0m\u001b[1;33m[\u001b[0m\u001b[0mi\u001b[0m\u001b[1;33m]\u001b[0m \u001b[1;33m-\u001b[0m \u001b[0ml\u001b[0m\u001b[1;33m[\u001b[0m\u001b[0mi\u001b[0m \u001b[1;33m-\u001b[0m \u001b[1;36m1\u001b[0m\u001b[1;33m]\u001b[0m\u001b[1;33m)\u001b[0m\u001b[1;33m)\u001b[0m \u001b[1;33m+\u001b[0m \u001b[1;33m(\u001b[0m\u001b[0mbetac\u001b[0m \u001b[1;33m*\u001b[0m \u001b[0mphi\u001b[0m \u001b[1;33m*\u001b[0m \u001b[0mb\u001b[0m\u001b[1;33m[\u001b[0m\u001b[0mi\u001b[0m \u001b[1;33m-\u001b[0m \u001b[1;36m1\u001b[0m\u001b[1;33m]\u001b[0m\u001b[1;33m)\u001b[0m\u001b[1;33m\u001b[0m\u001b[1;33m\u001b[0m\u001b[0m\n\u001b[0m\u001b[0;32m     88\u001b[0m     \u001b[1;32mreturn\u001b[0m \u001b[0msqeuclidean\u001b[0m\u001b[1;33m(\u001b[0m\u001b[0ml\u001b[0m \u001b[1;33m+\u001b[0m \u001b[0mphi\u001b[0m \u001b[1;33m*\u001b[0m \u001b[0mb\u001b[0m\u001b[1;33m,\u001b[0m \u001b[0my\u001b[0m\u001b[1;33m)\u001b[0m\u001b[1;33m\u001b[0m\u001b[1;33m\u001b[0m\u001b[0m\n\u001b[0;32m     89\u001b[0m \u001b[1;33m\u001b[0m\u001b[0m\n",
      "\u001b[1;31mKeyboardInterrupt\u001b[0m: "
     ]
    }
   ],
   "source": [
    "history = [x for x in train]\n",
    "predictions = list()\n",
    "\n",
    "for i in range(len(test)):\n",
    "    model = ExponentialSmoothing(history , trend = 'additive')\n",
    "    model_fit = model.fit()\n",
    "    yhat = model_fit.forecast()[0]\n",
    "    predictions.append(yhat)\n",
    "    # observation\n",
    "    obs = test[i]\n",
    "    history.append(yhat)\n",
    "    print('>Predicted=%.3f, Expected=%3.3f' % (yhat, obs))"
   ]
  },
  {
   "cell_type": "code",
   "execution_count": 117,
   "metadata": {},
   "outputs": [
    {
     "name": "stdout",
     "output_type": "stream",
     "text": [
      "RMSE: 0.305\n"
     ]
    }
   ],
   "source": [
    "evaluate(test, predictions)"
   ]
  },
  {
   "cell_type": "code",
   "execution_count": null,
   "metadata": {},
   "outputs": [],
   "source": []
  }
 ],
 "metadata": {
  "kernelspec": {
   "display_name": "Python 3",
   "language": "python",
   "name": "python3"
  },
  "language_info": {
   "codemirror_mode": {
    "name": "ipython",
    "version": 3
   },
   "file_extension": ".py",
   "mimetype": "text/x-python",
   "name": "python",
   "nbconvert_exporter": "python",
   "pygments_lexer": "ipython3",
   "version": "3.7.1"
  }
 },
 "nbformat": 4,
 "nbformat_minor": 2
}
