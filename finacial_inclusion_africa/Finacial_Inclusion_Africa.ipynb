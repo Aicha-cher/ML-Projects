{
  "nbformat": 4,
  "nbformat_minor": 0,
  "metadata": {
    "kernelspec": {
      "name": "python3",
      "display_name": "Python 3"
    },
    "language_info": {
      "codemirror_mode": {
        "name": "ipython",
        "version": 3
      },
      "file_extension": ".py",
      "mimetype": "text/x-python",
      "name": "python",
      "nbconvert_exporter": "python",
      "pygments_lexer": "ipython3",
      "version": "3.7.1"
    },
    "colab": {
      "name": "Finacial Inclusion Africa.ipynb",
      "version": "0.3.2",
      "provenance": []
    },
    "accelerator": "GPU"
  },
  "cells": [
    {
      "cell_type": "code",
      "metadata": {
        "id": "A9gRpL8bH0qT",
        "colab_type": "code",
        "colab": {}
      },
      "source": [
        "import pandas as pd\n",
        "import numpy as np\n",
        "import matplotlib.pyplot as plt\n",
        "import seaborn as sns"
      ],
      "execution_count": 0,
      "outputs": []
    },
    {
      "cell_type": "code",
      "metadata": {
        "id": "egBcrz3gH0qg",
        "colab_type": "code",
        "colab": {
          "base_uri": "https://localhost:8080/",
          "height": 326
        },
        "outputId": "79264448-3246-4ddf-ef4b-0efa885a2114"
      },
      "source": [
        "path_to_folder = ''\n",
        "data = pd.read_csv(path_to_folder + 'Train_v2.csv')\n",
        "data_vis = pd.read_csv(path_to_folder + 'Train_v2.csv')\n",
        "data.head()"
      ],
      "execution_count": 470,
      "outputs": [
        {
          "output_type": "execute_result",
          "data": {
            "text/html": [
              "<div>\n",
              "<style scoped>\n",
              "    .dataframe tbody tr th:only-of-type {\n",
              "        vertical-align: middle;\n",
              "    }\n",
              "\n",
              "    .dataframe tbody tr th {\n",
              "        vertical-align: top;\n",
              "    }\n",
              "\n",
              "    .dataframe thead th {\n",
              "        text-align: right;\n",
              "    }\n",
              "</style>\n",
              "<table border=\"1\" class=\"dataframe\">\n",
              "  <thead>\n",
              "    <tr style=\"text-align: right;\">\n",
              "      <th></th>\n",
              "      <th>country</th>\n",
              "      <th>year</th>\n",
              "      <th>uniqueid</th>\n",
              "      <th>bank_account</th>\n",
              "      <th>location_type</th>\n",
              "      <th>cellphone_access</th>\n",
              "      <th>household_size</th>\n",
              "      <th>age_of_respondent</th>\n",
              "      <th>gender_of_respondent</th>\n",
              "      <th>relationship_with_head</th>\n",
              "      <th>marital_status</th>\n",
              "      <th>education_level</th>\n",
              "      <th>job_type</th>\n",
              "    </tr>\n",
              "  </thead>\n",
              "  <tbody>\n",
              "    <tr>\n",
              "      <th>0</th>\n",
              "      <td>Kenya</td>\n",
              "      <td>2018</td>\n",
              "      <td>uniqueid_1</td>\n",
              "      <td>Yes</td>\n",
              "      <td>Rural</td>\n",
              "      <td>Yes</td>\n",
              "      <td>3</td>\n",
              "      <td>24</td>\n",
              "      <td>Female</td>\n",
              "      <td>Spouse</td>\n",
              "      <td>Married/Living together</td>\n",
              "      <td>Secondary education</td>\n",
              "      <td>Self employed</td>\n",
              "    </tr>\n",
              "    <tr>\n",
              "      <th>1</th>\n",
              "      <td>Kenya</td>\n",
              "      <td>2018</td>\n",
              "      <td>uniqueid_2</td>\n",
              "      <td>No</td>\n",
              "      <td>Rural</td>\n",
              "      <td>No</td>\n",
              "      <td>5</td>\n",
              "      <td>70</td>\n",
              "      <td>Female</td>\n",
              "      <td>Head of Household</td>\n",
              "      <td>Widowed</td>\n",
              "      <td>No formal education</td>\n",
              "      <td>Government Dependent</td>\n",
              "    </tr>\n",
              "    <tr>\n",
              "      <th>2</th>\n",
              "      <td>Kenya</td>\n",
              "      <td>2018</td>\n",
              "      <td>uniqueid_3</td>\n",
              "      <td>Yes</td>\n",
              "      <td>Urban</td>\n",
              "      <td>Yes</td>\n",
              "      <td>5</td>\n",
              "      <td>26</td>\n",
              "      <td>Male</td>\n",
              "      <td>Other relative</td>\n",
              "      <td>Single/Never Married</td>\n",
              "      <td>Vocational/Specialised training</td>\n",
              "      <td>Self employed</td>\n",
              "    </tr>\n",
              "    <tr>\n",
              "      <th>3</th>\n",
              "      <td>Kenya</td>\n",
              "      <td>2018</td>\n",
              "      <td>uniqueid_4</td>\n",
              "      <td>No</td>\n",
              "      <td>Rural</td>\n",
              "      <td>Yes</td>\n",
              "      <td>5</td>\n",
              "      <td>34</td>\n",
              "      <td>Female</td>\n",
              "      <td>Head of Household</td>\n",
              "      <td>Married/Living together</td>\n",
              "      <td>Primary education</td>\n",
              "      <td>Formally employed Private</td>\n",
              "    </tr>\n",
              "    <tr>\n",
              "      <th>4</th>\n",
              "      <td>Kenya</td>\n",
              "      <td>2018</td>\n",
              "      <td>uniqueid_5</td>\n",
              "      <td>No</td>\n",
              "      <td>Urban</td>\n",
              "      <td>No</td>\n",
              "      <td>8</td>\n",
              "      <td>26</td>\n",
              "      <td>Male</td>\n",
              "      <td>Child</td>\n",
              "      <td>Single/Never Married</td>\n",
              "      <td>Primary education</td>\n",
              "      <td>Informally employed</td>\n",
              "    </tr>\n",
              "  </tbody>\n",
              "</table>\n",
              "</div>"
            ],
            "text/plain": [
              "  country  year  ...                  education_level                   job_type\n",
              "0   Kenya  2018  ...              Secondary education              Self employed\n",
              "1   Kenya  2018  ...              No formal education       Government Dependent\n",
              "2   Kenya  2018  ...  Vocational/Specialised training              Self employed\n",
              "3   Kenya  2018  ...                Primary education  Formally employed Private\n",
              "4   Kenya  2018  ...                Primary education        Informally employed\n",
              "\n",
              "[5 rows x 13 columns]"
            ]
          },
          "metadata": {
            "tags": []
          },
          "execution_count": 470
        }
      ]
    },
    {
      "cell_type": "code",
      "metadata": {
        "id": "2Orcha6ZH0qt",
        "colab_type": "code",
        "colab": {
          "base_uri": "https://localhost:8080/",
          "height": 284
        },
        "outputId": "bd33d749-2229-4da1-923d-2cca4b1f861b"
      },
      "source": [
        "sns.countplot(x='job_type', data=data);"
      ],
      "execution_count": 423,
      "outputs": [
        {
          "output_type": "display_data",
          "data": {
            "image/png": "[encoded data removed]",
            "text/plain": [
              "<Figure size 432x288 with 1 Axes>"
            ]
          },
          "metadata": {
            "tags": []
          }
        }
      ]
    },
    {
      "cell_type": "code",
      "metadata": {
        "id": "ay6pmHw1H0q2",
        "colab_type": "code",
        "colab": {
          "base_uri": "https://localhost:8080/",
          "height": 297
        },
        "outputId": "fa185f90-4a85-4510-ef90-41ca214feb30"
      },
      "source": [
        "data.describe()"
      ],
      "execution_count": 424,
      "outputs": [
        {
          "output_type": "execute_result",
          "data": {
            "text/html": [
              "<div>\n",
              "<style scoped>\n",
              "    .dataframe tbody tr th:only-of-type {\n",
              "        vertical-align: middle;\n",
              "    }\n",
              "\n",
              "    .dataframe tbody tr th {\n",
              "        vertical-align: top;\n",
              "    }\n",
              "\n",
              "    .dataframe thead th {\n",
              "        text-align: right;\n",
              "    }\n",
              "</style>\n",
              "<table border=\"1\" class=\"dataframe\">\n",
              "  <thead>\n",
              "    <tr style=\"text-align: right;\">\n",
              "      <th></th>\n",
              "      <th>year</th>\n",
              "      <th>household_size</th>\n",
              "      <th>age_of_respondent</th>\n",
              "    </tr>\n",
              "  </thead>\n",
              "  <tbody>\n",
              "    <tr>\n",
              "      <th>count</th>\n",
              "      <td>23524.000000</td>\n",
              "      <td>23524.000000</td>\n",
              "      <td>23524.000000</td>\n",
              "    </tr>\n",
              "    <tr>\n",
              "      <th>mean</th>\n",
              "      <td>2016.975939</td>\n",
              "      <td>3.797483</td>\n",
              "      <td>38.805220</td>\n",
              "    </tr>\n",
              "    <tr>\n",
              "      <th>std</th>\n",
              "      <td>0.847371</td>\n",
              "      <td>2.227613</td>\n",
              "      <td>16.520569</td>\n",
              "    </tr>\n",
              "    <tr>\n",
              "      <th>min</th>\n",
              "      <td>2016.000000</td>\n",
              "      <td>1.000000</td>\n",
              "      <td>16.000000</td>\n",
              "    </tr>\n",
              "    <tr>\n",
              "      <th>25%</th>\n",
              "      <td>2016.000000</td>\n",
              "      <td>2.000000</td>\n",
              "      <td>26.000000</td>\n",
              "    </tr>\n",
              "    <tr>\n",
              "      <th>50%</th>\n",
              "      <td>2017.000000</td>\n",
              "      <td>3.000000</td>\n",
              "      <td>35.000000</td>\n",
              "    </tr>\n",
              "    <tr>\n",
              "      <th>75%</th>\n",
              "      <td>2018.000000</td>\n",
              "      <td>5.000000</td>\n",
              "      <td>49.000000</td>\n",
              "    </tr>\n",
              "    <tr>\n",
              "      <th>max</th>\n",
              "      <td>2018.000000</td>\n",
              "      <td>21.000000</td>\n",
              "      <td>100.000000</td>\n",
              "    </tr>\n",
              "  </tbody>\n",
              "</table>\n",
              "</div>"
            ],
            "text/plain": [
              "               year  household_size  age_of_respondent\n",
              "count  23524.000000    23524.000000       23524.000000\n",
              "mean    2016.975939        3.797483          38.805220\n",
              "std        0.847371        2.227613          16.520569\n",
              "min     2016.000000        1.000000          16.000000\n",
              "25%     2016.000000        2.000000          26.000000\n",
              "50%     2017.000000        3.000000          35.000000\n",
              "75%     2018.000000        5.000000          49.000000\n",
              "max     2018.000000       21.000000         100.000000"
            ]
          },
          "metadata": {
            "tags": []
          },
          "execution_count": 424
        }
      ]
    },
    {
      "cell_type": "code",
      "metadata": {
        "id": "-Ys3TyfsgQBy",
        "colab_type": "code",
        "colab": {
          "base_uri": "https://localhost:8080/",
          "height": 286
        },
        "outputId": "875d53df-68d2-4bae-9bc2-3f09a09f1727"
      },
      "source": [
        "data.household_size.transform(np.log10).hist()"
      ],
      "execution_count": 474,
      "outputs": [
        {
          "output_type": "execute_result",
          "data": {
            "text/plain": [
              "<matplotlib.axes._subplots.AxesSubplot at 0x7f1f8491a7f0>"
            ]
          },
          "metadata": {
            "tags": []
          },
          "execution_count": 474
        },
        {
          "output_type": "display_data",
          "data": {
            "image/png": "[encoded data removed]",
            "text/plain": [
              "<Figure size 432x288 with 1 Axes>"
            ]
          },
          "metadata": {
            "tags": []
          }
        }
      ]
    },
    {
      "cell_type": "code",
      "metadata": {
        "id": "3_ywn187UOX0",
        "colab_type": "code",
        "colab": {}
      },
      "source": [
        "data['household_size'] = data.household_size.transform(np.losqg)\n",
        "data['age_of_respondent'] = data.age_of_respondent.transform(np.log)"
      ],
      "execution_count": 0,
      "outputs": []
    },
    {
      "cell_type": "code",
      "metadata": {
        "id": "G2jdJB4bH0q8",
        "colab_type": "code",
        "colab": {
          "base_uri": "https://localhost:8080/",
          "height": 255
        },
        "outputId": "9e6dadb8-8118-492a-aeee-63113ec12b18"
      },
      "source": [
        "data.isnull().sum()"
      ],
      "execution_count": 426,
      "outputs": [
        {
          "output_type": "execute_result",
          "data": {
            "text/plain": [
              "country                   0\n",
              "year                      0\n",
              "uniqueid                  0\n",
              "bank_account              0\n",
              "location_type             0\n",
              "cellphone_access          0\n",
              "household_size            0\n",
              "age_of_respondent         0\n",
              "gender_of_respondent      0\n",
              "relationship_with_head    0\n",
              "marital_status            0\n",
              "education_level           0\n",
              "job_type                  0\n",
              "dtype: int64"
            ]
          },
          "metadata": {
            "tags": []
          },
          "execution_count": 426
        }
      ]
    },
    {
      "cell_type": "code",
      "metadata": {
        "id": "PF82W540H0rE",
        "colab_type": "code",
        "colab": {
          "base_uri": "https://localhost:8080/",
          "height": 34
        },
        "outputId": "00faacf0-1c56-46bb-eeae-bd5575cf5f3c"
      },
      "source": [
        "data.shape"
      ],
      "execution_count": 427,
      "outputs": [
        {
          "output_type": "execute_result",
          "data": {
            "text/plain": [
              "(23524, 13)"
            ]
          },
          "metadata": {
            "tags": []
          },
          "execution_count": 427
        }
      ]
    },
    {
      "cell_type": "code",
      "metadata": {
        "id": "WWv_UsihH0rM",
        "colab_type": "code",
        "colab": {
          "base_uri": "https://localhost:8080/",
          "height": 102
        },
        "outputId": "e8591bae-02d9-47ae-d204-9c96169dc9cb"
      },
      "source": [
        "data.columns"
      ],
      "execution_count": 428,
      "outputs": [
        {
          "output_type": "execute_result",
          "data": {
            "text/plain": [
              "Index(['country', 'year', 'uniqueid', 'bank_account', 'location_type',\n",
              "       'cellphone_access', 'household_size', 'age_of_respondent',\n",
              "       'gender_of_respondent', 'relationship_with_head', 'marital_status',\n",
              "       'education_level', 'job_type'],\n",
              "      dtype='object')"
            ]
          },
          "metadata": {
            "tags": []
          },
          "execution_count": 428
        }
      ]
    },
    {
      "cell_type": "code",
      "metadata": {
        "id": "gvfsG2f5H0rU",
        "colab_type": "code",
        "colab": {
          "base_uri": "https://localhost:8080/",
          "height": 663
        },
        "outputId": "ed0367df-75bb-45cb-e16c-6c1c550426ef"
      },
      "source": [
        "for i in data.columns:\n",
        "    print(\"{} => {}\".format(i, data[i].unique()))"
      ],
      "execution_count": 202,
      "outputs": [
        {
          "output_type": "stream",
          "text": [
            "country => ['Kenya' 'Rwanda' 'Tanzania' 'Uganda']\n",
            "year => ['year_2018' 'year_2016' 'year_2017']\n",
            "uniqueid => ['uniqueid_1' 'uniqueid_2' 'uniqueid_3' ... 'uniqueid_8757'\n",
            " 'uniqueid_8758' 'uniqueid_8759']\n",
            "bank_account => ['Yes' 'No']\n",
            "location_type => ['Rural' 'Urban']\n",
            "cellphone_access => ['Yes' 'No']\n",
            "household_size => [1.09861229 1.60943791 2.07944154 1.94591015 0.         1.79175947\n",
            " 1.38629436 2.30258509 0.69314718 2.39789527 2.19722458 2.48490665\n",
            " 2.77258872 2.7080502  2.56494936 2.63905733 3.04452244 2.89037176\n",
            " 2.83321334 2.99573227]\n",
            "age_of_respondent => [3.17805383 4.24849524 3.25809654 3.52636052 3.4657359  3.73766962\n",
            " 3.98898405 4.33073334 3.68887945 4.2341065  4.15888308 3.4339872\n",
            " 3.63758616 3.8501476  3.29583687 3.87120101 3.21887582 3.04452244\n",
            " 2.89037176 3.09104245 4.06044301 4.00733319 4.12713439 3.36729583\n",
            " 3.55534806 3.80666249 4.20469262 2.94443898 4.38202663 4.18965474\n",
            " 3.91202301 3.49650756 3.33220451 3.93182563 2.77258872 2.83321334\n",
            " 3.40119738 3.61091791 4.07753744 4.17438727 3.8286414  4.02535169\n",
            " 3.95124372 3.13549422 3.76120012 3.8918203  3.78418963 4.27666612\n",
            " 3.97029191 4.14313473 3.66356165 4.39444915 4.35670883 3.58351894\n",
            " 2.99573227 4.09434456 4.55387689 4.26267988 4.04305127 4.44265126\n",
            " 4.21950771 3.71357207 4.11087386 4.31748811 4.4543473  4.29045944\n",
            " 4.53259949 4.30406509 4.47733681 4.49980967 4.34380542 4.4308168\n",
            " 4.40671925 4.48863637 4.36944785 4.41884061 4.54329478 4.46590812\n",
            " 4.52178858 4.51085951 4.58496748 4.57471098 4.56434819 4.59511985\n",
            " 4.60517019]\n",
            "gender_of_respondent => ['Female' 'Male']\n",
            "relationship_with_head => ['Spouse' 'Head of Household' 'Other relative' 'Child' 'Parent'\n",
            " 'Other non-relatives']\n",
            "marital_status => ['Married/Living together' 'Widowed' 'Single/Never Married'\n",
            " 'Divorced/Seperated' 'Dont know']\n",
            "education_level => ['Secondary education' 'No formal education'\n",
            " 'Vocational/Specialised training' 'Primary education'\n",
            " 'Tertiary education' 'Other/Dont know/RTA']\n",
            "job_type => ['Self employed' 'Government Dependent' 'Formally employed Private'\n",
            " 'Informally employed' 'Formally employed Government'\n",
            " 'Farming and Fishing' 'Remittance Dependent' 'Other Income'\n",
            " 'Dont Know/Refuse to answer' 'No Income']\n"
          ],
          "name": "stdout"
        }
      ]
    },
    {
      "cell_type": "code",
      "metadata": {
        "id": "F92kYBAxTZG3",
        "colab_type": "code",
        "colab": {}
      },
      "source": [
        "data['year'] = 'year_' + data['year'].astype(str)"
      ],
      "execution_count": 0,
      "outputs": []
    },
    {
      "cell_type": "code",
      "metadata": {
        "id": "kcxKzFzBH0rb",
        "colab_type": "code",
        "colab": {}
      },
      "source": [
        "dataset = data.drop(['uniqueid'] , axis = 1)"
      ],
      "execution_count": 0,
      "outputs": []
    },
    {
      "cell_type": "code",
      "metadata": {
        "id": "cr-lTjRWH0rh",
        "colab_type": "code",
        "colab": {}
      },
      "source": [
        "y = dataset['bank_account'].values\n",
        "X = dataset.drop(['bank_account'], axis = 1)"
      ],
      "execution_count": 0,
      "outputs": []
    },
    {
      "cell_type": "code",
      "metadata": {
        "id": "vFacRbXdH0ro",
        "colab_type": "code",
        "colab": {}
      },
      "source": [
        "X = pd.get_dummies(X, drop_first=True)"
      ],
      "execution_count": 0,
      "outputs": []
    },
    {
      "cell_type": "code",
      "metadata": {
        "id": "mvUKjZY7H0ru",
        "colab_type": "code",
        "colab": {
          "base_uri": "https://localhost:8080/",
          "height": 34
        },
        "outputId": "e8c0d0ff-e395-441b-de8e-ea4077853033"
      },
      "source": [
        "X.shape"
      ],
      "execution_count": 434,
      "outputs": [
        {
          "output_type": "execute_result",
          "data": {
            "text/plain": [
              "(23524, 33)"
            ]
          },
          "metadata": {
            "tags": []
          },
          "execution_count": 434
        }
      ]
    },
    {
      "cell_type": "code",
      "metadata": {
        "id": "wUhAr2TeH0r1",
        "colab_type": "code",
        "colab": {}
      },
      "source": [
        "from sklearn.preprocessing import LabelEncoder\n",
        "encoder = LabelEncoder()\n",
        "y = encoder.fit_transform(y)"
      ],
      "execution_count": 0,
      "outputs": []
    },
    {
      "cell_type": "code",
      "metadata": {
        "id": "0lcXYIC_H0r7",
        "colab_type": "code",
        "colab": {
          "base_uri": "https://localhost:8080/",
          "height": 34
        },
        "outputId": "b040b79a-2dd2-4340-d9ea-d0b4d1a68430"
      },
      "source": [
        "from sklearn.utils import class_weight\n",
        "class_weights = class_weight.compute_class_weight('balanced', np.unique(y), y)\n",
        "print(class_weights)"
      ],
      "execution_count": 13,
      "outputs": [
        {
          "output_type": "stream",
          "text": [
            "[0.58193153 3.5513285 ]\n"
          ],
          "name": "stdout"
        }
      ]
    },
    {
      "cell_type": "code",
      "metadata": {
        "id": "18aJzK4AH0sC",
        "colab_type": "code",
        "colab": {}
      },
      "source": [
        "# train test split\n",
        "from sklearn.model_selection import train_test_split\n",
        "x_train, x_test, y_train, y_test = train_test_split(X, y, test_size = 0.3, random_state = 22)"
      ],
      "execution_count": 0,
      "outputs": []
    },
    {
      "cell_type": "code",
      "metadata": {
        "id": "1MFdSyrmOHKe",
        "colab_type": "code",
        "colab": {}
      },
      "source": [
        "from imblearn.over_sampling import RandomOverSampler\n",
        "\n",
        "ros = RandomOverSampler(0.3)\n",
        "x_train, y_train = ros.fit_sample(x_train, y_train)"
      ],
      "execution_count": 0,
      "outputs": []
    },
    {
      "cell_type": "code",
      "metadata": {
        "id": "jVvvomJfNYvG",
        "colab_type": "code",
        "colab": {}
      },
      "source": [
        "from imblearn.under_sampling import RandomUnderSampler\n",
        "\n",
        "rus = RandomUnderSampler(0.7)\n",
        "x_train, y_train = rus.fit_sample(x_train, y_train)"
      ],
      "execution_count": 0,
      "outputs": []
    },
    {
      "cell_type": "code",
      "metadata": {
        "id": "SZqmztkZLQYy",
        "colab_type": "code",
        "colab": {}
      },
      "source": [
        "from imblearn.under_sampling import TomekLinks\n",
        "\n",
        "tl = TomekLinks(ratio='majority')\n",
        "x_train, y_train = tl.fit_sample(x_train, y_train)"
      ],
      "execution_count": 0,
      "outputs": []
    },
    {
      "cell_type": "code",
      "metadata": {
        "id": "u_W1XNKyH0sJ",
        "colab_type": "code",
        "colab": {}
      },
      "source": [
        "from imblearn.over_sampling import SMOTE\n",
        "from imblearn.combine import SMOTETomek\n",
        "\n",
        "smt = SMOTETomek(ratio='auto')\n",
        "\n",
        "smote = SMOTE(ratio='minority')\n",
        "x_train, y_train = smt.fit_sample(x_train, y_train)"
      ],
      "execution_count": 0,
      "outputs": []
    },
    {
      "cell_type": "code",
      "metadata": {
        "id": "p6-xfZQJH0sR",
        "colab_type": "code",
        "colab": {}
      },
      "source": [
        "from sklearn.preprocessing import StandardScaler\n",
        "year_scaler= StandardScaler()\n",
        "house_scaler= StandardScaler()\n",
        "age_scaler= StandardScaler()"
      ],
      "execution_count": 0,
      "outputs": []
    },
    {
      "cell_type": "code",
      "metadata": {
        "id": "TynDL7YwH0sf",
        "colab_type": "code",
        "colab": {}
      },
      "source": [
        "x_train['year'] = year_scaler.fit_transform(x_train['year'].values.reshape(-1, 1))\n",
        "x_train['household_size'] = house_scaler.fit_transform(x_train['household_size'].values.reshape(-1, 1))\n",
        "x_train['age_of_respondent'] = age_scaler.fit_transform(x_train['age_of_respondent'].values.reshape(-1, 1))"
      ],
      "execution_count": 0,
      "outputs": []
    },
    {
      "cell_type": "code",
      "metadata": {
        "id": "5KYTZ8aJH0sp",
        "colab_type": "code",
        "colab": {}
      },
      "source": [
        "x_test['year'] = year_scaler.transform(x_test['year'].values.reshape(-1, 1))\n",
        "x_test['household_size'] = house_scaler.transform(x_test['household_size'].values.reshape(-1, 1))\n",
        "x_test['age_of_respondent'] = age_scaler.transform(x_test['age_of_respondent'].values.reshape(-1, 1))"
      ],
      "execution_count": 0,
      "outputs": []
    },
    {
      "cell_type": "code",
      "metadata": {
        "id": "_3r8Y5hVH0sw",
        "colab_type": "code",
        "colab": {}
      },
      "source": [
        "# Standerdise the dataset\n",
        "from sklearn.preprocessing import StandardScaler\n",
        "scaler= StandardScaler()\n",
        "x_train = scaler.fit_transform(x_train)\n",
        "x_test = scaler.transform(x_test)"
      ],
      "execution_count": 0,
      "outputs": []
    },
    {
      "cell_type": "code",
      "metadata": {
        "id": "eZhofikZH0t0",
        "colab_type": "code",
        "colab": {}
      },
      "source": [
        "# making evaluation\n",
        "from sklearn.metrics import accuracy_score, f1_score, confusion_matrix\n",
        "def evaluate(clf):\n",
        "    y_pred = clf.predict(x_test)\n",
        "    accuracy = accuracy_score(y_test, y_pred)\n",
        "    f1 = f1_score(y_test, y_pred)\n",
        "    cm = confusion_matrix(y_test, y_pred)\n",
        "    print(\"The Scores for {} are: Accuracy of {}, F1 of {} and CM\".format(type(clf).__name__, accuracy, f1))\n",
        "    sns.heatmap(cm, annot = True , fmt='g')"
      ],
      "execution_count": 0,
      "outputs": []
    },
    {
      "cell_type": "code",
      "metadata": {
        "id": "QVspHI_VH0ts",
        "colab_type": "code",
        "colab": {
          "base_uri": "https://localhost:8080/",
          "height": 102
        },
        "outputId": "677a2830-c631-4459-8cde-6fd89f6a1312"
      },
      "source": [
        "# building first model\n",
        "from sklearn.linear_model import LogisticRegression\n",
        "clf_lr = LogisticRegression(solver = 'lbfgs', max_iter=1000)\n",
        "clf_lr.fit(x_train, y_train)"
      ],
      "execution_count": 402,
      "outputs": [
        {
          "output_type": "execute_result",
          "data": {
            "text/plain": [
              "LogisticRegression(C=1.0, class_weight=None, dual=False, fit_intercept=True,\n",
              "                   intercept_scaling=1, l1_ratio=None, max_iter=1000,\n",
              "                   multi_class='warn', n_jobs=None, penalty='l2',\n",
              "                   random_state=None, solver='lbfgs', tol=0.0001, verbose=0,\n",
              "                   warm_start=False)"
            ]
          },
          "metadata": {
            "tags": []
          },
          "execution_count": 402
        }
      ]
    },
    {
      "cell_type": "code",
      "metadata": {
        "id": "fa08wjAvH0t7",
        "colab_type": "code",
        "colab": {
          "base_uri": "https://localhost:8080/",
          "height": 286
        },
        "outputId": "3b602b76-e3cb-480c-ab99-b9bc0983df7e"
      },
      "source": [
        "evaluate(clf_lr)"
      ],
      "execution_count": 403,
      "outputs": [
        {
          "output_type": "stream",
          "text": [
            "The Scores for LogisticRegression are: Accuracy of 0.8778690847265515, F1 of 0.5216426193118757 and CM\n"
          ],
          "name": "stdout"
        },
        {
          "output_type": "display_data",
          "data": {
            "image/png": "[encoded data removed]",
            "text/plain": [
              "<Figure size 432x288 with 2 Axes>"
            ]
          },
          "metadata": {
            "tags": []
          }
        }
      ]
    },
    {
      "cell_type": "code",
      "metadata": {
        "id": "Sx1athWzH0uE",
        "colab_type": "code",
        "colab": {
          "base_uri": "https://localhost:8080/",
          "height": 85
        },
        "outputId": "8a9c78fd-829c-460d-d26c-ef1f1d2aa27c"
      },
      "source": [
        "from sklearn.svm import SVC\n",
        "clf_svm = SVC(kernel = 'rbf', gamma = 'scale')\n",
        "clf_svm.fit(x_train,y_train)"
      ],
      "execution_count": 404,
      "outputs": [
        {
          "output_type": "execute_result",
          "data": {
            "text/plain": [
              "SVC(C=1.0, cache_size=200, class_weight=None, coef0=0.0,\n",
              "    decision_function_shape='ovr', degree=3, gamma='scale', kernel='rbf',\n",
              "    max_iter=-1, probability=False, random_state=None, shrinking=True,\n",
              "    tol=0.001, verbose=False)"
            ]
          },
          "metadata": {
            "tags": []
          },
          "execution_count": 404
        }
      ]
    },
    {
      "cell_type": "code",
      "metadata": {
        "id": "jkByQ_GNH0uN",
        "colab_type": "code",
        "colab": {
          "base_uri": "https://localhost:8080/",
          "height": 286
        },
        "outputId": "393f2ed3-6983-4a82-faaa-77f3b5e45233"
      },
      "source": [
        "evaluate(clf_svm)"
      ],
      "execution_count": 405,
      "outputs": [
        {
          "output_type": "stream",
          "text": [
            "The Scores for SVC are: Accuracy of 0.88169453102862, F1 of 0.5181765724177726 and CM\n"
          ],
          "name": "stdout"
        },
        {
          "output_type": "display_data",
          "data": {
            "image/png": "[encoded data removed]",
            "text/plain": [
              "<Figure size 432x288 with 2 Axes>"
            ]
          },
          "metadata": {
            "tags": []
          }
        }
      ]
    },
    {
      "cell_type": "code",
      "metadata": {
        "id": "bJ6JvFlPH0uW",
        "colab_type": "code",
        "colab": {
          "base_uri": "https://localhost:8080/",
          "height": 68
        },
        "outputId": "ebabf043-dffa-4eb9-97d5-8a8bf019241c"
      },
      "source": [
        "from sklearn.neighbors import KNeighborsClassifier\n",
        "clf_knn = KNeighborsClassifier(n_neighbors= 10, n_jobs=-1, p=2)\n",
        "clf_knn.fit(x_train, y_train)"
      ],
      "execution_count": 407,
      "outputs": [
        {
          "output_type": "execute_result",
          "data": {
            "text/plain": [
              "KNeighborsClassifier(algorithm='auto', leaf_size=30, metric='minkowski',\n",
              "                     metric_params=None, n_jobs=-1, n_neighbors=10, p=2,\n",
              "                     weights='uniform')"
            ]
          },
          "metadata": {
            "tags": []
          },
          "execution_count": 407
        }
      ]
    },
    {
      "cell_type": "code",
      "metadata": {
        "id": "ClGevzMGH0uj",
        "colab_type": "code",
        "colab": {
          "base_uri": "https://localhost:8080/",
          "height": 286
        },
        "outputId": "1f9848d3-88fc-4f16-cd0f-a05bea841cd8"
      },
      "source": [
        "evaluate(clf_knn)"
      ],
      "execution_count": 408,
      "outputs": [
        {
          "output_type": "stream",
          "text": [
            "The Scores for KNeighborsClassifier are: Accuracy of 0.8654009634457354, F1 of 0.48759439050701187 and CM\n"
          ],
          "name": "stdout"
        },
        {
          "output_type": "display_data",
          "data": {
            "image/png": "[encoded data removed]",
            "text/plain": [
              "<Figure size 432x288 with 2 Axes>"
            ]
          },
          "metadata": {
            "tags": []
          }
        }
      ]
    },
    {
      "cell_type": "code",
      "metadata": {
        "id": "g3aF_Mp3H0uz",
        "colab_type": "code",
        "colab": {
          "base_uri": "https://localhost:8080/",
          "height": 119
        },
        "outputId": "ea176111-00fd-484e-8740-7f53fa6328a5"
      },
      "source": [
        "from sklearn.tree import DecisionTreeClassifier\n",
        "clf_dt = DecisionTreeClassifier()\n",
        "clf_dt.fit(x_train, y_train)"
      ],
      "execution_count": 366,
      "outputs": [
        {
          "output_type": "execute_result",
          "data": {
            "text/plain": [
              "DecisionTreeClassifier(class_weight=None, criterion='gini', max_depth=None,\n",
              "                       max_features=None, max_leaf_nodes=None,\n",
              "                       min_impurity_decrease=0.0, min_impurity_split=None,\n",
              "                       min_samples_leaf=1, min_samples_split=2,\n",
              "                       min_weight_fraction_leaf=0.0, presort=False,\n",
              "                       random_state=None, splitter='best')"
            ]
          },
          "metadata": {
            "tags": []
          },
          "execution_count": 366
        }
      ]
    },
    {
      "cell_type": "code",
      "metadata": {
        "id": "BNEBe6ZqH0u9",
        "colab_type": "code",
        "colab": {
          "base_uri": "https://localhost:8080/",
          "height": 286
        },
        "outputId": "5ec341ca-9113-4929-937d-fdcb206ff10f"
      },
      "source": [
        "evaluate(clf_dt)"
      ],
      "execution_count": 367,
      "outputs": [
        {
          "output_type": "stream",
          "text": [
            "The Scores for DecisionTreeClassifier are: Accuracy of 0.8203457069991499, F1 of 0.3838678328474247 and CM\n"
          ],
          "name": "stdout"
        },
        {
          "output_type": "display_data",
          "data": {
            "image/png": "[encoded data removed]",
            "text/plain": [
              "<Figure size 432x288 with 2 Axes>"
            ]
          },
          "metadata": {
            "tags": []
          }
        }
      ]
    },
    {
      "cell_type": "code",
      "metadata": {
        "id": "rn1j76wlH0vI",
        "colab_type": "code",
        "colab": {
          "base_uri": "https://localhost:8080/",
          "height": 136
        },
        "outputId": "3539ccf5-71d0-48d7-a5e1-a6b206d26442"
      },
      "source": [
        "from sklearn.ensemble import RandomForestClassifier\n",
        "clf_rf = RandomForestClassifier(n_estimators  = 100)\n",
        "clf_rf.fit(x_train, y_train)"
      ],
      "execution_count": 368,
      "outputs": [
        {
          "output_type": "execute_result",
          "data": {
            "text/plain": [
              "RandomForestClassifier(bootstrap=True, class_weight=None, criterion='gini',\n",
              "                       max_depth=None, max_features='auto', max_leaf_nodes=None,\n",
              "                       min_impurity_decrease=0.0, min_impurity_split=None,\n",
              "                       min_samples_leaf=1, min_samples_split=2,\n",
              "                       min_weight_fraction_leaf=0.0, n_estimators=100,\n",
              "                       n_jobs=None, oob_score=False, random_state=None,\n",
              "                       verbose=0, warm_start=False)"
            ]
          },
          "metadata": {
            "tags": []
          },
          "execution_count": 368
        }
      ]
    },
    {
      "cell_type": "code",
      "metadata": {
        "id": "9wo0HdDsH0vb",
        "colab_type": "code",
        "colab": {
          "base_uri": "https://localhost:8080/",
          "height": 286
        },
        "outputId": "6c9fb27d-70fd-492b-81a5-ac42fe2d0141"
      },
      "source": [
        "evaluate(clf_rf)"
      ],
      "execution_count": 369,
      "outputs": [
        {
          "output_type": "stream",
          "text": [
            "The Scores for RandomForestClassifier are: Accuracy of 0.8466987815245112, F1 of 0.4529828109201213 and CM\n"
          ],
          "name": "stdout"
        },
        {
          "output_type": "display_data",
          "data": {
            "image/png": "[encoded data removed]",
            "text/plain": [
              "<Figure size 432x288 with 2 Axes>"
            ]
          },
          "metadata": {
            "tags": []
          }
        }
      ]
    },
    {
      "cell_type": "code",
      "metadata": {
        "id": "8SlotJnRH0vz",
        "colab_type": "code",
        "colab": {
          "base_uri": "https://localhost:8080/",
          "height": 51
        },
        "outputId": "45415b20-8005-493d-ee7c-fc3f0a1b04b6"
      },
      "source": [
        "from sklearn.ensemble import AdaBoostClassifier, BaggingClassifier\n",
        "clf_ab = AdaBoostClassifier()\n",
        "clf_ab.fit(x_train, y_train)"
      ],
      "execution_count": 370,
      "outputs": [
        {
          "output_type": "execute_result",
          "data": {
            "text/plain": [
              "AdaBoostClassifier(algorithm='SAMME.R', base_estimator=None, learning_rate=1.0,\n",
              "                   n_estimators=50, random_state=None)"
            ]
          },
          "metadata": {
            "tags": []
          },
          "execution_count": 370
        }
      ]
    },
    {
      "cell_type": "code",
      "metadata": {
        "id": "q9gbPCfcH0v5",
        "colab_type": "code",
        "colab": {
          "base_uri": "https://localhost:8080/",
          "height": 286
        },
        "outputId": "ec8df868-30a1-4a22-d182-fc1e3590a511"
      },
      "source": [
        "evaluate(clf_ab)"
      ],
      "execution_count": 371,
      "outputs": [
        {
          "output_type": "stream",
          "text": [
            "The Scores for AdaBoostClassifier are: Accuracy of 0.8576083876452253, F1 of 0.5288326300984529 and CM\n"
          ],
          "name": "stdout"
        },
        {
          "output_type": "display_data",
          "data": {
            "image/png": "[encoded data removed]",
            "text/plain": [
              "<Figure size 432x288 with 2 Axes>"
            ]
          },
          "metadata": {
            "tags": []
          }
        }
      ]
    },
    {
      "cell_type": "code",
      "metadata": {
        "id": "bbqx5fhDH0wE",
        "colab_type": "code",
        "colab": {
          "base_uri": "https://localhost:8080/",
          "height": 85
        },
        "outputId": "cc95f3f6-f299-480f-8d3a-4b4f3502df48"
      },
      "source": [
        "clf_bg = BaggingClassifier()\n",
        "clf_bg.fit(x_train, y_train)"
      ],
      "execution_count": 372,
      "outputs": [
        {
          "output_type": "execute_result",
          "data": {
            "text/plain": [
              "BaggingClassifier(base_estimator=None, bootstrap=True, bootstrap_features=False,\n",
              "                  max_features=1.0, max_samples=1.0, n_estimators=10,\n",
              "                  n_jobs=None, oob_score=False, random_state=None, verbose=0,\n",
              "                  warm_start=False)"
            ]
          },
          "metadata": {
            "tags": []
          },
          "execution_count": 372
        }
      ]
    },
    {
      "cell_type": "code",
      "metadata": {
        "id": "7NUXVkhjH0wQ",
        "colab_type": "code",
        "colab": {
          "base_uri": "https://localhost:8080/",
          "height": 286
        },
        "outputId": "6493f19a-0c9c-4b21-a722-9fcb87873d53"
      },
      "source": [
        "evaluate(clf_bg)"
      ],
      "execution_count": 373,
      "outputs": [
        {
          "output_type": "stream",
          "text": [
            "The Scores for BaggingClassifier are: Accuracy of 0.8410314536695948, F1 of 0.43276036400404455 and CM\n"
          ],
          "name": "stdout"
        },
        {
          "output_type": "display_data",
          "data": {
            "image/png": "[encoded data removed]",
            "text/plain": [
              "<Figure size 432x288 with 2 Axes>"
            ]
          },
          "metadata": {
            "tags": []
          }
        }
      ]
    },
    {
      "cell_type": "code",
      "metadata": {
        "id": "oq-Aoz7iH0we",
        "colab_type": "code",
        "colab": {
          "base_uri": "https://localhost:8080/",
          "height": 34
        },
        "outputId": "674ee6d2-2136-415c-f02f-78d4cc72be7c"
      },
      "source": [
        "from sklearn.naive_bayes import BernoulliNB\n",
        "clf_bnb = BernoulliNB()\n",
        "clf_bnb.fit(x_train, y_train)"
      ],
      "execution_count": 316,
      "outputs": [
        {
          "output_type": "execute_result",
          "data": {
            "text/plain": [
              "BernoulliNB(alpha=1.0, binarize=0.0, class_prior=None, fit_prior=True)"
            ]
          },
          "metadata": {
            "tags": []
          },
          "execution_count": 316
        }
      ]
    },
    {
      "cell_type": "code",
      "metadata": {
        "id": "k8McFUGkH0wo",
        "colab_type": "code",
        "colab": {
          "base_uri": "https://localhost:8080/",
          "height": 286
        },
        "outputId": "279bf284-8a44-4b05-811f-59d84d2e28bd"
      },
      "source": [
        "evaluate(clf_bnb)"
      ],
      "execution_count": 317,
      "outputs": [
        {
          "output_type": "stream",
          "text": [
            "The Scores for BernoulliNB are: Accuracy of 0.8641258146783791, F1 of 0.49124668435013263 and CM\n"
          ],
          "name": "stdout"
        },
        {
          "output_type": "display_data",
          "data": {
            "image/png": "[encoded data removed]",
            "text/plain": [
              "<Figure size 432x288 with 2 Axes>"
            ]
          },
          "metadata": {
            "tags": []
          }
        }
      ]
    },
    {
      "cell_type": "code",
      "metadata": {
        "id": "gv_4im9uH0wu",
        "colab_type": "code",
        "colab": {
          "base_uri": "https://localhost:8080/",
          "height": 34
        },
        "outputId": "beb74547-cd99-43cb-e898-3c2f7b8cb87d"
      },
      "source": [
        "from sklearn.naive_bayes import GaussianNB\n",
        "clf_gnb = GaussianNB()\n",
        "clf_gnb.fit(x_train, y_train)"
      ],
      "execution_count": 318,
      "outputs": [
        {
          "output_type": "execute_result",
          "data": {
            "text/plain": [
              "GaussianNB(priors=None, var_smoothing=1e-09)"
            ]
          },
          "metadata": {
            "tags": []
          },
          "execution_count": 318
        }
      ]
    },
    {
      "cell_type": "code",
      "metadata": {
        "id": "eNwiMYYpH0w2",
        "colab_type": "code",
        "colab": {
          "base_uri": "https://localhost:8080/",
          "height": 286
        },
        "outputId": "36ba8a5a-aa5d-4707-a822-646a242d3096"
      },
      "source": [
        "evaluate(clf_gnb)"
      ],
      "execution_count": 319,
      "outputs": [
        {
          "output_type": "stream",
          "text": [
            "The Scores for GaussianNB are: Accuracy of 0.8554831396996316, F1 of 0.47906026557711956 and CM\n"
          ],
          "name": "stdout"
        },
        {
          "output_type": "display_data",
          "data": {
            "image/png": "[encoded data removed]",
            "text/plain": [
              "<Figure size 432x288 with 2 Axes>"
            ]
          },
          "metadata": {
            "tags": []
          }
        }
      ]
    },
    {
      "cell_type": "code",
      "metadata": {
        "id": "ov7M2wT2iNVE",
        "colab_type": "code",
        "colab": {
          "base_uri": "https://localhost:8080/",
          "height": 34
        },
        "outputId": "2c737ded-6a82-4b74-86a6-02d25c7ff0ad"
      },
      "source": [
        "# building deep neural network\n",
        "from keras.models import Sequential\n",
        "from keras.layers import Dense, Dropout"
      ],
      "execution_count": 505,
      "outputs": [
        {
          "output_type": "stream",
          "text": [
            "Using TensorFlow backend.\n"
          ],
          "name": "stderr"
        }
      ]
    },
    {
      "cell_type": "code",
      "metadata": {
        "id": "zeeuOzIliR-y",
        "colab_type": "code",
        "colab": {
          "base_uri": "https://localhost:8080/",
          "height": 340
        },
        "outputId": "6d87590e-3854-416f-9365-731391a8071d"
      },
      "source": [
        "model = Sequential()\n",
        "model.add(Dense(128 , input_dim = x_train.shape[1], activation = 'relu'))\n",
        "model.add(Dense(256, activation = 'relu'))\n",
        "model.add(Dense(256, activation = 'relu'))\n",
        "model.add(Dense(512, activation = 'relu'))\n",
        "model.add(Dense(512, activation = 'relu'))\n",
        "model.add(Dense(1, activation = 'sigmoid'))\n",
        "model.summary()"
      ],
      "execution_count": 511,
      "outputs": [
        {
          "output_type": "stream",
          "text": [
            "_________________________________________________________________\n",
            "Layer (type)                 Output Shape              Param #   \n",
            "=================================================================\n",
            "dense_9 (Dense)              (None, 128)               4352      \n",
            "_________________________________________________________________\n",
            "dense_10 (Dense)             (None, 256)               33024     \n",
            "_________________________________________________________________\n",
            "dense_11 (Dense)             (None, 256)               65792     \n",
            "_________________________________________________________________\n",
            "dense_12 (Dense)             (None, 512)               131584    \n",
            "_________________________________________________________________\n",
            "dense_13 (Dense)             (None, 512)               262656    \n",
            "_________________________________________________________________\n",
            "dense_14 (Dense)             (None, 1)                 513       \n",
            "=================================================================\n",
            "Total params: 497,921\n",
            "Trainable params: 497,921\n",
            "Non-trainable params: 0\n",
            "_________________________________________________________________\n"
          ],
          "name": "stdout"
        }
      ]
    },
    {
      "cell_type": "code",
      "metadata": {
        "id": "lmyDQZTWiWwW",
        "colab_type": "code",
        "colab": {}
      },
      "source": [
        "model.compile(loss = 'binary_crossentropy' , optimizer = 'rmsprop', metrics = ['accuracy'])"
      ],
      "execution_count": 0,
      "outputs": []
    },
    {
      "cell_type": "code",
      "metadata": {
        "id": "MbDiBH31ibNK",
        "colab_type": "code",
        "colab": {
          "base_uri": "https://localhost:8080/",
          "height": 1000
        },
        "outputId": "9827d20b-8d77-4f07-ecc4-db1e73fcb9dc"
      },
      "source": [
        "model.fit(x_train, y_train, epochs = 100, batch_size = 64)"
      ],
      "execution_count": 513,
      "outputs": [
        {
          "output_type": "stream",
          "text": [
            "Epoch 1/100\n",
            "18383/18383 [==============================] - 2s 109us/step - loss: 0.3909 - acc: 0.8298\n",
            "Epoch 2/100\n",
            "18383/18383 [==============================] - 2s 93us/step - loss: 0.3644 - acc: 0.8450\n",
            "Epoch 3/100\n",
            "18383/18383 [==============================] - 2s 94us/step - loss: 0.3546 - acc: 0.8473\n",
            "Epoch 4/100\n",
            "18383/18383 [==============================] - 2s 95us/step - loss: 0.3492 - acc: 0.8493\n",
            "Epoch 5/100\n",
            "18383/18383 [==============================] - 2s 95us/step - loss: 0.3432 - acc: 0.8531\n",
            "Epoch 6/100\n",
            "18383/18383 [==============================] - 2s 94us/step - loss: 0.3396 - acc: 0.8531\n",
            "Epoch 7/100\n",
            "18383/18383 [==============================] - 2s 94us/step - loss: 0.3363 - acc: 0.8575\n",
            "Epoch 8/100\n",
            "18383/18383 [==============================] - 2s 93us/step - loss: 0.3320 - acc: 0.8582\n",
            "Epoch 9/100\n",
            "18383/18383 [==============================] - 2s 94us/step - loss: 0.3292 - acc: 0.8585\n",
            "Epoch 10/100\n",
            "18383/18383 [==============================] - 2s 94us/step - loss: 0.3247 - acc: 0.8597\n",
            "Epoch 11/100\n",
            "18383/18383 [==============================] - 2s 96us/step - loss: 0.3270 - acc: 0.8605\n",
            "Epoch 12/100\n",
            "18383/18383 [==============================] - 2s 93us/step - loss: 0.3222 - acc: 0.8620\n",
            "Epoch 13/100\n",
            "18383/18383 [==============================] - 2s 93us/step - loss: 0.3180 - acc: 0.8623\n",
            "Epoch 14/100\n",
            "18383/18383 [==============================] - 2s 96us/step - loss: 0.3192 - acc: 0.8627\n",
            "Epoch 15/100\n",
            "18383/18383 [==============================] - 2s 93us/step - loss: 0.3171 - acc: 0.8648\n",
            "Epoch 16/100\n",
            "18383/18383 [==============================] - 2s 95us/step - loss: 0.3112 - acc: 0.8647\n",
            "Epoch 17/100\n",
            "18383/18383 [==============================] - 2s 94us/step - loss: 0.3073 - acc: 0.8669\n",
            "Epoch 18/100\n",
            "18383/18383 [==============================] - 2s 94us/step - loss: 0.3070 - acc: 0.8679\n",
            "Epoch 19/100\n",
            "18383/18383 [==============================] - 2s 94us/step - loss: 0.3031 - acc: 0.8708\n",
            "Epoch 20/100\n",
            "18383/18383 [==============================] - 2s 95us/step - loss: 0.3027 - acc: 0.8699\n",
            "Epoch 21/100\n",
            "18383/18383 [==============================] - 2s 93us/step - loss: 0.2998 - acc: 0.8688\n",
            "Epoch 22/100\n",
            "18383/18383 [==============================] - 2s 94us/step - loss: 0.2958 - acc: 0.8716\n",
            "Epoch 23/100\n",
            "18383/18383 [==============================] - 2s 95us/step - loss: 0.2932 - acc: 0.8721\n",
            "Epoch 24/100\n",
            "18383/18383 [==============================] - 2s 93us/step - loss: 0.2912 - acc: 0.8754\n",
            "Epoch 25/100\n",
            "18383/18383 [==============================] - 2s 94us/step - loss: 0.2894 - acc: 0.8739\n",
            "Epoch 26/100\n",
            "18383/18383 [==============================] - 2s 95us/step - loss: 0.2977 - acc: 0.8734\n",
            "Epoch 27/100\n",
            "18383/18383 [==============================] - 2s 93us/step - loss: 0.2848 - acc: 0.8769\n",
            "Epoch 28/100\n",
            "18383/18383 [==============================] - 2s 94us/step - loss: 0.2931 - acc: 0.8761\n",
            "Epoch 29/100\n",
            "18383/18383 [==============================] - 2s 94us/step - loss: 0.2806 - acc: 0.8776\n",
            "Epoch 30/100\n",
            "18383/18383 [==============================] - 2s 92us/step - loss: 0.2860 - acc: 0.8770\n",
            "Epoch 31/100\n",
            "18383/18383 [==============================] - 2s 94us/step - loss: 0.2779 - acc: 0.8810\n",
            "Epoch 32/100\n",
            "18383/18383 [==============================] - 2s 94us/step - loss: 0.2814 - acc: 0.8804\n",
            "Epoch 33/100\n",
            "18383/18383 [==============================] - 2s 93us/step - loss: 0.2775 - acc: 0.8822\n",
            "Epoch 34/100\n",
            "18383/18383 [==============================] - 2s 92us/step - loss: 0.2816 - acc: 0.8835\n",
            "Epoch 35/100\n",
            "18383/18383 [==============================] - 2s 94us/step - loss: 0.2722 - acc: 0.8837\n",
            "Epoch 36/100\n",
            "18383/18383 [==============================] - 2s 93us/step - loss: 0.2676 - acc: 0.8843\n",
            "Epoch 37/100\n",
            "18383/18383 [==============================] - 2s 94us/step - loss: 0.2912 - acc: 0.8832\n",
            "Epoch 38/100\n",
            "18383/18383 [==============================] - 2s 94us/step - loss: 0.2723 - acc: 0.8838\n",
            "Epoch 39/100\n",
            "18383/18383 [==============================] - 2s 94us/step - loss: 0.2730 - acc: 0.8859\n",
            "Epoch 40/100\n",
            "18383/18383 [==============================] - 2s 93us/step - loss: 0.2756 - acc: 0.8862\n",
            "Epoch 41/100\n",
            "18383/18383 [==============================] - 2s 94us/step - loss: 0.2776 - acc: 0.8838\n",
            "Epoch 42/100\n",
            "18383/18383 [==============================] - 2s 94us/step - loss: 0.2716 - acc: 0.8860\n",
            "Epoch 43/100\n",
            "18383/18383 [==============================] - 2s 94us/step - loss: 0.2665 - acc: 0.8849\n",
            "Epoch 44/100\n",
            "18383/18383 [==============================] - 2s 95us/step - loss: 0.2667 - acc: 0.8881\n",
            "Epoch 45/100\n",
            "18383/18383 [==============================] - 2s 94us/step - loss: 0.2657 - acc: 0.8886\n",
            "Epoch 46/100\n",
            "18383/18383 [==============================] - 2s 94us/step - loss: 0.2691 - acc: 0.8882\n",
            "Epoch 47/100\n",
            "18383/18383 [==============================] - 2s 94us/step - loss: 0.2695 - acc: 0.8890\n",
            "Epoch 48/100\n",
            "18383/18383 [==============================] - 2s 94us/step - loss: 0.2656 - acc: 0.8911\n",
            "Epoch 49/100\n",
            "18383/18383 [==============================] - 2s 95us/step - loss: 0.2663 - acc: 0.8907\n",
            "Epoch 50/100\n",
            "18383/18383 [==============================] - 2s 95us/step - loss: 0.2612 - acc: 0.8900\n",
            "Epoch 51/100\n",
            "18383/18383 [==============================] - 2s 95us/step - loss: 0.2723 - acc: 0.8904\n",
            "Epoch 52/100\n",
            "18383/18383 [==============================] - 2s 94us/step - loss: 0.2676 - acc: 0.8926\n",
            "Epoch 53/100\n",
            "18383/18383 [==============================] - 2s 94us/step - loss: 0.2745 - acc: 0.8917\n",
            "Epoch 54/100\n",
            "18383/18383 [==============================] - 2s 94us/step - loss: 0.2642 - acc: 0.8919\n",
            "Epoch 55/100\n",
            "18383/18383 [==============================] - 2s 93us/step - loss: 0.2657 - acc: 0.8933\n",
            "Epoch 56/100\n",
            "18383/18383 [==============================] - 2s 94us/step - loss: 0.2652 - acc: 0.8955\n",
            "Epoch 57/100\n",
            "18383/18383 [==============================] - 2s 94us/step - loss: 0.2674 - acc: 0.8930\n",
            "Epoch 58/100\n",
            "18383/18383 [==============================] - 2s 93us/step - loss: 0.2766 - acc: 0.8927\n",
            "Epoch 59/100\n",
            "18383/18383 [==============================] - 2s 94us/step - loss: 0.2698 - acc: 0.8937\n",
            "Epoch 60/100\n",
            "18383/18383 [==============================] - 2s 94us/step - loss: 0.2690 - acc: 0.8956\n",
            "Epoch 61/100\n",
            "18383/18383 [==============================] - 2s 93us/step - loss: 0.2709 - acc: 0.8946\n",
            "Epoch 62/100\n",
            "18383/18383 [==============================] - 2s 94us/step - loss: 0.2641 - acc: 0.8930\n",
            "Epoch 63/100\n",
            "18383/18383 [==============================] - 2s 95us/step - loss: 0.2552 - acc: 0.8969\n",
            "Epoch 64/100\n",
            "18383/18383 [==============================] - 2s 94us/step - loss: 0.2586 - acc: 0.8965\n",
            "Epoch 65/100\n",
            "18383/18383 [==============================] - 2s 93us/step - loss: 0.2645 - acc: 0.8971\n",
            "Epoch 66/100\n",
            "18383/18383 [==============================] - 2s 94us/step - loss: 0.2620 - acc: 0.8966\n",
            "Epoch 67/100\n",
            "18383/18383 [==============================] - 2s 95us/step - loss: 0.2618 - acc: 0.8975\n",
            "Epoch 68/100\n",
            "18383/18383 [==============================] - 2s 93us/step - loss: 0.2691 - acc: 0.8969\n",
            "Epoch 69/100\n",
            "18383/18383 [==============================] - 2s 95us/step - loss: 0.2624 - acc: 0.8968\n",
            "Epoch 70/100\n",
            "18383/18383 [==============================] - 2s 93us/step - loss: 0.2543 - acc: 0.8962\n",
            "Epoch 71/100\n",
            "18383/18383 [==============================] - 2s 93us/step - loss: 0.2502 - acc: 0.8990\n",
            "Epoch 72/100\n",
            "18383/18383 [==============================] - 2s 94us/step - loss: 0.2545 - acc: 0.8978\n",
            "Epoch 73/100\n",
            "18383/18383 [==============================] - 2s 93us/step - loss: 0.2501 - acc: 0.8979\n",
            "Epoch 74/100\n",
            "18383/18383 [==============================] - 2s 93us/step - loss: 0.2565 - acc: 0.8989\n",
            "Epoch 75/100\n",
            "18383/18383 [==============================] - 2s 95us/step - loss: 0.2540 - acc: 0.8988\n",
            "Epoch 76/100\n",
            "18383/18383 [==============================] - 2s 93us/step - loss: 0.2556 - acc: 0.9000\n",
            "Epoch 77/100\n",
            "18383/18383 [==============================] - 2s 94us/step - loss: 0.2527 - acc: 0.8985\n",
            "Epoch 78/100\n",
            "18383/18383 [==============================] - 2s 95us/step - loss: 0.2519 - acc: 0.8989\n",
            "Epoch 79/100\n",
            "18383/18383 [==============================] - 2s 94us/step - loss: 0.2601 - acc: 0.9015\n",
            "Epoch 80/100\n",
            "18383/18383 [==============================] - 2s 93us/step - loss: 0.2524 - acc: 0.9007\n",
            "Epoch 81/100\n",
            "18383/18383 [==============================] - 2s 95us/step - loss: 0.2496 - acc: 0.9014\n",
            "Epoch 82/100\n",
            "18383/18383 [==============================] - 2s 94us/step - loss: 0.2704 - acc: 0.8998\n",
            "Epoch 83/100\n",
            "18383/18383 [==============================] - 2s 92us/step - loss: 0.2584 - acc: 0.9015\n",
            "Epoch 84/100\n",
            "18383/18383 [==============================] - 2s 94us/step - loss: 0.2575 - acc: 0.9020\n",
            "Epoch 85/100\n",
            "18383/18383 [==============================] - 2s 94us/step - loss: 0.2469 - acc: 0.9023\n",
            "Epoch 86/100\n",
            "18383/18383 [==============================] - 2s 92us/step - loss: 0.2555 - acc: 0.9013\n",
            "Epoch 87/100\n",
            "18383/18383 [==============================] - 2s 95us/step - loss: 0.2612 - acc: 0.9024\n",
            "Epoch 88/100\n",
            "18383/18383 [==============================] - 2s 93us/step - loss: 0.2603 - acc: 0.9028\n",
            "Epoch 89/100\n",
            "18383/18383 [==============================] - 2s 93us/step - loss: 0.2475 - acc: 0.9026\n",
            "Epoch 90/100\n",
            "18383/18383 [==============================] - 2s 94us/step - loss: 0.2431 - acc: 0.9061\n",
            "Epoch 91/100\n",
            "18383/18383 [==============================] - 2s 93us/step - loss: 0.2460 - acc: 0.9052\n",
            "Epoch 92/100\n",
            "18383/18383 [==============================] - 2s 94us/step - loss: 0.2581 - acc: 0.9037\n",
            "Epoch 93/100\n",
            "18383/18383 [==============================] - 2s 94us/step - loss: 0.2606 - acc: 0.9021\n",
            "Epoch 94/100\n",
            "18383/18383 [==============================] - 2s 95us/step - loss: 0.2624 - acc: 0.9021\n",
            "Epoch 95/100\n",
            "18383/18383 [==============================] - 2s 94us/step - loss: 0.2568 - acc: 0.9042\n",
            "Epoch 96/100\n",
            "18383/18383 [==============================] - 2s 94us/step - loss: 0.2611 - acc: 0.9038\n",
            "Epoch 97/100\n",
            "18383/18383 [==============================] - 2s 94us/step - loss: 0.2474 - acc: 0.9050\n",
            "Epoch 98/100\n",
            "18383/18383 [==============================] - 2s 94us/step - loss: 0.2483 - acc: 0.9049\n",
            "Epoch 99/100\n",
            "18383/18383 [==============================] - 2s 97us/step - loss: 0.2553 - acc: 0.9018\n",
            "Epoch 100/100\n",
            "18383/18383 [==============================] - 2s 98us/step - loss: 0.2515 - acc: 0.9038\n"
          ],
          "name": "stdout"
        },
        {
          "output_type": "execute_result",
          "data": {
            "text/plain": [
              "<keras.callbacks.History at 0x7f1f51aa7518>"
            ]
          },
          "metadata": {
            "tags": []
          },
          "execution_count": 513
        }
      ]
    },
    {
      "cell_type": "code",
      "metadata": {
        "id": "a5tg7nI3jgOt",
        "colab_type": "code",
        "colab": {
          "base_uri": "https://localhost:8080/",
          "height": 51
        },
        "outputId": "2ee48664-fe61-46ea-8f23-a99d707ebb1c"
      },
      "source": [
        "model.evaluate(x_test, y_test)"
      ],
      "execution_count": 514,
      "outputs": [
        {
          "output_type": "stream",
          "text": [
            "7058/7058 [==============================] - 0s 67us/step\n"
          ],
          "name": "stdout"
        },
        {
          "output_type": "execute_result",
          "data": {
            "text/plain": [
              "[0.8564944309160033, 0.8574667044657424]"
            ]
          },
          "metadata": {
            "tags": []
          },
          "execution_count": 514
        }
      ]
    },
    {
      "cell_type": "markdown",
      "metadata": {
        "id": "wYjwnLEdH0w8",
        "colab_type": "text"
      },
      "source": [
        "# Testing phase"
      ]
    },
    {
      "cell_type": "code",
      "metadata": {
        "id": "XJR5U6dGH0xA",
        "colab_type": "code",
        "colab": {}
      },
      "source": [
        "test = pd.read_csv(path_to_folder+ 'Test_v2.csv')"
      ],
      "execution_count": 0,
      "outputs": []
    },
    {
      "cell_type": "code",
      "metadata": {
        "id": "t2ROgEAXH0xG",
        "colab_type": "code",
        "colab": {
          "base_uri": "https://localhost:8080/",
          "height": 343
        },
        "outputId": "275e742c-fc36-4df0-fa79-7637ed25b0c8"
      },
      "source": [
        "test.head()"
      ],
      "execution_count": 488,
      "outputs": [
        {
          "output_type": "execute_result",
          "data": {
            "text/html": [
              "<div>\n",
              "<style scoped>\n",
              "    .dataframe tbody tr th:only-of-type {\n",
              "        vertical-align: middle;\n",
              "    }\n",
              "\n",
              "    .dataframe tbody tr th {\n",
              "        vertical-align: top;\n",
              "    }\n",
              "\n",
              "    .dataframe thead th {\n",
              "        text-align: right;\n",
              "    }\n",
              "</style>\n",
              "<table border=\"1\" class=\"dataframe\">\n",
              "  <thead>\n",
              "    <tr style=\"text-align: right;\">\n",
              "      <th></th>\n",
              "      <th>country</th>\n",
              "      <th>year</th>\n",
              "      <th>uniqueid</th>\n",
              "      <th>location_type</th>\n",
              "      <th>cellphone_access</th>\n",
              "      <th>household_size</th>\n",
              "      <th>age_of_respondent</th>\n",
              "      <th>gender_of_respondent</th>\n",
              "      <th>relationship_with_head</th>\n",
              "      <th>marital_status</th>\n",
              "      <th>education_level</th>\n",
              "      <th>job_type</th>\n",
              "    </tr>\n",
              "  </thead>\n",
              "  <tbody>\n",
              "    <tr>\n",
              "      <th>0</th>\n",
              "      <td>Kenya</td>\n",
              "      <td>2018</td>\n",
              "      <td>uniqueid_6056</td>\n",
              "      <td>Urban</td>\n",
              "      <td>Yes</td>\n",
              "      <td>3</td>\n",
              "      <td>30</td>\n",
              "      <td>Male</td>\n",
              "      <td>Head of Household</td>\n",
              "      <td>Married/Living together</td>\n",
              "      <td>Secondary education</td>\n",
              "      <td>Formally employed Government</td>\n",
              "    </tr>\n",
              "    <tr>\n",
              "      <th>1</th>\n",
              "      <td>Kenya</td>\n",
              "      <td>2018</td>\n",
              "      <td>uniqueid_6060</td>\n",
              "      <td>Urban</td>\n",
              "      <td>Yes</td>\n",
              "      <td>7</td>\n",
              "      <td>51</td>\n",
              "      <td>Male</td>\n",
              "      <td>Head of Household</td>\n",
              "      <td>Married/Living together</td>\n",
              "      <td>Vocational/Specialised training</td>\n",
              "      <td>Formally employed Private</td>\n",
              "    </tr>\n",
              "    <tr>\n",
              "      <th>2</th>\n",
              "      <td>Kenya</td>\n",
              "      <td>2018</td>\n",
              "      <td>uniqueid_6065</td>\n",
              "      <td>Rural</td>\n",
              "      <td>No</td>\n",
              "      <td>3</td>\n",
              "      <td>77</td>\n",
              "      <td>Female</td>\n",
              "      <td>Parent</td>\n",
              "      <td>Married/Living together</td>\n",
              "      <td>No formal education</td>\n",
              "      <td>Remittance Dependent</td>\n",
              "    </tr>\n",
              "    <tr>\n",
              "      <th>3</th>\n",
              "      <td>Kenya</td>\n",
              "      <td>2018</td>\n",
              "      <td>uniqueid_6072</td>\n",
              "      <td>Rural</td>\n",
              "      <td>No</td>\n",
              "      <td>6</td>\n",
              "      <td>39</td>\n",
              "      <td>Female</td>\n",
              "      <td>Head of Household</td>\n",
              "      <td>Married/Living together</td>\n",
              "      <td>Primary education</td>\n",
              "      <td>Remittance Dependent</td>\n",
              "    </tr>\n",
              "    <tr>\n",
              "      <th>4</th>\n",
              "      <td>Kenya</td>\n",
              "      <td>2018</td>\n",
              "      <td>uniqueid_6073</td>\n",
              "      <td>Urban</td>\n",
              "      <td>No</td>\n",
              "      <td>3</td>\n",
              "      <td>16</td>\n",
              "      <td>Male</td>\n",
              "      <td>Child</td>\n",
              "      <td>Single/Never Married</td>\n",
              "      <td>Secondary education</td>\n",
              "      <td>Remittance Dependent</td>\n",
              "    </tr>\n",
              "  </tbody>\n",
              "</table>\n",
              "</div>"
            ],
            "text/plain": [
              "  country  year  ...                  education_level                      job_type\n",
              "0   Kenya  2018  ...              Secondary education  Formally employed Government\n",
              "1   Kenya  2018  ...  Vocational/Specialised training     Formally employed Private\n",
              "2   Kenya  2018  ...              No formal education          Remittance Dependent\n",
              "3   Kenya  2018  ...                Primary education          Remittance Dependent\n",
              "4   Kenya  2018  ...              Secondary education          Remittance Dependent\n",
              "\n",
              "[5 rows x 12 columns]"
            ]
          },
          "metadata": {
            "tags": []
          },
          "execution_count": 488
        }
      ]
    },
    {
      "cell_type": "code",
      "metadata": {
        "id": "oOUBklDtg5u7",
        "colab_type": "code",
        "colab": {
          "base_uri": "https://localhost:8080/",
          "height": 425
        },
        "outputId": "db70f907-ba9b-4dee-8d9a-0e111cfb66d5"
      },
      "source": [
        "for i in test.columns:\n",
        "    print(\"{} => {}\".format(i, test[i].unique()))"
      ],
      "execution_count": 477,
      "outputs": [
        {
          "output_type": "stream",
          "text": [
            "country => ['Kenya' 'Rwanda' 'Tanzania' 'Uganda']\n",
            "year => [2018 2016 2017]\n",
            "uniqueid => ['uniqueid_6056' 'uniqueid_6060' 'uniqueid_6065' ... 'uniqueid_3000'\n",
            " 'uniqueid_3001' 'uniqueid_3002']\n",
            "location_type => ['Urban' 'Rural']\n",
            "cellphone_access => ['Yes' 'No']\n",
            "household_size => [ 3  7  6  4  1  5  2  9 10 11  8 12 13 16 15 14 18 20]\n",
            "age_of_respondent => [ 30  51  77  39  16  25  32  24  22  42  18  20  19  26  35  68  70  34\n",
            "  95  27  21  45  52  44  75  60  33  36  53  64  66  23  78  38  46  76\n",
            "  82  41  28  17  50  48  55  37  57  91  87  56  40  59  73  47  74  43\n",
            "  79  49  58  31  54  63  29  62  90  84  72  65  80  61  67  69  86  85\n",
            "  71  83  81  93  88  94  89  99  92 100  97]\n",
            "gender_of_respondent => ['Male' 'Female']\n",
            "relationship_with_head => ['Head of Household' 'Parent' 'Child' 'Spouse' 'Other relative'\n",
            " 'Other non-relatives']\n",
            "marital_status => ['Married/Living together' 'Single/Never Married' 'Divorced/Seperated'\n",
            " 'Widowed' 'Dont know']\n",
            "education_level => ['Secondary education' 'Vocational/Specialised training'\n",
            " 'No formal education' 'Primary education' 'Other/Dont know/RTA'\n",
            " 'Tertiary education']\n",
            "job_type => ['Formally employed Government' 'Formally employed Private'\n",
            " 'Remittance Dependent' 'Self employed' 'Informally employed'\n",
            " 'Farming and Fishing' 'Government Dependent' 'Other Income'\n",
            " 'Dont Know/Refuse to answer' 'No Income']\n"
          ],
          "name": "stdout"
        }
      ]
    },
    {
      "cell_type": "code",
      "metadata": {
        "id": "5bCl1kichFLz",
        "colab_type": "code",
        "colab": {
          "base_uri": "https://localhost:8080/",
          "height": 286
        },
        "outputId": "ec7ee386-9538-41d6-be1a-c7436cd6e111"
      },
      "source": [
        "test.age_of_respondent.transform(np.log).hist()"
      ],
      "execution_count": 489,
      "outputs": [
        {
          "output_type": "execute_result",
          "data": {
            "text/plain": [
              "<matplotlib.axes._subplots.AxesSubplot at 0x7f1f841b92e8>"
            ]
          },
          "metadata": {
            "tags": []
          },
          "execution_count": 489
        },
        {
          "output_type": "display_data",
          "data": {
            "image/png": "[encoded data removed]",
            "text/plain": [
              "<Figure size 432x288 with 1 Axes>"
            ]
          },
          "metadata": {
            "tags": []
          }
        }
      ]
    },
    {
      "cell_type": "code",
      "metadata": {
        "id": "RKX-vrhHH0xY",
        "colab_type": "code",
        "colab": {}
      },
      "source": [
        "ids = test.uniqueid\n",
        "country = test.country"
      ],
      "execution_count": 0,
      "outputs": []
    },
    {
      "cell_type": "code",
      "metadata": {
        "id": "cXjmhDRKegnM",
        "colab_type": "code",
        "colab": {}
      },
      "source": [
        "test['year'] = 'year_' + test['year'].astype(str)"
      ],
      "execution_count": 0,
      "outputs": []
    },
    {
      "cell_type": "code",
      "metadata": {
        "id": "x_86W1jNeoOz",
        "colab_type": "code",
        "colab": {}
      },
      "source": [
        "test['household_size'] = test.household_size.transform(np.log)\n",
        "test['age_of_respondent'] = test.age_of_respondent.transform(np.log)"
      ],
      "execution_count": 0,
      "outputs": []
    },
    {
      "cell_type": "code",
      "metadata": {
        "id": "IiX-tSYBH0xn",
        "colab_type": "code",
        "colab": {}
      },
      "source": [
        "dataset_test = test.drop(['uniqueid'], axis = 1)"
      ],
      "execution_count": 0,
      "outputs": []
    },
    {
      "cell_type": "code",
      "metadata": {
        "id": "IlnEZ_vnH0xt",
        "colab_type": "code",
        "colab": {}
      },
      "source": [
        "dataset_test = pd.get_dummies(dataset_test , drop_first=True)"
      ],
      "execution_count": 0,
      "outputs": []
    },
    {
      "cell_type": "code",
      "metadata": {
        "id": "PWG0-feMH0yD",
        "colab_type": "code",
        "colab": {
          "base_uri": "https://localhost:8080/",
          "height": 258
        },
        "outputId": "91b2c6fd-5555-4e50-960b-59c0a3245e77"
      },
      "source": [
        "dataset_test.head()"
      ],
      "execution_count": 495,
      "outputs": [
        {
          "output_type": "execute_result",
          "data": {
            "text/html": [
              "<div>\n",
              "<style scoped>\n",
              "    .dataframe tbody tr th:only-of-type {\n",
              "        vertical-align: middle;\n",
              "    }\n",
              "\n",
              "    .dataframe tbody tr th {\n",
              "        vertical-align: top;\n",
              "    }\n",
              "\n",
              "    .dataframe thead th {\n",
              "        text-align: right;\n",
              "    }\n",
              "</style>\n",
              "<table border=\"1\" class=\"dataframe\">\n",
              "  <thead>\n",
              "    <tr style=\"text-align: right;\">\n",
              "      <th></th>\n",
              "      <th>household_size</th>\n",
              "      <th>age_of_respondent</th>\n",
              "      <th>country_Rwanda</th>\n",
              "      <th>country_Tanzania</th>\n",
              "      <th>country_Uganda</th>\n",
              "      <th>year_year_2017</th>\n",
              "      <th>year_year_2018</th>\n",
              "      <th>location_type_Urban</th>\n",
              "      <th>cellphone_access_Yes</th>\n",
              "      <th>gender_of_respondent_Male</th>\n",
              "      <th>relationship_with_head_Head of Household</th>\n",
              "      <th>relationship_with_head_Other non-relatives</th>\n",
              "      <th>relationship_with_head_Other relative</th>\n",
              "      <th>relationship_with_head_Parent</th>\n",
              "      <th>relationship_with_head_Spouse</th>\n",
              "      <th>marital_status_Dont know</th>\n",
              "      <th>marital_status_Married/Living together</th>\n",
              "      <th>marital_status_Single/Never Married</th>\n",
              "      <th>marital_status_Widowed</th>\n",
              "      <th>education_level_Other/Dont know/RTA</th>\n",
              "      <th>education_level_Primary education</th>\n",
              "      <th>education_level_Secondary education</th>\n",
              "      <th>education_level_Tertiary education</th>\n",
              "      <th>education_level_Vocational/Specialised training</th>\n",
              "      <th>job_type_Farming and Fishing</th>\n",
              "      <th>job_type_Formally employed Government</th>\n",
              "      <th>job_type_Formally employed Private</th>\n",
              "      <th>job_type_Government Dependent</th>\n",
              "      <th>job_type_Informally employed</th>\n",
              "      <th>job_type_No Income</th>\n",
              "      <th>job_type_Other Income</th>\n",
              "      <th>job_type_Remittance Dependent</th>\n",
              "      <th>job_type_Self employed</th>\n",
              "    </tr>\n",
              "  </thead>\n",
              "  <tbody>\n",
              "    <tr>\n",
              "      <th>0</th>\n",
              "      <td>1.098612</td>\n",
              "      <td>3.401197</td>\n",
              "      <td>0</td>\n",
              "      <td>0</td>\n",
              "      <td>0</td>\n",
              "      <td>0</td>\n",
              "      <td>1</td>\n",
              "      <td>1</td>\n",
              "      <td>1</td>\n",
              "      <td>1</td>\n",
              "      <td>1</td>\n",
              "      <td>0</td>\n",
              "      <td>0</td>\n",
              "      <td>0</td>\n",
              "      <td>0</td>\n",
              "      <td>0</td>\n",
              "      <td>1</td>\n",
              "      <td>0</td>\n",
              "      <td>0</td>\n",
              "      <td>0</td>\n",
              "      <td>0</td>\n",
              "      <td>1</td>\n",
              "      <td>0</td>\n",
              "      <td>0</td>\n",
              "      <td>0</td>\n",
              "      <td>1</td>\n",
              "      <td>0</td>\n",
              "      <td>0</td>\n",
              "      <td>0</td>\n",
              "      <td>0</td>\n",
              "      <td>0</td>\n",
              "      <td>0</td>\n",
              "      <td>0</td>\n",
              "    </tr>\n",
              "    <tr>\n",
              "      <th>1</th>\n",
              "      <td>1.945910</td>\n",
              "      <td>3.931826</td>\n",
              "      <td>0</td>\n",
              "      <td>0</td>\n",
              "      <td>0</td>\n",
              "      <td>0</td>\n",
              "      <td>1</td>\n",
              "      <td>1</td>\n",
              "      <td>1</td>\n",
              "      <td>1</td>\n",
              "      <td>1</td>\n",
              "      <td>0</td>\n",
              "      <td>0</td>\n",
              "      <td>0</td>\n",
              "      <td>0</td>\n",
              "      <td>0</td>\n",
              "      <td>1</td>\n",
              "      <td>0</td>\n",
              "      <td>0</td>\n",
              "      <td>0</td>\n",
              "      <td>0</td>\n",
              "      <td>0</td>\n",
              "      <td>0</td>\n",
              "      <td>1</td>\n",
              "      <td>0</td>\n",
              "      <td>0</td>\n",
              "      <td>1</td>\n",
              "      <td>0</td>\n",
              "      <td>0</td>\n",
              "      <td>0</td>\n",
              "      <td>0</td>\n",
              "      <td>0</td>\n",
              "      <td>0</td>\n",
              "    </tr>\n",
              "    <tr>\n",
              "      <th>2</th>\n",
              "      <td>1.098612</td>\n",
              "      <td>4.343805</td>\n",
              "      <td>0</td>\n",
              "      <td>0</td>\n",
              "      <td>0</td>\n",
              "      <td>0</td>\n",
              "      <td>1</td>\n",
              "      <td>0</td>\n",
              "      <td>0</td>\n",
              "      <td>0</td>\n",
              "      <td>0</td>\n",
              "      <td>0</td>\n",
              "      <td>0</td>\n",
              "      <td>1</td>\n",
              "      <td>0</td>\n",
              "      <td>0</td>\n",
              "      <td>1</td>\n",
              "      <td>0</td>\n",
              "      <td>0</td>\n",
              "      <td>0</td>\n",
              "      <td>0</td>\n",
              "      <td>0</td>\n",
              "      <td>0</td>\n",
              "      <td>0</td>\n",
              "      <td>0</td>\n",
              "      <td>0</td>\n",
              "      <td>0</td>\n",
              "      <td>0</td>\n",
              "      <td>0</td>\n",
              "      <td>0</td>\n",
              "      <td>0</td>\n",
              "      <td>1</td>\n",
              "      <td>0</td>\n",
              "    </tr>\n",
              "    <tr>\n",
              "      <th>3</th>\n",
              "      <td>1.791759</td>\n",
              "      <td>3.663562</td>\n",
              "      <td>0</td>\n",
              "      <td>0</td>\n",
              "      <td>0</td>\n",
              "      <td>0</td>\n",
              "      <td>1</td>\n",
              "      <td>0</td>\n",
              "      <td>0</td>\n",
              "      <td>0</td>\n",
              "      <td>1</td>\n",
              "      <td>0</td>\n",
              "      <td>0</td>\n",
              "      <td>0</td>\n",
              "      <td>0</td>\n",
              "      <td>0</td>\n",
              "      <td>1</td>\n",
              "      <td>0</td>\n",
              "      <td>0</td>\n",
              "      <td>0</td>\n",
              "      <td>1</td>\n",
              "      <td>0</td>\n",
              "      <td>0</td>\n",
              "      <td>0</td>\n",
              "      <td>0</td>\n",
              "      <td>0</td>\n",
              "      <td>0</td>\n",
              "      <td>0</td>\n",
              "      <td>0</td>\n",
              "      <td>0</td>\n",
              "      <td>0</td>\n",
              "      <td>1</td>\n",
              "      <td>0</td>\n",
              "    </tr>\n",
              "    <tr>\n",
              "      <th>4</th>\n",
              "      <td>1.098612</td>\n",
              "      <td>2.772589</td>\n",
              "      <td>0</td>\n",
              "      <td>0</td>\n",
              "      <td>0</td>\n",
              "      <td>0</td>\n",
              "      <td>1</td>\n",
              "      <td>1</td>\n",
              "      <td>0</td>\n",
              "      <td>1</td>\n",
              "      <td>0</td>\n",
              "      <td>0</td>\n",
              "      <td>0</td>\n",
              "      <td>0</td>\n",
              "      <td>0</td>\n",
              "      <td>0</td>\n",
              "      <td>0</td>\n",
              "      <td>1</td>\n",
              "      <td>0</td>\n",
              "      <td>0</td>\n",
              "      <td>0</td>\n",
              "      <td>1</td>\n",
              "      <td>0</td>\n",
              "      <td>0</td>\n",
              "      <td>0</td>\n",
              "      <td>0</td>\n",
              "      <td>0</td>\n",
              "      <td>0</td>\n",
              "      <td>0</td>\n",
              "      <td>0</td>\n",
              "      <td>0</td>\n",
              "      <td>1</td>\n",
              "      <td>0</td>\n",
              "    </tr>\n",
              "  </tbody>\n",
              "</table>\n",
              "</div>"
            ],
            "text/plain": [
              "   household_size  ...  job_type_Self employed\n",
              "0        1.098612  ...                       0\n",
              "1        1.945910  ...                       0\n",
              "2        1.098612  ...                       0\n",
              "3        1.791759  ...                       0\n",
              "4        1.098612  ...                       0\n",
              "\n",
              "[5 rows x 33 columns]"
            ]
          },
          "metadata": {
            "tags": []
          },
          "execution_count": 495
        }
      ]
    },
    {
      "cell_type": "code",
      "metadata": {
        "id": "MyVH5kXOffoM",
        "colab_type": "code",
        "colab": {
          "base_uri": "https://localhost:8080/",
          "height": 595
        },
        "outputId": "a4ee764a-095d-4a14-a98b-140b6b26982d"
      },
      "source": [
        "dataset_test.isnull().sum()"
      ],
      "execution_count": 497,
      "outputs": [
        {
          "output_type": "execute_result",
          "data": {
            "text/plain": [
              "household_size                                     0\n",
              "age_of_respondent                                  0\n",
              "country_Rwanda                                     0\n",
              "country_Tanzania                                   0\n",
              "country_Uganda                                     0\n",
              "year_year_2017                                     0\n",
              "year_year_2018                                     0\n",
              "location_type_Urban                                0\n",
              "cellphone_access_Yes                               0\n",
              "gender_of_respondent_Male                          0\n",
              "relationship_with_head_Head of Household           0\n",
              "relationship_with_head_Other non-relatives         0\n",
              "relationship_with_head_Other relative              0\n",
              "relationship_with_head_Parent                      0\n",
              "relationship_with_head_Spouse                      0\n",
              "marital_status_Dont know                           0\n",
              "marital_status_Married/Living together             0\n",
              "marital_status_Single/Never Married                0\n",
              "marital_status_Widowed                             0\n",
              "education_level_Other/Dont know/RTA                0\n",
              "education_level_Primary education                  0\n",
              "education_level_Secondary education                0\n",
              "education_level_Tertiary education                 0\n",
              "education_level_Vocational/Specialised training    0\n",
              "job_type_Farming and Fishing                       0\n",
              "job_type_Formally employed Government              0\n",
              "job_type_Formally employed Private                 0\n",
              "job_type_Government Dependent                      0\n",
              "job_type_Informally employed                       0\n",
              "job_type_No Income                                 0\n",
              "job_type_Other Income                              0\n",
              "job_type_Remittance Dependent                      0\n",
              "job_type_Self employed                             0\n",
              "dtype: int64"
            ]
          },
          "metadata": {
            "tags": []
          },
          "execution_count": 497
        }
      ]
    },
    {
      "cell_type": "code",
      "metadata": {
        "id": "ptkpZfjBH0yK",
        "colab_type": "code",
        "colab": {}
      },
      "source": [
        "dataset_test = scaler.transform(dataset_test)"
      ],
      "execution_count": 0,
      "outputs": []
    },
    {
      "cell_type": "code",
      "metadata": {
        "id": "lS2DnqE7H0yR",
        "colab_type": "code",
        "colab": {}
      },
      "source": [
        "prediction = clf_svm.predict(dataset_test)"
      ],
      "execution_count": 0,
      "outputs": []
    },
    {
      "cell_type": "code",
      "metadata": {
        "id": "D5AXopbnH0yY",
        "colab_type": "code",
        "colab": {}
      },
      "source": [
        "new_id = ids + \" x \" + country"
      ],
      "execution_count": 0,
      "outputs": []
    },
    {
      "cell_type": "code",
      "metadata": {
        "id": "9nigvhGVH0yd",
        "colab_type": "code",
        "colab": {}
      },
      "source": [
        "list_of_tuples = list(zip(new_id, prediction)) \n"
      ],
      "execution_count": 0,
      "outputs": []
    },
    {
      "cell_type": "code",
      "metadata": {
        "id": "owFerSv7H0yj",
        "colab_type": "code",
        "colab": {}
      },
      "source": [
        "result = pd.DataFrame(list_of_tuples, columns = ['uniqueid' , 'bank_account'])"
      ],
      "execution_count": 0,
      "outputs": []
    },
    {
      "cell_type": "code",
      "metadata": {
        "id": "ba7zb5ABH0yq",
        "colab_type": "code",
        "colab": {
          "base_uri": "https://localhost:8080/",
          "height": 204
        },
        "outputId": "5cdc4d73-e430-4673-9c4a-4c56db5c866c"
      },
      "source": [
        "result.head()"
      ],
      "execution_count": 503,
      "outputs": [
        {
          "output_type": "execute_result",
          "data": {
            "text/html": [
              "<div>\n",
              "<style scoped>\n",
              "    .dataframe tbody tr th:only-of-type {\n",
              "        vertical-align: middle;\n",
              "    }\n",
              "\n",
              "    .dataframe tbody tr th {\n",
              "        vertical-align: top;\n",
              "    }\n",
              "\n",
              "    .dataframe thead th {\n",
              "        text-align: right;\n",
              "    }\n",
              "</style>\n",
              "<table border=\"1\" class=\"dataframe\">\n",
              "  <thead>\n",
              "    <tr style=\"text-align: right;\">\n",
              "      <th></th>\n",
              "      <th>uniqueid</th>\n",
              "      <th>bank_account</th>\n",
              "    </tr>\n",
              "  </thead>\n",
              "  <tbody>\n",
              "    <tr>\n",
              "      <th>0</th>\n",
              "      <td>uniqueid_6056 x Kenya</td>\n",
              "      <td>1</td>\n",
              "    </tr>\n",
              "    <tr>\n",
              "      <th>1</th>\n",
              "      <td>uniqueid_6060 x Kenya</td>\n",
              "      <td>1</td>\n",
              "    </tr>\n",
              "    <tr>\n",
              "      <th>2</th>\n",
              "      <td>uniqueid_6065 x Kenya</td>\n",
              "      <td>0</td>\n",
              "    </tr>\n",
              "    <tr>\n",
              "      <th>3</th>\n",
              "      <td>uniqueid_6072 x Kenya</td>\n",
              "      <td>0</td>\n",
              "    </tr>\n",
              "    <tr>\n",
              "      <th>4</th>\n",
              "      <td>uniqueid_6073 x Kenya</td>\n",
              "      <td>0</td>\n",
              "    </tr>\n",
              "  </tbody>\n",
              "</table>\n",
              "</div>"
            ],
            "text/plain": [
              "                uniqueid  bank_account\n",
              "0  uniqueid_6056 x Kenya             1\n",
              "1  uniqueid_6060 x Kenya             1\n",
              "2  uniqueid_6065 x Kenya             0\n",
              "3  uniqueid_6072 x Kenya             0\n",
              "4  uniqueid_6073 x Kenya             0"
            ]
          },
          "metadata": {
            "tags": []
          },
          "execution_count": 503
        }
      ]
    },
    {
      "cell_type": "code",
      "metadata": {
        "id": "tg6hd5XJH0yv",
        "colab_type": "code",
        "colab": {}
      },
      "source": [
        "result.to_csv('submission_file_2.csv' ,index = False)"
      ],
      "execution_count": 0,
      "outputs": []
    },
    {
      "cell_type": "code",
      "metadata": {
        "id": "bP2D6VFyH0y0",
        "colab_type": "code",
        "colab": {}
      },
      "source": [
        ""
      ],
      "execution_count": 0,
      "outputs": []
    }
  ]
}