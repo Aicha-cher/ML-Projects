{
 "cells": [
  {
   "cell_type": "code",
   "execution_count": 1,
   "metadata": {},
   "outputs": [],
   "source": [
    "import pandas as pd\n",
    "import numpy as np\n",
    "import matplotlib.pyplot as plt\n",
    "import seaborn as sns"
   ]
  },
  {
   "cell_type": "code",
   "execution_count": 13,
   "metadata": {},
   "outputs": [],
   "source": [
    "# reading the dataset\n",
    "dataset = pd.read_csv('Train.csv')\n",
    "testset = pd.read_csv('Test.csv')"
   ]
  },
  {
   "cell_type": "code",
   "execution_count": 29,
   "metadata": {},
   "outputs": [
    {
     "data": {
      "text/plain": [
       "0               NaN\n",
       "1               NaN\n",
       "2               NaN\n",
       "3               NaN\n",
       "4               NaN\n",
       "5               NaN\n",
       "6               NaN\n",
       "7               NaN\n",
       "8               NaN\n",
       "9         LoanId_62\n",
       "10        LoanId_62\n",
       "11        LoanId_62\n",
       "12              NaN\n",
       "13        LoanId_22\n",
       "14       LoanId_368\n",
       "15       LoanId_317\n",
       "16              NaN\n",
       "17      LoanId_1619\n",
       "18      LoanId_1438\n",
       "19      LoanId_1304\n",
       "20      LoanId_1436\n",
       "21              NaN\n",
       "22      LoanId_1435\n",
       "23       LoanId_183\n",
       "24      LoanId_1522\n",
       "25              NaN\n",
       "26       LoanId_934\n",
       "27       LoanId_676\n",
       "28       LoanId_386\n",
       "29       LoanId_240\n",
       "           ...     \n",
       "2070     LoanId_985\n",
       "2071            NaN\n",
       "2072     LoanId_553\n",
       "2073    LoanId_1485\n",
       "2074     LoanId_123\n",
       "2075     LoanId_123\n",
       "2076     LoanId_879\n",
       "2077     LoanId_104\n",
       "2078    LoanId_1076\n",
       "2079     LoanId_409\n",
       "2080            NaN\n",
       "2081     LoanId_247\n",
       "2082    LoanId_1007\n",
       "2083     LoanId_127\n",
       "2084            NaN\n",
       "2085    LoanId_1192\n",
       "2086    LoanId_1503\n",
       "2087     LoanId_848\n",
       "2088            NaN\n",
       "2089     LoanId_757\n",
       "2090    LoanId_1552\n",
       "2091      LoanId_41\n",
       "2092     LoanId_254\n",
       "2093    LoanId_1148\n",
       "2094            NaN\n",
       "2095     LoanId_293\n",
       "2096    LoanId_1040\n",
       "2097    LoanId_1585\n",
       "2098    LoanId_1314\n",
       "2099    LoanId_1570\n",
       "Name: LoanId, Length: 2100, dtype: object"
      ]
     },
     "execution_count": 29,
     "metadata": {},
     "output_type": "execute_result"
    }
   ],
   "source": [
    "dataset[\"dataset.notnull()\"]"
   ]
  },
  {
   "cell_type": "code",
   "execution_count": 26,
   "metadata": {},
   "outputs": [
    {
     "data": {
      "text/html": [
       "<div>\n",
       "<style scoped>\n",
       "    .dataframe tbody tr th:only-of-type {\n",
       "        vertical-align: middle;\n",
       "    }\n",
       "\n",
       "    .dataframe tbody tr th {\n",
       "        vertical-align: top;\n",
       "    }\n",
       "\n",
       "    .dataframe thead th {\n",
       "        text-align: right;\n",
       "    }\n",
       "</style>\n",
       "<table border=\"1\" class=\"dataframe\">\n",
       "  <thead>\n",
       "    <tr style=\"text-align: right;\">\n",
       "      <th></th>\n",
       "      <th>CustomerId</th>\n",
       "      <th>TransactionStartTime</th>\n",
       "      <th>Value</th>\n",
       "      <th>Amount</th>\n",
       "      <th>TransactionId</th>\n",
       "      <th>BatchId</th>\n",
       "      <th>SubscriptionId</th>\n",
       "      <th>CurrencyCode</th>\n",
       "      <th>CountryCode</th>\n",
       "      <th>ProviderId</th>\n",
       "      <th>...</th>\n",
       "      <th>LoanId</th>\n",
       "      <th>PaidOnDate</th>\n",
       "      <th>IsFinalPayBack</th>\n",
       "      <th>InvestorId</th>\n",
       "      <th>DueDate</th>\n",
       "      <th>LoanApplicationId</th>\n",
       "      <th>PayBackId</th>\n",
       "      <th>ThirdPartyId</th>\n",
       "      <th>IsThirdPartyConfirmed</th>\n",
       "      <th>IsDefaulted</th>\n",
       "    </tr>\n",
       "  </thead>\n",
       "  <tbody>\n",
       "    <tr>\n",
       "      <th>0</th>\n",
       "      <td>CustomerId_27</td>\n",
       "      <td>2018-09-21 12:17:39</td>\n",
       "      <td>550.0</td>\n",
       "      <td>-550.0</td>\n",
       "      <td>TransactionId_1683</td>\n",
       "      <td>BatchId_641</td>\n",
       "      <td>SubscriptionId_2</td>\n",
       "      <td>UGX</td>\n",
       "      <td>256</td>\n",
       "      <td>ProviderId_1</td>\n",
       "      <td>...</td>\n",
       "      <td>NaN</td>\n",
       "      <td>NaN</td>\n",
       "      <td>NaN</td>\n",
       "      <td>NaN</td>\n",
       "      <td>NaN</td>\n",
       "      <td>NaN</td>\n",
       "      <td>NaN</td>\n",
       "      <td>NaN</td>\n",
       "      <td>NaN</td>\n",
       "      <td>NaN</td>\n",
       "    </tr>\n",
       "    <tr>\n",
       "      <th>1</th>\n",
       "      <td>CustomerId_27</td>\n",
       "      <td>2018-09-25 09:20:29</td>\n",
       "      <td>550.0</td>\n",
       "      <td>-550.0</td>\n",
       "      <td>TransactionId_2235</td>\n",
       "      <td>BatchId_820</td>\n",
       "      <td>SubscriptionId_2</td>\n",
       "      <td>UGX</td>\n",
       "      <td>256</td>\n",
       "      <td>ProviderId_1</td>\n",
       "      <td>...</td>\n",
       "      <td>NaN</td>\n",
       "      <td>NaN</td>\n",
       "      <td>NaN</td>\n",
       "      <td>NaN</td>\n",
       "      <td>NaN</td>\n",
       "      <td>NaN</td>\n",
       "      <td>NaN</td>\n",
       "      <td>NaN</td>\n",
       "      <td>NaN</td>\n",
       "      <td>NaN</td>\n",
       "    </tr>\n",
       "    <tr>\n",
       "      <th>2</th>\n",
       "      <td>CustomerId_27</td>\n",
       "      <td>2018-09-25 10:33:31</td>\n",
       "      <td>550.0</td>\n",
       "      <td>-550.0</td>\n",
       "      <td>TransactionId_1053</td>\n",
       "      <td>BatchId_210</td>\n",
       "      <td>SubscriptionId_4</td>\n",
       "      <td>UGX</td>\n",
       "      <td>256</td>\n",
       "      <td>ProviderId_1</td>\n",
       "      <td>...</td>\n",
       "      <td>NaN</td>\n",
       "      <td>NaN</td>\n",
       "      <td>NaN</td>\n",
       "      <td>NaN</td>\n",
       "      <td>NaN</td>\n",
       "      <td>NaN</td>\n",
       "      <td>NaN</td>\n",
       "      <td>NaN</td>\n",
       "      <td>NaN</td>\n",
       "      <td>NaN</td>\n",
       "    </tr>\n",
       "    <tr>\n",
       "      <th>3</th>\n",
       "      <td>CustomerId_27</td>\n",
       "      <td>2018-09-27 10:26:41</td>\n",
       "      <td>1000.0</td>\n",
       "      <td>-1000.0</td>\n",
       "      <td>TransactionId_2633</td>\n",
       "      <td>BatchId_876</td>\n",
       "      <td>SubscriptionId_4</td>\n",
       "      <td>UGX</td>\n",
       "      <td>256</td>\n",
       "      <td>ProviderId_1</td>\n",
       "      <td>...</td>\n",
       "      <td>NaN</td>\n",
       "      <td>NaN</td>\n",
       "      <td>NaN</td>\n",
       "      <td>NaN</td>\n",
       "      <td>NaN</td>\n",
       "      <td>NaN</td>\n",
       "      <td>NaN</td>\n",
       "      <td>NaN</td>\n",
       "      <td>NaN</td>\n",
       "      <td>NaN</td>\n",
       "    </tr>\n",
       "    <tr>\n",
       "      <th>4</th>\n",
       "      <td>CustomerId_27</td>\n",
       "      <td>2018-09-27 12:44:21</td>\n",
       "      <td>500.0</td>\n",
       "      <td>-500.0</td>\n",
       "      <td>TransactionId_71</td>\n",
       "      <td>BatchId_1362</td>\n",
       "      <td>SubscriptionId_4</td>\n",
       "      <td>UGX</td>\n",
       "      <td>256</td>\n",
       "      <td>ProviderId_1</td>\n",
       "      <td>...</td>\n",
       "      <td>NaN</td>\n",
       "      <td>NaN</td>\n",
       "      <td>NaN</td>\n",
       "      <td>NaN</td>\n",
       "      <td>NaN</td>\n",
       "      <td>NaN</td>\n",
       "      <td>NaN</td>\n",
       "      <td>NaN</td>\n",
       "      <td>NaN</td>\n",
       "      <td>NaN</td>\n",
       "    </tr>\n",
       "  </tbody>\n",
       "</table>\n",
       "<p>5 rows × 27 columns</p>\n",
       "</div>"
      ],
      "text/plain": [
       "      CustomerId TransactionStartTime   Value  Amount       TransactionId  \\\n",
       "0  CustomerId_27  2018-09-21 12:17:39   550.0  -550.0  TransactionId_1683   \n",
       "1  CustomerId_27  2018-09-25 09:20:29   550.0  -550.0  TransactionId_2235   \n",
       "2  CustomerId_27  2018-09-25 10:33:31   550.0  -550.0  TransactionId_1053   \n",
       "3  CustomerId_27  2018-09-27 10:26:41  1000.0 -1000.0  TransactionId_2633   \n",
       "4  CustomerId_27  2018-09-27 12:44:21   500.0  -500.0    TransactionId_71   \n",
       "\n",
       "        BatchId    SubscriptionId CurrencyCode  CountryCode    ProviderId  \\\n",
       "0   BatchId_641  SubscriptionId_2          UGX          256  ProviderId_1   \n",
       "1   BatchId_820  SubscriptionId_2          UGX          256  ProviderId_1   \n",
       "2   BatchId_210  SubscriptionId_4          UGX          256  ProviderId_1   \n",
       "3   BatchId_876  SubscriptionId_4          UGX          256  ProviderId_1   \n",
       "4  BatchId_1362  SubscriptionId_4          UGX          256  ProviderId_1   \n",
       "\n",
       "      ...      LoanId PaidOnDate IsFinalPayBack  InvestorId DueDate  \\\n",
       "0     ...         NaN        NaN            NaN         NaN     NaN   \n",
       "1     ...         NaN        NaN            NaN         NaN     NaN   \n",
       "2     ...         NaN        NaN            NaN         NaN     NaN   \n",
       "3     ...         NaN        NaN            NaN         NaN     NaN   \n",
       "4     ...         NaN        NaN            NaN         NaN     NaN   \n",
       "\n",
       "   LoanApplicationId PayBackId ThirdPartyId IsThirdPartyConfirmed  IsDefaulted  \n",
       "0                NaN       NaN          NaN                   NaN          NaN  \n",
       "1                NaN       NaN          NaN                   NaN          NaN  \n",
       "2                NaN       NaN          NaN                   NaN          NaN  \n",
       "3                NaN       NaN          NaN                   NaN          NaN  \n",
       "4                NaN       NaN          NaN                   NaN          NaN  \n",
       "\n",
       "[5 rows x 27 columns]"
      ]
     },
     "execution_count": 26,
     "metadata": {},
     "output_type": "execute_result"
    }
   ],
   "source": [
    "dataset.loc[.index].head()"
   ]
  },
  {
   "cell_type": "code",
   "execution_count": 4,
   "metadata": {},
   "outputs": [
    {
     "data": {
      "text/plain": [
       "(2100, 27)"
      ]
     },
     "execution_count": 4,
     "metadata": {},
     "output_type": "execute_result"
    }
   ],
   "source": [
    "dataset.shape"
   ]
  },
  {
   "cell_type": "code",
   "execution_count": 5,
   "metadata": {},
   "outputs": [
    {
     "name": "stdout",
     "output_type": "stream",
     "text": [
      "<class 'pandas.core.frame.DataFrame'>\n",
      "RangeIndex: 2100 entries, 0 to 2099\n",
      "Data columns (total 27 columns):\n",
      "CustomerId               2100 non-null object\n",
      "TransactionStartTime     2100 non-null object\n",
      "Value                    2100 non-null float64\n",
      "Amount                   2100 non-null float64\n",
      "TransactionId            2100 non-null object\n",
      "BatchId                  2100 non-null object\n",
      "SubscriptionId           2100 non-null object\n",
      "CurrencyCode             2100 non-null object\n",
      "CountryCode              2100 non-null int64\n",
      "ProviderId               2100 non-null object\n",
      "ProductId                2100 non-null object\n",
      "ProductCategory          2100 non-null object\n",
      "ChannelId                2100 non-null object\n",
      "TransactionStatus        2100 non-null int64\n",
      "IssuedDateLoan           1488 non-null object\n",
      "AmountLoan               1488 non-null float64\n",
      "Currency                 1488 non-null object\n",
      "LoanId                   1488 non-null object\n",
      "PaidOnDate               1488 non-null object\n",
      "IsFinalPayBack           1488 non-null float64\n",
      "InvestorId               1488 non-null object\n",
      "DueDate                  1486 non-null object\n",
      "LoanApplicationId        1483 non-null object\n",
      "PayBackId                1488 non-null object\n",
      "ThirdPartyId             1486 non-null object\n",
      "IsThirdPartyConfirmed    1488 non-null float64\n",
      "IsDefaulted              1488 non-null float64\n",
      "dtypes: float64(6), int64(2), object(19)\n",
      "memory usage: 443.0+ KB\n"
     ]
    }
   ],
   "source": [
    "dataset.info()"
   ]
  },
  {
   "cell_type": "code",
   "execution_count": 6,
   "metadata": {},
   "outputs": [
    {
     "data": {
      "text/html": [
       "<div>\n",
       "<style scoped>\n",
       "    .dataframe tbody tr th:only-of-type {\n",
       "        vertical-align: middle;\n",
       "    }\n",
       "\n",
       "    .dataframe tbody tr th {\n",
       "        vertical-align: top;\n",
       "    }\n",
       "\n",
       "    .dataframe thead th {\n",
       "        text-align: right;\n",
       "    }\n",
       "</style>\n",
       "<table border=\"1\" class=\"dataframe\">\n",
       "  <thead>\n",
       "    <tr style=\"text-align: right;\">\n",
       "      <th></th>\n",
       "      <th>Value</th>\n",
       "      <th>Amount</th>\n",
       "      <th>CountryCode</th>\n",
       "      <th>TransactionStatus</th>\n",
       "      <th>AmountLoan</th>\n",
       "      <th>IsFinalPayBack</th>\n",
       "      <th>IsThirdPartyConfirmed</th>\n",
       "      <th>IsDefaulted</th>\n",
       "    </tr>\n",
       "  </thead>\n",
       "  <tbody>\n",
       "    <tr>\n",
       "      <th>count</th>\n",
       "      <td>2.100000e+03</td>\n",
       "      <td>2.100000e+03</td>\n",
       "      <td>2100.0</td>\n",
       "      <td>2100.000000</td>\n",
       "      <td>1.488000e+03</td>\n",
       "      <td>1488.000000</td>\n",
       "      <td>1488.000000</td>\n",
       "      <td>1488.000000</td>\n",
       "    </tr>\n",
       "    <tr>\n",
       "      <th>mean</th>\n",
       "      <td>5.302947e+04</td>\n",
       "      <td>-5.291354e+04</td>\n",
       "      <td>256.0</td>\n",
       "      <td>0.708571</td>\n",
       "      <td>1.182725e+04</td>\n",
       "      <td>0.731855</td>\n",
       "      <td>0.982527</td>\n",
       "      <td>0.119624</td>\n",
       "    </tr>\n",
       "    <tr>\n",
       "      <th>std</th>\n",
       "      <td>1.539498e+05</td>\n",
       "      <td>1.539653e+05</td>\n",
       "      <td>0.0</td>\n",
       "      <td>0.454529</td>\n",
       "      <td>7.666506e+04</td>\n",
       "      <td>0.443143</td>\n",
       "      <td>0.131070</td>\n",
       "      <td>0.324630</td>\n",
       "    </tr>\n",
       "    <tr>\n",
       "      <th>min</th>\n",
       "      <td>1.000000e+02</td>\n",
       "      <td>-2.500000e+06</td>\n",
       "      <td>256.0</td>\n",
       "      <td>0.000000</td>\n",
       "      <td>5.000000e+01</td>\n",
       "      <td>0.000000</td>\n",
       "      <td>0.000000</td>\n",
       "      <td>0.000000</td>\n",
       "    </tr>\n",
       "    <tr>\n",
       "      <th>25%</th>\n",
       "      <td>1.000000e+03</td>\n",
       "      <td>-1.200000e+04</td>\n",
       "      <td>256.0</td>\n",
       "      <td>0.000000</td>\n",
       "      <td>1.113750e+03</td>\n",
       "      <td>0.000000</td>\n",
       "      <td>1.000000</td>\n",
       "      <td>0.000000</td>\n",
       "    </tr>\n",
       "    <tr>\n",
       "      <th>50%</th>\n",
       "      <td>3.500000e+03</td>\n",
       "      <td>-3.500000e+03</td>\n",
       "      <td>256.0</td>\n",
       "      <td>1.000000</td>\n",
       "      <td>2.800000e+03</td>\n",
       "      <td>1.000000</td>\n",
       "      <td>1.000000</td>\n",
       "      <td>0.000000</td>\n",
       "    </tr>\n",
       "    <tr>\n",
       "      <th>75%</th>\n",
       "      <td>1.200000e+04</td>\n",
       "      <td>-1.000000e+03</td>\n",
       "      <td>256.0</td>\n",
       "      <td>1.000000</td>\n",
       "      <td>1.050000e+04</td>\n",
       "      <td>1.000000</td>\n",
       "      <td>1.000000</td>\n",
       "      <td>0.000000</td>\n",
       "    </tr>\n",
       "    <tr>\n",
       "      <th>max</th>\n",
       "      <td>2.500000e+06</td>\n",
       "      <td>-1.000000e+02</td>\n",
       "      <td>256.0</td>\n",
       "      <td>1.000000</td>\n",
       "      <td>2.760000e+06</td>\n",
       "      <td>1.000000</td>\n",
       "      <td>1.000000</td>\n",
       "      <td>1.000000</td>\n",
       "    </tr>\n",
       "  </tbody>\n",
       "</table>\n",
       "</div>"
      ],
      "text/plain": [
       "              Value        Amount  CountryCode  TransactionStatus  \\\n",
       "count  2.100000e+03  2.100000e+03       2100.0        2100.000000   \n",
       "mean   5.302947e+04 -5.291354e+04        256.0           0.708571   \n",
       "std    1.539498e+05  1.539653e+05          0.0           0.454529   \n",
       "min    1.000000e+02 -2.500000e+06        256.0           0.000000   \n",
       "25%    1.000000e+03 -1.200000e+04        256.0           0.000000   \n",
       "50%    3.500000e+03 -3.500000e+03        256.0           1.000000   \n",
       "75%    1.200000e+04 -1.000000e+03        256.0           1.000000   \n",
       "max    2.500000e+06 -1.000000e+02        256.0           1.000000   \n",
       "\n",
       "         AmountLoan  IsFinalPayBack  IsThirdPartyConfirmed  IsDefaulted  \n",
       "count  1.488000e+03     1488.000000            1488.000000  1488.000000  \n",
       "mean   1.182725e+04        0.731855               0.982527     0.119624  \n",
       "std    7.666506e+04        0.443143               0.131070     0.324630  \n",
       "min    5.000000e+01        0.000000               0.000000     0.000000  \n",
       "25%    1.113750e+03        0.000000               1.000000     0.000000  \n",
       "50%    2.800000e+03        1.000000               1.000000     0.000000  \n",
       "75%    1.050000e+04        1.000000               1.000000     0.000000  \n",
       "max    2.760000e+06        1.000000               1.000000     1.000000  "
      ]
     },
     "execution_count": 6,
     "metadata": {},
     "output_type": "execute_result"
    }
   ],
   "source": [
    "dataset.describe()"
   ]
  },
  {
   "cell_type": "code",
   "execution_count": 15,
   "metadata": {},
   "outputs": [
    {
     "data": {
      "text/plain": [
       "CustomerId                 0\n",
       "TransactionStartTime       0\n",
       "Value                      0\n",
       "Amount                     0\n",
       "TransactionId              0\n",
       "BatchId                    0\n",
       "SubscriptionId             0\n",
       "CurrencyCode               0\n",
       "CountryCode                0\n",
       "ProviderId                 0\n",
       "ProductId                  0\n",
       "ProductCategory            0\n",
       "ChannelId                  0\n",
       "TransactionStatus          0\n",
       "IssuedDateLoan           612\n",
       "AmountLoan               612\n",
       "Currency                 612\n",
       "LoanId                   612\n",
       "PaidOnDate               612\n",
       "IsFinalPayBack           612\n",
       "InvestorId               612\n",
       "DueDate                  614\n",
       "LoanApplicationId        617\n",
       "PayBackId                612\n",
       "ThirdPartyId             614\n",
       "IsThirdPartyConfirmed    612\n",
       "IsDefaulted              612\n",
       "dtype: int64"
      ]
     },
     "execution_count": 15,
     "metadata": {},
     "output_type": "execute_result"
    }
   ],
   "source": [
    "dataset.isnull().sum()"
   ]
  },
  {
   "cell_type": "markdown",
   "metadata": {},
   "source": [
    "## Data Exploration"
   ]
  },
  {
   "cell_type": "code",
   "execution_count": 12,
   "metadata": {},
   "outputs": [
    {
     "name": "stdout",
     "output_type": "stream",
     "text": [
      "Unique Customers are:  421\n"
     ]
    }
   ],
   "source": [
    "print(\"Unique Customers are: \", len(dataset.CustomerId.unique()))"
   ]
  },
  {
   "cell_type": "code",
   "execution_count": 19,
   "metadata": {},
   "outputs": [
    {
     "data": {
      "text/plain": [
       "<matplotlib.axes._subplots.AxesSubplot at 0x275e48cdb00>"
      ]
     },
     "execution_count": 19,
     "metadata": {},
     "output_type": "execute_result"
    },
    {
     "data": {
      "image/png": "[encoded data removed]",
      "text/plain": [
       "<Figure size 432x288 with 1 Axes>"
      ]
     },
     "metadata": {
      "needs_background": "light"
     },
     "output_type": "display_data"
    }
   ],
   "source": [
    "sns.distplot(dataset['Value'])"
   ]
  },
  {
   "cell_type": "code",
   "execution_count": 34,
   "metadata": {},
   "outputs": [
    {
     "data": {
      "text/plain": [
       "<matplotlib.axes._subplots.AxesSubplot at 0x275e55a2940>"
      ]
     },
     "execution_count": 34,
     "metadata": {},
     "output_type": "execute_result"
    },
    {
     "data": {
      "image/png": "[encoded data removed]",
      "text/plain": [
       "<Figure size 432x288 with 1 Axes>"
      ]
     },
     "metadata": {
      "needs_background": "light"
     },
     "output_type": "display_data"
    }
   ],
   "source": [
    "sns.distplot(dataset['AmountLoan'].dropna())"
   ]
  },
  {
   "cell_type": "markdown",
   "metadata": {},
   "source": [
    "The data amounts are heavly left skwed"
   ]
  },
  {
   "cell_type": "code",
   "execution_count": 21,
   "metadata": {},
   "outputs": [
    {
     "data": {
      "text/plain": [
       "<matplotlib.axes._subplots.AxesSubplot at 0x275e4ab5c18>"
      ]
     },
     "execution_count": 21,
     "metadata": {},
     "output_type": "execute_result"
    },
    {
     "data": {
      "image/png": "[encoded data removed]",
      "text/plain": [
       "<Figure size 432x288 with 1 Axes>"
      ]
     },
     "metadata": {
      "needs_background": "light"
     },
     "output_type": "display_data"
    }
   ],
   "source": [
    "sns.countplot(dataset['CurrencyCode'])"
   ]
  },
  {
   "cell_type": "code",
   "execution_count": 22,
   "metadata": {},
   "outputs": [
    {
     "data": {
      "text/plain": [
       "<matplotlib.axes._subplots.AxesSubplot at 0x275e4b0e198>"
      ]
     },
     "execution_count": 22,
     "metadata": {},
     "output_type": "execute_result"
    },
    {
     "data": {
      "image/png": "[encoded data removed]",
      "text/plain": [
       "<Figure size 432x288 with 1 Axes>"
      ]
     },
     "metadata": {
      "needs_background": "light"
     },
     "output_type": "display_data"
    }
   ],
   "source": [
    "sns.countplot(dataset['IsDefaulted'])"
   ]
  },
  {
   "cell_type": "code",
   "execution_count": 23,
   "metadata": {},
   "outputs": [
    {
     "data": {
      "text/plain": [
       "<matplotlib.axes._subplots.AxesSubplot at 0x275e4b40b70>"
      ]
     },
     "execution_count": 23,
     "metadata": {},
     "output_type": "execute_result"
    },
    {
     "data": {
      "image/png": "[encoded data removed]",
      "text/plain": [
       "<Figure size 432x288 with 1 Axes>"
      ]
     },
     "metadata": {
      "needs_background": "light"
     },
     "output_type": "display_data"
    }
   ],
   "source": [
    "sns.countplot(dataset['Currency'])"
   ]
  },
  {
   "cell_type": "code",
   "execution_count": 31,
   "metadata": {},
   "outputs": [
    {
     "data": {
      "text/plain": [
       "1160"
      ]
     },
     "execution_count": 31,
     "metadata": {},
     "output_type": "execute_result"
    }
   ],
   "source": [
    "len(dataset[\"LoanId\"].unique())"
   ]
  },
  {
   "cell_type": "code",
   "execution_count": 32,
   "metadata": {},
   "outputs": [
    {
     "data": {
      "text/plain": [
       "1482"
      ]
     },
     "execution_count": 32,
     "metadata": {},
     "output_type": "execute_result"
    }
   ],
   "source": [
    "len(dataset[\"ThirdPartyId\"].unique())"
   ]
  },
  {
   "cell_type": "code",
   "execution_count": 35,
   "metadata": {},
   "outputs": [
    {
     "data": {
      "text/plain": [
       "<matplotlib.axes._subplots.AxesSubplot at 0x275e5b76ef0>"
      ]
     },
     "execution_count": 35,
     "metadata": {},
     "output_type": "execute_result"
    },
    {
     "data": {
      "image/png": "[encoded data removed]",
      "text/plain": [
       "<Figure size 432x288 with 1 Axes>"
      ]
     },
     "metadata": {
      "needs_background": "light"
     },
     "output_type": "display_data"
    }
   ],
   "source": [
    "sns.countplot(dataset['TransactionStatus'])"
   ]
  },
  {
   "cell_type": "code",
   "execution_count": 43,
   "metadata": {},
   "outputs": [
    {
     "data": {
      "text/plain": [
       "<matplotlib.axes._subplots.AxesSubplot at 0x275e4f79d68>"
      ]
     },
     "execution_count": 43,
     "metadata": {},
     "output_type": "execute_result"
    },
    {
     "data": {
      "image/png": "[encoded data removed]",
      "text/plain": [
       "<Figure size 1080x576 with 1 Axes>"
      ]
     },
     "metadata": {
      "needs_background": "light"
     },
     "output_type": "display_data"
    }
   ],
   "source": [
    "plt.figure(figsize = (15,8))\n",
    "sns.countplot(dataset['ProductId'])"
   ]
  },
  {
   "cell_type": "code",
   "execution_count": 44,
   "metadata": {},
   "outputs": [
    {
     "data": {
      "text/plain": [
       "<matplotlib.axes._subplots.AxesSubplot at 0x275e55296a0>"
      ]
     },
     "execution_count": 44,
     "metadata": {},
     "output_type": "execute_result"
    },
    {
     "data": {
      "image/png": "[encoded data removed]",
      "text/plain": [
       "<Figure size 1080x576 with 1 Axes>"
      ]
     },
     "metadata": {
      "needs_background": "light"
     },
     "output_type": "display_data"
    }
   ],
   "source": [
    "plt.figure(figsize = (15,8))\n",
    "sns.countplot(dataset['ProductCategory'])"
   ]
  },
  {
   "cell_type": "code",
   "execution_count": 46,
   "metadata": {},
   "outputs": [
    {
     "data": {
      "text/plain": [
       "<matplotlib.axes._subplots.AxesSubplot at 0x275e5d57438>"
      ]
     },
     "execution_count": 46,
     "metadata": {},
     "output_type": "execute_result"
    },
    {
     "data": {
      "image/png": "[encoded data removed]",
      "text/plain": [
       "<Figure size 432x288 with 1 Axes>"
      ]
     },
     "metadata": {
      "needs_background": "light"
     },
     "output_type": "display_data"
    }
   ],
   "source": [
    "sns.countplot(dataset['ChannelId'])"
   ]
  },
  {
   "cell_type": "markdown",
   "metadata": {},
   "source": [
    "## Data Preparation"
   ]
  },
  {
   "cell_type": "code",
   "execution_count": 37,
   "metadata": {},
   "outputs": [
    {
     "name": "stdout",
     "output_type": "stream",
     "text": [
      "Index(['CustomerId', 'TransactionStartTime', 'Value', 'Amount',\n",
      "       'TransactionId', 'BatchId', 'SubscriptionId', 'CurrencyCode',\n",
      "       'CountryCode', 'ProviderId', 'ProductId', 'ProductCategory',\n",
      "       'ChannelId', 'TransactionStatus', 'IssuedDateLoan', 'AmountLoan',\n",
      "       'Currency', 'LoanId', 'PaidOnDate', 'IsFinalPayBack', 'InvestorId',\n",
      "       'DueDate', 'LoanApplicationId', 'PayBackId', 'ThirdPartyId',\n",
      "       'IsThirdPartyConfirmed', 'IsDefaulted'],\n",
      "      dtype='object')\n"
     ]
    }
   ],
   "source": [
    "print(dataset.columns)"
   ]
  },
  {
   "cell_type": "code",
   "execution_count": 38,
   "metadata": {},
   "outputs": [],
   "source": [
    "dataset.dropna(inplace = True)"
   ]
  },
  {
   "cell_type": "code",
   "execution_count": 96,
   "metadata": {},
   "outputs": [],
   "source": [
    "train = dataset.drop(['CustomerId', 'TransactionStartTime', 'TransactionId', 'BatchId', 'AmountLoan',\n",
    "                  'CountryCode', 'ProviderId', 'ChannelId','IssuedDateLoan', 'Currency', 'LoanId', 'PaidOnDate',\n",
    "                  'InvestorId', 'DueDate', 'LoanApplicationId', 'PayBackId', 'ThirdPartyId', 'IsFinalPayBack', 'IsThirdPartyConfirmed',\n",
    "                  'SubscriptionId', 'CurrencyCode','IsDefaulted'], axis = 1)\n",
    "\n",
    "test = testset.drop(['CustomerId', 'TransactionStartTime', 'TransactionId', 'BatchId', \n",
    "                  'CountryCode','SubscriptionId',  'CurrencyCode', 'ProviderId', 'ChannelId','IssuedDateLoan', 'LoanId',\n",
    "                  'InvestorId', 'LoanApplicationId', 'ThirdPartyId'], axis = 1)\n",
    "\n",
    "y = dataset['IsDefaulted']"
   ]
  },
  {
   "cell_type": "code",
   "execution_count": 101,
   "metadata": {},
   "outputs": [
    {
     "data": {
      "text/plain": [
       "(1479, 5)"
      ]
     },
     "execution_count": 101,
     "metadata": {},
     "output_type": "execute_result"
    }
   ],
   "source": [
    "train.shape"
   ]
  },
  {
   "cell_type": "code",
   "execution_count": 97,
   "metadata": {},
   "outputs": [],
   "source": [
    "result = pd.concat([train, test])\n",
    "mixed = pd.get_dummies(result)"
   ]
  },
  {
   "cell_type": "code",
   "execution_count": 102,
   "metadata": {},
   "outputs": [],
   "source": [
    "X = mixed[:len(train)]\n",
    "test = mixed[len(train):]"
   ]
  },
  {
   "cell_type": "code",
   "execution_count": 103,
   "metadata": {},
   "outputs": [
    {
     "data": {
      "text/html": [
       "<div>\n",
       "<style scoped>\n",
       "    .dataframe tbody tr th:only-of-type {\n",
       "        vertical-align: middle;\n",
       "    }\n",
       "\n",
       "    .dataframe tbody tr th {\n",
       "        vertical-align: top;\n",
       "    }\n",
       "\n",
       "    .dataframe thead th {\n",
       "        text-align: right;\n",
       "    }\n",
       "</style>\n",
       "<table border=\"1\" class=\"dataframe\">\n",
       "  <thead>\n",
       "    <tr style=\"text-align: right;\">\n",
       "      <th></th>\n",
       "      <th>Value</th>\n",
       "      <th>Amount</th>\n",
       "      <th>TransactionStatus</th>\n",
       "      <th>ProductId_ProductId_1</th>\n",
       "      <th>ProductId_ProductId_10</th>\n",
       "      <th>ProductId_ProductId_11</th>\n",
       "      <th>ProductId_ProductId_12</th>\n",
       "      <th>ProductId_ProductId_13</th>\n",
       "      <th>ProductId_ProductId_14</th>\n",
       "      <th>ProductId_ProductId_15</th>\n",
       "      <th>...</th>\n",
       "      <th>ProductId_ProductId_8</th>\n",
       "      <th>ProductId_ProductId_9</th>\n",
       "      <th>ProductCategory_airtime</th>\n",
       "      <th>ProductCategory_data_bundles</th>\n",
       "      <th>ProductCategory_financial_services</th>\n",
       "      <th>ProductCategory_movies</th>\n",
       "      <th>ProductCategory_retail</th>\n",
       "      <th>ProductCategory_ticket</th>\n",
       "      <th>ProductCategory_tv</th>\n",
       "      <th>ProductCategory_utility_bill</th>\n",
       "    </tr>\n",
       "  </thead>\n",
       "  <tbody>\n",
       "    <tr>\n",
       "      <th>15</th>\n",
       "      <td>5000.0</td>\n",
       "      <td>-5000.0</td>\n",
       "      <td>1</td>\n",
       "      <td>0</td>\n",
       "      <td>0</td>\n",
       "      <td>0</td>\n",
       "      <td>0</td>\n",
       "      <td>0</td>\n",
       "      <td>0</td>\n",
       "      <td>0</td>\n",
       "      <td>...</td>\n",
       "      <td>0</td>\n",
       "      <td>0</td>\n",
       "      <td>1</td>\n",
       "      <td>0</td>\n",
       "      <td>0</td>\n",
       "      <td>0</td>\n",
       "      <td>0</td>\n",
       "      <td>0</td>\n",
       "      <td>0</td>\n",
       "      <td>0</td>\n",
       "    </tr>\n",
       "    <tr>\n",
       "      <th>17</th>\n",
       "      <td>500.0</td>\n",
       "      <td>-500.0</td>\n",
       "      <td>1</td>\n",
       "      <td>0</td>\n",
       "      <td>0</td>\n",
       "      <td>0</td>\n",
       "      <td>0</td>\n",
       "      <td>0</td>\n",
       "      <td>0</td>\n",
       "      <td>0</td>\n",
       "      <td>...</td>\n",
       "      <td>0</td>\n",
       "      <td>0</td>\n",
       "      <td>1</td>\n",
       "      <td>0</td>\n",
       "      <td>0</td>\n",
       "      <td>0</td>\n",
       "      <td>0</td>\n",
       "      <td>0</td>\n",
       "      <td>0</td>\n",
       "      <td>0</td>\n",
       "    </tr>\n",
       "    <tr>\n",
       "      <th>18</th>\n",
       "      <td>1000.0</td>\n",
       "      <td>-1000.0</td>\n",
       "      <td>1</td>\n",
       "      <td>0</td>\n",
       "      <td>0</td>\n",
       "      <td>0</td>\n",
       "      <td>0</td>\n",
       "      <td>0</td>\n",
       "      <td>0</td>\n",
       "      <td>0</td>\n",
       "      <td>...</td>\n",
       "      <td>0</td>\n",
       "      <td>0</td>\n",
       "      <td>1</td>\n",
       "      <td>0</td>\n",
       "      <td>0</td>\n",
       "      <td>0</td>\n",
       "      <td>0</td>\n",
       "      <td>0</td>\n",
       "      <td>0</td>\n",
       "      <td>0</td>\n",
       "    </tr>\n",
       "    <tr>\n",
       "      <th>19</th>\n",
       "      <td>500.0</td>\n",
       "      <td>-500.0</td>\n",
       "      <td>1</td>\n",
       "      <td>0</td>\n",
       "      <td>0</td>\n",
       "      <td>0</td>\n",
       "      <td>0</td>\n",
       "      <td>0</td>\n",
       "      <td>0</td>\n",
       "      <td>0</td>\n",
       "      <td>...</td>\n",
       "      <td>0</td>\n",
       "      <td>0</td>\n",
       "      <td>1</td>\n",
       "      <td>0</td>\n",
       "      <td>0</td>\n",
       "      <td>0</td>\n",
       "      <td>0</td>\n",
       "      <td>0</td>\n",
       "      <td>0</td>\n",
       "      <td>0</td>\n",
       "    </tr>\n",
       "    <tr>\n",
       "      <th>20</th>\n",
       "      <td>500.0</td>\n",
       "      <td>-500.0</td>\n",
       "      <td>1</td>\n",
       "      <td>0</td>\n",
       "      <td>0</td>\n",
       "      <td>0</td>\n",
       "      <td>0</td>\n",
       "      <td>0</td>\n",
       "      <td>0</td>\n",
       "      <td>0</td>\n",
       "      <td>...</td>\n",
       "      <td>0</td>\n",
       "      <td>0</td>\n",
       "      <td>0</td>\n",
       "      <td>1</td>\n",
       "      <td>0</td>\n",
       "      <td>0</td>\n",
       "      <td>0</td>\n",
       "      <td>0</td>\n",
       "      <td>0</td>\n",
       "      <td>0</td>\n",
       "    </tr>\n",
       "  </tbody>\n",
       "</table>\n",
       "<p>5 rows × 30 columns</p>\n",
       "</div>"
      ],
      "text/plain": [
       "     Value  Amount  TransactionStatus  ProductId_ProductId_1  \\\n",
       "15  5000.0 -5000.0                  1                      0   \n",
       "17   500.0  -500.0                  1                      0   \n",
       "18  1000.0 -1000.0                  1                      0   \n",
       "19   500.0  -500.0                  1                      0   \n",
       "20   500.0  -500.0                  1                      0   \n",
       "\n",
       "    ProductId_ProductId_10  ProductId_ProductId_11  ProductId_ProductId_12  \\\n",
       "15                       0                       0                       0   \n",
       "17                       0                       0                       0   \n",
       "18                       0                       0                       0   \n",
       "19                       0                       0                       0   \n",
       "20                       0                       0                       0   \n",
       "\n",
       "    ProductId_ProductId_13  ProductId_ProductId_14  ProductId_ProductId_15  \\\n",
       "15                       0                       0                       0   \n",
       "17                       0                       0                       0   \n",
       "18                       0                       0                       0   \n",
       "19                       0                       0                       0   \n",
       "20                       0                       0                       0   \n",
       "\n",
       "                ...               ProductId_ProductId_8  \\\n",
       "15              ...                                   0   \n",
       "17              ...                                   0   \n",
       "18              ...                                   0   \n",
       "19              ...                                   0   \n",
       "20              ...                                   0   \n",
       "\n",
       "    ProductId_ProductId_9  ProductCategory_airtime  \\\n",
       "15                      0                        1   \n",
       "17                      0                        1   \n",
       "18                      0                        1   \n",
       "19                      0                        1   \n",
       "20                      0                        0   \n",
       "\n",
       "    ProductCategory_data_bundles  ProductCategory_financial_services  \\\n",
       "15                             0                                   0   \n",
       "17                             0                                   0   \n",
       "18                             0                                   0   \n",
       "19                             0                                   0   \n",
       "20                             1                                   0   \n",
       "\n",
       "    ProductCategory_movies  ProductCategory_retail  ProductCategory_ticket  \\\n",
       "15                       0                       0                       0   \n",
       "17                       0                       0                       0   \n",
       "18                       0                       0                       0   \n",
       "19                       0                       0                       0   \n",
       "20                       0                       0                       0   \n",
       "\n",
       "    ProductCategory_tv  ProductCategory_utility_bill  \n",
       "15                   0                             0  \n",
       "17                   0                             0  \n",
       "18                   0                             0  \n",
       "19                   0                             0  \n",
       "20                   0                             0  \n",
       "\n",
       "[5 rows x 30 columns]"
      ]
     },
     "execution_count": 103,
     "metadata": {},
     "output_type": "execute_result"
    }
   ],
   "source": [
    "X.head()"
   ]
  },
  {
   "cell_type": "code",
   "execution_count": 104,
   "metadata": {},
   "outputs": [],
   "source": [
    "from sklearn.model_selection import train_test_split\n",
    "x_train, x_test, y_train, y_test = train_test_split(X, y, test_size = 0.3, random_state = 22)"
   ]
  },
  {
   "cell_type": "code",
   "execution_count": 110,
   "metadata": {},
   "outputs": [],
   "source": [
    "from sklearn.metrics import roc_auc_score\n",
    "from sklearn.metrics import confusion_matrix\n",
    "def evaluate(clf):\n",
    "    y_pred = clf.predict(x_test)\n",
    "    score = roc_auc_score(y_test, y_pred)\n",
    "    cm = confusion_matrix(y_test, y_pred)\n",
    "    print(score)\n",
    "    sns.heatmap(cm ,annot = True)"
   ]
  },
  {
   "cell_type": "markdown",
   "metadata": {},
   "source": [
    "## Model Building"
   ]
  },
  {
   "cell_type": "code",
   "execution_count": 111,
   "metadata": {},
   "outputs": [
    {
     "name": "stdout",
     "output_type": "stream",
     "text": [
      "0.593502538071066\n"
     ]
    },
    {
     "data": {
      "image/png": "[encoded data removed]",
      "text/plain": [
       "<Figure size 432x288 with 2 Axes>"
      ]
     },
     "metadata": {
      "needs_background": "light"
     },
     "output_type": "display_data"
    }
   ],
   "source": [
    "from sklearn.linear_model import LogisticRegression\n",
    "clf_lr = LogisticRegression(solver= 'lbfgs')\n",
    "clf_lr.fit(x_train, y_train)\n",
    "evaluate(clf_lr)"
   ]
  },
  {
   "cell_type": "code",
   "execution_count": 112,
   "metadata": {},
   "outputs": [
    {
     "name": "stdout",
     "output_type": "stream",
     "text": [
      "0.8795431472081218\n"
     ]
    },
    {
     "data": {
      "image/png": "[encoded data removed]",
      "text/plain": [
       "<Figure size 432x288 with 2 Axes>"
      ]
     },
     "metadata": {
      "needs_background": "light"
     },
     "output_type": "display_data"
    }
   ],
   "source": [
    "from xgboost import XGBClassifier\n",
    "xgb = XGBClassifier()\n",
    "xgb.fit(x_train, y_train)\n",
    "evaluate(xgb)"
   ]
  },
  {
   "cell_type": "markdown",
   "metadata": {},
   "source": [
    "# Submission File"
   ]
  },
  {
   "cell_type": "code",
   "execution_count": 64,
   "metadata": {},
   "outputs": [
    {
     "data": {
      "text/plain": [
       "((905, 19), (1479, 27))"
      ]
     },
     "execution_count": 64,
     "metadata": {},
     "output_type": "execute_result"
    }
   ],
   "source": [
    "testset.shape , dataset.shape"
   ]
  },
  {
   "cell_type": "code",
   "execution_count": 113,
   "metadata": {},
   "outputs": [],
   "source": [
    "sub = xgb.predict(test)"
   ]
  },
  {
   "cell_type": "code",
   "execution_count": 116,
   "metadata": {},
   "outputs": [],
   "source": [
    "ids = testset.TransactionId"
   ]
  },
  {
   "cell_type": "code",
   "execution_count": 118,
   "metadata": {},
   "outputs": [],
   "source": [
    "submission = pd.DataFrame({\"TransactionId\" : ids , \"IsDefaulted\" : sub})"
   ]
  },
  {
   "cell_type": "code",
   "execution_count": 119,
   "metadata": {},
   "outputs": [],
   "source": [
    "submission.to_csv(\"first_submission.csv\" , index = False)"
   ]
  },
  {
   "cell_type": "code",
   "execution_count": null,
   "metadata": {},
   "outputs": [],
   "source": []
  }
 ],
 "metadata": {
  "kernelspec": {
   "display_name": "Python 3",
   "language": "python",
   "name": "python3"
  },
  "language_info": {
   "codemirror_mode": {
    "name": "ipython",
    "version": 3
   },
   "file_extension": ".py",
   "mimetype": "text/x-python",
   "name": "python",
   "nbconvert_exporter": "python",
   "pygments_lexer": "ipython3",
   "version": "3.7.1"
  }
 },
 "nbformat": 4,
 "nbformat_minor": 2
}
