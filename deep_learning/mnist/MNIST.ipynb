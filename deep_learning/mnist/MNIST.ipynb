{
  "nbformat": 4,
  "nbformat_minor": 0,
  "metadata": {
    "colab": {
      "name": "MNIST.ipynb",
      "version": "0.3.2",
      "provenance": []
    },
    "kernelspec": {
      "name": "python3",
      "display_name": "Python 3"
    }
  },
  "cells": [
    {
      "metadata": {
        "id": "DKhkVj8EwaU_",
        "colab_type": "text"
      },
      "cell_type": "markdown",
      "source": [
        "# ANN for MNIST\n",
        "\n"
      ]
    },
    {
      "metadata": {
        "id": "0wtFdm5xwUG4",
        "colab_type": "code",
        "colab": {
          "base_uri": "https://localhost:8080/",
          "height": 102
        },
        "outputId": "c74fe06f-b020-4f30-f8d6-82628bc58a36"
      },
      "cell_type": "code",
      "source": [
        "from keras.datasets import mnist\n",
        "\n",
        "# use Keras to import pre-shuffled MNIST database\n",
        "(X_train, y_train), (X_test, y_test) = mnist.load_data()\n",
        "\n",
        "print(\"The MNIST database has a training set of %d examples.\" % len(X_train))\n",
        "print(\"The MNIST database has a test set of %d examples.\" % len(X_test))"
      ],
      "execution_count": 1,
      "outputs": [
        {
          "output_type": "stream",
          "text": [
            "Using TensorFlow backend.\n"
          ],
          "name": "stderr"
        },
        {
          "output_type": "stream",
          "text": [
            "Downloading data from https://s3.amazonaws.com/img-datasets/mnist.npz\n",
            "11493376/11490434 [==============================] - 1s 0us/step\n",
            "The MNIST database has a training set of 60000 examples.\n",
            "The MNIST database has a test set of 10000 examples.\n"
          ],
          "name": "stdout"
        }
      ]
    },
    {
      "metadata": {
        "id": "Vx9N-ZaQweD1",
        "colab_type": "code",
        "colab": {}
      },
      "cell_type": "code",
      "source": [
        "import matplotlib.pyplot as plt\n",
        "import matplotlib.cm as cm\n",
        "import numpy as np"
      ],
      "execution_count": 0,
      "outputs": []
    },
    {
      "metadata": {
        "id": "l3CFWMj9wmX4",
        "colab_type": "code",
        "colab": {
          "base_uri": "https://localhost:8080/",
          "height": 222
        },
        "outputId": "478d8811-38bc-4000-b7a0-e80bc5050f49"
      },
      "cell_type": "code",
      "source": [
        "fig = plt.figure(figsize=(20,20))\n",
        "for i in range(6):\n",
        "  ax = fig.add_subplot(1, 6, i + 1)\n",
        "  ax.imshow(X_train[i] , cmap = 'gray')\n",
        "  ax.set_title(str(y_train[i]))"
      ],
      "execution_count": 8,
      "outputs": [
        {
          "output_type": "display_data",
          "data": {
            "image/png": "[encoded data removed]",
            "text/plain": [
              "<Figure size 1440x1440 with 6 Axes>"
            ]
          },
          "metadata": {
            "tags": []
          }
        }
      ]
    },
    {
      "metadata": {
        "id": "PJdqmJKawy_n",
        "colab_type": "code",
        "colab": {}
      },
      "cell_type": "code",
      "source": [
        "X_train = X_train.astype('float32')/255\n",
        "X_test = X_test.astype('float32')/255"
      ],
      "execution_count": 0,
      "outputs": []
    },
    {
      "metadata": {
        "id": "IZ1GAgv0yBJA",
        "colab_type": "code",
        "colab": {
          "base_uri": "https://localhost:8080/",
          "height": 238
        },
        "outputId": "2781360c-ec9a-4e9b-baac-141cbe352b8c"
      },
      "cell_type": "code",
      "source": [
        "from keras.utils import np_utils\n",
        "\n",
        "# print first ten (integer-valued) training labels\n",
        "print('Integer-valued labels:')\n",
        "print(y_train[:10])\n",
        "\n",
        "# one-hot encode the labels\n",
        "y_train = np_utils.to_categorical(y_train, 10)\n",
        "y_test = np_utils.to_categorical(y_test, 10)\n",
        "\n",
        "# print first ten (one-hot) training labels\n",
        "print('One-hot labels:')\n",
        "print(y_train[:10])"
      ],
      "execution_count": 10,
      "outputs": [
        {
          "output_type": "stream",
          "text": [
            "Integer-valued labels:\n",
            "[5 0 4 1 9 2 1 3 1 4]\n",
            "One-hot labels:\n",
            "[[0. 0. 0. 0. 0. 1. 0. 0. 0. 0.]\n",
            " [1. 0. 0. 0. 0. 0. 0. 0. 0. 0.]\n",
            " [0. 0. 0. 0. 1. 0. 0. 0. 0. 0.]\n",
            " [0. 1. 0. 0. 0. 0. 0. 0. 0. 0.]\n",
            " [0. 0. 0. 0. 0. 0. 0. 0. 0. 1.]\n",
            " [0. 0. 1. 0. 0. 0. 0. 0. 0. 0.]\n",
            " [0. 1. 0. 0. 0. 0. 0. 0. 0. 0.]\n",
            " [0. 0. 0. 1. 0. 0. 0. 0. 0. 0.]\n",
            " [0. 1. 0. 0. 0. 0. 0. 0. 0. 0.]\n",
            " [0. 0. 0. 0. 1. 0. 0. 0. 0. 0.]]\n"
          ],
          "name": "stdout"
        }
      ]
    },
    {
      "metadata": {
        "id": "EWwVA8mMyLJP",
        "colab_type": "code",
        "colab": {
          "base_uri": "https://localhost:8080/",
          "height": 462
        },
        "outputId": "cdde91d6-3a5d-44ea-97c1-0679f56964f8"
      },
      "cell_type": "code",
      "source": [
        "from keras.models import Sequential\n",
        "from keras.layers import Dense, Dropout, Flatten\n",
        "\n",
        "model = Sequential()\n",
        "model.add(Flatten(input_shape = X_train.shape[1:]))\n",
        "model.add(Dense(392 , activation = 'relu'))\n",
        "model.add(Dropout(0.2))\n",
        "model.add(Dense(100 , activation = 'relu'))\n",
        "model.add(Dropout(0.2))\n",
        "model.add(Dense(10 , activation = 'softmax'))\n",
        "model.summary()"
      ],
      "execution_count": 17,
      "outputs": [
        {
          "output_type": "stream",
          "text": [
            "WARNING:tensorflow:From /usr/local/lib/python3.6/dist-packages/tensorflow/python/framework/op_def_library.py:263: colocate_with (from tensorflow.python.framework.ops) is deprecated and will be removed in a future version.\n",
            "Instructions for updating:\n",
            "Colocations handled automatically by placer.\n",
            "WARNING:tensorflow:From /usr/local/lib/python3.6/dist-packages/keras/backend/tensorflow_backend.py:3445: calling dropout (from tensorflow.python.ops.nn_ops) with keep_prob is deprecated and will be removed in a future version.\n",
            "Instructions for updating:\n",
            "Please use `rate` instead of `keep_prob`. Rate should be set to `rate = 1 - keep_prob`.\n",
            "_________________________________________________________________\n",
            "Layer (type)                 Output Shape              Param #   \n",
            "=================================================================\n",
            "flatten_1 (Flatten)          (None, 784)               0         \n",
            "_________________________________________________________________\n",
            "dense_1 (Dense)              (None, 392)               307720    \n",
            "_________________________________________________________________\n",
            "dropout_1 (Dropout)          (None, 392)               0         \n",
            "_________________________________________________________________\n",
            "dense_2 (Dense)              (None, 100)               39300     \n",
            "_________________________________________________________________\n",
            "dropout_2 (Dropout)          (None, 100)               0         \n",
            "_________________________________________________________________\n",
            "dense_3 (Dense)              (None, 10)                1010      \n",
            "=================================================================\n",
            "Total params: 348,030\n",
            "Trainable params: 348,030\n",
            "Non-trainable params: 0\n",
            "_________________________________________________________________\n"
          ],
          "name": "stdout"
        }
      ]
    },
    {
      "metadata": {
        "id": "RuvJa0Xgyial",
        "colab_type": "code",
        "colab": {}
      },
      "cell_type": "code",
      "source": [
        "model.compile(loss = 'categorical_crossentropy' , optimizer = 'sgd' , metrics = ['accuracy'])"
      ],
      "execution_count": 0,
      "outputs": []
    },
    {
      "metadata": {
        "id": "3CVrTmLDyjCn",
        "colab_type": "code",
        "colab": {
          "base_uri": "https://localhost:8080/",
          "height": 462
        },
        "outputId": "ee994c5a-e54e-4351-a063-08880a75173f"
      },
      "cell_type": "code",
      "source": [
        "model.fit(X_train , y_train , validation_data= (X_test , y_test) , epochs= 10 , batch_size=32)"
      ],
      "execution_count": 19,
      "outputs": [
        {
          "output_type": "stream",
          "text": [
            "WARNING:tensorflow:From /usr/local/lib/python3.6/dist-packages/tensorflow/python/ops/math_ops.py:3066: to_int32 (from tensorflow.python.ops.math_ops) is deprecated and will be removed in a future version.\n",
            "Instructions for updating:\n",
            "Use tf.cast instead.\n",
            "Train on 60000 samples, validate on 10000 samples\n",
            "Epoch 1/10\n",
            "60000/60000 [==============================] - 10s 174us/step - loss: 0.6785 - acc: 0.8043 - val_loss: 0.3016 - val_acc: 0.9140\n",
            "Epoch 2/10\n",
            "60000/60000 [==============================] - 10s 161us/step - loss: 0.3427 - acc: 0.8996 - val_loss: 0.2353 - val_acc: 0.9323\n",
            "Epoch 3/10\n",
            "60000/60000 [==============================] - 10s 164us/step - loss: 0.2740 - acc: 0.9206 - val_loss: 0.1951 - val_acc: 0.9437\n",
            "Epoch 4/10\n",
            "60000/60000 [==============================] - 10s 163us/step - loss: 0.2338 - acc: 0.9322 - val_loss: 0.1685 - val_acc: 0.9512\n",
            "Epoch 5/10\n",
            "60000/60000 [==============================] - 10s 165us/step - loss: 0.2032 - acc: 0.9414 - val_loss: 0.1512 - val_acc: 0.9560\n",
            "Epoch 6/10\n",
            "60000/60000 [==============================] - 10s 166us/step - loss: 0.1823 - acc: 0.9470 - val_loss: 0.1358 - val_acc: 0.9588\n",
            "Epoch 7/10\n",
            "60000/60000 [==============================] - 10s 159us/step - loss: 0.1654 - acc: 0.9523 - val_loss: 0.1245 - val_acc: 0.9619\n",
            "Epoch 8/10\n",
            "60000/60000 [==============================] - 10s 160us/step - loss: 0.1522 - acc: 0.9553 - val_loss: 0.1172 - val_acc: 0.9633\n",
            "Epoch 9/10\n",
            "60000/60000 [==============================] - 10s 169us/step - loss: 0.1407 - acc: 0.9592 - val_loss: 0.1093 - val_acc: 0.9660\n",
            "Epoch 10/10\n",
            "60000/60000 [==============================] - 10s 160us/step - loss: 0.1308 - acc: 0.9621 - val_loss: 0.1026 - val_acc: 0.9687\n"
          ],
          "name": "stdout"
        },
        {
          "output_type": "execute_result",
          "data": {
            "text/plain": [
              "<keras.callbacks.History at 0x7f2973359128>"
            ]
          },
          "metadata": {
            "tags": []
          },
          "execution_count": 19
        }
      ]
    },
    {
      "metadata": {
        "id": "wedAn9iqy0kw",
        "colab_type": "code",
        "colab": {
          "base_uri": "https://localhost:8080/",
          "height": 34
        },
        "outputId": "55709537-9d03-425f-8394-5ca9ec4ce6ad"
      },
      "cell_type": "code",
      "source": [
        "# evaluate test accuracy\n",
        "score = model.evaluate(X_test, y_test, verbose=0)\n",
        "accuracy = 100*score[1]\n",
        "\n",
        "# print test accuracy\n",
        "print('Test accuracy: %.4f%%' % accuracy)"
      ],
      "execution_count": 20,
      "outputs": [
        {
          "output_type": "stream",
          "text": [
            "Test accuracy: 96.8700%\n"
          ],
          "name": "stdout"
        }
      ]
    },
    {
      "metadata": {
        "id": "YWfWG4t40H3L",
        "colab_type": "code",
        "colab": {}
      },
      "cell_type": "code",
      "source": [
        ""
      ],
      "execution_count": 0,
      "outputs": []
    }
  ]
}