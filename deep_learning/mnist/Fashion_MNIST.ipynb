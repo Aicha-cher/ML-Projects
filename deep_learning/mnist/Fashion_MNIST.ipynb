{
  "nbformat": 4,
  "nbformat_minor": 0,
  "metadata": {
    "colab": {
      "name": "Fashion MNIST.ipynb",
      "version": "0.3.2",
      "provenance": [],
      "collapsed_sections": []
    },
    "kernelspec": {
      "name": "python3",
      "display_name": "Python 3"
    },
    "accelerator": "GPU"
  },
  "cells": [
    {
      "metadata": {
        "id": "-zs8S2hCQWTl",
        "colab_type": "text"
      },
      "cell_type": "markdown",
      "source": [
        "# Fashion MNIST "
      ]
    },
    {
      "metadata": {
        "id": "rwUxRKQ1QFBi",
        "colab_type": "code",
        "colab": {}
      },
      "cell_type": "code",
      "source": [
        "import numpy as np\n",
        "import matplotlib.pyplot as plt"
      ],
      "execution_count": 0,
      "outputs": []
    },
    {
      "metadata": {
        "id": "FNLCrfcQQZax",
        "colab_type": "code",
        "colab": {}
      },
      "cell_type": "code",
      "source": [
        "from keras.datasets import fashion_mnist\n",
        "# Getting the dataset\n",
        "(x_train, y_train) , (x_test, y_test) = fashion_mnist.load_data()"
      ],
      "execution_count": 0,
      "outputs": []
    },
    {
      "metadata": {
        "id": "9cKd7sMKRtSx",
        "colab_type": "code",
        "colab": {}
      },
      "cell_type": "code",
      "source": [
        "labels = {0 :\"T-shirt/top \", 1 :\"Trouser \", 2 :\"Pullover \", 3 :\"Dress \", 4 :\"Coat \", 5 :\"Sandal \", 6 :\"Shirt \", 7 :\"Sneaker \", 8 :\"Bag \", 9 :\"Ankle boot\"}"
      ],
      "execution_count": 0,
      "outputs": []
    },
    {
      "metadata": {
        "id": "_0vwOESnRF_r",
        "colab_type": "code",
        "colab": {
          "base_uri": "https://localhost:8080/",
          "height": 426
        },
        "outputId": "c576a2aa-8cea-4df1-b7fa-8bfa8cef27d2"
      },
      "cell_type": "code",
      "source": [
        "# Visualizing Some Images\n",
        "fig = plt.figure(figsize=(20,7))\n",
        "for i in range(10):\n",
        "  ax = fig.add_subplot(2, 5, i+1, xticks = [], yticks = [])\n",
        "  ax.imshow(x_train[i])\n",
        "  ax.set_title(labels[np.argmax(y_train[i])])"
      ],
      "execution_count": 25,
      "outputs": [
        {
          "output_type": "display_data",
          "data": {
            "image/png": "[encoded data removed]",
            "text/plain": [
              "<Figure size 1440x504 with 10 Axes>"
            ]
          },
          "metadata": {
            "tags": []
          }
        }
      ]
    },
    {
      "metadata": {
        "id": "8h2CfnEYRMQw",
        "colab_type": "code",
        "colab": {}
      },
      "cell_type": "code",
      "source": [
        "# Normalize the image values\n",
        "x_train = x_train.astype(\"float32\") / 255.0\n",
        "x_test = x_test.astype(\"float32\") / 255.0"
      ],
      "execution_count": 0,
      "outputs": []
    },
    {
      "metadata": {
        "id": "XxQA7lg5Rkcp",
        "colab_type": "code",
        "colab": {}
      },
      "cell_type": "code",
      "source": [
        "from keras.utils import to_categorical\n",
        "y_train = to_categorical(y_train)\n",
        "y_test = to_categorical(y_test)"
      ],
      "execution_count": 0,
      "outputs": []
    },
    {
      "metadata": {
        "id": "LuJpG2uMXREJ",
        "colab_type": "code",
        "colab": {
          "base_uri": "https://localhost:8080/",
          "height": 51
        },
        "outputId": "6b0d55dd-0d62-4043-f64e-dd140989a1b1"
      },
      "cell_type": "code",
      "source": [
        "x_valid, x_train = x_train[:10000], x_train[10000:]\n",
        "y_valid, y_train = y_train[:10000], y_train[10000:]\n",
        "\n",
        "print(x_valid.shape)\n",
        "print(x_train.shape)"
      ],
      "execution_count": 62,
      "outputs": [
        {
          "output_type": "stream",
          "text": [
            "(10000, 28, 28)\n",
            "(50000, 28, 28)\n"
          ],
          "name": "stdout"
        }
      ]
    },
    {
      "metadata": {
        "id": "O9Zt1M3CXRjf",
        "colab_type": "text"
      },
      "cell_type": "markdown",
      "source": [
        "# Classification with Simple Deep NN"
      ]
    },
    {
      "metadata": {
        "id": "XI5Huh6HXVYd",
        "colab_type": "code",
        "colab": {}
      },
      "cell_type": "code",
      "source": [
        "from keras.layers import Dense, Dropout, Flatten\n",
        "from keras.models import Sequential"
      ],
      "execution_count": 0,
      "outputs": []
    },
    {
      "metadata": {
        "id": "vR6vPuwjXmeB",
        "colab_type": "code",
        "colab": {
          "base_uri": "https://localhost:8080/",
          "height": 476
        },
        "outputId": "eb09719a-b74b-43c8-81cb-3e039fd1dcbe"
      },
      "cell_type": "code",
      "source": [
        "# Building the Model\n",
        "model = Sequential()\n",
        "model.add(Flatten(input_shape = x_train[0].shape))\n",
        "model.add(Dense(512, activation = 'relu'))\n",
        "model.add(Dropout(0.3))\n",
        "model.add(Dense(256, activation = 'relu'))\n",
        "model.add(Dropout(0.2))\n",
        "model.add(Dense(128, activation = 'relu'))\n",
        "model.add(Dropout(0.3))\n",
        "model.add(Dense(64, activation = 'relu'))\n",
        "model.add(Dropout(0.2))\n",
        "model.add(Dense(10, activation = 'softmax'))\n",
        "model.summary()"
      ],
      "execution_count": 34,
      "outputs": [
        {
          "output_type": "stream",
          "text": [
            "_________________________________________________________________\n",
            "Layer (type)                 Output Shape              Param #   \n",
            "=================================================================\n",
            "flatten_2 (Flatten)          (None, 784)               0         \n",
            "_________________________________________________________________\n",
            "dense_6 (Dense)              (None, 512)               401920    \n",
            "_________________________________________________________________\n",
            "dropout_5 (Dropout)          (None, 512)               0         \n",
            "_________________________________________________________________\n",
            "dense_7 (Dense)              (None, 256)               131328    \n",
            "_________________________________________________________________\n",
            "dropout_6 (Dropout)          (None, 256)               0         \n",
            "_________________________________________________________________\n",
            "dense_8 (Dense)              (None, 128)               32896     \n",
            "_________________________________________________________________\n",
            "dropout_7 (Dropout)          (None, 128)               0         \n",
            "_________________________________________________________________\n",
            "dense_9 (Dense)              (None, 64)                8256      \n",
            "_________________________________________________________________\n",
            "dropout_8 (Dropout)          (None, 64)                0         \n",
            "_________________________________________________________________\n",
            "dense_10 (Dense)             (None, 10)                650       \n",
            "=================================================================\n",
            "Total params: 575,050\n",
            "Trainable params: 575,050\n",
            "Non-trainable params: 0\n",
            "_________________________________________________________________\n"
          ],
          "name": "stdout"
        }
      ]
    },
    {
      "metadata": {
        "id": "NLv45avlXmjz",
        "colab_type": "code",
        "colab": {}
      },
      "cell_type": "code",
      "source": [
        " model.compile(loss = 'categorical_crossentropy', optimizer = 'rmsprop', metrics = ['accuracy'])"
      ],
      "execution_count": 0,
      "outputs": []
    },
    {
      "metadata": {
        "id": "pMWnnlzNYZym",
        "colab_type": "code",
        "colab": {
          "base_uri": "https://localhost:8080/",
          "height": 901
        },
        "outputId": "8e87bae1-5c07-4011-c311-a3f45f356d32"
      },
      "cell_type": "code",
      "source": [
        "model.fit(x_train, y_train, epochs= 25, batch_size = 64, validation_data= (x_valid, y_valid))"
      ],
      "execution_count": 36,
      "outputs": [
        {
          "output_type": "stream",
          "text": [
            "Train on 50000 samples, validate on 10000 samples\n",
            "Epoch 1/25\n",
            "50000/50000 [==============================] - 6s 113us/step - loss: 1.0934 - acc: 0.5549 - val_loss: 0.6611 - val_acc: 0.7529\n",
            "Epoch 2/25\n",
            "50000/50000 [==============================] - 5s 107us/step - loss: 0.6526 - acc: 0.7552 - val_loss: 0.5492 - val_acc: 0.7962\n",
            "Epoch 3/25\n",
            "50000/50000 [==============================] - 5s 107us/step - loss: 0.5464 - acc: 0.8007 - val_loss: 0.4823 - val_acc: 0.8206\n",
            "Epoch 4/25\n",
            "50000/50000 [==============================] - 5s 106us/step - loss: 0.4909 - acc: 0.8253 - val_loss: 0.4617 - val_acc: 0.8270\n",
            "Epoch 5/25\n",
            "50000/50000 [==============================] - 5s 106us/step - loss: 0.4602 - acc: 0.8373 - val_loss: 0.4882 - val_acc: 0.8244\n",
            "Epoch 6/25\n",
            "50000/50000 [==============================] - 5s 107us/step - loss: 0.4443 - acc: 0.8441 - val_loss: 0.4067 - val_acc: 0.8515\n",
            "Epoch 7/25\n",
            "50000/50000 [==============================] - 5s 107us/step - loss: 0.4303 - acc: 0.8497 - val_loss: 0.4380 - val_acc: 0.8432\n",
            "Epoch 8/25\n",
            "50000/50000 [==============================] - 5s 107us/step - loss: 0.4208 - acc: 0.8533 - val_loss: 0.3976 - val_acc: 0.8555\n",
            "Epoch 9/25\n",
            "50000/50000 [==============================] - 5s 107us/step - loss: 0.4112 - acc: 0.8570 - val_loss: 0.4120 - val_acc: 0.8554\n",
            "Epoch 10/25\n",
            "50000/50000 [==============================] - 5s 107us/step - loss: 0.4020 - acc: 0.8584 - val_loss: 0.3626 - val_acc: 0.8695\n",
            "Epoch 11/25\n",
            "50000/50000 [==============================] - 5s 107us/step - loss: 0.3960 - acc: 0.8637 - val_loss: 0.4526 - val_acc: 0.8411\n",
            "Epoch 12/25\n",
            "50000/50000 [==============================] - 5s 107us/step - loss: 0.3912 - acc: 0.8650 - val_loss: 0.3667 - val_acc: 0.8759\n",
            "Epoch 13/25\n",
            "50000/50000 [==============================] - 5s 107us/step - loss: 0.3903 - acc: 0.8659 - val_loss: 0.3753 - val_acc: 0.8711\n",
            "Epoch 14/25\n",
            "50000/50000 [==============================] - 5s 107us/step - loss: 0.3872 - acc: 0.8674 - val_loss: 0.3612 - val_acc: 0.8723\n",
            "Epoch 15/25\n",
            "50000/50000 [==============================] - 5s 107us/step - loss: 0.3823 - acc: 0.8678 - val_loss: 0.3878 - val_acc: 0.8723\n",
            "Epoch 16/25\n",
            "50000/50000 [==============================] - 5s 106us/step - loss: 0.3790 - acc: 0.8712 - val_loss: 0.3833 - val_acc: 0.8682\n",
            "Epoch 17/25\n",
            "50000/50000 [==============================] - 5s 107us/step - loss: 0.3778 - acc: 0.8715 - val_loss: 0.3794 - val_acc: 0.8670\n",
            "Epoch 18/25\n",
            "50000/50000 [==============================] - 5s 107us/step - loss: 0.3731 - acc: 0.8744 - val_loss: 0.3620 - val_acc: 0.8733\n",
            "Epoch 19/25\n",
            "50000/50000 [==============================] - 5s 107us/step - loss: 0.3733 - acc: 0.8733 - val_loss: 0.3661 - val_acc: 0.8800\n",
            "Epoch 20/25\n",
            "50000/50000 [==============================] - 5s 107us/step - loss: 0.3751 - acc: 0.8740 - val_loss: 0.3521 - val_acc: 0.8810\n",
            "Epoch 21/25\n",
            "50000/50000 [==============================] - 5s 106us/step - loss: 0.3672 - acc: 0.8762 - val_loss: 0.3635 - val_acc: 0.8791\n",
            "Epoch 22/25\n",
            "50000/50000 [==============================] - 5s 107us/step - loss: 0.3741 - acc: 0.8755 - val_loss: 0.3900 - val_acc: 0.8690\n",
            "Epoch 23/25\n",
            "50000/50000 [==============================] - 5s 106us/step - loss: 0.3719 - acc: 0.8760 - val_loss: 0.3511 - val_acc: 0.8813\n",
            "Epoch 24/25\n",
            "50000/50000 [==============================] - 5s 106us/step - loss: 0.3711 - acc: 0.8781 - val_loss: 0.3635 - val_acc: 0.8769\n",
            "Epoch 25/25\n",
            "50000/50000 [==============================] - 5s 107us/step - loss: 0.3760 - acc: 0.8771 - val_loss: 0.3668 - val_acc: 0.8804\n"
          ],
          "name": "stdout"
        },
        {
          "output_type": "execute_result",
          "data": {
            "text/plain": [
              "<keras.callbacks.History at 0x7f49903638d0>"
            ]
          },
          "metadata": {
            "tags": []
          },
          "execution_count": 36
        }
      ]
    },
    {
      "metadata": {
        "id": "460Hl7w5ckgc",
        "colab_type": "code",
        "colab": {
          "base_uri": "https://localhost:8080/",
          "height": 34
        },
        "outputId": "c241f678-9b53-4208-d471-83580ab7d0d7"
      },
      "cell_type": "code",
      "source": [
        "# evaluation\n",
        "score = model.evaluate(x_test, y_test, verbose = 0)\n",
        "\n",
        "print(\"The accuracy for Simple DNN model is {}%\".format(score[1]*100))"
      ],
      "execution_count": 42,
      "outputs": [
        {
          "output_type": "stream",
          "text": [
            "The accuracy for Simple DNN model is 79.22%\n"
          ],
          "name": "stdout"
        }
      ]
    },
    {
      "metadata": {
        "id": "-Z-9kLBbVFjk",
        "colab_type": "text"
      },
      "cell_type": "markdown",
      "source": [
        "# Classification with CNN"
      ]
    },
    {
      "metadata": {
        "id": "UL9gcBzPUugP",
        "colab_type": "code",
        "colab": {}
      },
      "cell_type": "code",
      "source": [
        "from keras.layers import Conv2D, MaxPooling2D"
      ],
      "execution_count": 0,
      "outputs": []
    },
    {
      "metadata": {
        "id": "7TFj2-QBffQQ",
        "colab_type": "code",
        "colab": {}
      },
      "cell_type": "code",
      "source": [
        "x_valid_cnn = np.expand_dims(x_valid, axis=3)\n",
        "x_test_cnn = np.expand_dims(x_test, axis=3)\n",
        "x_train_cnn = np.expand_dims(x_train, axis=3)"
      ],
      "execution_count": 0,
      "outputs": []
    },
    {
      "metadata": {
        "id": "7F5cJN7EWPis",
        "colab_type": "code",
        "colab": {
          "base_uri": "https://localhost:8080/",
          "height": 612
        },
        "outputId": "a8176eee-49bf-4867-8294-482357430512"
      },
      "cell_type": "code",
      "source": [
        "cnn_model = Sequential()\n",
        "cnn_model.add(Conv2D(16, input_shape = (28, 28, 1), kernel_size=2, strides=(1, 1), padding='same', activation = 'relu'))\n",
        "cnn_model.add(MaxPooling2D(pool_size=(2, 2)))\n",
        "cnn_model.add(Conv2D(32, kernel_size=2, strides=(1, 1), padding='same', activation = 'relu'))\n",
        "cnn_model.add(MaxPooling2D(pool_size=(2, 2)))\n",
        "cnn_model.add(Flatten())\n",
        "cnn_model.add(Dense(512, activation = 'relu'))\n",
        "cnn_model.add(Dropout(0.3))\n",
        "cnn_model.add(Dense(256, activation = 'relu'))\n",
        "cnn_model.add(Dropout(0.2))\n",
        "cnn_model.add(Dense(128, activation = 'relu'))\n",
        "cnn_model.add(Dropout(0.3))\n",
        "cnn_model.add(Dense(64, activation = 'relu'))\n",
        "cnn_model.add(Dropout(0.2))\n",
        "cnn_model.add(Dense(10, activation = 'softmax'))\n",
        "cnn_model.summary()"
      ],
      "execution_count": 53,
      "outputs": [
        {
          "output_type": "stream",
          "text": [
            "_________________________________________________________________\n",
            "Layer (type)                 Output Shape              Param #   \n",
            "=================================================================\n",
            "conv2d_5 (Conv2D)            (None, 28, 28, 16)        80        \n",
            "_________________________________________________________________\n",
            "max_pooling2d_5 (MaxPooling2 (None, 14, 14, 16)        0         \n",
            "_________________________________________________________________\n",
            "conv2d_6 (Conv2D)            (None, 14, 14, 32)        2080      \n",
            "_________________________________________________________________\n",
            "max_pooling2d_6 (MaxPooling2 (None, 7, 7, 32)          0         \n",
            "_________________________________________________________________\n",
            "flatten_5 (Flatten)          (None, 1568)              0         \n",
            "_________________________________________________________________\n",
            "dense_21 (Dense)             (None, 512)               803328    \n",
            "_________________________________________________________________\n",
            "dropout_17 (Dropout)         (None, 512)               0         \n",
            "_________________________________________________________________\n",
            "dense_22 (Dense)             (None, 256)               131328    \n",
            "_________________________________________________________________\n",
            "dropout_18 (Dropout)         (None, 256)               0         \n",
            "_________________________________________________________________\n",
            "dense_23 (Dense)             (None, 128)               32896     \n",
            "_________________________________________________________________\n",
            "dropout_19 (Dropout)         (None, 128)               0         \n",
            "_________________________________________________________________\n",
            "dense_24 (Dense)             (None, 64)                8256      \n",
            "_________________________________________________________________\n",
            "dropout_20 (Dropout)         (None, 64)                0         \n",
            "_________________________________________________________________\n",
            "dense_25 (Dense)             (None, 10)                650       \n",
            "=================================================================\n",
            "Total params: 978,618\n",
            "Trainable params: 978,618\n",
            "Non-trainable params: 0\n",
            "_________________________________________________________________\n"
          ],
          "name": "stdout"
        }
      ]
    },
    {
      "metadata": {
        "id": "l-iGGZRJeX04",
        "colab_type": "code",
        "colab": {}
      },
      "cell_type": "code",
      "source": [
        "cnn_model.compile(loss = 'categorical_crossentropy', optimizer = 'rmsprop', metrics = ['accuracy'])"
      ],
      "execution_count": 0,
      "outputs": []
    },
    {
      "metadata": {
        "id": "_58KFRX1ejQR",
        "colab_type": "code",
        "colab": {
          "base_uri": "https://localhost:8080/",
          "height": 901
        },
        "outputId": "2c6846b0-4c75-4a2a-aa0c-f96b7fa35212"
      },
      "cell_type": "code",
      "source": [
        "cnn_model.fit(x_train_cnn, y_train, epochs= 25, batch_size = 64, validation_data= (x_valid_cnn, y_valid))"
      ],
      "execution_count": 65,
      "outputs": [
        {
          "output_type": "stream",
          "text": [
            "Train on 50000 samples, validate on 10000 samples\n",
            "Epoch 1/25\n",
            "50000/50000 [==============================] - 9s 177us/step - loss: 0.6171 - acc: 0.7778 - val_loss: 0.3805 - val_acc: 0.8664\n",
            "Epoch 2/25\n",
            "50000/50000 [==============================] - 8s 164us/step - loss: 0.3796 - acc: 0.8708 - val_loss: 0.3189 - val_acc: 0.8861\n",
            "Epoch 3/25\n",
            "50000/50000 [==============================] - 8s 164us/step - loss: 0.3383 - acc: 0.8845 - val_loss: 0.3010 - val_acc: 0.8958\n",
            "Epoch 4/25\n",
            "50000/50000 [==============================] - 8s 164us/step - loss: 0.3227 - acc: 0.8924 - val_loss: 0.3185 - val_acc: 0.8894\n",
            "Epoch 5/25\n",
            "50000/50000 [==============================] - 8s 165us/step - loss: 0.3082 - acc: 0.8966 - val_loss: 0.2936 - val_acc: 0.8986\n",
            "Epoch 6/25\n",
            "50000/50000 [==============================] - 8s 165us/step - loss: 0.2967 - acc: 0.8998 - val_loss: 0.3269 - val_acc: 0.8876\n",
            "Epoch 7/25\n",
            "50000/50000 [==============================] - 8s 164us/step - loss: 0.2924 - acc: 0.9017 - val_loss: 0.3295 - val_acc: 0.8968\n",
            "Epoch 8/25\n",
            "50000/50000 [==============================] - 8s 164us/step - loss: 0.2947 - acc: 0.9030 - val_loss: 0.4538 - val_acc: 0.8707\n",
            "Epoch 9/25\n",
            "50000/50000 [==============================] - 8s 165us/step - loss: 0.2890 - acc: 0.9044 - val_loss: 0.3000 - val_acc: 0.8972\n",
            "Epoch 10/25\n",
            "50000/50000 [==============================] - 8s 165us/step - loss: 0.2924 - acc: 0.9036 - val_loss: 0.3002 - val_acc: 0.8986\n",
            "Epoch 11/25\n",
            "50000/50000 [==============================] - 8s 164us/step - loss: 0.2964 - acc: 0.9034 - val_loss: 0.3074 - val_acc: 0.8943\n",
            "Epoch 12/25\n",
            "50000/50000 [==============================] - 8s 164us/step - loss: 0.2950 - acc: 0.9027 - val_loss: 0.3464 - val_acc: 0.8950\n",
            "Epoch 13/25\n",
            "50000/50000 [==============================] - 8s 165us/step - loss: 0.3056 - acc: 0.9018 - val_loss: 0.3228 - val_acc: 0.8919\n",
            "Epoch 14/25\n",
            "50000/50000 [==============================] - 8s 165us/step - loss: 0.3121 - acc: 0.8997 - val_loss: 0.3390 - val_acc: 0.8913\n",
            "Epoch 15/25\n",
            "50000/50000 [==============================] - 8s 166us/step - loss: 0.3131 - acc: 0.8996 - val_loss: 0.3820 - val_acc: 0.8935\n",
            "Epoch 16/25\n",
            "50000/50000 [==============================] - 8s 165us/step - loss: 0.3239 - acc: 0.8959 - val_loss: 0.4043 - val_acc: 0.8662\n",
            "Epoch 17/25\n",
            "50000/50000 [==============================] - 8s 166us/step - loss: 0.3308 - acc: 0.8935 - val_loss: 0.3053 - val_acc: 0.8958\n",
            "Epoch 18/25\n",
            "50000/50000 [==============================] - 8s 165us/step - loss: 0.3313 - acc: 0.8940 - val_loss: 0.3350 - val_acc: 0.8967\n",
            "Epoch 19/25\n",
            "50000/50000 [==============================] - 8s 164us/step - loss: 0.3481 - acc: 0.8890 - val_loss: 0.3358 - val_acc: 0.8851\n",
            "Epoch 20/25\n",
            "50000/50000 [==============================] - 8s 166us/step - loss: 0.3550 - acc: 0.8881 - val_loss: 0.4713 - val_acc: 0.8694\n",
            "Epoch 21/25\n",
            "50000/50000 [==============================] - 8s 166us/step - loss: 0.3613 - acc: 0.8845 - val_loss: 0.3943 - val_acc: 0.8830\n",
            "Epoch 22/25\n",
            "50000/50000 [==============================] - 8s 165us/step - loss: 0.3736 - acc: 0.8817 - val_loss: 0.3445 - val_acc: 0.8888\n",
            "Epoch 23/25\n",
            "50000/50000 [==============================] - 8s 165us/step - loss: 0.3753 - acc: 0.8795 - val_loss: 0.4440 - val_acc: 0.8559\n",
            "Epoch 24/25\n",
            "50000/50000 [==============================] - 8s 165us/step - loss: 0.3852 - acc: 0.8786 - val_loss: 0.3716 - val_acc: 0.8762\n",
            "Epoch 25/25\n",
            "50000/50000 [==============================] - 8s 164us/step - loss: 0.3993 - acc: 0.8731 - val_loss: 0.3553 - val_acc: 0.8815\n"
          ],
          "name": "stdout"
        },
        {
          "output_type": "execute_result",
          "data": {
            "text/plain": [
              "<keras.callbacks.History at 0x7f497e37c358>"
            ]
          },
          "metadata": {
            "tags": []
          },
          "execution_count": 65
        }
      ]
    },
    {
      "metadata": {
        "id": "pvpx_c3DhP06",
        "colab_type": "code",
        "colab": {
          "base_uri": "https://localhost:8080/",
          "height": 476
        },
        "outputId": "9dd489ed-01ea-4080-90dc-44d0786a74f9"
      },
      "cell_type": "code",
      "source": [
        "# Modifiying in the Architecture\n",
        "cnn_model = Sequential()\n",
        "cnn_model.add(Conv2D(16, input_shape = (28, 28, 1), kernel_size=2, strides=(1, 1), padding='same', activation = 'relu'))\n",
        "cnn_model.add(MaxPooling2D(pool_size=(2, 2)))\n",
        "cnn_model.add(Flatten())\n",
        "cnn_model.add(Dense(512, activation = 'relu'))\n",
        "cnn_model.add(Dropout(0.3))\n",
        "cnn_model.add(Dense(128, activation = 'relu'))\n",
        "cnn_model.add(Dropout(0.3))\n",
        "cnn_model.add(Dense(64, activation = 'relu'))\n",
        "cnn_model.add(Dropout(0.2))\n",
        "cnn_model.add(Dense(10, activation = 'softmax'))\n",
        "cnn_model.summary()"
      ],
      "execution_count": 66,
      "outputs": [
        {
          "output_type": "stream",
          "text": [
            "_________________________________________________________________\n",
            "Layer (type)                 Output Shape              Param #   \n",
            "=================================================================\n",
            "conv2d_7 (Conv2D)            (None, 28, 28, 16)        80        \n",
            "_________________________________________________________________\n",
            "max_pooling2d_7 (MaxPooling2 (None, 14, 14, 16)        0         \n",
            "_________________________________________________________________\n",
            "flatten_6 (Flatten)          (None, 3136)              0         \n",
            "_________________________________________________________________\n",
            "dense_26 (Dense)             (None, 512)               1606144   \n",
            "_________________________________________________________________\n",
            "dropout_21 (Dropout)         (None, 512)               0         \n",
            "_________________________________________________________________\n",
            "dense_27 (Dense)             (None, 128)               65664     \n",
            "_________________________________________________________________\n",
            "dropout_22 (Dropout)         (None, 128)               0         \n",
            "_________________________________________________________________\n",
            "dense_28 (Dense)             (None, 64)                8256      \n",
            "_________________________________________________________________\n",
            "dropout_23 (Dropout)         (None, 64)                0         \n",
            "_________________________________________________________________\n",
            "dense_29 (Dense)             (None, 10)                650       \n",
            "=================================================================\n",
            "Total params: 1,680,794\n",
            "Trainable params: 1,680,794\n",
            "Non-trainable params: 0\n",
            "_________________________________________________________________\n"
          ],
          "name": "stdout"
        }
      ]
    },
    {
      "metadata": {
        "id": "HBvX55NTiVQw",
        "colab_type": "code",
        "colab": {}
      },
      "cell_type": "code",
      "source": [
        "cnn_model.compile(loss = 'categorical_crossentropy', optimizer = 'rmsprop', metrics = ['accuracy'])"
      ],
      "execution_count": 0,
      "outputs": []
    },
    {
      "metadata": {
        "id": "Q86Yp8vpibUU",
        "colab_type": "code",
        "colab": {
          "base_uri": "https://localhost:8080/",
          "height": 901
        },
        "outputId": "6fcf245a-8d9c-48df-ca8c-ef4aea6df311"
      },
      "cell_type": "code",
      "source": [
        "cnn_model.fit(x_train_cnn, y_train, epochs= 25, batch_size = 64, validation_data= (x_valid_cnn, y_valid))"
      ],
      "execution_count": 68,
      "outputs": [
        {
          "output_type": "stream",
          "text": [
            "Train on 50000 samples, validate on 10000 samples\n",
            "Epoch 1/25\n",
            "50000/50000 [==============================] - 8s 158us/step - loss: 0.6069 - acc: 0.7814 - val_loss: 0.3697 - val_acc: 0.8665\n",
            "Epoch 2/25\n",
            "50000/50000 [==============================] - 7s 144us/step - loss: 0.3545 - acc: 0.8776 - val_loss: 0.3091 - val_acc: 0.8926\n",
            "Epoch 3/25\n",
            "50000/50000 [==============================] - 7s 143us/step - loss: 0.3094 - acc: 0.8943 - val_loss: 0.2752 - val_acc: 0.9036\n",
            "Epoch 4/25\n",
            "50000/50000 [==============================] - 7s 143us/step - loss: 0.2891 - acc: 0.9016 - val_loss: 0.3487 - val_acc: 0.8771\n",
            "Epoch 5/25\n",
            "50000/50000 [==============================] - 7s 144us/step - loss: 0.2752 - acc: 0.9067 - val_loss: 0.3033 - val_acc: 0.9026\n",
            "Epoch 6/25\n",
            "50000/50000 [==============================] - 7s 143us/step - loss: 0.2700 - acc: 0.9088 - val_loss: 0.2821 - val_acc: 0.9057\n",
            "Epoch 7/25\n",
            "50000/50000 [==============================] - 7s 143us/step - loss: 0.2632 - acc: 0.9109 - val_loss: 0.2808 - val_acc: 0.9100\n",
            "Epoch 8/25\n",
            "50000/50000 [==============================] - 7s 143us/step - loss: 0.2632 - acc: 0.9119 - val_loss: 0.3074 - val_acc: 0.9060\n",
            "Epoch 9/25\n",
            "50000/50000 [==============================] - 7s 144us/step - loss: 0.2575 - acc: 0.9139 - val_loss: 0.3190 - val_acc: 0.8967\n",
            "Epoch 10/25\n",
            "50000/50000 [==============================] - 7s 144us/step - loss: 0.2536 - acc: 0.9157 - val_loss: 0.3213 - val_acc: 0.9022\n",
            "Epoch 11/25\n",
            "50000/50000 [==============================] - 7s 143us/step - loss: 0.2526 - acc: 0.9158 - val_loss: 0.3176 - val_acc: 0.8923\n",
            "Epoch 12/25\n",
            "50000/50000 [==============================] - 7s 144us/step - loss: 0.2500 - acc: 0.9168 - val_loss: 0.3013 - val_acc: 0.8953\n",
            "Epoch 13/25\n",
            "50000/50000 [==============================] - 7s 143us/step - loss: 0.2515 - acc: 0.9169 - val_loss: 0.3060 - val_acc: 0.9078\n",
            "Epoch 14/25\n",
            "50000/50000 [==============================] - 7s 144us/step - loss: 0.2502 - acc: 0.9158 - val_loss: 0.3311 - val_acc: 0.8883\n",
            "Epoch 15/25\n",
            "50000/50000 [==============================] - 7s 144us/step - loss: 0.2520 - acc: 0.9156 - val_loss: 0.3258 - val_acc: 0.8866\n",
            "Epoch 16/25\n",
            "50000/50000 [==============================] - 7s 145us/step - loss: 0.2478 - acc: 0.9176 - val_loss: 0.2886 - val_acc: 0.9100\n",
            "Epoch 17/25\n",
            "50000/50000 [==============================] - 7s 145us/step - loss: 0.2515 - acc: 0.9173 - val_loss: 0.3168 - val_acc: 0.8998\n",
            "Epoch 18/25\n",
            "50000/50000 [==============================] - 7s 145us/step - loss: 0.2486 - acc: 0.9171 - val_loss: 0.3690 - val_acc: 0.8637\n",
            "Epoch 19/25\n",
            "50000/50000 [==============================] - 7s 144us/step - loss: 0.2484 - acc: 0.9167 - val_loss: 0.2967 - val_acc: 0.9083\n",
            "Epoch 20/25\n",
            "50000/50000 [==============================] - 7s 142us/step - loss: 0.2487 - acc: 0.9149 - val_loss: 0.3604 - val_acc: 0.8788\n",
            "Epoch 21/25\n",
            "50000/50000 [==============================] - 7s 142us/step - loss: 0.2446 - acc: 0.9168 - val_loss: 0.3071 - val_acc: 0.8980\n",
            "Epoch 22/25\n",
            "50000/50000 [==============================] - 7s 141us/step - loss: 0.2480 - acc: 0.9156 - val_loss: 0.3012 - val_acc: 0.9039\n",
            "Epoch 23/25\n",
            "50000/50000 [==============================] - 7s 141us/step - loss: 0.2471 - acc: 0.9172 - val_loss: 0.3637 - val_acc: 0.8741\n",
            "Epoch 24/25\n",
            "50000/50000 [==============================] - 7s 141us/step - loss: 0.2492 - acc: 0.9165 - val_loss: 0.4305 - val_acc: 0.8419\n",
            "Epoch 25/25\n",
            "50000/50000 [==============================] - 7s 141us/step - loss: 0.2531 - acc: 0.9148 - val_loss: 0.4347 - val_acc: 0.9001\n"
          ],
          "name": "stdout"
        },
        {
          "output_type": "execute_result",
          "data": {
            "text/plain": [
              "<keras.callbacks.History at 0x7f497dc07f98>"
            ]
          },
          "metadata": {
            "tags": []
          },
          "execution_count": 68
        }
      ]
    },
    {
      "metadata": {
        "id": "IgwmEwY_ib7r",
        "colab_type": "code",
        "colab": {
          "base_uri": "https://localhost:8080/",
          "height": 34
        },
        "outputId": "45b7d25b-8371-49ec-9cdc-55fa8019413f"
      },
      "cell_type": "code",
      "source": [
        "# evaluation of cnn\n",
        "score = cnn_model.evaluate(x_test_cnn, y_test, verbose = 0)\n",
        "\n",
        "print(\"The accuracy for Simple CNN model is {}%\".format(score[1]*100))"
      ],
      "execution_count": 70,
      "outputs": [
        {
          "output_type": "stream",
          "text": [
            "The accuracy for Simple CNN model is 89.33%\n"
          ],
          "name": "stdout"
        }
      ]
    },
    {
      "metadata": {
        "id": "aPuSzA4hjfXA",
        "colab_type": "code",
        "colab": {}
      },
      "cell_type": "code",
      "source": [
        "y_hat = cnn_model.predict(x_test_cnn)"
      ],
      "execution_count": 0,
      "outputs": []
    },
    {
      "metadata": {
        "id": "sZOCkx8PjPCI",
        "colab_type": "code",
        "colab": {
          "base_uri": "https://localhost:8080/",
          "height": 426
        },
        "outputId": "ce0f599f-eba1-40fa-be60-43ea07eaf97a"
      },
      "cell_type": "code",
      "source": [
        "# visualizing Results\n",
        "fig = plt.figure(figsize=(20,7))\n",
        "for i in range(20):\n",
        "  ax = fig.add_subplot(4, 5, i+1, xticks = [], yticks = [])\n",
        "  ax.imshow(x_train[i])\n",
        "  pred_label = np.argmax(y_hat[i])\n",
        "  true_label = np.argmax(y_train[i])\n",
        "  title = \"{} ({})\".format(labels[pred_label], labels[true_label] )\n",
        "  ax.set_title(title, color = (\"green\" if true_label == pred_label else \"red\"))"
      ],
      "execution_count": 78,
      "outputs": [
        {
          "output_type": "display_data",
          "data": {
            "image/png": "[encoded data removed]",
            "text/plain": [
              "<Figure size 1440x504 with 20 Axes>"
            ]
          },
          "metadata": {
            "tags": []
          }
        }
      ]
    },
    {
      "metadata": {
        "id": "K9y68__hjkEY",
        "colab_type": "code",
        "colab": {}
      },
      "cell_type": "code",
      "source": [
        ""
      ],
      "execution_count": 0,
      "outputs": []
    }
  ]
}