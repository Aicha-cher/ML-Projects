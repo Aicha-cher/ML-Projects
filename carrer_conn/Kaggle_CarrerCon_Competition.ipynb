{
  "nbformat": 4,
  "nbformat_minor": 0,
  "metadata": {
    "colab": {
      "name": "Kaggle CarrerCon Competition.ipynb",
      "version": "0.3.2",
      "provenance": [],
      "collapsed_sections": []
    },
    "kernelspec": {
      "name": "python3",
      "display_name": "Python 3"
    },
    "accelerator": "GPU"
  },
  "cells": [
    {
      "metadata": {
        "id": "fUdavtlVGbJ6",
        "colab_type": "text"
      },
      "cell_type": "markdown",
      "source": [
        "# Career Con Competition\n",
        "Robots are smart… by design. To fully understand and properly navigate a task, however, they need input about their environment.\n",
        "\n",
        "In this competition, you’ll help robots recognize the floor surface they’re standing on using data collected from Inertial Measurement Units (IMU sensors).\n",
        "\n",
        "We’ve collected IMU sensor data while driving a small mobile robot over different floor surfaces on the university premises. The task is to predict which one of the nine floor types (carpet, tiles, concrete) the robot is on using sensor data such as acceleration and velocity. Succeed and you'll help improve the navigation of robots without assistance across many different surfaces, so they won’t fall down on the job."
      ]
    },
    {
      "metadata": {
        "id": "8iFin-bqFApF",
        "colab_type": "code",
        "colab": {}
      },
      "cell_type": "code",
      "source": [
        "import pandas as pd\n",
        "import matplotlib.pyplot as plt\n",
        "import seaborn as sns\n",
        "import numpy as np"
      ],
      "execution_count": 0,
      "outputs": []
    },
    {
      "metadata": {
        "id": "K-oXpspVGqok",
        "colab_type": "code",
        "colab": {}
      },
      "cell_type": "code",
      "source": [
        "dfX = pd.read_csv('X_train.csv')\n",
        "dfY = pd.read_csv('y_train.csv')"
      ],
      "execution_count": 0,
      "outputs": []
    },
    {
      "metadata": {
        "id": "pjo5ebl7HtBt",
        "colab_type": "code",
        "colab": {}
      },
      "cell_type": "code",
      "source": [
        "# constructing the all data dataframe \n",
        "df = pd.merge(dfX, dfY, on='series_id', how='inner')"
      ],
      "execution_count": 0,
      "outputs": []
    },
    {
      "metadata": {
        "id": "pk68fbiWIkey",
        "colab_type": "code",
        "colab": {
          "base_uri": "https://localhost:8080/",
          "height": 119
        },
        "outputId": "dba38687-93d3-4b93-f992-22a850027977"
      },
      "cell_type": "code",
      "source": [
        "df.columns"
      ],
      "execution_count": 15,
      "outputs": [
        {
          "output_type": "execute_result",
          "data": {
            "text/plain": [
              "Index(['row_id', 'series_id', 'measurement_number', 'orientation_X',\n",
              "       'orientation_Y', 'orientation_Z', 'orientation_W', 'angular_velocity_X',\n",
              "       'angular_velocity_Y', 'angular_velocity_Z', 'linear_acceleration_X',\n",
              "       'linear_acceleration_Y', 'linear_acceleration_Z', 'group_id',\n",
              "       'surface'],\n",
              "      dtype='object')"
            ]
          },
          "metadata": {
            "tags": []
          },
          "execution_count": 15
        }
      ]
    },
    {
      "metadata": {
        "id": "wLBHzq3MKXO7",
        "colab_type": "text"
      },
      "cell_type": "markdown",
      "source": [
        "# EDA"
      ]
    },
    {
      "metadata": {
        "id": "lsMafiAWKNrn",
        "colab_type": "code",
        "colab": {
          "base_uri": "https://localhost:8080/",
          "height": 224
        },
        "outputId": "6dffedd7-a03d-4307-9f23-2eb9f03661ea"
      },
      "cell_type": "code",
      "source": [
        "df.head()"
      ],
      "execution_count": 239,
      "outputs": [
        {
          "output_type": "execute_result",
          "data": {
            "text/html": [
              "<div>\n",
              "<style scoped>\n",
              "    .dataframe tbody tr th:only-of-type {\n",
              "        vertical-align: middle;\n",
              "    }\n",
              "\n",
              "    .dataframe tbody tr th {\n",
              "        vertical-align: top;\n",
              "    }\n",
              "\n",
              "    .dataframe thead th {\n",
              "        text-align: right;\n",
              "    }\n",
              "</style>\n",
              "<table border=\"1\" class=\"dataframe\">\n",
              "  <thead>\n",
              "    <tr style=\"text-align: right;\">\n",
              "      <th></th>\n",
              "      <th>row_id</th>\n",
              "      <th>series_id</th>\n",
              "      <th>measurement_number</th>\n",
              "      <th>orientation_X</th>\n",
              "      <th>orientation_Y</th>\n",
              "      <th>orientation_Z</th>\n",
              "      <th>orientation_W</th>\n",
              "      <th>angular_velocity_X</th>\n",
              "      <th>angular_velocity_Y</th>\n",
              "      <th>angular_velocity_Z</th>\n",
              "      <th>linear_acceleration_X</th>\n",
              "      <th>linear_acceleration_Y</th>\n",
              "      <th>linear_acceleration_Z</th>\n",
              "      <th>group_id</th>\n",
              "      <th>surface</th>\n",
              "    </tr>\n",
              "  </thead>\n",
              "  <tbody>\n",
              "    <tr>\n",
              "      <th>0</th>\n",
              "      <td>0_0</td>\n",
              "      <td>0</td>\n",
              "      <td>0</td>\n",
              "      <td>-0.75853</td>\n",
              "      <td>-0.63435</td>\n",
              "      <td>-0.10488</td>\n",
              "      <td>-0.10597</td>\n",
              "      <td>0.107650</td>\n",
              "      <td>0.017561</td>\n",
              "      <td>0.000767</td>\n",
              "      <td>-0.74857</td>\n",
              "      <td>2.1030</td>\n",
              "      <td>-9.7532</td>\n",
              "      <td>13</td>\n",
              "      <td>fine_concrete</td>\n",
              "    </tr>\n",
              "    <tr>\n",
              "      <th>1</th>\n",
              "      <td>0_1</td>\n",
              "      <td>0</td>\n",
              "      <td>1</td>\n",
              "      <td>-0.75853</td>\n",
              "      <td>-0.63434</td>\n",
              "      <td>-0.10490</td>\n",
              "      <td>-0.10600</td>\n",
              "      <td>0.067851</td>\n",
              "      <td>0.029939</td>\n",
              "      <td>0.003385</td>\n",
              "      <td>0.33995</td>\n",
              "      <td>1.5064</td>\n",
              "      <td>-9.4128</td>\n",
              "      <td>13</td>\n",
              "      <td>fine_concrete</td>\n",
              "    </tr>\n",
              "    <tr>\n",
              "      <th>2</th>\n",
              "      <td>0_2</td>\n",
              "      <td>0</td>\n",
              "      <td>2</td>\n",
              "      <td>-0.75853</td>\n",
              "      <td>-0.63435</td>\n",
              "      <td>-0.10492</td>\n",
              "      <td>-0.10597</td>\n",
              "      <td>0.007275</td>\n",
              "      <td>0.028934</td>\n",
              "      <td>-0.005978</td>\n",
              "      <td>-0.26429</td>\n",
              "      <td>1.5922</td>\n",
              "      <td>-8.7267</td>\n",
              "      <td>13</td>\n",
              "      <td>fine_concrete</td>\n",
              "    </tr>\n",
              "    <tr>\n",
              "      <th>3</th>\n",
              "      <td>0_3</td>\n",
              "      <td>0</td>\n",
              "      <td>3</td>\n",
              "      <td>-0.75852</td>\n",
              "      <td>-0.63436</td>\n",
              "      <td>-0.10495</td>\n",
              "      <td>-0.10597</td>\n",
              "      <td>-0.013053</td>\n",
              "      <td>0.019448</td>\n",
              "      <td>-0.008974</td>\n",
              "      <td>0.42684</td>\n",
              "      <td>1.0993</td>\n",
              "      <td>-10.0960</td>\n",
              "      <td>13</td>\n",
              "      <td>fine_concrete</td>\n",
              "    </tr>\n",
              "    <tr>\n",
              "      <th>4</th>\n",
              "      <td>0_4</td>\n",
              "      <td>0</td>\n",
              "      <td>4</td>\n",
              "      <td>-0.75852</td>\n",
              "      <td>-0.63435</td>\n",
              "      <td>-0.10495</td>\n",
              "      <td>-0.10596</td>\n",
              "      <td>0.005135</td>\n",
              "      <td>0.007652</td>\n",
              "      <td>0.005245</td>\n",
              "      <td>-0.50969</td>\n",
              "      <td>1.4689</td>\n",
              "      <td>-10.4410</td>\n",
              "      <td>13</td>\n",
              "      <td>fine_concrete</td>\n",
              "    </tr>\n",
              "  </tbody>\n",
              "</table>\n",
              "</div>"
            ],
            "text/plain": [
              "  row_id  series_id  measurement_number  orientation_X  orientation_Y  \\\n",
              "0    0_0          0                   0       -0.75853       -0.63435   \n",
              "1    0_1          0                   1       -0.75853       -0.63434   \n",
              "2    0_2          0                   2       -0.75853       -0.63435   \n",
              "3    0_3          0                   3       -0.75852       -0.63436   \n",
              "4    0_4          0                   4       -0.75852       -0.63435   \n",
              "\n",
              "   orientation_Z  orientation_W  angular_velocity_X  angular_velocity_Y  \\\n",
              "0       -0.10488       -0.10597            0.107650            0.017561   \n",
              "1       -0.10490       -0.10600            0.067851            0.029939   \n",
              "2       -0.10492       -0.10597            0.007275            0.028934   \n",
              "3       -0.10495       -0.10597           -0.013053            0.019448   \n",
              "4       -0.10495       -0.10596            0.005135            0.007652   \n",
              "\n",
              "   angular_velocity_Z  linear_acceleration_X  linear_acceleration_Y  \\\n",
              "0            0.000767               -0.74857                 2.1030   \n",
              "1            0.003385                0.33995                 1.5064   \n",
              "2           -0.005978               -0.26429                 1.5922   \n",
              "3           -0.008974                0.42684                 1.0993   \n",
              "4            0.005245               -0.50969                 1.4689   \n",
              "\n",
              "   linear_acceleration_Z  group_id        surface  \n",
              "0                -9.7532        13  fine_concrete  \n",
              "1                -9.4128        13  fine_concrete  \n",
              "2                -8.7267        13  fine_concrete  \n",
              "3               -10.0960        13  fine_concrete  \n",
              "4               -10.4410        13  fine_concrete  "
            ]
          },
          "metadata": {
            "tags": []
          },
          "execution_count": 239
        }
      ]
    },
    {
      "metadata": {
        "id": "hzNWV16c4aXU",
        "colab_type": "code",
        "colab": {}
      },
      "cell_type": "code",
      "source": [
        "df_new = df.groupby('series_id').first()"
      ],
      "execution_count": 0,
      "outputs": []
    },
    {
      "metadata": {
        "id": "eLpJtgu64rcK",
        "colab_type": "code",
        "colab": {
          "base_uri": "https://localhost:8080/",
          "height": 255
        },
        "outputId": "3d55f35e-6333-483c-e96d-189a6f744004"
      },
      "cell_type": "code",
      "source": [
        "df_new.head()"
      ],
      "execution_count": 250,
      "outputs": [
        {
          "output_type": "execute_result",
          "data": {
            "text/html": [
              "<div>\n",
              "<style scoped>\n",
              "    .dataframe tbody tr th:only-of-type {\n",
              "        vertical-align: middle;\n",
              "    }\n",
              "\n",
              "    .dataframe tbody tr th {\n",
              "        vertical-align: top;\n",
              "    }\n",
              "\n",
              "    .dataframe thead th {\n",
              "        text-align: right;\n",
              "    }\n",
              "</style>\n",
              "<table border=\"1\" class=\"dataframe\">\n",
              "  <thead>\n",
              "    <tr style=\"text-align: right;\">\n",
              "      <th></th>\n",
              "      <th>row_id</th>\n",
              "      <th>measurement_number</th>\n",
              "      <th>orientation_X</th>\n",
              "      <th>orientation_Y</th>\n",
              "      <th>orientation_Z</th>\n",
              "      <th>orientation_W</th>\n",
              "      <th>angular_velocity_X</th>\n",
              "      <th>angular_velocity_Y</th>\n",
              "      <th>angular_velocity_Z</th>\n",
              "      <th>linear_acceleration_X</th>\n",
              "      <th>linear_acceleration_Y</th>\n",
              "      <th>linear_acceleration_Z</th>\n",
              "      <th>group_id</th>\n",
              "      <th>surface</th>\n",
              "    </tr>\n",
              "    <tr>\n",
              "      <th>series_id</th>\n",
              "      <th></th>\n",
              "      <th></th>\n",
              "      <th></th>\n",
              "      <th></th>\n",
              "      <th></th>\n",
              "      <th></th>\n",
              "      <th></th>\n",
              "      <th></th>\n",
              "      <th></th>\n",
              "      <th></th>\n",
              "      <th></th>\n",
              "      <th></th>\n",
              "      <th></th>\n",
              "      <th></th>\n",
              "    </tr>\n",
              "  </thead>\n",
              "  <tbody>\n",
              "    <tr>\n",
              "      <th>0</th>\n",
              "      <td>0_0</td>\n",
              "      <td>0</td>\n",
              "      <td>-0.75853</td>\n",
              "      <td>-0.63435</td>\n",
              "      <td>-0.104880</td>\n",
              "      <td>-0.105970</td>\n",
              "      <td>0.107650</td>\n",
              "      <td>0.017561</td>\n",
              "      <td>0.000767</td>\n",
              "      <td>-0.74857</td>\n",
              "      <td>2.1030</td>\n",
              "      <td>-9.7532</td>\n",
              "      <td>13</td>\n",
              "      <td>fine_concrete</td>\n",
              "    </tr>\n",
              "    <tr>\n",
              "      <th>1</th>\n",
              "      <td>1_0</td>\n",
              "      <td>0</td>\n",
              "      <td>-0.95896</td>\n",
              "      <td>0.24074</td>\n",
              "      <td>0.030758</td>\n",
              "      <td>-0.146610</td>\n",
              "      <td>0.283420</td>\n",
              "      <td>0.002192</td>\n",
              "      <td>-0.050810</td>\n",
              "      <td>2.18480</td>\n",
              "      <td>2.2526</td>\n",
              "      <td>-8.9503</td>\n",
              "      <td>31</td>\n",
              "      <td>concrete</td>\n",
              "    </tr>\n",
              "    <tr>\n",
              "      <th>2</th>\n",
              "      <td>2_0</td>\n",
              "      <td>0</td>\n",
              "      <td>-0.50944</td>\n",
              "      <td>-0.84779</td>\n",
              "      <td>-0.129460</td>\n",
              "      <td>-0.070378</td>\n",
              "      <td>-0.006752</td>\n",
              "      <td>-0.026183</td>\n",
              "      <td>0.088730</td>\n",
              "      <td>0.39932</td>\n",
              "      <td>3.6066</td>\n",
              "      <td>-5.7442</td>\n",
              "      <td>20</td>\n",
              "      <td>concrete</td>\n",
              "    </tr>\n",
              "    <tr>\n",
              "      <th>3</th>\n",
              "      <td>3_0</td>\n",
              "      <td>0</td>\n",
              "      <td>-0.93940</td>\n",
              "      <td>0.31003</td>\n",
              "      <td>0.038299</td>\n",
              "      <td>-0.141230</td>\n",
              "      <td>-0.326890</td>\n",
              "      <td>0.070941</td>\n",
              "      <td>-0.065173</td>\n",
              "      <td>0.60248</td>\n",
              "      <td>1.7016</td>\n",
              "      <td>-7.1944</td>\n",
              "      <td>31</td>\n",
              "      <td>concrete</td>\n",
              "    </tr>\n",
              "    <tr>\n",
              "      <th>4</th>\n",
              "      <td>4_0</td>\n",
              "      <td>0</td>\n",
              "      <td>-0.88673</td>\n",
              "      <td>0.43740</td>\n",
              "      <td>0.061771</td>\n",
              "      <td>-0.136300</td>\n",
              "      <td>0.025631</td>\n",
              "      <td>0.048867</td>\n",
              "      <td>-0.122520</td>\n",
              "      <td>-0.13289</td>\n",
              "      <td>3.1301</td>\n",
              "      <td>-9.8091</td>\n",
              "      <td>22</td>\n",
              "      <td>soft_tiles</td>\n",
              "    </tr>\n",
              "  </tbody>\n",
              "</table>\n",
              "</div>"
            ],
            "text/plain": [
              "          row_id  measurement_number  orientation_X  orientation_Y  \\\n",
              "series_id                                                            \n",
              "0            0_0                   0       -0.75853       -0.63435   \n",
              "1            1_0                   0       -0.95896        0.24074   \n",
              "2            2_0                   0       -0.50944       -0.84779   \n",
              "3            3_0                   0       -0.93940        0.31003   \n",
              "4            4_0                   0       -0.88673        0.43740   \n",
              "\n",
              "           orientation_Z  orientation_W  angular_velocity_X  \\\n",
              "series_id                                                     \n",
              "0              -0.104880      -0.105970            0.107650   \n",
              "1               0.030758      -0.146610            0.283420   \n",
              "2              -0.129460      -0.070378           -0.006752   \n",
              "3               0.038299      -0.141230           -0.326890   \n",
              "4               0.061771      -0.136300            0.025631   \n",
              "\n",
              "           angular_velocity_Y  angular_velocity_Z  linear_acceleration_X  \\\n",
              "series_id                                                                  \n",
              "0                    0.017561            0.000767               -0.74857   \n",
              "1                    0.002192           -0.050810                2.18480   \n",
              "2                   -0.026183            0.088730                0.39932   \n",
              "3                    0.070941           -0.065173                0.60248   \n",
              "4                    0.048867           -0.122520               -0.13289   \n",
              "\n",
              "           linear_acceleration_Y  linear_acceleration_Z  group_id  \\\n",
              "series_id                                                           \n",
              "0                         2.1030                -9.7532        13   \n",
              "1                         2.2526                -8.9503        31   \n",
              "2                         3.6066                -5.7442        20   \n",
              "3                         1.7016                -7.1944        31   \n",
              "4                         3.1301                -9.8091        22   \n",
              "\n",
              "                 surface  \n",
              "series_id                 \n",
              "0          fine_concrete  \n",
              "1               concrete  \n",
              "2               concrete  \n",
              "3               concrete  \n",
              "4             soft_tiles  "
            ]
          },
          "metadata": {
            "tags": []
          },
          "execution_count": 250
        }
      ]
    },
    {
      "metadata": {
        "id": "mFrAGbUvKbsA",
        "colab_type": "code",
        "colab": {}
      },
      "cell_type": "code",
      "source": [
        "# data for EDA\n",
        "df_vis = df_new.drop(['row_id', 'group_id', 'measurement_number'], axis = 1)"
      ],
      "execution_count": 0,
      "outputs": []
    },
    {
      "metadata": {
        "id": "fTq9UCnt4qVG",
        "colab_type": "code",
        "colab": {}
      },
      "cell_type": "code",
      "source": [
        ""
      ],
      "execution_count": 0,
      "outputs": []
    },
    {
      "metadata": {
        "id": "uJfEQ7hqP8mr",
        "colab_type": "code",
        "colab": {
          "base_uri": "https://localhost:8080/",
          "height": 34
        },
        "outputId": "355dc411-3b12-4552-bd7f-208dd21dc194"
      },
      "cell_type": "code",
      "source": [
        "df_vis.shape"
      ],
      "execution_count": 252,
      "outputs": [
        {
          "output_type": "execute_result",
          "data": {
            "text/plain": [
              "(493, 11)"
            ]
          },
          "metadata": {
            "tags": []
          },
          "execution_count": 252
        }
      ]
    },
    {
      "metadata": {
        "id": "a8jo9DoeKuKs",
        "colab_type": "code",
        "colab": {
          "base_uri": "https://localhost:8080/",
          "height": 317
        },
        "outputId": "9a257d06-f629-4d52-f0da-e68a302644cb"
      },
      "cell_type": "code",
      "source": [
        "df_vis.describe()"
      ],
      "execution_count": 253,
      "outputs": [
        {
          "output_type": "execute_result",
          "data": {
            "text/html": [
              "<div>\n",
              "<style scoped>\n",
              "    .dataframe tbody tr th:only-of-type {\n",
              "        vertical-align: middle;\n",
              "    }\n",
              "\n",
              "    .dataframe tbody tr th {\n",
              "        vertical-align: top;\n",
              "    }\n",
              "\n",
              "    .dataframe thead th {\n",
              "        text-align: right;\n",
              "    }\n",
              "</style>\n",
              "<table border=\"1\" class=\"dataframe\">\n",
              "  <thead>\n",
              "    <tr style=\"text-align: right;\">\n",
              "      <th></th>\n",
              "      <th>orientation_X</th>\n",
              "      <th>orientation_Y</th>\n",
              "      <th>orientation_Z</th>\n",
              "      <th>orientation_W</th>\n",
              "      <th>angular_velocity_X</th>\n",
              "      <th>angular_velocity_Y</th>\n",
              "      <th>angular_velocity_Z</th>\n",
              "      <th>linear_acceleration_X</th>\n",
              "      <th>linear_acceleration_Y</th>\n",
              "      <th>linear_acceleration_Z</th>\n",
              "    </tr>\n",
              "  </thead>\n",
              "  <tbody>\n",
              "    <tr>\n",
              "      <th>count</th>\n",
              "      <td>493.000000</td>\n",
              "      <td>493.000000</td>\n",
              "      <td>493.000000</td>\n",
              "      <td>493.000000</td>\n",
              "      <td>493.000000</td>\n",
              "      <td>493.000000</td>\n",
              "      <td>493.000000</td>\n",
              "      <td>493.000000</td>\n",
              "      <td>493.000000</td>\n",
              "      <td>493.000000</td>\n",
              "    </tr>\n",
              "    <tr>\n",
              "      <th>mean</th>\n",
              "      <td>0.043555</td>\n",
              "      <td>-0.170943</td>\n",
              "      <td>-0.025637</td>\n",
              "      <td>0.007969</td>\n",
              "      <td>0.002127</td>\n",
              "      <td>0.008061</td>\n",
              "      <td>-0.022641</td>\n",
              "      <td>0.138711</td>\n",
              "      <td>3.011185</td>\n",
              "      <td>-9.334735</td>\n",
              "    </tr>\n",
              "    <tr>\n",
              "      <th>std</th>\n",
              "      <td>0.682339</td>\n",
              "      <td>0.694728</td>\n",
              "      <td>0.104874</td>\n",
              "      <td>0.104384</td>\n",
              "      <td>0.095892</td>\n",
              "      <td>0.071476</td>\n",
              "      <td>0.171411</td>\n",
              "      <td>1.413394</td>\n",
              "      <td>1.821762</td>\n",
              "      <td>2.109601</td>\n",
              "    </tr>\n",
              "    <tr>\n",
              "      <th>min</th>\n",
              "      <td>-0.988450</td>\n",
              "      <td>-0.989300</td>\n",
              "      <td>-0.158070</td>\n",
              "      <td>-0.151950</td>\n",
              "      <td>-0.442770</td>\n",
              "      <td>-0.377400</td>\n",
              "      <td>-0.754350</td>\n",
              "      <td>-7.402400</td>\n",
              "      <td>-7.190500</td>\n",
              "      <td>-20.739000</td>\n",
              "    </tr>\n",
              "    <tr>\n",
              "      <th>25%</th>\n",
              "      <td>-0.660150</td>\n",
              "      <td>-0.857790</td>\n",
              "      <td>-0.127250</td>\n",
              "      <td>-0.097309</td>\n",
              "      <td>-0.028546</td>\n",
              "      <td>-0.021975</td>\n",
              "      <td>-0.076421</td>\n",
              "      <td>-0.407410</td>\n",
              "      <td>2.170300</td>\n",
              "      <td>-10.052000</td>\n",
              "    </tr>\n",
              "    <tr>\n",
              "      <th>50%</th>\n",
              "      <td>0.103300</td>\n",
              "      <td>-0.419610</td>\n",
              "      <td>-0.057206</td>\n",
              "      <td>0.010784</td>\n",
              "      <td>0.001676</td>\n",
              "      <td>0.005123</td>\n",
              "      <td>-0.002047</td>\n",
              "      <td>0.136700</td>\n",
              "      <td>2.927900</td>\n",
              "      <td>-9.388400</td>\n",
              "    </tr>\n",
              "    <tr>\n",
              "      <th>75%</th>\n",
              "      <td>0.801720</td>\n",
              "      <td>0.438680</td>\n",
              "      <td>0.061283</td>\n",
              "      <td>0.122670</td>\n",
              "      <td>0.035238</td>\n",
              "      <td>0.043035</td>\n",
              "      <td>0.050364</td>\n",
              "      <td>0.602480</td>\n",
              "      <td>3.784800</td>\n",
              "      <td>-8.842700</td>\n",
              "    </tr>\n",
              "    <tr>\n",
              "      <th>max</th>\n",
              "      <td>0.989100</td>\n",
              "      <td>0.988440</td>\n",
              "      <td>0.152830</td>\n",
              "      <td>0.149670</td>\n",
              "      <td>0.428650</td>\n",
              "      <td>0.253150</td>\n",
              "      <td>0.652550</td>\n",
              "      <td>5.961300</td>\n",
              "      <td>12.558000</td>\n",
              "      <td>2.113900</td>\n",
              "    </tr>\n",
              "  </tbody>\n",
              "</table>\n",
              "</div>"
            ],
            "text/plain": [
              "       orientation_X  orientation_Y  orientation_Z  orientation_W  \\\n",
              "count     493.000000     493.000000     493.000000     493.000000   \n",
              "mean        0.043555      -0.170943      -0.025637       0.007969   \n",
              "std         0.682339       0.694728       0.104874       0.104384   \n",
              "min        -0.988450      -0.989300      -0.158070      -0.151950   \n",
              "25%        -0.660150      -0.857790      -0.127250      -0.097309   \n",
              "50%         0.103300      -0.419610      -0.057206       0.010784   \n",
              "75%         0.801720       0.438680       0.061283       0.122670   \n",
              "max         0.989100       0.988440       0.152830       0.149670   \n",
              "\n",
              "       angular_velocity_X  angular_velocity_Y  angular_velocity_Z  \\\n",
              "count          493.000000          493.000000          493.000000   \n",
              "mean             0.002127            0.008061           -0.022641   \n",
              "std              0.095892            0.071476            0.171411   \n",
              "min             -0.442770           -0.377400           -0.754350   \n",
              "25%             -0.028546           -0.021975           -0.076421   \n",
              "50%              0.001676            0.005123           -0.002047   \n",
              "75%              0.035238            0.043035            0.050364   \n",
              "max              0.428650            0.253150            0.652550   \n",
              "\n",
              "       linear_acceleration_X  linear_acceleration_Y  linear_acceleration_Z  \n",
              "count             493.000000             493.000000             493.000000  \n",
              "mean                0.138711               3.011185              -9.334735  \n",
              "std                 1.413394               1.821762               2.109601  \n",
              "min                -7.402400              -7.190500             -20.739000  \n",
              "25%                -0.407410               2.170300             -10.052000  \n",
              "50%                 0.136700               2.927900              -9.388400  \n",
              "75%                 0.602480               3.784800              -8.842700  \n",
              "max                 5.961300              12.558000               2.113900  "
            ]
          },
          "metadata": {
            "tags": []
          },
          "execution_count": 253
        }
      ]
    },
    {
      "metadata": {
        "id": "fw5-RSBwK2Se",
        "colab_type": "code",
        "colab": {
          "base_uri": "https://localhost:8080/",
          "height": 289
        },
        "outputId": "5d7e0d37-c7dc-48b6-c098-9a5a76e2db3a"
      },
      "cell_type": "code",
      "source": [
        "df_vis.info()"
      ],
      "execution_count": 254,
      "outputs": [
        {
          "output_type": "stream",
          "text": [
            "<class 'pandas.core.frame.DataFrame'>\n",
            "Int64Index: 493 entries, 0 to 492\n",
            "Data columns (total 11 columns):\n",
            "orientation_X            493 non-null float64\n",
            "orientation_Y            493 non-null float64\n",
            "orientation_Z            493 non-null float64\n",
            "orientation_W            493 non-null float64\n",
            "angular_velocity_X       493 non-null float64\n",
            "angular_velocity_Y       493 non-null float64\n",
            "angular_velocity_Z       493 non-null float64\n",
            "linear_acceleration_X    493 non-null float64\n",
            "linear_acceleration_Y    493 non-null float64\n",
            "linear_acceleration_Z    493 non-null float64\n",
            "surface                  493 non-null object\n",
            "dtypes: float64(10), object(1)\n",
            "memory usage: 46.2+ KB\n"
          ],
          "name": "stdout"
        }
      ]
    },
    {
      "metadata": {
        "id": "404OGk79K5UR",
        "colab_type": "code",
        "colab": {
          "base_uri": "https://localhost:8080/",
          "height": 51
        },
        "outputId": "57e4ef56-791f-4d6a-80c4-c0affe81a153"
      },
      "cell_type": "code",
      "source": [
        "labels = df_vis['surface'].unique()\n",
        "print(labels)"
      ],
      "execution_count": 255,
      "outputs": [
        {
          "output_type": "stream",
          "text": [
            "['fine_concrete' 'concrete' 'soft_tiles' 'tiled' 'soft_pvc'\n",
            " 'hard_tiles_large_space' 'carpet' 'hard_tiles' 'wood']\n"
          ],
          "name": "stdout"
        }
      ]
    },
    {
      "metadata": {
        "id": "PVxNfl5NLhfm",
        "colab_type": "code",
        "colab": {}
      },
      "cell_type": "code",
      "source": [
        "# searching for missing data\n",
        "df_vis.isnull().sum()"
      ],
      "execution_count": 0,
      "outputs": []
    },
    {
      "metadata": {
        "id": "Bi-ZqIlpMh52",
        "colab_type": "code",
        "colab": {}
      },
      "cell_type": "code",
      "source": [
        "index_missing = df_vis.isnull().any(axis=1).values.argmax()"
      ],
      "execution_count": 0,
      "outputs": []
    },
    {
      "metadata": {
        "id": "efMmN6B9Oh3F",
        "colab_type": "code",
        "colab": {}
      },
      "cell_type": "code",
      "source": [
        "df_vis = df_vis.drop([index_missing], axis = 0)"
      ],
      "execution_count": 0,
      "outputs": []
    },
    {
      "metadata": {
        "id": "qKlXIX4EPQcB",
        "colab_type": "code",
        "colab": {}
      },
      "cell_type": "code",
      "source": [
        "# confirming the result\n",
        "df_vis.isnull().sum()"
      ],
      "execution_count": 0,
      "outputs": []
    },
    {
      "metadata": {
        "id": "JrZGPybOPSAt",
        "colab_type": "code",
        "colab": {
          "base_uri": "https://localhost:8080/",
          "height": 657
        },
        "outputId": "31356ade-8fdf-49c7-a101-0e2f419a0dea"
      },
      "cell_type": "code",
      "source": [
        "plt.figure(figsize = (15,10))\n",
        "sns.countplot(x= 'surface', data = df_vis)"
      ],
      "execution_count": 257,
      "outputs": [
        {
          "output_type": "stream",
          "text": [
            "/usr/local/lib/python3.6/dist-packages/seaborn/categorical.py:1428: FutureWarning: remove_na is deprecated and is a private function. Do not use.\n",
            "  stat_data = remove_na(group_data)\n"
          ],
          "name": "stderr"
        },
        {
          "output_type": "execute_result",
          "data": {
            "text/plain": [
              "<matplotlib.axes._subplots.AxesSubplot at 0x7fe96991c080>"
            ]
          },
          "metadata": {
            "tags": []
          },
          "execution_count": 257
        },
        {
          "output_type": "display_data",
          "data": {
            "image/png": "[encoded data removed]",
            "text/plain": [
              "<Figure size 1080x720 with 1 Axes>"
            ]
          },
          "metadata": {
            "tags": []
          }
        }
      ]
    },
    {
      "metadata": {
        "id": "J9QAVQpdPeVq",
        "colab_type": "code",
        "colab": {
          "base_uri": "https://localhost:8080/",
          "height": 1041
        },
        "outputId": "9e50f769-812b-4670-e52e-23c547645f60"
      },
      "cell_type": "code",
      "source": [
        "# ploting distribution\n",
        "fig = plt.figure(figsize = (18,18))\n",
        "for i in range(10):\n",
        "  ax = fig.add_subplot(5, 2, i+1)\n",
        "  ax.set_title(df_vis.columns[i])\n",
        "  ax.hist(df_vis.iloc[:,i])"
      ],
      "execution_count": 258,
      "outputs": [
        {
          "output_type": "display_data",
          "data": {
            "image/png": "[encoded data removed]",
            "text/plain": [
              "<Figure size 1296x1296 with 10 Axes>"
            ]
          },
          "metadata": {
            "tags": []
          }
        }
      ]
    },
    {
      "metadata": {
        "id": "8gkZPCI6QmMr",
        "colab_type": "code",
        "colab": {}
      },
      "cell_type": "code",
      "source": [
        "# try to see the correlation\n",
        "df_vis.corrwith(df_vis.surface).plot.bar(figsize = (20,10), grid = True, title = 'Correlation with Surface Variable')"
      ],
      "execution_count": 0,
      "outputs": []
    },
    {
      "metadata": {
        "id": "LMYdkvK8SuSd",
        "colab_type": "code",
        "colab": {}
      },
      "cell_type": "code",
      "source": [
        "correlations = df_vis.corr()"
      ],
      "execution_count": 0,
      "outputs": []
    },
    {
      "metadata": {
        "id": "-Sz-TKtaS9dP",
        "colab_type": "code",
        "colab": {
          "base_uri": "https://localhost:8080/",
          "height": 955
        },
        "outputId": "c96d6ad6-e354-4e37-9559-72786a51b5f3"
      },
      "cell_type": "code",
      "source": [
        "plt.figure(figsize = (18,15))\n",
        "sns.heatmap(correlations, vmax=.3, center=0,\n",
        "            square=True, linewidths=.5, cbar_kws={\"shrink\": .5}, annot = True)"
      ],
      "execution_count": 261,
      "outputs": [
        {
          "output_type": "execute_result",
          "data": {
            "text/plain": [
              "<matplotlib.axes._subplots.AxesSubplot at 0x7fe9699295f8>"
            ]
          },
          "metadata": {
            "tags": []
          },
          "execution_count": 261
        },
        {
          "output_type": "display_data",
          "data": {
            "image/png": "[encoded data removed]",
            "text/plain": [
              "<Figure size 1296x1080 with 2 Axes>"
            ]
          },
          "metadata": {
            "tags": []
          }
        }
      ]
    },
    {
      "metadata": {
        "id": "oStKUUz4T3iH",
        "colab_type": "code",
        "colab": {}
      },
      "cell_type": "code",
      "source": [
        ""
      ],
      "execution_count": 0,
      "outputs": []
    },
    {
      "metadata": {
        "id": "xrE1BgHjWm05",
        "colab_type": "text"
      },
      "cell_type": "markdown",
      "source": [
        "## Data preprocessing"
      ]
    },
    {
      "metadata": {
        "id": "0P4PMw6sWojg",
        "colab_type": "code",
        "colab": {}
      },
      "cell_type": "code",
      "source": [
        "X = df_vis.iloc[:, :-1]\n",
        "y = df_vis.iloc[:, -1]"
      ],
      "execution_count": 0,
      "outputs": []
    },
    {
      "metadata": {
        "id": "J4rWtDUDXMkK",
        "colab_type": "code",
        "colab": {}
      },
      "cell_type": "code",
      "source": [
        "from sklearn.preprocessing import LabelEncoder\n",
        "encoder = LabelEncoder()\n",
        "y = encoder.fit_transform(y)"
      ],
      "execution_count": 0,
      "outputs": []
    },
    {
      "metadata": {
        "id": "O-ZicYSjXc_6",
        "colab_type": "code",
        "colab": {}
      },
      "cell_type": "code",
      "source": [
        "from sklearn.model_selection import train_test_split\n",
        "x_train, x_test, y_train, y_test = train_test_split(X, y, test_size = 0.3, shuffle = True)"
      ],
      "execution_count": 0,
      "outputs": []
    },
    {
      "metadata": {
        "id": "HbpATo76Xecc",
        "colab_type": "code",
        "colab": {
          "base_uri": "https://localhost:8080/",
          "height": 34
        },
        "outputId": "26b48f1d-eea2-4916-faf2-97e9a6ea1464"
      },
      "cell_type": "code",
      "source": [
        "x_train.shape"
      ],
      "execution_count": 265,
      "outputs": [
        {
          "output_type": "execute_result",
          "data": {
            "text/plain": [
              "(345, 10)"
            ]
          },
          "metadata": {
            "tags": []
          },
          "execution_count": 265
        }
      ]
    },
    {
      "metadata": {
        "id": "vDuPrRN1YhG7",
        "colab_type": "code",
        "colab": {}
      },
      "cell_type": "code",
      "source": [
        "# scaling data\n",
        "from sklearn.preprocessing import StandardScaler\n",
        "std = StandardScaler()\n",
        "x_train = std.fit_transform(x_train)\n",
        "x_test = std.transform(x_test)"
      ],
      "execution_count": 0,
      "outputs": []
    },
    {
      "metadata": {
        "id": "lKTWrGOhZQZk",
        "colab_type": "code",
        "colab": {
          "base_uri": "https://localhost:8080/",
          "height": 71
        },
        "outputId": "c3f81e91-e6d8-4b83-9ace-c5e718e88de3"
      },
      "cell_type": "code",
      "source": [
        "# do some features importance with random_forest\n",
        "from sklearn.ensemble import RandomForestClassifier\n",
        "rfc = RandomForestClassifier(n_estimators = 100)\n",
        "names = df_vis.columns.values\n",
        "# Fit the model\n",
        "rfc.fit(X, y)\n",
        "\n",
        "# Print the results\n",
        "print(\"Features sorted by their score:\")\n",
        "print(sorted(zip(map(lambda x: round(x, 4), rfc.feature_importances_), names), reverse=True))"
      ],
      "execution_count": 267,
      "outputs": [
        {
          "output_type": "stream",
          "text": [
            "Features sorted by their score:\n",
            "[(0.1838, 'orientation_W'), (0.1786, 'orientation_Y'), (0.1783, 'orientation_X'), (0.1452, 'orientation_Z'), (0.0637, 'angular_velocity_Y'), (0.0616, 'angular_velocity_Z'), (0.0587, 'linear_acceleration_Z'), (0.0453, 'linear_acceleration_Y'), (0.0443, 'angular_velocity_X'), (0.0405, 'linear_acceleration_X')]\n"
          ],
          "name": "stdout"
        }
      ]
    },
    {
      "metadata": {
        "id": "RRBOif94aL33",
        "colab_type": "code",
        "colab": {
          "base_uri": "https://localhost:8080/",
          "height": 376
        },
        "outputId": "17f94d60-e4b3-489d-dc6e-e075a77b2681"
      },
      "cell_type": "code",
      "source": [
        "importance = rfc.feature_importances_\n",
        "\n",
        "# Sort the feature importances \n",
        "sorted_importances = np.argsort(importance)\n",
        "\n",
        "# Insert padding\n",
        "padding = np.arange(len(names)-1) + 0.5\n",
        "\n",
        "# Plot the data\n",
        "plt.barh(padding, importance[sorted_importances], align='center')\n",
        "\n",
        "# Customize the plot\n",
        "plt.yticks(padding, names[sorted_importances])\n",
        "plt.xlabel(\"Relative Importance\")\n",
        "plt.title(\"Variable Importance\")\n",
        "plt.show()"
      ],
      "execution_count": 268,
      "outputs": [
        {
          "output_type": "display_data",
          "data": {
            "image/png": "[encoded data removed]",
            "text/plain": [
              "<Figure size 576x396 with 1 Axes>"
            ]
          },
          "metadata": {
            "tags": []
          }
        }
      ]
    },
    {
      "metadata": {
        "id": "jY5pU8Rxazny",
        "colab_type": "code",
        "colab": {
          "base_uri": "https://localhost:8080/",
          "height": 34
        },
        "outputId": "e7dca73d-2e41-4d79-ce34-2c3804f713c5"
      },
      "cell_type": "code",
      "source": [
        "x_train.shape"
      ],
      "execution_count": 155,
      "outputs": [
        {
          "output_type": "execute_result",
          "data": {
            "text/plain": [
              "(44165, 10)"
            ]
          },
          "metadata": {
            "tags": []
          },
          "execution_count": 155
        }
      ]
    },
    {
      "metadata": {
        "id": "y4NfaODDbkNY",
        "colab_type": "text"
      },
      "cell_type": "markdown",
      "source": [
        "# Models Building"
      ]
    },
    {
      "metadata": {
        "id": "L_-0ac2HbmG7",
        "colab_type": "code",
        "colab": {
          "base_uri": "https://localhost:8080/",
          "height": 34
        },
        "outputId": "5362438b-b3ea-4b29-b11b-aa0bfd35622a"
      },
      "cell_type": "code",
      "source": [
        "# making evaluation\n",
        "plt.figure(figsize = (10,10))\n",
        "from sklearn.metrics import accuracy_score, f1_score, confusion_matrix\n",
        "def evaluate(clf):\n",
        "    y_pred = clf.predict(x_test)\n",
        "    accuracy = accuracy_score(y_test, y_pred)\n",
        "    f1 = f1_score(y_test, y_pred, average = 'weighted')\n",
        "    cm = confusion_matrix(y_test, y_pred)\n",
        "    print(\"The Scores for {} are: Accuracy of {}, F1 of {} and CM\".format(type(clf).__name__, accuracy, f1))\n",
        "    sns.heatmap(cm, annot = True , fmt='g')"
      ],
      "execution_count": 269,
      "outputs": [
        {
          "output_type": "display_data",
          "data": {
            "text/plain": [
              "<Figure size 720x720 with 0 Axes>"
            ]
          },
          "metadata": {
            "tags": []
          }
        }
      ]
    },
    {
      "metadata": {
        "id": "Guf2l_WFbrD-",
        "colab_type": "code",
        "colab": {
          "base_uri": "https://localhost:8080/",
          "height": 85
        },
        "outputId": "ec4b2c62-a375-47f9-e492-8202bda2f122"
      },
      "cell_type": "code",
      "source": [
        "from sklearn.linear_model import LogisticRegression\n",
        "clf_lr = LogisticRegression(solver = 'lbfgs', multi_class = 'auto', max_iter = 200)\n",
        "clf_lr.fit(x_train, y_train)"
      ],
      "execution_count": 270,
      "outputs": [
        {
          "output_type": "execute_result",
          "data": {
            "text/plain": [
              "LogisticRegression(C=1.0, class_weight=None, dual=False, fit_intercept=True,\n",
              "          intercept_scaling=1, max_iter=200, multi_class='auto',\n",
              "          n_jobs=None, penalty='l2', random_state=None, solver='lbfgs',\n",
              "          tol=0.0001, verbose=0, warm_start=False)"
            ]
          },
          "metadata": {
            "tags": []
          },
          "execution_count": 270
        }
      ]
    },
    {
      "metadata": {
        "id": "-WUU9cgabvUe",
        "colab_type": "code",
        "colab": {
          "base_uri": "https://localhost:8080/",
          "height": 418
        },
        "outputId": "baa76d88-f681-42b3-8d28-115639852ccf"
      },
      "cell_type": "code",
      "source": [
        "evaluate(clf_lr)"
      ],
      "execution_count": 271,
      "outputs": [
        {
          "output_type": "stream",
          "text": [
            "/usr/local/lib/python3.6/dist-packages/sklearn/metrics/classification.py:1143: UndefinedMetricWarning: F-score is ill-defined and being set to 0.0 in labels with no predicted samples.\n",
            "  'precision', 'predicted', average, warn_for)\n"
          ],
          "name": "stderr"
        },
        {
          "output_type": "stream",
          "text": [
            "The Scores for LogisticRegression are: Accuracy of 0.41216216216216217, F1 of 0.3956978381565034 and CM\n"
          ],
          "name": "stdout"
        },
        {
          "output_type": "display_data",
          "data": {
            "image/png": "[encoded data removed]",
            "text/plain": [
              "<Figure size 576x396 with 2 Axes>"
            ]
          },
          "metadata": {
            "tags": []
          }
        }
      ]
    },
    {
      "metadata": {
        "id": "C6phBvFqcY-E",
        "colab_type": "code",
        "colab": {
          "base_uri": "https://localhost:8080/",
          "height": 85
        },
        "outputId": "db7e52ca-24c5-4ca3-f206-f42e28c8670e"
      },
      "cell_type": "code",
      "source": [
        "from sklearn.svm import SVC\n",
        "clf_svm = SVC()\n",
        "clf_svm.fit(x_train,y_train)"
      ],
      "execution_count": 272,
      "outputs": [
        {
          "output_type": "execute_result",
          "data": {
            "text/plain": [
              "SVC(C=1.0, cache_size=200, class_weight=None, coef0=0.0,\n",
              "  decision_function_shape='ovr', degree=3, gamma='auto_deprecated',\n",
              "  kernel='rbf', max_iter=-1, probability=False, random_state=None,\n",
              "  shrinking=True, tol=0.001, verbose=False)"
            ]
          },
          "metadata": {
            "tags": []
          },
          "execution_count": 272
        }
      ]
    },
    {
      "metadata": {
        "id": "po9ecZYWdRQ4",
        "colab_type": "code",
        "colab": {
          "base_uri": "https://localhost:8080/",
          "height": 422
        },
        "outputId": "24c21834-7bbd-4704-b9a6-07835f795bb4"
      },
      "cell_type": "code",
      "source": [
        "evaluate(clf_svm)\n",
        "# best for C of 200 and Kenrel of rbf"
      ],
      "execution_count": 273,
      "outputs": [
        {
          "output_type": "stream",
          "text": [
            "/usr/local/lib/python3.6/dist-packages/sklearn/metrics/classification.py:1143: UndefinedMetricWarning: F-score is ill-defined and being set to 0.0 in labels with no predicted samples.\n",
            "  'precision', 'predicted', average, warn_for)\n"
          ],
          "name": "stderr"
        },
        {
          "output_type": "stream",
          "text": [
            "The Scores for SVC are: Accuracy of 0.46621621621621623, F1 of 0.44261414261414256 and CM\n"
          ],
          "name": "stdout"
        },
        {
          "output_type": "display_data",
          "data": {
            "image/png": "[encoded data removed]",
            "text/plain": [
              "<Figure size 576x396 with 2 Axes>"
            ]
          },
          "metadata": {
            "tags": []
          }
        }
      ]
    },
    {
      "metadata": {
        "id": "rgTRY7bMdseW",
        "colab_type": "code",
        "colab": {
          "base_uri": "https://localhost:8080/",
          "height": 119
        },
        "outputId": "585daa78-b2a9-4444-ce58-b6f7a4d08f6a"
      },
      "cell_type": "code",
      "source": [
        "from sklearn.tree import DecisionTreeClassifier\n",
        "clf_dt = DecisionTreeClassifier()\n",
        "clf_dt.fit(x_train, y_train)"
      ],
      "execution_count": 274,
      "outputs": [
        {
          "output_type": "execute_result",
          "data": {
            "text/plain": [
              "DecisionTreeClassifier(class_weight=None, criterion='gini', max_depth=None,\n",
              "            max_features=None, max_leaf_nodes=None,\n",
              "            min_impurity_decrease=0.0, min_impurity_split=None,\n",
              "            min_samples_leaf=1, min_samples_split=2,\n",
              "            min_weight_fraction_leaf=0.0, presort=False, random_state=None,\n",
              "            splitter='best')"
            ]
          },
          "metadata": {
            "tags": []
          },
          "execution_count": 274
        }
      ]
    },
    {
      "metadata": {
        "id": "kOlEgwCOjWY7",
        "colab_type": "code",
        "colab": {
          "base_uri": "https://localhost:8080/",
          "height": 364
        },
        "outputId": "e0903b6a-0bfb-40cd-c028-1ea1b7a41450"
      },
      "cell_type": "code",
      "source": [
        "evaluate(clf_dt)"
      ],
      "execution_count": 275,
      "outputs": [
        {
          "output_type": "stream",
          "text": [
            "The Scores for DecisionTreeClassifier are: Accuracy of 0.7567567567567568, F1 of 0.757335837494347 and CM\n"
          ],
          "name": "stdout"
        },
        {
          "output_type": "display_data",
          "data": {
            "image/png": "[encoded data removed]",
            "text/plain": [
              "<Figure size 576x396 with 2 Axes>"
            ]
          },
          "metadata": {
            "tags": []
          }
        }
      ]
    },
    {
      "metadata": {
        "id": "dMI3ZzeUjZbL",
        "colab_type": "code",
        "colab": {
          "base_uri": "https://localhost:8080/",
          "height": 190
        },
        "outputId": "3a349d8e-0f73-482d-bf8b-72e4994c858a"
      },
      "cell_type": "code",
      "source": [
        "from sklearn.ensemble import RandomForestClassifier\n",
        "clf_rf = RandomForestClassifier()\n",
        "clf_rf.fit(x_train, y_train)"
      ],
      "execution_count": 276,
      "outputs": [
        {
          "output_type": "stream",
          "text": [
            "/usr/local/lib/python3.6/dist-packages/sklearn/ensemble/forest.py:246: FutureWarning: The default value of n_estimators will change from 10 in version 0.20 to 100 in 0.22.\n",
            "  \"10 in version 0.20 to 100 in 0.22.\", FutureWarning)\n"
          ],
          "name": "stderr"
        },
        {
          "output_type": "execute_result",
          "data": {
            "text/plain": [
              "RandomForestClassifier(bootstrap=True, class_weight=None, criterion='gini',\n",
              "            max_depth=None, max_features='auto', max_leaf_nodes=None,\n",
              "            min_impurity_decrease=0.0, min_impurity_split=None,\n",
              "            min_samples_leaf=1, min_samples_split=2,\n",
              "            min_weight_fraction_leaf=0.0, n_estimators=10, n_jobs=None,\n",
              "            oob_score=False, random_state=None, verbose=0,\n",
              "            warm_start=False)"
            ]
          },
          "metadata": {
            "tags": []
          },
          "execution_count": 276
        }
      ]
    },
    {
      "metadata": {
        "id": "DXZI7yBYjfTp",
        "colab_type": "code",
        "colab": {
          "base_uri": "https://localhost:8080/",
          "height": 364
        },
        "outputId": "fc935e40-3646-422b-d1c0-46e3dd368411"
      },
      "cell_type": "code",
      "source": [
        "evaluate(clf_rf)"
      ],
      "execution_count": 277,
      "outputs": [
        {
          "output_type": "stream",
          "text": [
            "The Scores for RandomForestClassifier are: Accuracy of 0.6621621621621622, F1 of 0.6510937844744414 and CM\n"
          ],
          "name": "stdout"
        },
        {
          "output_type": "display_data",
          "data": {
            "image/png": "[encoded data removed]",
            "text/plain": [
              "<Figure size 576x396 with 2 Axes>"
            ]
          },
          "metadata": {
            "tags": []
          }
        }
      ]
    },
    {
      "metadata": {
        "id": "p3S--yJMjhZa",
        "colab_type": "code",
        "colab": {
          "base_uri": "https://localhost:8080/",
          "height": 51
        },
        "outputId": "2f427fc7-e66e-44d0-8a6c-3a1d181cb937"
      },
      "cell_type": "code",
      "source": [
        "from sklearn.ensemble import AdaBoostClassifier, BaggingClassifier\n",
        "clf_ab = AdaBoostClassifier(n_estimators=100, learning_rate=0.3)\n",
        "clf_ab.fit(x_train, y_train)"
      ],
      "execution_count": 278,
      "outputs": [
        {
          "output_type": "execute_result",
          "data": {
            "text/plain": [
              "AdaBoostClassifier(algorithm='SAMME.R', base_estimator=None,\n",
              "          learning_rate=0.3, n_estimators=100, random_state=None)"
            ]
          },
          "metadata": {
            "tags": []
          },
          "execution_count": 278
        }
      ]
    },
    {
      "metadata": {
        "id": "A06ypLY_jt-d",
        "colab_type": "code",
        "colab": {
          "base_uri": "https://localhost:8080/",
          "height": 418
        },
        "outputId": "a6ff34ec-fa22-4328-f823-0d56bdcbdb18"
      },
      "cell_type": "code",
      "source": [
        "evaluate(clf_ab)"
      ],
      "execution_count": 279,
      "outputs": [
        {
          "output_type": "stream",
          "text": [
            "/usr/local/lib/python3.6/dist-packages/sklearn/metrics/classification.py:1143: UndefinedMetricWarning: F-score is ill-defined and being set to 0.0 in labels with no predicted samples.\n",
            "  'precision', 'predicted', average, warn_for)\n"
          ],
          "name": "stderr"
        },
        {
          "output_type": "stream",
          "text": [
            "The Scores for AdaBoostClassifier are: Accuracy of 0.4797297297297297, F1 of 0.43166293882997414 and CM\n"
          ],
          "name": "stdout"
        },
        {
          "output_type": "display_data",
          "data": {
            "image/png": "[encoded data removed]",
            "text/plain": [
              "<Figure size 576x396 with 2 Axes>"
            ]
          },
          "metadata": {
            "tags": []
          }
        }
      ]
    },
    {
      "metadata": {
        "id": "wi_NBe0VjvdD",
        "colab_type": "code",
        "colab": {
          "base_uri": "https://localhost:8080/",
          "height": 85
        },
        "outputId": "fdd6abc2-c24c-490c-bd5d-45d66159b46d"
      },
      "cell_type": "code",
      "source": [
        "clf_bg = BaggingClassifier()\n",
        "clf_bg.fit(x_train, y_train)"
      ],
      "execution_count": 280,
      "outputs": [
        {
          "output_type": "execute_result",
          "data": {
            "text/plain": [
              "BaggingClassifier(base_estimator=None, bootstrap=True,\n",
              "         bootstrap_features=False, max_features=1.0, max_samples=1.0,\n",
              "         n_estimators=10, n_jobs=None, oob_score=False, random_state=None,\n",
              "         verbose=0, warm_start=False)"
            ]
          },
          "metadata": {
            "tags": []
          },
          "execution_count": 280
        }
      ]
    },
    {
      "metadata": {
        "id": "8wDN5fM4jypI",
        "colab_type": "code",
        "colab": {
          "base_uri": "https://localhost:8080/",
          "height": 364
        },
        "outputId": "5b313630-9e2d-4b92-93cc-3fdd1b981fa3"
      },
      "cell_type": "code",
      "source": [
        "evaluate(clf_bg)"
      ],
      "execution_count": 281,
      "outputs": [
        {
          "output_type": "stream",
          "text": [
            "The Scores for BaggingClassifier are: Accuracy of 0.7094594594594594, F1 of 0.7030787644632361 and CM\n"
          ],
          "name": "stdout"
        },
        {
          "output_type": "display_data",
          "data": {
            "image/png": "[encoded data removed]",
            "text/plain": [
              "<Figure size 576x396 with 2 Axes>"
            ]
          },
          "metadata": {
            "tags": []
          }
        }
      ]
    },
    {
      "metadata": {
        "id": "e7C09VO_j0wQ",
        "colab_type": "code",
        "colab": {
          "base_uri": "https://localhost:8080/",
          "height": 34
        },
        "outputId": "1d89338f-5f57-4cef-ad0a-38057baf3d1e"
      },
      "cell_type": "code",
      "source": [
        "from sklearn.naive_bayes import BernoulliNB\n",
        "clf_bnb = BernoulliNB()\n",
        "clf_bnb.fit(x_train, y_train)"
      ],
      "execution_count": 282,
      "outputs": [
        {
          "output_type": "execute_result",
          "data": {
            "text/plain": [
              "BernoulliNB(alpha=1.0, binarize=0.0, class_prior=None, fit_prior=True)"
            ]
          },
          "metadata": {
            "tags": []
          },
          "execution_count": 282
        }
      ]
    },
    {
      "metadata": {
        "id": "R1BgUK35j3Ye",
        "colab_type": "code",
        "colab": {
          "base_uri": "https://localhost:8080/",
          "height": 422
        },
        "outputId": "bb0de7db-59ae-43a4-f0ad-158f81081e9e"
      },
      "cell_type": "code",
      "source": [
        "evaluate(clf_bnb)"
      ],
      "execution_count": 283,
      "outputs": [
        {
          "output_type": "stream",
          "text": [
            "/usr/local/lib/python3.6/dist-packages/sklearn/metrics/classification.py:1143: UndefinedMetricWarning: F-score is ill-defined and being set to 0.0 in labels with no predicted samples.\n",
            "  'precision', 'predicted', average, warn_for)\n"
          ],
          "name": "stderr"
        },
        {
          "output_type": "stream",
          "text": [
            "The Scores for BernoulliNB are: Accuracy of 0.33783783783783783, F1 of 0.3242390423765507 and CM\n"
          ],
          "name": "stdout"
        },
        {
          "output_type": "display_data",
          "data": {
            "image/png": "[encoded data removed]",
            "text/plain": [
              "<Figure size 576x396 with 2 Axes>"
            ]
          },
          "metadata": {
            "tags": []
          }
        }
      ]
    },
    {
      "metadata": {
        "id": "NDH5A0W0j515",
        "colab_type": "code",
        "colab": {
          "base_uri": "https://localhost:8080/",
          "height": 68
        },
        "outputId": "807621ae-8fcc-4985-a92a-b1aabd3ce200"
      },
      "cell_type": "code",
      "source": [
        "from sklearn.neighbors import KNeighborsClassifier\n",
        "clf_knn = KNeighborsClassifier(100)\n",
        "clf_knn.fit(x_train, y_train)"
      ],
      "execution_count": 286,
      "outputs": [
        {
          "output_type": "execute_result",
          "data": {
            "text/plain": [
              "KNeighborsClassifier(algorithm='auto', leaf_size=30, metric='minkowski',\n",
              "           metric_params=None, n_jobs=None, n_neighbors=100, p=2,\n",
              "           weights='uniform')"
            ]
          },
          "metadata": {
            "tags": []
          },
          "execution_count": 286
        }
      ]
    },
    {
      "metadata": {
        "id": "bQcIVxKKkIr5",
        "colab_type": "code",
        "colab": {
          "base_uri": "https://localhost:8080/",
          "height": 422
        },
        "outputId": "9d1500d8-47e5-45e1-ea9f-dc0231f88030"
      },
      "cell_type": "code",
      "source": [
        "evaluate(clf_knn)"
      ],
      "execution_count": 287,
      "outputs": [
        {
          "output_type": "stream",
          "text": [
            "/usr/local/lib/python3.6/dist-packages/sklearn/metrics/classification.py:1143: UndefinedMetricWarning: F-score is ill-defined and being set to 0.0 in labels with no predicted samples.\n",
            "  'precision', 'predicted', average, warn_for)\n"
          ],
          "name": "stderr"
        },
        {
          "output_type": "stream",
          "text": [
            "The Scores for KNeighborsClassifier are: Accuracy of 0.24324324324324326, F1 of 0.22376949638955343 and CM\n"
          ],
          "name": "stdout"
        },
        {
          "output_type": "display_data",
          "data": {
            "image/png": "[encoded data removed]",
            "text/plain": [
              "<Figure size 576x396 with 2 Axes>"
            ]
          },
          "metadata": {
            "tags": []
          }
        }
      ]
    },
    {
      "metadata": {
        "id": "jkv-ktWUkKOB",
        "colab_type": "code",
        "colab": {
          "base_uri": "https://localhost:8080/",
          "height": 34
        },
        "outputId": "4f61a3cd-7bea-45bc-c3d0-786efac8a621"
      },
      "cell_type": "code",
      "source": [
        "from sklearn.naive_bayes import GaussianNB\n",
        "clf_nb = GaussianNB()\n",
        "clf_nb.fit(x_train, y_train)"
      ],
      "execution_count": 288,
      "outputs": [
        {
          "output_type": "execute_result",
          "data": {
            "text/plain": [
              "GaussianNB(priors=None, var_smoothing=1e-09)"
            ]
          },
          "metadata": {
            "tags": []
          },
          "execution_count": 288
        }
      ]
    },
    {
      "metadata": {
        "id": "MuPFwX7XveO5",
        "colab_type": "code",
        "colab": {
          "base_uri": "https://localhost:8080/",
          "height": 364
        },
        "outputId": "fbbeff91-6e6f-4fd6-9ea1-505162253e03"
      },
      "cell_type": "code",
      "source": [
        "evaluate(clf_nb)"
      ],
      "execution_count": 289,
      "outputs": [
        {
          "output_type": "stream",
          "text": [
            "The Scores for GaussianNB are: Accuracy of 0.5067567567567568, F1 of 0.52050885034756 and CM\n"
          ],
          "name": "stdout"
        },
        {
          "output_type": "display_data",
          "data": {
            "image/png": "[encoded data removed]",
            "text/plain": [
              "<Figure size 576x396 with 2 Axes>"
            ]
          },
          "metadata": {
            "tags": []
          }
        }
      ]
    },
    {
      "metadata": {
        "id": "VJgk7JDA09yw",
        "colab_type": "code",
        "colab": {
          "base_uri": "https://localhost:8080/",
          "height": 34
        },
        "outputId": "bda3b293-e75a-435f-986d-480d2363241e"
      },
      "cell_type": "code",
      "source": [
        "# building deep neural network\n",
        "from keras.models import Sequential\n",
        "from keras.layers import Dense, Dropout"
      ],
      "execution_count": 301,
      "outputs": [
        {
          "output_type": "stream",
          "text": [
            "Using TensorFlow backend.\n"
          ],
          "name": "stderr"
        }
      ]
    },
    {
      "metadata": {
        "id": "Wy57axs-7Zq1",
        "colab_type": "code",
        "colab": {
          "base_uri": "https://localhost:8080/",
          "height": 442
        },
        "outputId": "2e2e2308-b3a0-488a-a3a7-d9935f16e505"
      },
      "cell_type": "code",
      "source": [
        "model = Sequential()\n",
        "model.add(Dense(128 , input_dim = x_train.shape[1], activation = 'tanh'))\n",
        "model.add(Dropout(0.4))\n",
        "model.add(Dense(256, activation = 'tanh'))\n",
        "model.add(Dropout(0.4))\n",
        "model.add(Dense(512, activation = 'tanh'))\n",
        "model.add(Dropout(0.4))\n",
        "model.add(Dense(1024, activation = 'tanh'))\n",
        "model.add(Dropout(0.4))\n",
        "model.add(Dense(9, activation = 'softmax'))\n",
        "model.summary()"
      ],
      "execution_count": 367,
      "outputs": [
        {
          "output_type": "stream",
          "text": [
            "_________________________________________________________________\n",
            "Layer (type)                 Output Shape              Param #   \n",
            "=================================================================\n",
            "dense_29 (Dense)             (None, 128)               1408      \n",
            "_________________________________________________________________\n",
            "dropout_22 (Dropout)         (None, 128)               0         \n",
            "_________________________________________________________________\n",
            "dense_30 (Dense)             (None, 256)               33024     \n",
            "_________________________________________________________________\n",
            "dropout_23 (Dropout)         (None, 256)               0         \n",
            "_________________________________________________________________\n",
            "dense_31 (Dense)             (None, 512)               131584    \n",
            "_________________________________________________________________\n",
            "dropout_24 (Dropout)         (None, 512)               0         \n",
            "_________________________________________________________________\n",
            "dense_32 (Dense)             (None, 1024)              525312    \n",
            "_________________________________________________________________\n",
            "dropout_25 (Dropout)         (None, 1024)              0         \n",
            "_________________________________________________________________\n",
            "dense_33 (Dense)             (None, 9)                 9225      \n",
            "=================================================================\n",
            "Total params: 700,553\n",
            "Trainable params: 700,553\n",
            "Non-trainable params: 0\n",
            "_________________________________________________________________\n"
          ],
          "name": "stdout"
        }
      ]
    },
    {
      "metadata": {
        "id": "cilQ8opM77Mv",
        "colab_type": "code",
        "colab": {}
      },
      "cell_type": "code",
      "source": [
        "from keras.utils import to_categorical\n",
        "ytrain_nn = to_categorical(y_train)\n",
        "ytest_nn = to_categorical(y_test)"
      ],
      "execution_count": 0,
      "outputs": []
    },
    {
      "metadata": {
        "id": "GlfdkYEb_4M6",
        "colab_type": "code",
        "colab": {}
      },
      "cell_type": "code",
      "source": [
        "\n",
        "from keras.callbacks import ModelCheckpoint\n",
        "checkpoint = ModelCheckpoint('.mdl_wts.hdf5', monitor='val_acc', verbose=1, save_best_only=True, mode='max')"
      ],
      "execution_count": 0,
      "outputs": []
    },
    {
      "metadata": {
        "id": "KMkP7jPo7btr",
        "colab_type": "code",
        "colab": {}
      },
      "cell_type": "code",
      "source": [
        "model.compile(loss = 'categorical_crossentropy' , optimizer = 'adam', metrics = ['accuracy'])"
      ],
      "execution_count": 0,
      "outputs": []
    },
    {
      "metadata": {
        "id": "FiL1sFSX7ibV",
        "colab_type": "code",
        "colab": {
          "base_uri": "https://localhost:8080/",
          "height": 6834
        },
        "outputId": "17dab856-a898-47be-f84e-ace071cd3d01"
      },
      "cell_type": "code",
      "source": [
        "history = model.fit(x_train, ytrain_nn, epochs = 100 ,callbacks= [checkpoint], validation_data = (x_test, ytest_nn), batch_size = 8)"
      ],
      "execution_count": 372,
      "outputs": [
        {
          "output_type": "stream",
          "text": [
            "Train on 345 samples, validate on 148 samples\n",
            "Epoch 1/100\n",
            "345/345 [==============================] - 2s 4ms/step - loss: 2.0909 - acc: 0.2957 - val_loss: 1.7951 - val_acc: 0.3378\n",
            "\n",
            "Epoch 00001: val_acc improved from -inf to 0.33784, saving model to .mdl_wts.hdf5\n",
            "Epoch 2/100\n",
            "345/345 [==============================] - 0s 1ms/step - loss: 1.9390 - acc: 0.3507 - val_loss: 1.8609 - val_acc: 0.2905\n",
            "\n",
            "Epoch 00002: val_acc did not improve from 0.33784\n",
            "Epoch 3/100\n",
            "345/345 [==============================] - 0s 1ms/step - loss: 2.0167 - acc: 0.3246 - val_loss: 1.9862 - val_acc: 0.2703\n",
            "\n",
            "Epoch 00003: val_acc did not improve from 0.33784\n",
            "Epoch 4/100\n",
            "345/345 [==============================] - 0s 978us/step - loss: 2.0521 - acc: 0.2696 - val_loss: 1.6630 - val_acc: 0.3919\n",
            "\n",
            "Epoch 00004: val_acc improved from 0.33784 to 0.39189, saving model to .mdl_wts.hdf5\n",
            "Epoch 5/100\n",
            "345/345 [==============================] - 0s 993us/step - loss: 1.8838 - acc: 0.3304 - val_loss: 1.7953 - val_acc: 0.4054\n",
            "\n",
            "Epoch 00005: val_acc improved from 0.39189 to 0.40541, saving model to .mdl_wts.hdf5\n",
            "Epoch 6/100\n",
            "345/345 [==============================] - 0s 1ms/step - loss: 1.9486 - acc: 0.3246 - val_loss: 1.6722 - val_acc: 0.3311\n",
            "\n",
            "Epoch 00006: val_acc did not improve from 0.40541\n",
            "Epoch 7/100\n",
            "345/345 [==============================] - 0s 987us/step - loss: 1.8662 - acc: 0.3420 - val_loss: 1.7489 - val_acc: 0.2973\n",
            "\n",
            "Epoch 00007: val_acc did not improve from 0.40541\n",
            "Epoch 8/100\n",
            "345/345 [==============================] - 0s 1ms/step - loss: 1.8132 - acc: 0.3739 - val_loss: 1.8046 - val_acc: 0.3108\n",
            "\n",
            "Epoch 00008: val_acc did not improve from 0.40541\n",
            "Epoch 9/100\n",
            "345/345 [==============================] - 0s 1ms/step - loss: 1.8451 - acc: 0.3130 - val_loss: 1.6183 - val_acc: 0.3243\n",
            "\n",
            "Epoch 00009: val_acc did not improve from 0.40541\n",
            "Epoch 10/100\n",
            "345/345 [==============================] - 0s 981us/step - loss: 1.6732 - acc: 0.3507 - val_loss: 1.7264 - val_acc: 0.3851\n",
            "\n",
            "Epoch 00010: val_acc did not improve from 0.40541\n",
            "Epoch 11/100\n",
            "345/345 [==============================] - 0s 1ms/step - loss: 1.7502 - acc: 0.3217 - val_loss: 1.5949 - val_acc: 0.3716\n",
            "\n",
            "Epoch 00011: val_acc did not improve from 0.40541\n",
            "Epoch 12/100\n",
            "345/345 [==============================] - 0s 987us/step - loss: 1.6486 - acc: 0.3855 - val_loss: 1.5721 - val_acc: 0.4054\n",
            "\n",
            "Epoch 00012: val_acc did not improve from 0.40541\n",
            "Epoch 13/100\n",
            "345/345 [==============================] - 0s 979us/step - loss: 1.6950 - acc: 0.3681 - val_loss: 1.5776 - val_acc: 0.4595\n",
            "\n",
            "Epoch 00013: val_acc improved from 0.40541 to 0.45946, saving model to .mdl_wts.hdf5\n",
            "Epoch 14/100\n",
            "345/345 [==============================] - 0s 1ms/step - loss: 1.6974 - acc: 0.3652 - val_loss: 1.6206 - val_acc: 0.4257\n",
            "\n",
            "Epoch 00014: val_acc did not improve from 0.45946\n",
            "Epoch 15/100\n",
            "345/345 [==============================] - 0s 1ms/step - loss: 1.6643 - acc: 0.3768 - val_loss: 1.6670 - val_acc: 0.4257\n",
            "\n",
            "Epoch 00015: val_acc did not improve from 0.45946\n",
            "Epoch 16/100\n",
            "345/345 [==============================] - 0s 977us/step - loss: 1.7121 - acc: 0.3768 - val_loss: 1.5288 - val_acc: 0.3986\n",
            "\n",
            "Epoch 00016: val_acc did not improve from 0.45946\n",
            "Epoch 17/100\n",
            "345/345 [==============================] - 0s 1ms/step - loss: 1.5299 - acc: 0.4261 - val_loss: 1.6409 - val_acc: 0.4257\n",
            "\n",
            "Epoch 00017: val_acc did not improve from 0.45946\n",
            "Epoch 18/100\n",
            "345/345 [==============================] - 0s 980us/step - loss: 1.6210 - acc: 0.3884 - val_loss: 1.5726 - val_acc: 0.4730\n",
            "\n",
            "Epoch 00018: val_acc improved from 0.45946 to 0.47297, saving model to .mdl_wts.hdf5\n",
            "Epoch 19/100\n",
            "345/345 [==============================] - 0s 982us/step - loss: 1.5384 - acc: 0.4058 - val_loss: 1.4438 - val_acc: 0.4595\n",
            "\n",
            "Epoch 00019: val_acc did not improve from 0.47297\n",
            "Epoch 20/100\n",
            "345/345 [==============================] - 0s 1ms/step - loss: 1.4983 - acc: 0.4464 - val_loss: 1.3887 - val_acc: 0.4662\n",
            "\n",
            "Epoch 00020: val_acc did not improve from 0.47297\n",
            "Epoch 21/100\n",
            "345/345 [==============================] - 0s 994us/step - loss: 1.5271 - acc: 0.4174 - val_loss: 1.4558 - val_acc: 0.4392\n",
            "\n",
            "Epoch 00021: val_acc did not improve from 0.47297\n",
            "Epoch 22/100\n",
            "345/345 [==============================] - 0s 976us/step - loss: 1.4839 - acc: 0.4174 - val_loss: 1.4151 - val_acc: 0.4662\n",
            "\n",
            "Epoch 00022: val_acc did not improve from 0.47297\n",
            "Epoch 23/100\n",
            "345/345 [==============================] - 0s 1ms/step - loss: 1.4171 - acc: 0.4667 - val_loss: 1.3735 - val_acc: 0.4595\n",
            "\n",
            "Epoch 00023: val_acc did not improve from 0.47297\n",
            "Epoch 24/100\n",
            "345/345 [==============================] - 0s 985us/step - loss: 1.4801 - acc: 0.4290 - val_loss: 1.3951 - val_acc: 0.4730\n",
            "\n",
            "Epoch 00024: val_acc did not improve from 0.47297\n",
            "Epoch 25/100\n",
            "345/345 [==============================] - 0s 976us/step - loss: 1.4635 - acc: 0.4261 - val_loss: 1.2645 - val_acc: 0.5473\n",
            "\n",
            "Epoch 00025: val_acc improved from 0.47297 to 0.54730, saving model to .mdl_wts.hdf5\n",
            "Epoch 26/100\n",
            "345/345 [==============================] - 0s 1ms/step - loss: 1.4783 - acc: 0.4638 - val_loss: 1.4019 - val_acc: 0.5068\n",
            "\n",
            "Epoch 00026: val_acc did not improve from 0.54730\n",
            "Epoch 27/100\n",
            "345/345 [==============================] - 0s 978us/step - loss: 1.3242 - acc: 0.5130 - val_loss: 1.3106 - val_acc: 0.5338\n",
            "\n",
            "Epoch 00027: val_acc did not improve from 0.54730\n",
            "Epoch 28/100\n",
            "345/345 [==============================] - 0s 991us/step - loss: 1.2435 - acc: 0.5275 - val_loss: 1.3126 - val_acc: 0.5338\n",
            "\n",
            "Epoch 00028: val_acc did not improve from 0.54730\n",
            "Epoch 29/100\n",
            "345/345 [==============================] - 0s 1ms/step - loss: 1.4960 - acc: 0.4406 - val_loss: 1.5599 - val_acc: 0.4459\n",
            "\n",
            "Epoch 00029: val_acc did not improve from 0.54730\n",
            "Epoch 30/100\n",
            "345/345 [==============================] - 0s 974us/step - loss: 1.2552 - acc: 0.5246 - val_loss: 1.2642 - val_acc: 0.5473\n",
            "\n",
            "Epoch 00030: val_acc did not improve from 0.54730\n",
            "Epoch 31/100\n",
            "345/345 [==============================] - 0s 985us/step - loss: 1.2373 - acc: 0.5014 - val_loss: 1.4354 - val_acc: 0.4797\n",
            "\n",
            "Epoch 00031: val_acc did not improve from 0.54730\n",
            "Epoch 32/100\n",
            "345/345 [==============================] - 0s 1ms/step - loss: 1.2081 - acc: 0.5130 - val_loss: 1.5756 - val_acc: 0.3716\n",
            "\n",
            "Epoch 00032: val_acc did not improve from 0.54730\n",
            "Epoch 33/100\n",
            "345/345 [==============================] - 0s 974us/step - loss: 1.3297 - acc: 0.4841 - val_loss: 1.3060 - val_acc: 0.5608\n",
            "\n",
            "Epoch 00033: val_acc improved from 0.54730 to 0.56081, saving model to .mdl_wts.hdf5\n",
            "Epoch 34/100\n",
            "345/345 [==============================] - 0s 982us/step - loss: 1.2169 - acc: 0.5536 - val_loss: 1.3432 - val_acc: 0.4932\n",
            "\n",
            "Epoch 00034: val_acc did not improve from 0.56081\n",
            "Epoch 35/100\n",
            "345/345 [==============================] - 0s 1ms/step - loss: 1.2951 - acc: 0.4957 - val_loss: 1.2344 - val_acc: 0.5405\n",
            "\n",
            "Epoch 00035: val_acc did not improve from 0.56081\n",
            "Epoch 36/100\n",
            "345/345 [==============================] - 0s 979us/step - loss: 1.1459 - acc: 0.5507 - val_loss: 1.2143 - val_acc: 0.5473\n",
            "\n",
            "Epoch 00036: val_acc did not improve from 0.56081\n",
            "Epoch 37/100\n",
            "345/345 [==============================] - 0s 1ms/step - loss: 1.2111 - acc: 0.5623 - val_loss: 1.4202 - val_acc: 0.4865\n",
            "\n",
            "Epoch 00037: val_acc did not improve from 0.56081\n",
            "Epoch 38/100\n",
            "345/345 [==============================] - 0s 1ms/step - loss: 1.2560 - acc: 0.5159 - val_loss: 1.2270 - val_acc: 0.5405\n",
            "\n",
            "Epoch 00038: val_acc did not improve from 0.56081\n",
            "Epoch 39/100\n",
            "345/345 [==============================] - 0s 993us/step - loss: 1.1215 - acc: 0.5797 - val_loss: 1.4378 - val_acc: 0.5068\n",
            "\n",
            "Epoch 00039: val_acc did not improve from 0.56081\n",
            "Epoch 40/100\n",
            "345/345 [==============================] - 0s 982us/step - loss: 1.2413 - acc: 0.5478 - val_loss: 1.3372 - val_acc: 0.5270\n",
            "\n",
            "Epoch 00040: val_acc did not improve from 0.56081\n",
            "Epoch 41/100\n",
            "345/345 [==============================] - 0s 1ms/step - loss: 1.1802 - acc: 0.5536 - val_loss: 1.1906 - val_acc: 0.5608\n",
            "\n",
            "Epoch 00041: val_acc did not improve from 0.56081\n",
            "Epoch 42/100\n",
            "345/345 [==============================] - 0s 981us/step - loss: 1.2082 - acc: 0.5478 - val_loss: 1.4703 - val_acc: 0.4865\n",
            "\n",
            "Epoch 00042: val_acc did not improve from 0.56081\n",
            "Epoch 43/100\n",
            "345/345 [==============================] - 0s 963us/step - loss: 1.0712 - acc: 0.5942 - val_loss: 1.4097 - val_acc: 0.5338\n",
            "\n",
            "Epoch 00043: val_acc did not improve from 0.56081\n",
            "Epoch 44/100\n",
            "345/345 [==============================] - 0s 1ms/step - loss: 1.0329 - acc: 0.6377 - val_loss: 1.2890 - val_acc: 0.5473\n",
            "\n",
            "Epoch 00044: val_acc did not improve from 0.56081\n",
            "Epoch 45/100\n",
            "345/345 [==============================] - 0s 989us/step - loss: 1.0404 - acc: 0.5913 - val_loss: 1.2845 - val_acc: 0.5608\n",
            "\n",
            "Epoch 00045: val_acc did not improve from 0.56081\n",
            "Epoch 46/100\n",
            "345/345 [==============================] - 0s 981us/step - loss: 1.0509 - acc: 0.6029 - val_loss: 1.5280 - val_acc: 0.5338\n",
            "\n",
            "Epoch 00046: val_acc did not improve from 0.56081\n",
            "Epoch 47/100\n",
            "345/345 [==============================] - 0s 1ms/step - loss: 1.0081 - acc: 0.6000 - val_loss: 1.3948 - val_acc: 0.5068\n",
            "\n",
            "Epoch 00047: val_acc did not improve from 0.56081\n",
            "Epoch 48/100\n",
            "345/345 [==============================] - 0s 1ms/step - loss: 0.9721 - acc: 0.6145 - val_loss: 1.3857 - val_acc: 0.5676\n",
            "\n",
            "Epoch 00048: val_acc improved from 0.56081 to 0.56757, saving model to .mdl_wts.hdf5\n",
            "Epoch 49/100\n",
            "345/345 [==============================] - 0s 1ms/step - loss: 1.0239 - acc: 0.6261 - val_loss: 1.4295 - val_acc: 0.5270\n",
            "\n",
            "Epoch 00049: val_acc did not improve from 0.56757\n",
            "Epoch 50/100\n",
            "345/345 [==============================] - 0s 972us/step - loss: 1.0808 - acc: 0.5942 - val_loss: 1.3145 - val_acc: 0.5405\n",
            "\n",
            "Epoch 00050: val_acc did not improve from 0.56757\n",
            "Epoch 51/100\n",
            "345/345 [==============================] - 0s 989us/step - loss: 1.2949 - acc: 0.5942 - val_loss: 1.3695 - val_acc: 0.5743\n",
            "\n",
            "Epoch 00051: val_acc improved from 0.56757 to 0.57432, saving model to .mdl_wts.hdf5\n",
            "Epoch 52/100\n",
            "345/345 [==============================] - 0s 1ms/step - loss: 1.1801 - acc: 0.5797 - val_loss: 1.6224 - val_acc: 0.4865\n",
            "\n",
            "Epoch 00052: val_acc did not improve from 0.57432\n",
            "Epoch 53/100\n",
            "345/345 [==============================] - 0s 982us/step - loss: 0.9591 - acc: 0.6493 - val_loss: 1.3299 - val_acc: 0.5946\n",
            "\n",
            "Epoch 00053: val_acc improved from 0.57432 to 0.59459, saving model to .mdl_wts.hdf5\n",
            "Epoch 54/100\n",
            "345/345 [==============================] - 0s 966us/step - loss: 0.9083 - acc: 0.6522 - val_loss: 1.2251 - val_acc: 0.5878\n",
            "\n",
            "Epoch 00054: val_acc did not improve from 0.59459\n",
            "Epoch 55/100\n",
            "345/345 [==============================] - 0s 1ms/step - loss: 0.9647 - acc: 0.6696 - val_loss: 1.3538 - val_acc: 0.5608\n",
            "\n",
            "Epoch 00055: val_acc did not improve from 0.59459\n",
            "Epoch 56/100\n",
            "345/345 [==============================] - 0s 983us/step - loss: 0.9314 - acc: 0.6174 - val_loss: 1.4244 - val_acc: 0.5135\n",
            "\n",
            "Epoch 00056: val_acc did not improve from 0.59459\n",
            "Epoch 57/100\n",
            "345/345 [==============================] - 0s 988us/step - loss: 1.0653 - acc: 0.6145 - val_loss: 1.7158 - val_acc: 0.4662\n",
            "\n",
            "Epoch 00057: val_acc did not improve from 0.59459\n",
            "Epoch 58/100\n",
            "345/345 [==============================] - 0s 1ms/step - loss: 0.8349 - acc: 0.6580 - val_loss: 1.5313 - val_acc: 0.5608\n",
            "\n",
            "Epoch 00058: val_acc did not improve from 0.59459\n",
            "Epoch 59/100\n",
            "345/345 [==============================] - 0s 976us/step - loss: 0.8301 - acc: 0.6841 - val_loss: 1.4156 - val_acc: 0.5541\n",
            "\n",
            "Epoch 00059: val_acc did not improve from 0.59459\n",
            "Epoch 60/100\n",
            "345/345 [==============================] - 0s 978us/step - loss: 0.9057 - acc: 0.6580 - val_loss: 1.5610 - val_acc: 0.5338\n",
            "\n",
            "Epoch 00060: val_acc did not improve from 0.59459\n",
            "Epoch 61/100\n",
            "345/345 [==============================] - 0s 1ms/step - loss: 1.1526 - acc: 0.6377 - val_loss: 1.5013 - val_acc: 0.5608\n",
            "\n",
            "Epoch 00061: val_acc did not improve from 0.59459\n",
            "Epoch 62/100\n",
            "345/345 [==============================] - 0s 980us/step - loss: 0.8716 - acc: 0.6638 - val_loss: 1.5319 - val_acc: 0.5541\n",
            "\n",
            "Epoch 00062: val_acc did not improve from 0.59459\n",
            "Epoch 63/100\n",
            "345/345 [==============================] - 0s 972us/step - loss: 0.8941 - acc: 0.6638 - val_loss: 1.3451 - val_acc: 0.5473\n",
            "\n",
            "Epoch 00063: val_acc did not improve from 0.59459\n",
            "Epoch 64/100\n",
            "345/345 [==============================] - 0s 1ms/step - loss: 0.8462 - acc: 0.6609 - val_loss: 1.5416 - val_acc: 0.5676\n",
            "\n",
            "Epoch 00064: val_acc did not improve from 0.59459\n",
            "Epoch 65/100\n",
            "345/345 [==============================] - 0s 1ms/step - loss: 0.9952 - acc: 0.6464 - val_loss: 1.4598 - val_acc: 0.5541\n",
            "\n",
            "Epoch 00065: val_acc did not improve from 0.59459\n",
            "Epoch 66/100\n",
            "345/345 [==============================] - 0s 981us/step - loss: 0.7717 - acc: 0.7043 - val_loss: 1.3516 - val_acc: 0.6014\n",
            "\n",
            "Epoch 00066: val_acc improved from 0.59459 to 0.60135, saving model to .mdl_wts.hdf5\n",
            "Epoch 67/100\n",
            "345/345 [==============================] - 0s 1ms/step - loss: 0.8231 - acc: 0.6870 - val_loss: 1.5575 - val_acc: 0.5743\n",
            "\n",
            "Epoch 00067: val_acc did not improve from 0.60135\n",
            "Epoch 68/100\n",
            "345/345 [==============================] - 0s 986us/step - loss: 0.7539 - acc: 0.7101 - val_loss: 1.2641 - val_acc: 0.6284\n",
            "\n",
            "Epoch 00068: val_acc improved from 0.60135 to 0.62838, saving model to .mdl_wts.hdf5\n",
            "Epoch 69/100\n",
            "345/345 [==============================] - 0s 993us/step - loss: 0.8520 - acc: 0.7188 - val_loss: 1.4960 - val_acc: 0.5608\n",
            "\n",
            "Epoch 00069: val_acc did not improve from 0.62838\n",
            "Epoch 70/100\n",
            "345/345 [==============================] - 0s 984us/step - loss: 0.8427 - acc: 0.6957 - val_loss: 1.4708 - val_acc: 0.6081\n",
            "\n",
            "Epoch 00070: val_acc did not improve from 0.62838\n",
            "Epoch 71/100\n",
            "345/345 [==============================] - 0s 973us/step - loss: 0.7647 - acc: 0.7188 - val_loss: 1.5504 - val_acc: 0.5473\n",
            "\n",
            "Epoch 00071: val_acc did not improve from 0.62838\n",
            "Epoch 72/100\n",
            "345/345 [==============================] - 0s 1ms/step - loss: 0.7426 - acc: 0.7159 - val_loss: 1.4659 - val_acc: 0.6081\n",
            "\n",
            "Epoch 00072: val_acc did not improve from 0.62838\n",
            "Epoch 73/100\n",
            "345/345 [==============================] - 0s 989us/step - loss: 0.8315 - acc: 0.7159 - val_loss: 1.4660 - val_acc: 0.5811\n",
            "\n",
            "Epoch 00073: val_acc did not improve from 0.62838\n",
            "Epoch 74/100\n",
            "345/345 [==============================] - 0s 978us/step - loss: 0.7394 - acc: 0.7420 - val_loss: 1.4992 - val_acc: 0.5946\n",
            "\n",
            "Epoch 00074: val_acc did not improve from 0.62838\n",
            "Epoch 75/100\n",
            "345/345 [==============================] - 0s 1ms/step - loss: 0.8429 - acc: 0.7304 - val_loss: 1.6146 - val_acc: 0.5203\n",
            "\n",
            "Epoch 00075: val_acc did not improve from 0.62838\n",
            "Epoch 76/100\n",
            "345/345 [==============================] - 0s 999us/step - loss: 0.8264 - acc: 0.7072 - val_loss: 1.5952 - val_acc: 0.5608\n",
            "\n",
            "Epoch 00076: val_acc did not improve from 0.62838\n",
            "Epoch 77/100\n",
            "345/345 [==============================] - 0s 970us/step - loss: 0.6368 - acc: 0.7420 - val_loss: 1.5105 - val_acc: 0.5541\n",
            "\n",
            "Epoch 00077: val_acc did not improve from 0.62838\n",
            "Epoch 78/100\n",
            "345/345 [==============================] - 0s 999us/step - loss: 0.6915 - acc: 0.7333 - val_loss: 1.7050 - val_acc: 0.5338\n",
            "\n",
            "Epoch 00078: val_acc did not improve from 0.62838\n",
            "Epoch 79/100\n",
            "345/345 [==============================] - 0s 1ms/step - loss: 0.6637 - acc: 0.7449 - val_loss: 1.6152 - val_acc: 0.5878\n",
            "\n",
            "Epoch 00079: val_acc did not improve from 0.62838\n",
            "Epoch 80/100\n",
            "345/345 [==============================] - 0s 985us/step - loss: 0.6500 - acc: 0.7594 - val_loss: 1.6474 - val_acc: 0.5541\n",
            "\n",
            "Epoch 00080: val_acc did not improve from 0.62838\n",
            "Epoch 81/100\n",
            "345/345 [==============================] - 0s 1ms/step - loss: 0.5909 - acc: 0.8000 - val_loss: 1.5889 - val_acc: 0.5608\n",
            "\n",
            "Epoch 00081: val_acc did not improve from 0.62838\n",
            "Epoch 82/100\n",
            "345/345 [==============================] - 0s 1ms/step - loss: 0.5314 - acc: 0.7913 - val_loss: 1.5380 - val_acc: 0.5676\n",
            "\n",
            "Epoch 00082: val_acc did not improve from 0.62838\n",
            "Epoch 83/100\n",
            "345/345 [==============================] - 0s 965us/step - loss: 0.5958 - acc: 0.7739 - val_loss: 1.6581 - val_acc: 0.5473\n",
            "\n",
            "Epoch 00083: val_acc did not improve from 0.62838\n",
            "Epoch 84/100\n",
            "345/345 [==============================] - 0s 1ms/step - loss: 0.6751 - acc: 0.7681 - val_loss: 1.7774 - val_acc: 0.5338\n",
            "\n",
            "Epoch 00084: val_acc did not improve from 0.62838\n",
            "Epoch 85/100\n",
            "345/345 [==============================] - 0s 968us/step - loss: 0.7311 - acc: 0.7565 - val_loss: 1.6060 - val_acc: 0.5270\n",
            "\n",
            "Epoch 00085: val_acc did not improve from 0.62838\n",
            "Epoch 86/100\n",
            "345/345 [==============================] - 0s 967us/step - loss: 0.5616 - acc: 0.8145 - val_loss: 1.5920 - val_acc: 0.5743\n",
            "\n",
            "Epoch 00086: val_acc did not improve from 0.62838\n",
            "Epoch 87/100\n",
            "345/345 [==============================] - 0s 1ms/step - loss: 0.8133 - acc: 0.7304 - val_loss: 1.5704 - val_acc: 0.5203\n",
            "\n",
            "Epoch 00087: val_acc did not improve from 0.62838\n",
            "Epoch 88/100\n",
            "345/345 [==============================] - 0s 964us/step - loss: 0.6802 - acc: 0.7449 - val_loss: 1.7233 - val_acc: 0.5203\n",
            "\n",
            "Epoch 00088: val_acc did not improve from 0.62838\n",
            "Epoch 89/100\n",
            "345/345 [==============================] - 0s 983us/step - loss: 0.8583 - acc: 0.7217 - val_loss: 1.5892 - val_acc: 0.5135\n",
            "\n",
            "Epoch 00089: val_acc did not improve from 0.62838\n",
            "Epoch 90/100\n",
            "345/345 [==============================] - 0s 1ms/step - loss: 0.5391 - acc: 0.8029 - val_loss: 1.7416 - val_acc: 0.5473\n",
            "\n",
            "Epoch 00090: val_acc did not improve from 0.62838\n",
            "Epoch 91/100\n",
            "345/345 [==============================] - 0s 981us/step - loss: 0.5056 - acc: 0.8232 - val_loss: 1.7156 - val_acc: 0.5676\n",
            "\n",
            "Epoch 00091: val_acc did not improve from 0.62838\n",
            "Epoch 92/100\n",
            "345/345 [==============================] - 0s 963us/step - loss: 0.5012 - acc: 0.7913 - val_loss: 1.7201 - val_acc: 0.5203\n",
            "\n",
            "Epoch 00092: val_acc did not improve from 0.62838\n",
            "Epoch 93/100\n",
            "345/345 [==============================] - 0s 1ms/step - loss: 0.5960 - acc: 0.7855 - val_loss: 1.7402 - val_acc: 0.5203\n",
            "\n",
            "Epoch 00093: val_acc did not improve from 0.62838\n",
            "Epoch 94/100\n",
            "345/345 [==============================] - 0s 958us/step - loss: 0.4507 - acc: 0.8464 - val_loss: 1.7251 - val_acc: 0.5743\n",
            "\n",
            "Epoch 00094: val_acc did not improve from 0.62838\n",
            "Epoch 95/100\n",
            "345/345 [==============================] - 0s 975us/step - loss: 0.5523 - acc: 0.7681 - val_loss: 1.7094 - val_acc: 0.5405\n",
            "\n",
            "Epoch 00095: val_acc did not improve from 0.62838\n",
            "Epoch 96/100\n",
            "345/345 [==============================] - 0s 1ms/step - loss: 0.5429 - acc: 0.8116 - val_loss: 1.7449 - val_acc: 0.5676\n",
            "\n",
            "Epoch 00096: val_acc did not improve from 0.62838\n",
            "Epoch 97/100\n",
            "345/345 [==============================] - 0s 977us/step - loss: 0.5661 - acc: 0.8087 - val_loss: 1.8450 - val_acc: 0.5405\n",
            "\n",
            "Epoch 00097: val_acc did not improve from 0.62838\n",
            "Epoch 98/100\n",
            "345/345 [==============================] - 0s 994us/step - loss: 0.5437 - acc: 0.8174 - val_loss: 1.7364 - val_acc: 0.5541\n",
            "\n",
            "Epoch 00098: val_acc did not improve from 0.62838\n",
            "Epoch 99/100\n",
            "345/345 [==============================] - 0s 967us/step - loss: 0.5417 - acc: 0.8000 - val_loss: 2.0146 - val_acc: 0.5270\n",
            "\n",
            "Epoch 00099: val_acc did not improve from 0.62838\n",
            "Epoch 100/100\n",
            "345/345 [==============================] - 0s 1ms/step - loss: 0.6771 - acc: 0.7594 - val_loss: 1.7730 - val_acc: 0.5541\n",
            "\n",
            "Epoch 00100: val_acc did not improve from 0.62838\n"
          ],
          "name": "stdout"
        }
      ]
    },
    {
      "metadata": {
        "id": "xkX6LBr07lfP",
        "colab_type": "code",
        "colab": {
          "base_uri": "https://localhost:8080/",
          "height": 51
        },
        "outputId": "0cee151e-81ab-4165-b7b9-f59570b1a121"
      },
      "cell_type": "code",
      "source": [
        "model.load_weights(\".mdl_wts.hdf5\")\n",
        "score = model.evaluate(x_test, ytest_nn)\n",
        "print(score[1])"
      ],
      "execution_count": 373,
      "outputs": [
        {
          "output_type": "stream",
          "text": [
            "148/148 [==============================] - 0s 93us/step\n",
            "0.6283783783783784\n"
          ],
          "name": "stdout"
        }
      ]
    },
    {
      "metadata": {
        "id": "ihwfdTK58h9Y",
        "colab_type": "code",
        "colab": {
          "base_uri": "https://localhost:8080/",
          "height": 347
        },
        "outputId": "5886c39d-837b-436e-be9f-a2991b496212"
      },
      "cell_type": "code",
      "source": [
        "plt.plot(history.history['loss'])\n",
        "plt.plot(history.history['val_loss'])\n",
        "plt.show()"
      ],
      "execution_count": 374,
      "outputs": [
        {
          "output_type": "display_data",
          "data": {
            "image/png": "[encoded data removed]",
            "text/plain": [
              "<Figure size 576x396 with 1 Axes>"
            ]
          },
          "metadata": {
            "tags": []
          }
        }
      ]
    },
    {
      "metadata": {
        "id": "lpetCdV39CXJ",
        "colab_type": "code",
        "colab": {}
      },
      "cell_type": "code",
      "source": [
        "y_nn = model.predict(x_sub_std)"
      ],
      "execution_count": 0,
      "outputs": []
    },
    {
      "metadata": {
        "id": "RMSYOZM9BrRS",
        "colab_type": "code",
        "colab": {}
      },
      "cell_type": "code",
      "source": [
        "y_arg =np.argmax(y_nn, axis = 1)"
      ],
      "execution_count": 0,
      "outputs": []
    },
    {
      "metadata": {
        "id": "4AaEyHVokuKz",
        "colab_type": "text"
      },
      "cell_type": "markdown",
      "source": [
        "# Creating Submissions"
      ]
    },
    {
      "metadata": {
        "id": "1yoaxv5BkwY8",
        "colab_type": "code",
        "colab": {}
      },
      "cell_type": "code",
      "source": [
        "df_sub = pd.read_csv('X_test.csv')"
      ],
      "execution_count": 0,
      "outputs": []
    },
    {
      "metadata": {
        "id": "sIGqamiFk2L4",
        "colab_type": "code",
        "colab": {
          "base_uri": "https://localhost:8080/",
          "height": 224
        },
        "outputId": "b181eb30-b679-4880-e304-323de763947e"
      },
      "cell_type": "code",
      "source": [
        "df_sub.head()"
      ],
      "execution_count": 163,
      "outputs": [
        {
          "output_type": "execute_result",
          "data": {
            "text/html": [
              "<div>\n",
              "<style scoped>\n",
              "    .dataframe tbody tr th:only-of-type {\n",
              "        vertical-align: middle;\n",
              "    }\n",
              "\n",
              "    .dataframe tbody tr th {\n",
              "        vertical-align: top;\n",
              "    }\n",
              "\n",
              "    .dataframe thead th {\n",
              "        text-align: right;\n",
              "    }\n",
              "</style>\n",
              "<table border=\"1\" class=\"dataframe\">\n",
              "  <thead>\n",
              "    <tr style=\"text-align: right;\">\n",
              "      <th></th>\n",
              "      <th>row_id</th>\n",
              "      <th>series_id</th>\n",
              "      <th>measurement_number</th>\n",
              "      <th>orientation_X</th>\n",
              "      <th>orientation_Y</th>\n",
              "      <th>orientation_Z</th>\n",
              "      <th>orientation_W</th>\n",
              "      <th>angular_velocity_X</th>\n",
              "      <th>angular_velocity_Y</th>\n",
              "      <th>angular_velocity_Z</th>\n",
              "      <th>linear_acceleration_X</th>\n",
              "      <th>linear_acceleration_Y</th>\n",
              "      <th>linear_acceleration_Z</th>\n",
              "    </tr>\n",
              "  </thead>\n",
              "  <tbody>\n",
              "    <tr>\n",
              "      <th>0</th>\n",
              "      <td>0_0</td>\n",
              "      <td>0</td>\n",
              "      <td>0</td>\n",
              "      <td>-0.025773</td>\n",
              "      <td>-0.98864</td>\n",
              "      <td>-0.14801</td>\n",
              "      <td>0.003350</td>\n",
              "      <td>-0.006524</td>\n",
              "      <td>-0.001071</td>\n",
              "      <td>-0.027390</td>\n",
              "      <td>0.10043</td>\n",
              "      <td>4.2061</td>\n",
              "      <td>-5.5439</td>\n",
              "    </tr>\n",
              "    <tr>\n",
              "      <th>1</th>\n",
              "      <td>0_1</td>\n",
              "      <td>0</td>\n",
              "      <td>1</td>\n",
              "      <td>-0.025683</td>\n",
              "      <td>-0.98862</td>\n",
              "      <td>-0.14816</td>\n",
              "      <td>0.003439</td>\n",
              "      <td>-0.113960</td>\n",
              "      <td>0.083987</td>\n",
              "      <td>-0.060590</td>\n",
              "      <td>-0.70889</td>\n",
              "      <td>3.9905</td>\n",
              "      <td>-8.0273</td>\n",
              "    </tr>\n",
              "    <tr>\n",
              "      <th>2</th>\n",
              "      <td>0_2</td>\n",
              "      <td>0</td>\n",
              "      <td>2</td>\n",
              "      <td>-0.025617</td>\n",
              "      <td>-0.98861</td>\n",
              "      <td>-0.14826</td>\n",
              "      <td>0.003571</td>\n",
              "      <td>-0.080518</td>\n",
              "      <td>0.114860</td>\n",
              "      <td>-0.037177</td>\n",
              "      <td>1.45710</td>\n",
              "      <td>2.2828</td>\n",
              "      <td>-11.2990</td>\n",
              "    </tr>\n",
              "    <tr>\n",
              "      <th>3</th>\n",
              "      <td>0_3</td>\n",
              "      <td>0</td>\n",
              "      <td>3</td>\n",
              "      <td>-0.025566</td>\n",
              "      <td>-0.98862</td>\n",
              "      <td>-0.14817</td>\n",
              "      <td>0.003609</td>\n",
              "      <td>0.070067</td>\n",
              "      <td>0.033820</td>\n",
              "      <td>-0.035904</td>\n",
              "      <td>0.71096</td>\n",
              "      <td>1.8582</td>\n",
              "      <td>-12.2270</td>\n",
              "    </tr>\n",
              "    <tr>\n",
              "      <th>4</th>\n",
              "      <td>0_4</td>\n",
              "      <td>0</td>\n",
              "      <td>4</td>\n",
              "      <td>-0.025548</td>\n",
              "      <td>-0.98866</td>\n",
              "      <td>-0.14792</td>\n",
              "      <td>0.003477</td>\n",
              "      <td>0.152050</td>\n",
              "      <td>-0.029016</td>\n",
              "      <td>-0.015314</td>\n",
              "      <td>3.39960</td>\n",
              "      <td>2.7881</td>\n",
              "      <td>-10.4100</td>\n",
              "    </tr>\n",
              "  </tbody>\n",
              "</table>\n",
              "</div>"
            ],
            "text/plain": [
              "  row_id  series_id  measurement_number  orientation_X  orientation_Y  \\\n",
              "0    0_0          0                   0      -0.025773       -0.98864   \n",
              "1    0_1          0                   1      -0.025683       -0.98862   \n",
              "2    0_2          0                   2      -0.025617       -0.98861   \n",
              "3    0_3          0                   3      -0.025566       -0.98862   \n",
              "4    0_4          0                   4      -0.025548       -0.98866   \n",
              "\n",
              "   orientation_Z  orientation_W  angular_velocity_X  angular_velocity_Y  \\\n",
              "0       -0.14801       0.003350           -0.006524           -0.001071   \n",
              "1       -0.14816       0.003439           -0.113960            0.083987   \n",
              "2       -0.14826       0.003571           -0.080518            0.114860   \n",
              "3       -0.14817       0.003609            0.070067            0.033820   \n",
              "4       -0.14792       0.003477            0.152050           -0.029016   \n",
              "\n",
              "   angular_velocity_Z  linear_acceleration_X  linear_acceleration_Y  \\\n",
              "0           -0.027390                0.10043                 4.2061   \n",
              "1           -0.060590               -0.70889                 3.9905   \n",
              "2           -0.037177                1.45710                 2.2828   \n",
              "3           -0.035904                0.71096                 1.8582   \n",
              "4           -0.015314                3.39960                 2.7881   \n",
              "\n",
              "   linear_acceleration_Z  \n",
              "0                -5.5439  \n",
              "1                -8.0273  \n",
              "2               -11.2990  \n",
              "3               -12.2270  \n",
              "4               -10.4100  "
            ]
          },
          "metadata": {
            "tags": []
          },
          "execution_count": 163
        }
      ]
    },
    {
      "metadata": {
        "id": "-tFWBwtek3qx",
        "colab_type": "code",
        "colab": {}
      },
      "cell_type": "code",
      "source": [
        "x_sub = df_sub.iloc[:,3:]"
      ],
      "execution_count": 0,
      "outputs": []
    },
    {
      "metadata": {
        "id": "fNLhloAXmIDF",
        "colab_type": "code",
        "colab": {}
      },
      "cell_type": "code",
      "source": [
        "x_sub_std = std.transform(x_sub)"
      ],
      "execution_count": 0,
      "outputs": []
    },
    {
      "metadata": {
        "id": "fHoRUcNUmPJH",
        "colab_type": "code",
        "colab": {
          "base_uri": "https://localhost:8080/",
          "height": 34
        },
        "outputId": "4e77ec62-8541-4977-be29-38044478642a"
      },
      "cell_type": "code",
      "source": [
        "x_sub_std.shape"
      ],
      "execution_count": 154,
      "outputs": [
        {
          "output_type": "execute_result",
          "data": {
            "text/plain": [
              "(488448, 10)"
            ]
          },
          "metadata": {
            "tags": []
          },
          "execution_count": 154
        }
      ]
    },
    {
      "metadata": {
        "id": "TyL6ij36mRac",
        "colab_type": "code",
        "colab": {}
      },
      "cell_type": "code",
      "source": [
        "y_sub_dt = clf_dt.predict(x_sub_std)"
      ],
      "execution_count": 0,
      "outputs": []
    },
    {
      "metadata": {
        "id": "QdHdq4u9md59",
        "colab_type": "code",
        "colab": {
          "base_uri": "https://localhost:8080/",
          "height": 34
        },
        "outputId": "3c67fd91-00e3-4e10-8298-78ba74f2374d"
      },
      "cell_type": "code",
      "source": [
        "(y_arg == y_sub_svm).std()"
      ],
      "execution_count": 382,
      "outputs": [
        {
          "output_type": "execute_result",
          "data": {
            "text/plain": [
              "0.4999872221626179"
            ]
          },
          "metadata": {
            "tags": []
          },
          "execution_count": 382
        }
      ]
    },
    {
      "metadata": {
        "id": "xD4dftbome6l",
        "colab_type": "code",
        "colab": {}
      },
      "cell_type": "code",
      "source": [
        "label_y_sub = encoder.inverse_transform(y_sub_dt)"
      ],
      "execution_count": 0,
      "outputs": []
    },
    {
      "metadata": {
        "id": "kPWt9IFemnzb",
        "colab_type": "code",
        "colab": {
          "base_uri": "https://localhost:8080/",
          "height": 51
        },
        "outputId": "45cca179-9598-4c6a-9956-fd1e59ccb298"
      },
      "cell_type": "code",
      "source": [
        "label_y_sub"
      ],
      "execution_count": 393,
      "outputs": [
        {
          "output_type": "execute_result",
          "data": {
            "text/plain": [
              "array(['tiled', 'tiled', 'tiled', ..., 'wood', 'wood', 'wood'],\n",
              "      dtype=object)"
            ]
          },
          "metadata": {
            "tags": []
          },
          "execution_count": 393
        }
      ]
    },
    {
      "metadata": {
        "id": "P-EtZSspmoyx",
        "colab_type": "code",
        "colab": {}
      },
      "cell_type": "code",
      "source": [
        "surface_predicted = pd.Series(label_y_sub, name = 'surface')"
      ],
      "execution_count": 0,
      "outputs": []
    },
    {
      "metadata": {
        "id": "hTyPIyG6m7B0",
        "colab_type": "code",
        "colab": {}
      },
      "cell_type": "code",
      "source": [
        "series_id = df_sub.iloc[:, 1]"
      ],
      "execution_count": 0,
      "outputs": []
    },
    {
      "metadata": {
        "id": "kc-bQ7ucnSbO",
        "colab_type": "code",
        "colab": {}
      },
      "cell_type": "code",
      "source": [
        "submission = pd.concat([series_id, surface_predicted], axis = 1)"
      ],
      "execution_count": 0,
      "outputs": []
    },
    {
      "metadata": {
        "id": "2VyS8Cxznak-",
        "colab_type": "code",
        "colab": {}
      },
      "cell_type": "code",
      "source": [
        "submission.head()"
      ],
      "execution_count": 0,
      "outputs": []
    },
    {
      "metadata": {
        "id": "UyMJ01P8ncFs",
        "colab_type": "code",
        "colab": {}
      },
      "cell_type": "code",
      "source": [
        "maybe = submission.drop_duplicates(subset = 'series_id')"
      ],
      "execution_count": 0,
      "outputs": []
    },
    {
      "metadata": {
        "id": "32wyducKnjW5",
        "colab_type": "code",
        "colab": {
          "base_uri": "https://localhost:8080/",
          "height": 34
        },
        "outputId": "a49d8340-0603-48d2-d968-fcaad9ae00cd"
      },
      "cell_type": "code",
      "source": [
        "maybe.shape"
      ],
      "execution_count": 399,
      "outputs": [
        {
          "output_type": "execute_result",
          "data": {
            "text/plain": [
              "(3816, 2)"
            ]
          },
          "metadata": {
            "tags": []
          },
          "execution_count": 399
        }
      ]
    },
    {
      "metadata": {
        "id": "gpuiau-nnwox",
        "colab_type": "code",
        "colab": {}
      },
      "cell_type": "code",
      "source": [
        "maybe.to_csv('nineth_submission.csv', index = False)"
      ],
      "execution_count": 0,
      "outputs": []
    },
    {
      "metadata": {
        "id": "LnrfG8L_nzcO",
        "colab_type": "code",
        "colab": {}
      },
      "cell_type": "code",
      "source": [
        "one = pd.read_csv('first_submission.csv')"
      ],
      "execution_count": 0,
      "outputs": []
    },
    {
      "metadata": {
        "id": "lE2dGaEPuB-6",
        "colab_type": "code",
        "colab": {
          "base_uri": "https://localhost:8080/",
          "height": 34
        },
        "outputId": "0f7082dc-ea97-4f22-87b9-a3df9b6d766a"
      },
      "cell_type": "code",
      "source": [
        "one.shape"
      ],
      "execution_count": 198,
      "outputs": [
        {
          "output_type": "execute_result",
          "data": {
            "text/plain": [
              "(3816, 2)"
            ]
          },
          "metadata": {
            "tags": []
          },
          "execution_count": 198
        }
      ]
    },
    {
      "metadata": {
        "id": "V20-MmuAuHdS",
        "colab_type": "code",
        "colab": {}
      },
      "cell_type": "code",
      "source": [
        "maybe.surface"
      ],
      "execution_count": 0,
      "outputs": []
    },
    {
      "metadata": {
        "id": "eMZH5761uLKm",
        "colab_type": "code",
        "colab": {
          "base_uri": "https://localhost:8080/",
          "height": 204
        },
        "outputId": "a80f864e-9105-475d-90d3-426114d0767b"
      },
      "cell_type": "code",
      "source": [
        "submission.head()"
      ],
      "execution_count": 233,
      "outputs": [
        {
          "output_type": "execute_result",
          "data": {
            "text/html": [
              "<div>\n",
              "<style scoped>\n",
              "    .dataframe tbody tr th:only-of-type {\n",
              "        vertical-align: middle;\n",
              "    }\n",
              "\n",
              "    .dataframe tbody tr th {\n",
              "        vertical-align: top;\n",
              "    }\n",
              "\n",
              "    .dataframe thead th {\n",
              "        text-align: right;\n",
              "    }\n",
              "</style>\n",
              "<table border=\"1\" class=\"dataframe\">\n",
              "  <thead>\n",
              "    <tr style=\"text-align: right;\">\n",
              "      <th></th>\n",
              "      <th>series_id</th>\n",
              "      <th>surface</th>\n",
              "    </tr>\n",
              "  </thead>\n",
              "  <tbody>\n",
              "    <tr>\n",
              "      <th>0</th>\n",
              "      <td>0</td>\n",
              "      <td>hard_tiles_large_space</td>\n",
              "    </tr>\n",
              "    <tr>\n",
              "      <th>1</th>\n",
              "      <td>0</td>\n",
              "      <td>hard_tiles_large_space</td>\n",
              "    </tr>\n",
              "    <tr>\n",
              "      <th>2</th>\n",
              "      <td>0</td>\n",
              "      <td>tiled</td>\n",
              "    </tr>\n",
              "    <tr>\n",
              "      <th>3</th>\n",
              "      <td>0</td>\n",
              "      <td>hard_tiles_large_space</td>\n",
              "    </tr>\n",
              "    <tr>\n",
              "      <th>4</th>\n",
              "      <td>0</td>\n",
              "      <td>tiled</td>\n",
              "    </tr>\n",
              "  </tbody>\n",
              "</table>\n",
              "</div>"
            ],
            "text/plain": [
              "   series_id                 surface\n",
              "0          0  hard_tiles_large_space\n",
              "1          0  hard_tiles_large_space\n",
              "2          0                   tiled\n",
              "3          0  hard_tiles_large_space\n",
              "4          0                   tiled"
            ]
          },
          "metadata": {
            "tags": []
          },
          "execution_count": 233
        }
      ]
    },
    {
      "metadata": {
        "id": "PeHO3aaEBx0t",
        "colab_type": "code",
        "colab": {}
      },
      "cell_type": "code",
      "source": [
        ""
      ],
      "execution_count": 0,
      "outputs": []
    }
  ]
}